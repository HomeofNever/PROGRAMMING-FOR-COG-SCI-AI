{
 "cells": [
  {
   "cell_type": "code",
   "execution_count": 1,
   "metadata": {
    "id": "2eRIX-4pViRC"
   },
   "outputs": [],
   "source": [
    "import torch\n",
    "import torch.nn as nn\n",
    "import torchvision\n",
    "import torchvision.transforms as transforms\n",
    "from torchvision.utils import save_image\n",
    "import numpy as np\n",
    "import matplotlib.pyplot as plt\n",
    "from datetime import datetime\n",
    "import os"
   ]
  },
  {
   "cell_type": "code",
   "execution_count": 14,
   "metadata": {
    "colab": {
     "base_uri": "https://localhost:8080/"
    },
    "id": "cHnKK3o0FvQt",
    "outputId": "27a1ded0-1beb-4622-f710-f114acbed27d"
   },
   "outputs": [
    {
     "data": {
      "text/plain": [
       "device(type='cuda')"
      ]
     },
     "execution_count": 14,
     "metadata": {
      "tags": []
     },
     "output_type": "execute_result"
    }
   ],
   "source": [
    "device = torch.device('cuda' if torch.cuda.is_available() else 'cpu')\n",
    "device"
   ]
  },
  {
   "cell_type": "code",
   "execution_count": 2,
   "metadata": {
    "id": "Ex9Hx--rlGNx"
   },
   "outputs": [],
   "source": [
    "# maps pixel values between -1 and +1\n",
    "\n",
    "transform = transforms.Compose([\n",
    "    transforms.ToTensor(),\n",
    "    transforms.Normalize(mean=(0.5,),\n",
    "                         std=(0.5,))])\n",
    "\n",
    "# scale image back to (0, 1)\n",
    "def scale_image(img):\n",
    "  out = (img + 1) / 2\n",
    "  return out"
   ]
  },
  {
   "cell_type": "code",
   "execution_count": 3,
   "metadata": {
    "colab": {
     "base_uri": "https://localhost:8080/",
     "height": 383,
     "referenced_widgets": [
      "53b1b320f7834d2dbf2c2939b3b2a27e",
      "f4893f074b91489daaff9c8567acc80b",
      "cbe1312b72284c1a859cfc55dcf9c7f4",
      "9a0e73984125418d8833a5423afc09d6",
      "f713e13834db4c31bb8493083f66ac0f",
      "ffdcedded48f4eb2a72c116a08d51258",
      "21b2f5e865f243c2a38d5971267da1ba",
      "02f94299ddf44343a19cbd03b01601b9",
      "eed9b701896e4bdb85748ad18823ab93",
      "1922a6649f154ba0950d3782de8c0131",
      "72602a868bab49e7bb008e477483f2c9",
      "de8c69f4727f42b6a9deb6bdad588597",
      "42022f76d4a846f0a22c9fc740fc8b6a",
      "0582d039804141b99f89933277cade92",
      "71da88bab53a48549e3170a002bb1095",
      "2423f9e5e4ff4bc097e2e985821e70f8",
      "a37d54e66eee4c8f97e47d0de859ef34",
      "fb08beb26396411d87aecc187b986bb1",
      "c20d244f3a51455ca21e8d8e4af03765",
      "d853771c6cad48a0b56d8f28d1b7261f",
      "25a1ea9152d545edb7663673e3db349e",
      "963876aacb184c55a7081fb9653c50da",
      "5a6d1306f0734a3d8fba91f54650fb92",
      "24dfb115fdae42abb379decd8d4b1757",
      "6961a5727fd74809ba9570e799b68ae3",
      "560673fbc9dc454ab9c6ecb2eab39e0e",
      "970b8415ffc046f5964afffc21661b5e",
      "5d5015b5414e4b5f9e4531a0cedbbede",
      "8f420efca21c415ab96a94426cc58441",
      "f5cf0d3419f84de28a6f97cdc94a8022",
      "d193227c099e4d2cbdd713cfe446a83d",
      "297eb82f9bee441ea2d577a5062e9470"
     ]
    },
    "id": "TAoVahDGkA78",
    "outputId": "c54e5032-af85-4a53-ffff-9ae4ae53e7a1"
   },
   "outputs": [
    {
     "name": "stdout",
     "output_type": "stream",
     "text": [
      "Downloading http://yann.lecun.com/exdb/mnist/train-images-idx3-ubyte.gz to ./MNIST/raw/train-images-idx3-ubyte.gz\n"
     ]
    },
    {
     "data": {
      "application/vnd.jupyter.widget-view+json": {
       "model_id": "53b1b320f7834d2dbf2c2939b3b2a27e",
       "version_major": 2,
       "version_minor": 0
      },
      "text/plain": [
       "HBox(children=(FloatProgress(value=1.0, bar_style='info', max=1.0), HTML(value='')))"
      ]
     },
     "metadata": {
      "tags": []
     },
     "output_type": "display_data"
    },
    {
     "name": "stdout",
     "output_type": "stream",
     "text": [
      "Extracting ./MNIST/raw/train-images-idx3-ubyte.gz to ./MNIST/raw\n",
      "Downloading http://yann.lecun.com/exdb/mnist/train-labels-idx1-ubyte.gz to ./MNIST/raw/train-labels-idx1-ubyte.gz\n"
     ]
    },
    {
     "data": {
      "application/vnd.jupyter.widget-view+json": {
       "model_id": "eed9b701896e4bdb85748ad18823ab93",
       "version_major": 2,
       "version_minor": 0
      },
      "text/plain": [
       "HBox(children=(FloatProgress(value=1.0, bar_style='info', max=1.0), HTML(value='')))"
      ]
     },
     "metadata": {
      "tags": []
     },
     "output_type": "display_data"
    },
    {
     "name": "stdout",
     "output_type": "stream",
     "text": [
      "Extracting ./MNIST/raw/train-labels-idx1-ubyte.gz to ./MNIST/raw\n",
      "Downloading http://yann.lecun.com/exdb/mnist/t10k-images-idx3-ubyte.gz to ./MNIST/raw/t10k-images-idx3-ubyte.gz\n",
      "\n"
     ]
    },
    {
     "data": {
      "application/vnd.jupyter.widget-view+json": {
       "model_id": "a37d54e66eee4c8f97e47d0de859ef34",
       "version_major": 2,
       "version_minor": 0
      },
      "text/plain": [
       "HBox(children=(FloatProgress(value=1.0, bar_style='info', max=1.0), HTML(value='')))"
      ]
     },
     "metadata": {
      "tags": []
     },
     "output_type": "display_data"
    },
    {
     "name": "stdout",
     "output_type": "stream",
     "text": [
      "Extracting ./MNIST/raw/t10k-images-idx3-ubyte.gz to ./MNIST/raw\n",
      "Downloading http://yann.lecun.com/exdb/mnist/t10k-labels-idx1-ubyte.gz to ./MNIST/raw/t10k-labels-idx1-ubyte.gz\n"
     ]
    },
    {
     "data": {
      "application/vnd.jupyter.widget-view+json": {
       "model_id": "6961a5727fd74809ba9570e799b68ae3",
       "version_major": 2,
       "version_minor": 0
      },
      "text/plain": [
       "HBox(children=(FloatProgress(value=1.0, bar_style='info', max=1.0), HTML(value='')))"
      ]
     },
     "metadata": {
      "tags": []
     },
     "output_type": "display_data"
    },
    {
     "name": "stdout",
     "output_type": "stream",
     "text": [
      "Extracting ./MNIST/raw/t10k-labels-idx1-ubyte.gz to ./MNIST/raw\n",
      "Processing...\n",
      "Done!\n"
     ]
    },
    {
     "name": "stderr",
     "output_type": "stream",
     "text": [
      "/usr/local/lib/python3.6/dist-packages/torchvision/datasets/mnist.py:480: UserWarning: The given NumPy array is not writeable, and PyTorch does not support non-writeable tensors. This means you can write to the underlying (supposedly non-writeable) NumPy array using the tensor. You may want to copy the array to protect its data or make it writeable before converting it to a tensor. This type of warning will be suppressed for the rest of this program. (Triggered internally at  /pytorch/torch/csrc/utils/tensor_numpy.cpp:141.)\n",
      "  return torch.from_numpy(parsed.astype(m[2], copy=False)).view(*s)\n"
     ]
    }
   ],
   "source": [
    "train_dataset = torchvision.datasets.MNIST(\n",
    "    root='.',\n",
    "    train=True,\n",
    "    transform=transform,\n",
    "    download=True)"
   ]
  },
  {
   "cell_type": "code",
   "execution_count": 9,
   "metadata": {
    "colab": {
     "base_uri": "https://localhost:8080/"
    },
    "id": "QF988JYLnwMU",
    "outputId": "cc6c42dc-6f6f-4125-a492-2001221968d7"
   },
   "outputs": [
    {
     "data": {
      "text/plain": [
       "60000"
      ]
     },
     "execution_count": 9,
     "metadata": {
      "tags": []
     },
     "output_type": "execute_result"
    }
   ],
   "source": [
    "len(train_dataset)\n"
   ]
  },
  {
   "cell_type": "code",
   "execution_count": 10,
   "metadata": {
    "id": "Y0APhZRjkuHq"
   },
   "outputs": [],
   "source": [
    "batch_size = 128\n",
    "data_loader = torch.utils.data.DataLoader(dataset=train_dataset,\n",
    "                                          batch_size=batch_size, \n",
    "                                          shuffle=True)"
   ]
  },
  {
   "cell_type": "code",
   "execution_count": 11,
   "metadata": {
    "id": "FRajJW9dli4X"
   },
   "outputs": [],
   "source": [
    "# Discriminator\n",
    "D = nn.Sequential(\n",
    "    nn.Linear(784, 512),\n",
    "    nn.LeakyReLU(0.2),\n",
    "    nn.Linear(512, 256),\n",
    "    nn.LeakyReLU(0.2),\n",
    "    nn.Linear(256, 1),\n",
    "    # nn.Sigmoid() # Cross Entropy Loss\n",
    ")"
   ]
  },
  {
   "cell_type": "code",
   "execution_count": 12,
   "metadata": {
    "id": "odtjOKuBltVZ"
   },
   "outputs": [],
   "source": [
    "# Generator\n",
    "latent_dim = 100\n",
    "G = nn.Sequential(\n",
    "    nn.Linear(latent_dim, 256),\n",
    "    nn.LeakyReLU(0.2),\n",
    "    nn.BatchNorm1d(256, momentum=0.7),\n",
    "    nn.Linear(256, 512),\n",
    "    nn.LeakyReLU(0.2),\n",
    "    nn.BatchNorm1d(512, momentum=0.7),\n",
    "    nn.Linear(512, 1024),\n",
    "    nn.LeakyReLU(0.2),\n",
    "    nn.BatchNorm1d(1024, momentum=0.7),\n",
    "    nn.Linear(1024, 784),\n",
    "    nn.Tanh()\n",
    ")"
   ]
  },
  {
   "cell_type": "code",
   "execution_count": 17,
   "metadata": {
    "id": "Cj_QFhcWl_da"
   },
   "outputs": [],
   "source": [
    "# Models to Device\n",
    "D = D.to(device)\n",
    "G = G.to(device)"
   ]
  },
  {
   "cell_type": "code",
   "execution_count": 18,
   "metadata": {
    "id": "goBMEDaEmCXo"
   },
   "outputs": [],
   "source": [
    "# Loss and optimizers\n",
    "criterion = nn.BCEWithLogitsLoss() #Binary Cross Entropy with Logit Loss\n",
    "d_optimizer = torch.optim.Adam(D.parameters(), lr=0.0002, betas=(0.5, 0.999))\n",
    "g_optimizer = torch.optim.Adam(G.parameters(), lr=0.0002, betas=(0.5, 0.999))"
   ]
  },
  {
   "cell_type": "code",
   "execution_count": 21,
   "metadata": {
    "colab": {
     "base_uri": "https://localhost:8080/"
    },
    "id": "8DPRZFxUGcZ-",
    "outputId": "b2a7e01a-7208-4379-d92d-36d62ef14032"
   },
   "outputs": [
    {
     "name": "stdout",
     "output_type": "stream",
     "text": [
      "total 12\n",
      "drwxr-xr-x 2 root root 4096 Dec  3 14:58 gan_images\n",
      "drwxr-xr-x 4 root root 4096 Dec  3 14:49 MNIST\n",
      "drwxr-xr-x 1 root root 4096 Nov 13 17:33 sample_data\n"
     ]
    }
   ],
   "source": [
    "!ls -l"
   ]
  },
  {
   "cell_type": "code",
   "execution_count": 20,
   "metadata": {
    "id": "fIIZIjSNqo8j"
   },
   "outputs": [],
   "source": [
    "# Create a folder to store generated images\n",
    "if not os.path.exists('gan_images'):\n",
    "  os.makedirs('gan_images')"
   ]
  },
  {
   "cell_type": "code",
   "execution_count": 22,
   "metadata": {
    "colab": {
     "base_uri": "https://localhost:8080/"
    },
    "id": "52NEqSu2m9fk",
    "outputId": "b01f215a-6af8-4981-aa36-c92bd81d25f7"
   },
   "outputs": [
    {
     "name": "stdout",
     "output_type": "stream",
     "text": [
      "Epoch: 0, d_loss: 0.6935839653015137, g_loss: 0.6636621356010437\n",
      "Epoch: 1, d_loss: 0.706739068031311, g_loss: 0.6059465408325195\n",
      "Epoch: 2, d_loss: 0.6861037015914917, g_loss: 0.7101272940635681\n",
      "Epoch: 3, d_loss: 0.6870701313018799, g_loss: 0.69377201795578\n",
      "Epoch: 4, d_loss: 0.6942270994186401, g_loss: 0.678374171257019\n",
      "Epoch: 5, d_loss: 0.7041258215904236, g_loss: 0.6745852828025818\n",
      "Epoch: 6, d_loss: 0.7019559741020203, g_loss: 0.6789914965629578\n",
      "Epoch: 7, d_loss: 0.6907251477241516, g_loss: 0.7075868844985962\n",
      "Epoch: 8, d_loss: 0.6806080341339111, g_loss: 0.6992177963256836\n",
      "Epoch: 9, d_loss: 0.6884135603904724, g_loss: 0.7202731966972351\n",
      "Epoch: 10, d_loss: 0.6921356916427612, g_loss: 0.6929421424865723\n",
      "Epoch: 11, d_loss: 0.6867932677268982, g_loss: 0.7093652486801147\n",
      "Epoch: 12, d_loss: 0.6881454586982727, g_loss: 0.6578612327575684\n",
      "Epoch: 13, d_loss: 0.6983007192611694, g_loss: 0.6919421553611755\n",
      "Epoch: 14, d_loss: 0.6857110261917114, g_loss: 0.7109488248825073\n",
      "Epoch: 15, d_loss: 0.6888909339904785, g_loss: 0.717352569103241\n",
      "Epoch: 16, d_loss: 0.6920075416564941, g_loss: 0.7102727890014648\n",
      "Epoch: 17, d_loss: 0.6938844323158264, g_loss: 0.6936346292495728\n",
      "Epoch: 18, d_loss: 0.6904056072235107, g_loss: 0.6909677386283875\n",
      "Epoch: 19, d_loss: 0.6947300434112549, g_loss: 0.7015597224235535\n",
      "Epoch: 20, d_loss: 0.6910992860794067, g_loss: 0.7359247207641602\n",
      "Epoch: 21, d_loss: 0.6963276267051697, g_loss: 0.681221604347229\n",
      "Epoch: 22, d_loss: 0.6918258666992188, g_loss: 0.6987890005111694\n",
      "Epoch: 23, d_loss: 0.7028887271881104, g_loss: 0.7118174433708191\n",
      "Epoch: 24, d_loss: 0.6929609775543213, g_loss: 0.6773855090141296\n",
      "Epoch: 25, d_loss: 0.6899349689483643, g_loss: 0.6806868314743042\n",
      "Epoch: 26, d_loss: 0.6934582591056824, g_loss: 0.7178235054016113\n",
      "Epoch: 27, d_loss: 0.6873685121536255, g_loss: 0.7259467840194702\n",
      "Epoch: 28, d_loss: 0.6872565150260925, g_loss: 0.7113885879516602\n",
      "Epoch: 29, d_loss: 0.6915687322616577, g_loss: 0.7323802709579468\n",
      "Epoch: 30, d_loss: 0.6930519938468933, g_loss: 0.7117387652397156\n",
      "Epoch: 31, d_loss: 0.6890303492546082, g_loss: 0.74444979429245\n",
      "Epoch: 32, d_loss: 0.6846300363540649, g_loss: 0.7250994443893433\n",
      "Epoch: 33, d_loss: 0.6835987567901611, g_loss: 0.7178177833557129\n",
      "Epoch: 34, d_loss: 0.6767319440841675, g_loss: 0.6862447261810303\n",
      "Epoch: 35, d_loss: 0.6955211758613586, g_loss: 0.7250583171844482\n",
      "Epoch: 36, d_loss: 0.68028724193573, g_loss: 0.6869470477104187\n",
      "Epoch: 37, d_loss: 0.6859283447265625, g_loss: 0.6975354552268982\n",
      "Epoch: 38, d_loss: 0.692745566368103, g_loss: 0.7086892127990723\n",
      "Epoch: 39, d_loss: 0.6957794427871704, g_loss: 0.6498454809188843\n",
      "Epoch: 40, d_loss: 0.6769483685493469, g_loss: 0.7342061400413513\n",
      "Epoch: 41, d_loss: 0.6829246282577515, g_loss: 0.721416175365448\n",
      "Epoch: 42, d_loss: 0.6738137602806091, g_loss: 0.7438375353813171\n",
      "Epoch: 43, d_loss: 0.6833274364471436, g_loss: 0.7050632238388062\n",
      "Epoch: 44, d_loss: 0.6833621263504028, g_loss: 0.6938823461532593\n",
      "Epoch: 45, d_loss: 0.6849406957626343, g_loss: 0.7006238698959351\n",
      "Epoch: 46, d_loss: 0.6953302621841431, g_loss: 0.6727946996688843\n",
      "Epoch: 47, d_loss: 0.6844763159751892, g_loss: 0.7426400184631348\n",
      "Epoch: 48, d_loss: 0.6883451342582703, g_loss: 0.7823277711868286\n",
      "Epoch: 49, d_loss: 0.6829999089241028, g_loss: 0.7402015924453735\n",
      "Epoch: 50, d_loss: 0.6607422828674316, g_loss: 0.7369348406791687\n",
      "Epoch: 51, d_loss: 0.6821287870407104, g_loss: 0.7648242712020874\n",
      "Epoch: 52, d_loss: 0.6793040633201599, g_loss: 0.7872225642204285\n",
      "Epoch: 53, d_loss: 0.6774474382400513, g_loss: 0.7148011922836304\n",
      "Epoch: 54, d_loss: 0.6614773273468018, g_loss: 0.7632877826690674\n",
      "Epoch: 55, d_loss: 0.6805717349052429, g_loss: 0.7988420724868774\n",
      "Epoch: 56, d_loss: 0.6596163511276245, g_loss: 0.8049172759056091\n",
      "Epoch: 57, d_loss: 0.6848318576812744, g_loss: 0.7510844469070435\n",
      "Epoch: 58, d_loss: 0.6688269972801208, g_loss: 0.802900493144989\n",
      "Epoch: 59, d_loss: 0.668207049369812, g_loss: 0.7153854370117188\n",
      "Epoch: 60, d_loss: 0.6747090816497803, g_loss: 0.6622605919837952\n",
      "Epoch: 61, d_loss: 0.6638623476028442, g_loss: 0.7370057106018066\n",
      "Epoch: 62, d_loss: 0.6564565896987915, g_loss: 0.7581762075424194\n",
      "Epoch: 63, d_loss: 0.6667434573173523, g_loss: 0.700965404510498\n",
      "Epoch: 64, d_loss: 0.6798833608627319, g_loss: 0.851894736289978\n",
      "Epoch: 65, d_loss: 0.6776809692382812, g_loss: 0.7041239738464355\n",
      "Epoch: 66, d_loss: 0.6736728549003601, g_loss: 0.7926639318466187\n",
      "Epoch: 67, d_loss: 0.6643644571304321, g_loss: 0.8644036054611206\n",
      "Epoch: 68, d_loss: 0.6677807569503784, g_loss: 0.6070244312286377\n",
      "Epoch: 69, d_loss: 0.6400496363639832, g_loss: 0.7471601963043213\n",
      "Epoch: 70, d_loss: 0.6596518754959106, g_loss: 0.6771835684776306\n",
      "Epoch: 71, d_loss: 0.6818549036979675, g_loss: 0.5594266653060913\n",
      "Epoch: 72, d_loss: 0.6479760408401489, g_loss: 0.7136086225509644\n",
      "Epoch: 73, d_loss: 0.6921011209487915, g_loss: 0.6325610876083374\n",
      "Epoch: 74, d_loss: 0.6453490853309631, g_loss: 0.8259329795837402\n",
      "Epoch: 75, d_loss: 0.6611833572387695, g_loss: 0.8397300243377686\n",
      "Epoch: 76, d_loss: 0.6384872198104858, g_loss: 0.7226516604423523\n",
      "Epoch: 77, d_loss: 0.6412175893783569, g_loss: 0.6959480047225952\n",
      "Epoch: 78, d_loss: 0.6414227485656738, g_loss: 0.7234028577804565\n",
      "Epoch: 79, d_loss: 0.6641326546669006, g_loss: 0.84563148021698\n",
      "Epoch: 80, d_loss: 0.6297770738601685, g_loss: 0.8723458051681519\n",
      "Epoch: 81, d_loss: 0.6581480503082275, g_loss: 0.6696605086326599\n",
      "Epoch: 82, d_loss: 0.6277122497558594, g_loss: 0.7373579740524292\n",
      "Epoch: 83, d_loss: 0.6824979186058044, g_loss: 0.6537131667137146\n",
      "Epoch: 84, d_loss: 0.6486906409263611, g_loss: 0.9554104208946228\n",
      "Epoch: 85, d_loss: 0.6461926698684692, g_loss: 0.8354253768920898\n",
      "Epoch: 86, d_loss: 0.6336857080459595, g_loss: 0.8338083028793335\n",
      "Epoch: 87, d_loss: 0.6451640129089355, g_loss: 0.7329134345054626\n",
      "Epoch: 88, d_loss: 0.6804608106613159, g_loss: 1.1314008235931396\n",
      "Epoch: 89, d_loss: 0.6579079627990723, g_loss: 0.9635116457939148\n",
      "Epoch: 90, d_loss: 0.6609964966773987, g_loss: 0.8804534673690796\n",
      "Epoch: 91, d_loss: 0.6268794536590576, g_loss: 0.8101862668991089\n",
      "Epoch: 92, d_loss: 0.6270065903663635, g_loss: 0.8132556676864624\n",
      "Epoch: 93, d_loss: 0.6137650012969971, g_loss: 0.7963876724243164\n",
      "Epoch: 94, d_loss: 0.6181777715682983, g_loss: 0.7132894396781921\n",
      "Epoch: 95, d_loss: 0.6303703784942627, g_loss: 0.7474822998046875\n",
      "Epoch: 96, d_loss: 0.6297081708908081, g_loss: 0.805752694606781\n",
      "Epoch: 97, d_loss: 0.6487563252449036, g_loss: 0.7101408839225769\n",
      "Epoch: 98, d_loss: 0.6156407594680786, g_loss: 0.7310761213302612\n",
      "Epoch: 99, d_loss: 0.6256906390190125, g_loss: 1.0423078536987305\n",
      "Epoch: 100, d_loss: 0.6284939646720886, g_loss: 0.84170001745224\n",
      "Epoch: 101, d_loss: 0.6238309144973755, g_loss: 1.0193454027175903\n",
      "Epoch: 102, d_loss: 0.6255786418914795, g_loss: 0.9635505080223083\n",
      "Epoch: 103, d_loss: 0.651290774345398, g_loss: 0.6962226629257202\n",
      "Epoch: 104, d_loss: 0.6606501340866089, g_loss: 0.6777315139770508\n",
      "Epoch: 105, d_loss: 0.6177279949188232, g_loss: 0.7331572771072388\n",
      "Epoch: 106, d_loss: 0.6373897790908813, g_loss: 0.8352694511413574\n",
      "Epoch: 107, d_loss: 0.637134313583374, g_loss: 1.0064952373504639\n",
      "Epoch: 108, d_loss: 0.6570254564285278, g_loss: 0.7147431373596191\n",
      "Epoch: 109, d_loss: 0.6581538915634155, g_loss: 0.5897970199584961\n",
      "Epoch: 110, d_loss: 0.6318336725234985, g_loss: 0.8847036361694336\n",
      "Epoch: 111, d_loss: 0.6261516213417053, g_loss: 0.9201745986938477\n",
      "Epoch: 112, d_loss: 0.6226380467414856, g_loss: 0.9224867820739746\n",
      "Epoch: 113, d_loss: 0.5805867910385132, g_loss: 0.8204193115234375\n",
      "Epoch: 114, d_loss: 0.6200428605079651, g_loss: 0.8841490745544434\n",
      "Epoch: 115, d_loss: 0.6078648567199707, g_loss: 0.7369771003723145\n",
      "Epoch: 116, d_loss: 0.6045995354652405, g_loss: 0.9526333808898926\n",
      "Epoch: 117, d_loss: 0.6487917900085449, g_loss: 0.654098391532898\n",
      "Epoch: 118, d_loss: 0.6352519392967224, g_loss: 0.9397818446159363\n",
      "Epoch: 119, d_loss: 0.6604033708572388, g_loss: 0.6521801352500916\n",
      "Epoch: 120, d_loss: 0.621206521987915, g_loss: 0.9979181289672852\n",
      "Epoch: 121, d_loss: 0.6116520166397095, g_loss: 0.8446989059448242\n",
      "Epoch: 122, d_loss: 0.6012372970581055, g_loss: 0.6588654518127441\n",
      "Epoch: 123, d_loss: 0.6194357872009277, g_loss: 1.2229561805725098\n",
      "Epoch: 124, d_loss: 0.6301068067550659, g_loss: 0.9980521202087402\n",
      "Epoch: 125, d_loss: 0.629123866558075, g_loss: 1.055281162261963\n",
      "Epoch: 126, d_loss: 0.6238317489624023, g_loss: 0.8701802492141724\n",
      "Epoch: 127, d_loss: 0.6449935436248779, g_loss: 0.7224311232566833\n",
      "Epoch: 128, d_loss: 0.6022631525993347, g_loss: 0.8021310567855835\n",
      "Epoch: 129, d_loss: 0.6116815209388733, g_loss: 0.7890739440917969\n",
      "Epoch: 130, d_loss: 0.7029004693031311, g_loss: 1.2815340757369995\n",
      "Epoch: 131, d_loss: 0.6429132223129272, g_loss: 0.8636205196380615\n",
      "Epoch: 132, d_loss: 0.6369487047195435, g_loss: 0.7859434485435486\n",
      "Epoch: 133, d_loss: 0.5844168663024902, g_loss: 0.824489951133728\n",
      "Epoch: 134, d_loss: 0.6042886972427368, g_loss: 1.109906554222107\n",
      "Epoch: 135, d_loss: 0.594501256942749, g_loss: 0.9770114421844482\n",
      "Epoch: 136, d_loss: 0.631460964679718, g_loss: 0.5444691181182861\n",
      "Epoch: 137, d_loss: 0.6223308444023132, g_loss: 1.0104995965957642\n",
      "Epoch: 138, d_loss: 0.6168917417526245, g_loss: 0.9305543899536133\n",
      "Epoch: 139, d_loss: 0.6377379894256592, g_loss: 0.8161024451255798\n",
      "Epoch: 140, d_loss: 0.5583573579788208, g_loss: 0.874823808670044\n",
      "Epoch: 141, d_loss: 0.641982913017273, g_loss: 0.6513010263442993\n",
      "Epoch: 142, d_loss: 0.6255699992179871, g_loss: 1.1454665660858154\n",
      "Epoch: 143, d_loss: 0.6177483797073364, g_loss: 1.0214670896530151\n",
      "Epoch: 144, d_loss: 0.6016373634338379, g_loss: 1.1664624214172363\n",
      "Epoch: 145, d_loss: 0.572185218334198, g_loss: 0.6666176319122314\n",
      "Epoch: 146, d_loss: 0.5807141661643982, g_loss: 0.696269154548645\n",
      "Epoch: 147, d_loss: 0.6006079912185669, g_loss: 0.9439147710800171\n",
      "Epoch: 148, d_loss: 0.6017577052116394, g_loss: 1.0693321228027344\n",
      "Epoch: 149, d_loss: 0.5938199758529663, g_loss: 0.8078746795654297\n",
      "Epoch: 150, d_loss: 0.5638681650161743, g_loss: 0.9606648683547974\n",
      "Epoch: 151, d_loss: 0.6343516111373901, g_loss: 1.0137395858764648\n",
      "Epoch: 152, d_loss: 0.6034755110740662, g_loss: 0.9213684797286987\n",
      "Epoch: 153, d_loss: 0.5731868743896484, g_loss: 0.845187783241272\n",
      "Epoch: 154, d_loss: 0.5804771184921265, g_loss: 0.9885092973709106\n",
      "Epoch: 155, d_loss: 0.5954110026359558, g_loss: 0.7759511470794678\n",
      "Epoch: 156, d_loss: 0.5946962237358093, g_loss: 0.8741925954818726\n",
      "Epoch: 157, d_loss: 0.6124944686889648, g_loss: 0.842700183391571\n",
      "Epoch: 158, d_loss: 0.5838816165924072, g_loss: 1.1334961652755737\n",
      "Epoch: 159, d_loss: 0.5725248456001282, g_loss: 0.9540541172027588\n",
      "Epoch: 160, d_loss: 0.6388129591941833, g_loss: 0.943855881690979\n",
      "Epoch: 161, d_loss: 0.6270827054977417, g_loss: 0.8549660444259644\n",
      "Epoch: 162, d_loss: 0.6015321612358093, g_loss: 0.8879477381706238\n",
      "Epoch: 163, d_loss: 0.6310088634490967, g_loss: 1.0256942510604858\n",
      "Epoch: 164, d_loss: 0.6064331531524658, g_loss: 1.2756617069244385\n",
      "Epoch: 165, d_loss: 0.6217581629753113, g_loss: 0.8759410381317139\n",
      "Epoch: 166, d_loss: 0.6227895021438599, g_loss: 1.3055710792541504\n",
      "Epoch: 167, d_loss: 0.559415876865387, g_loss: 1.2888762950897217\n",
      "Epoch: 168, d_loss: 0.5338473320007324, g_loss: 1.1552648544311523\n",
      "Epoch: 169, d_loss: 0.5736310482025146, g_loss: 1.0441229343414307\n",
      "Epoch: 170, d_loss: 0.6275831460952759, g_loss: 0.8263430595397949\n",
      "Epoch: 171, d_loss: 0.5713186264038086, g_loss: 1.1414874792099\n",
      "Epoch: 172, d_loss: 0.5542314648628235, g_loss: 0.9593251943588257\n",
      "Epoch: 173, d_loss: 0.633875846862793, g_loss: 0.9400538802146912\n",
      "Epoch: 174, d_loss: 0.6286088228225708, g_loss: 0.9711648225784302\n",
      "Epoch: 175, d_loss: 0.5528204441070557, g_loss: 1.1807316541671753\n",
      "Epoch: 176, d_loss: 0.5393477082252502, g_loss: 1.1029821634292603\n",
      "Epoch: 177, d_loss: 0.5707718133926392, g_loss: 1.1776466369628906\n",
      "Epoch: 178, d_loss: 0.6406168937683105, g_loss: 0.7354828715324402\n",
      "Epoch: 179, d_loss: 0.5467805862426758, g_loss: 1.0742822885513306\n",
      "Epoch: 180, d_loss: 0.5815963745117188, g_loss: 1.0283838510513306\n",
      "Epoch: 181, d_loss: 0.5897493362426758, g_loss: 1.0758700370788574\n",
      "Epoch: 182, d_loss: 0.5895603895187378, g_loss: 0.9617630839347839\n",
      "Epoch: 183, d_loss: 0.5488827228546143, g_loss: 1.2144907712936401\n",
      "Epoch: 184, d_loss: 0.5614357590675354, g_loss: 1.063415765762329\n",
      "Epoch: 185, d_loss: 0.5453833937644958, g_loss: 1.1560925245285034\n",
      "Epoch: 186, d_loss: 0.5865562558174133, g_loss: 1.0365405082702637\n",
      "Epoch: 187, d_loss: 0.55629563331604, g_loss: 0.8019153475761414\n",
      "Epoch: 188, d_loss: 0.5983598232269287, g_loss: 0.622383713722229\n",
      "Epoch: 189, d_loss: 0.6097515225410461, g_loss: 0.7817112803459167\n",
      "Epoch: 190, d_loss: 0.5303589105606079, g_loss: 0.9061899185180664\n",
      "Epoch: 191, d_loss: 0.533733069896698, g_loss: 0.968809962272644\n",
      "Epoch: 192, d_loss: 0.5829762816429138, g_loss: 1.2033801078796387\n",
      "Epoch: 193, d_loss: 0.5762165784835815, g_loss: 0.9888420104980469\n",
      "Epoch: 194, d_loss: 0.5607556104660034, g_loss: 1.0785890817642212\n",
      "Epoch: 195, d_loss: 0.5319175720214844, g_loss: 0.9270964860916138\n",
      "Epoch: 196, d_loss: 0.5941183567047119, g_loss: 1.1341768503189087\n",
      "Epoch: 197, d_loss: 0.636099100112915, g_loss: 1.4376133680343628\n",
      "Epoch: 198, d_loss: 0.5676246881484985, g_loss: 1.3053114414215088\n",
      "Epoch: 199, d_loss: 0.5160735845565796, g_loss: 1.006013035774231\n"
     ]
    }
   ],
   "source": [
    "# Training loop\n",
    "\n",
    "# labels to use in the loop\n",
    "ones_ = torch.ones(batch_size, 1).to(device)\n",
    "zeros_ = torch.zeros(batch_size, 1).to(device)\n",
    "\n",
    "# save losses\n",
    "d_losses = []\n",
    "g_losses = []\n",
    "\n",
    "for epoch in range(200):\n",
    "  for inputs, _ in data_loader:\n",
    "\n",
    "    # reshape and move to GPU\n",
    "    n = inputs.size(0)\n",
    "    inputs = inputs.reshape(n, 784).to(device)\n",
    "\n",
    "    # set ones and zeros to correct size\n",
    "    ones = ones_[:n]\n",
    "    zeros = zeros_[:n]\n",
    "\n",
    "    ### Train discriminator ###\n",
    "    \n",
    "    real_outputs = D(inputs) # real images\n",
    "    d_loss_real = criterion(real_outputs, ones)\n",
    "\n",
    "    noise = torch.randn(n, latent_dim).to(device)\n",
    "    fake_images = G(noise) # Generate fake images\n",
    "    fake_outputs = D(fake_images)\n",
    "    d_loss_fake = criterion(fake_outputs, zeros)\n",
    "\n",
    "    d_loss = 0.5 * (d_loss_real + d_loss_fake) # Average loss\n",
    "    d_optimizer.zero_grad()\n",
    "    d_loss.backward() \n",
    "    d_optimizer.step() # Update Discriminator weights\n",
    "\n",
    "    ### Train generator ###\n",
    "\n",
    "    for _ in range(2):  # do it twice:\n",
    "      noise = torch.randn(n, latent_dim).to(device) # fake images\n",
    "      fake_images = G(noise) # Generate Fake images\n",
    "      fake_outputs = D(fake_images) # Classify image real or fake\n",
    "\n",
    "      \n",
    "      g_loss = criterion(fake_outputs, ones) \n",
    "\n",
    "\n",
    "      g_optimizer.zero_grad()\n",
    "      g_loss.backward()\n",
    "      g_optimizer.step() # Update Generator weights\n",
    "\n",
    "    # save losses\n",
    "    d_losses.append(d_loss.item())\n",
    "    g_losses.append(g_loss.item())\n",
    "\n",
    "\n",
    "  print(f\"Epoch: {epoch}, d_loss: {d_loss.item()}, g_loss: {g_loss.item()}\")\n",
    "\n",
    "  # PyTorch has a function to save a batch of images to file\n",
    "  fake_images = fake_images.reshape(-1, 1, 28, 28)\n",
    "  save_image(scale_image(fake_images), f\"gan_images/{epoch+1}.png\")\n"
   ]
  },
  {
   "cell_type": "code",
   "execution_count": 23,
   "metadata": {
    "colab": {
     "base_uri": "https://localhost:8080/",
     "height": 282
    },
    "id": "gfy5u8v_qzMi",
    "outputId": "b59a910c-845b-4682-c9d9-f6f561e85a87"
   },
   "outputs": [
    {
     "data": {
      "text/plain": [
       "<matplotlib.legend.Legend at 0x7f1f2c8f1828>"
      ]
     },
     "execution_count": 23,
     "metadata": {
      "tags": []
     },
     "output_type": "execute_result"
    },
    {
     "data": {
      "image/png": "[encoded data removed]",
      "text/plain": [
       "<Figure size 432x288 with 1 Axes>"
      ]
     },
     "metadata": {
      "needs_background": "light",
      "tags": []
     },
     "output_type": "display_data"
    }
   ],
   "source": [
    "plt.plot(g_losses, label='g_losses')\n",
    "plt.plot(d_losses, label='d_losses')\n",
    "plt.legend()"
   ]
  },
  {
   "cell_type": "code",
   "execution_count": 24,
   "metadata": {
    "colab": {
     "base_uri": "https://localhost:8080/",
     "height": 286
    },
    "id": "Gy5d-9g2q9wI",
    "outputId": "44742105-d14a-4269-c9cb-bbdb70f8b630"
   },
   "outputs": [
    {
     "data": {
      "text/plain": [
       "<matplotlib.image.AxesImage at 0x7f1f20036f60>"
      ]
     },
     "execution_count": 24,
     "metadata": {
      "tags": []
     },
     "output_type": "execute_result"
    },
    {
     "data": {
      "image/png": "[encoded data removed]",
      "text/plain": [
       "<Figure size 432x288 with 1 Axes>"
      ]
     },
     "metadata": {
      "needs_background": "light",
      "tags": []
     },
     "output_type": "display_data"
    }
   ],
   "source": [
    "from skimage.io import imread\n",
    "a = imread('gan_images/1.png')\n",
    "plt.imshow(a)"
   ]
  },
  {
   "cell_type": "code",
   "execution_count": 25,
   "metadata": {
    "colab": {
     "base_uri": "https://localhost:8080/",
     "height": 286
    },
    "id": "4l0siyQkq_07",
    "outputId": "806cea8d-29b0-447c-d103-4d7175df8410"
   },
   "outputs": [
    {
     "data": {
      "text/plain": [
       "<matplotlib.image.AxesImage at 0x7f1ed653c438>"
      ]
     },
     "execution_count": 25,
     "metadata": {
      "tags": []
     },
     "output_type": "execute_result"
    },
    {
     "data": {
      "image/png": "[encoded data removed]",
      "text/plain": [
       "<Figure size 432x288 with 1 Axes>"
      ]
     },
     "metadata": {
      "needs_background": "light",
      "tags": []
     },
     "output_type": "display_data"
    }
   ],
   "source": [
    "a = imread('gan_images/50.png')\n",
    "plt.imshow(a)"
   ]
  },
  {
   "cell_type": "code",
   "execution_count": 26,
   "metadata": {
    "colab": {
     "base_uri": "https://localhost:8080/",
     "height": 286
    },
    "id": "YJGyoS_nrEyv",
    "outputId": "1dd2defa-c3aa-4303-bf92-e084a7a2365d"
   },
   "outputs": [
    {
     "data": {
      "text/plain": [
       "<matplotlib.image.AxesImage at 0x7f1ed6514eb8>"
      ]
     },
     "execution_count": 26,
     "metadata": {
      "tags": []
     },
     "output_type": "execute_result"
    },
    {
     "data": {
      "image/png": "[encoded data removed]",
      "text/plain": [
       "<Figure size 432x288 with 1 Axes>"
      ]
     },
     "metadata": {
      "needs_background": "light",
      "tags": []
     },
     "output_type": "display_data"
    }
   ],
   "source": [
    "a = imread('gan_images/100.png')\n",
    "plt.imshow(a)"
   ]
  },
  {
   "cell_type": "code",
   "execution_count": 27,
   "metadata": {
    "colab": {
     "base_uri": "https://localhost:8080/",
     "height": 286
    },
    "id": "-t93ihtgrFKE",
    "outputId": "8e55e794-12d4-4518-b68a-f207fb2e6cdb"
   },
   "outputs": [
    {
     "data": {
      "text/plain": [
       "<matplotlib.image.AxesImage at 0x7f1ed64f2978>"
      ]
     },
     "execution_count": 27,
     "metadata": {
      "tags": []
     },
     "output_type": "execute_result"
    },
    {
     "data": {
      "image/png": "[encoded data removed]",
      "text/plain": [
       "<Figure size 432x288 with 1 Axes>"
      ]
     },
     "metadata": {
      "needs_background": "light",
      "tags": []
     },
     "output_type": "display_data"
    }
   ],
   "source": [
    "a = imread('gan_images/150.png')\n",
    "plt.imshow(a)"
   ]
  },
  {
   "cell_type": "code",
   "execution_count": 28,
   "metadata": {
    "colab": {
     "base_uri": "https://localhost:8080/",
     "height": 286
    },
    "id": "xrtKpbLwrFaY",
    "outputId": "1ce572f5-89c4-4457-e0e3-3fa4aebac8fc"
   },
   "outputs": [
    {
     "data": {
      "text/plain": [
       "<matplotlib.image.AxesImage at 0x7f1ed6455438>"
      ]
     },
     "execution_count": 28,
     "metadata": {
      "tags": []
     },
     "output_type": "execute_result"
    },
    {
     "data": {
      "image/png": "[encoded data removed]",
      "text/plain": [
       "<Figure size 432x288 with 1 Axes>"
      ]
     },
     "metadata": {
      "needs_background": "light",
      "tags": []
     },
     "output_type": "display_data"
    }
   ],
   "source": [
    "a = imread('gan_images/200.png')\n",
    "plt.imshow(a)"
   ]
  },
  {
   "cell_type": "code",
   "execution_count": 38,
   "metadata": {
    "colab": {
     "base_uri": "https://localhost:8080/",
     "height": 17
    },
    "id": "zwPhOs2GYqwB",
    "outputId": "2ce59996-b0c7-439c-c683-d7297e981662"
   },
   "outputs": [
    {
     "data": {
      "application/javascript": [
       "\n",
       "    async function download(id, filename, size) {\n",
       "      if (!google.colab.kernel.accessAllowed) {\n",
       "        return;\n",
       "      }\n",
       "      const div = document.createElement('div');\n",
       "      const label = document.createElement('label');\n",
       "      label.textContent = `Downloading \"${filename}\": `;\n",
       "      div.appendChild(label);\n",
       "      const progress = document.createElement('progress');\n",
       "      progress.max = size;\n",
       "      div.appendChild(progress);\n",
       "      document.body.appendChild(div);\n",
       "\n",
       "      const buffers = [];\n",
       "      let downloaded = 0;\n",
       "\n",
       "      const channel = await google.colab.kernel.comms.open(id);\n",
       "      // Send a message to notify the kernel that we're ready.\n",
       "      channel.send({})\n",
       "\n",
       "      for await (const message of channel.messages) {\n",
       "        // Send a message to notify the kernel that we're ready.\n",
       "        channel.send({})\n",
       "        if (message.buffers) {\n",
       "          for (const buffer of message.buffers) {\n",
       "            buffers.push(buffer);\n",
       "            downloaded += buffer.byteLength;\n",
       "            progress.value = downloaded;\n",
       "          }\n",
       "        }\n",
       "      }\n",
       "      const blob = new Blob(buffers, {type: 'application/binary'});\n",
       "      const a = document.createElement('a');\n",
       "      a.href = window.URL.createObjectURL(blob);\n",
       "      a.download = filename;\n",
       "      div.appendChild(a);\n",
       "      a.click();\n",
       "      div.remove();\n",
       "    }\n",
       "  "
      ],
      "text/plain": [
       "<IPython.core.display.Javascript object>"
      ]
     },
     "metadata": {
      "tags": []
     },
     "output_type": "display_data"
    },
    {
     "data": {
      "application/javascript": [
       "download(\"download_38146d19-a23b-44f8-9503-a57df6038104\", \"50.png\", 47057)"
      ],
      "text/plain": [
       "<IPython.core.display.Javascript object>"
      ]
     },
     "metadata": {
      "tags": []
     },
     "output_type": "display_data"
    }
   ],
   "source": [
    "from google.colab import files\n",
    "\n",
    "files.download('gan_images/50.png')"
   ]
  }
 ],
 "metadata": {
  "accelerator": "GPU",
  "colab": {
   "collapsed_sections": [],
   "name": "PyTorch_GAN.ipynb",
   "provenance": []
  },
  "kernelspec": {
   "display_name": "Python 3",
   "language": "python",
   "name": "python3"
  },
  "language_info": {
   "codemirror_mode": {
    "name": "ipython",
    "version": 3
   },
   "file_extension": ".py",
   "mimetype": "text/x-python",
   "name": "python",
   "nbconvert_exporter": "python",
   "pygments_lexer": "ipython3",
   "version": "3.8.6"
  },
  "varInspector": {
   "cols": {
    "lenName": 16,
    "lenType": 16,
    "lenVar": 40
   },
   "kernels_config": {
    "python": {
     "delete_cmd_postfix": "",
     "delete_cmd_prefix": "del ",
     "library": "var_list.py",
     "varRefreshCmd": "print(var_dic_list())"
    },
    "r": {
     "delete_cmd_postfix": ") ",
     "delete_cmd_prefix": "rm(",
     "library": "var_list.r",
     "varRefreshCmd": "cat(var_dic_list()) "
    }
   },
   "types_to_exclude": [
    "module",
    "function",
    "builtin_function_or_method",
    "instance",
    "_Feature"
   ],
   "window_display": false
  },
  "widgets": {
   "application/vnd.jupyter.widget-state+json": {
    "02f94299ddf44343a19cbd03b01601b9": {
     "model_module": "@jupyter-widgets/base",
     "model_name": "LayoutModel",
     "state": {
      "_model_module": "@jupyter-widgets/base",
      "_model_module_version": "1.2.0",
      "_model_name": "LayoutModel",
      "_view_count": null,
      "_view_module": "@jupyter-widgets/base",
      "_view_module_version": "1.2.0",
      "_view_name": "LayoutView",
      "align_content": null,
      "align_items": null,
      "align_self": null,
      "border": null,
      "bottom": null,
      "display": null,
      "flex": null,
      "flex_flow": null,
      "grid_area": null,
      "grid_auto_columns": null,
      "grid_auto_flow": null,
      "grid_auto_rows": null,
      "grid_column": null,
      "grid_gap": null,
      "grid_row": null,
      "grid_template_areas": null,
      "grid_template_columns": null,
      "grid_template_rows": null,
      "height": null,
      "justify_content": null,
      "justify_items": null,
      "left": null,
      "margin": null,
      "max_height": null,
      "max_width": null,
      "min_height": null,
      "min_width": null,
      "object_fit": null,
      "object_position": null,
      "order": null,
      "overflow": null,
      "overflow_x": null,
      "overflow_y": null,
      "padding": null,
      "right": null,
      "top": null,
      "visibility": null,
      "width": null
     }
    },
    "0582d039804141b99f89933277cade92": {
     "model_module": "@jupyter-widgets/base",
     "model_name": "LayoutModel",
     "state": {
      "_model_module": "@jupyter-widgets/base",
      "_model_module_version": "1.2.0",
      "_model_name": "LayoutModel",
      "_view_count": null,
      "_view_module": "@jupyter-widgets/base",
      "_view_module_version": "1.2.0",
      "_view_name": "LayoutView",
      "align_content": null,
      "align_items": null,
      "align_self": null,
      "border": null,
      "bottom": null,
      "display": null,
      "flex": null,
      "flex_flow": null,
      "grid_area": null,
      "grid_auto_columns": null,
      "grid_auto_flow": null,
      "grid_auto_rows": null,
      "grid_column": null,
      "grid_gap": null,
      "grid_row": null,
      "grid_template_areas": null,
      "grid_template_columns": null,
      "grid_template_rows": null,
      "height": null,
      "justify_content": null,
      "justify_items": null,
      "left": null,
      "margin": null,
      "max_height": null,
      "max_width": null,
      "min_height": null,
      "min_width": null,
      "object_fit": null,
      "object_position": null,
      "order": null,
      "overflow": null,
      "overflow_x": null,
      "overflow_y": null,
      "padding": null,
      "right": null,
      "top": null,
      "visibility": null,
      "width": null
     }
    },
    "1922a6649f154ba0950d3782de8c0131": {
     "model_module": "@jupyter-widgets/base",
     "model_name": "LayoutModel",
     "state": {
      "_model_module": "@jupyter-widgets/base",
      "_model_module_version": "1.2.0",
      "_model_name": "LayoutModel",
      "_view_count": null,
      "_view_module": "@jupyter-widgets/base",
      "_view_module_version": "1.2.0",
      "_view_name": "LayoutView",
      "align_content": null,
      "align_items": null,
      "align_self": null,
      "border": null,
      "bottom": null,
      "display": null,
      "flex": null,
      "flex_flow": null,
      "grid_area": null,
      "grid_auto_columns": null,
      "grid_auto_flow": null,
      "grid_auto_rows": null,
      "grid_column": null,
      "grid_gap": null,
      "grid_row": null,
      "grid_template_areas": null,
      "grid_template_columns": null,
      "grid_template_rows": null,
      "height": null,
      "justify_content": null,
      "justify_items": null,
      "left": null,
      "margin": null,
      "max_height": null,
      "max_width": null,
      "min_height": null,
      "min_width": null,
      "object_fit": null,
      "object_position": null,
      "order": null,
      "overflow": null,
      "overflow_x": null,
      "overflow_y": null,
      "padding": null,
      "right": null,
      "top": null,
      "visibility": null,
      "width": null
     }
    },
    "21b2f5e865f243c2a38d5971267da1ba": {
     "model_module": "@jupyter-widgets/controls",
     "model_name": "DescriptionStyleModel",
     "state": {
      "_model_module": "@jupyter-widgets/controls",
      "_model_module_version": "1.5.0",
      "_model_name": "DescriptionStyleModel",
      "_view_count": null,
      "_view_module": "@jupyter-widgets/base",
      "_view_module_version": "1.2.0",
      "_view_name": "StyleView",
      "description_width": ""
     }
    },
    "2423f9e5e4ff4bc097e2e985821e70f8": {
     "model_module": "@jupyter-widgets/base",
     "model_name": "LayoutModel",
     "state": {
      "_model_module": "@jupyter-widgets/base",
      "_model_module_version": "1.2.0",
      "_model_name": "LayoutModel",
      "_view_count": null,
      "_view_module": "@jupyter-widgets/base",
      "_view_module_version": "1.2.0",
      "_view_name": "LayoutView",
      "align_content": null,
      "align_items": null,
      "align_self": null,
      "border": null,
      "bottom": null,
      "display": null,
      "flex": null,
      "flex_flow": null,
      "grid_area": null,
      "grid_auto_columns": null,
      "grid_auto_flow": null,
      "grid_auto_rows": null,
      "grid_column": null,
      "grid_gap": null,
      "grid_row": null,
      "grid_template_areas": null,
      "grid_template_columns": null,
      "grid_template_rows": null,
      "height": null,
      "justify_content": null,
      "justify_items": null,
      "left": null,
      "margin": null,
      "max_height": null,
      "max_width": null,
      "min_height": null,
      "min_width": null,
      "object_fit": null,
      "object_position": null,
      "order": null,
      "overflow": null,
      "overflow_x": null,
      "overflow_y": null,
      "padding": null,
      "right": null,
      "top": null,
      "visibility": null,
      "width": null
     }
    },
    "24dfb115fdae42abb379decd8d4b1757": {
     "model_module": "@jupyter-widgets/base",
     "model_name": "LayoutModel",
     "state": {
      "_model_module": "@jupyter-widgets/base",
      "_model_module_version": "1.2.0",
      "_model_name": "LayoutModel",
      "_view_count": null,
      "_view_module": "@jupyter-widgets/base",
      "_view_module_version": "1.2.0",
      "_view_name": "LayoutView",
      "align_content": null,
      "align_items": null,
      "align_self": null,
      "border": null,
      "bottom": null,
      "display": null,
      "flex": null,
      "flex_flow": null,
      "grid_area": null,
      "grid_auto_columns": null,
      "grid_auto_flow": null,
      "grid_auto_rows": null,
      "grid_column": null,
      "grid_gap": null,
      "grid_row": null,
      "grid_template_areas": null,
      "grid_template_columns": null,
      "grid_template_rows": null,
      "height": null,
      "justify_content": null,
      "justify_items": null,
      "left": null,
      "margin": null,
      "max_height": null,
      "max_width": null,
      "min_height": null,
      "min_width": null,
      "object_fit": null,
      "object_position": null,
      "order": null,
      "overflow": null,
      "overflow_x": null,
      "overflow_y": null,
      "padding": null,
      "right": null,
      "top": null,
      "visibility": null,
      "width": null
     }
    },
    "25a1ea9152d545edb7663673e3db349e": {
     "model_module": "@jupyter-widgets/controls",
     "model_name": "ProgressStyleModel",
     "state": {
      "_model_module": "@jupyter-widgets/controls",
      "_model_module_version": "1.5.0",
      "_model_name": "ProgressStyleModel",
      "_view_count": null,
      "_view_module": "@jupyter-widgets/base",
      "_view_module_version": "1.2.0",
      "_view_name": "StyleView",
      "bar_color": null,
      "description_width": "initial"
     }
    },
    "297eb82f9bee441ea2d577a5062e9470": {
     "model_module": "@jupyter-widgets/base",
     "model_name": "LayoutModel",
     "state": {
      "_model_module": "@jupyter-widgets/base",
      "_model_module_version": "1.2.0",
      "_model_name": "LayoutModel",
      "_view_count": null,
      "_view_module": "@jupyter-widgets/base",
      "_view_module_version": "1.2.0",
      "_view_name": "LayoutView",
      "align_content": null,
      "align_items": null,
      "align_self": null,
      "border": null,
      "bottom": null,
      "display": null,
      "flex": null,
      "flex_flow": null,
      "grid_area": null,
      "grid_auto_columns": null,
      "grid_auto_flow": null,
      "grid_auto_rows": null,
      "grid_column": null,
      "grid_gap": null,
      "grid_row": null,
      "grid_template_areas": null,
      "grid_template_columns": null,
      "grid_template_rows": null,
      "height": null,
      "justify_content": null,
      "justify_items": null,
      "left": null,
      "margin": null,
      "max_height": null,
      "max_width": null,
      "min_height": null,
      "min_width": null,
      "object_fit": null,
      "object_position": null,
      "order": null,
      "overflow": null,
      "overflow_x": null,
      "overflow_y": null,
      "padding": null,
      "right": null,
      "top": null,
      "visibility": null,
      "width": null
     }
    },
    "42022f76d4a846f0a22c9fc740fc8b6a": {
     "model_module": "@jupyter-widgets/controls",
     "model_name": "ProgressStyleModel",
     "state": {
      "_model_module": "@jupyter-widgets/controls",
      "_model_module_version": "1.5.0",
      "_model_name": "ProgressStyleModel",
      "_view_count": null,
      "_view_module": "@jupyter-widgets/base",
      "_view_module_version": "1.2.0",
      "_view_name": "StyleView",
      "bar_color": null,
      "description_width": "initial"
     }
    },
    "53b1b320f7834d2dbf2c2939b3b2a27e": {
     "model_module": "@jupyter-widgets/controls",
     "model_name": "HBoxModel",
     "state": {
      "_dom_classes": [],
      "_model_module": "@jupyter-widgets/controls",
      "_model_module_version": "1.5.0",
      "_model_name": "HBoxModel",
      "_view_count": null,
      "_view_module": "@jupyter-widgets/controls",
      "_view_module_version": "1.5.0",
      "_view_name": "HBoxView",
      "box_style": "",
      "children": [
       "IPY_MODEL_cbe1312b72284c1a859cfc55dcf9c7f4",
       "IPY_MODEL_9a0e73984125418d8833a5423afc09d6"
      ],
      "layout": "IPY_MODEL_f4893f074b91489daaff9c8567acc80b"
     }
    },
    "560673fbc9dc454ab9c6ecb2eab39e0e": {
     "model_module": "@jupyter-widgets/base",
     "model_name": "LayoutModel",
     "state": {
      "_model_module": "@jupyter-widgets/base",
      "_model_module_version": "1.2.0",
      "_model_name": "LayoutModel",
      "_view_count": null,
      "_view_module": "@jupyter-widgets/base",
      "_view_module_version": "1.2.0",
      "_view_name": "LayoutView",
      "align_content": null,
      "align_items": null,
      "align_self": null,
      "border": null,
      "bottom": null,
      "display": null,
      "flex": null,
      "flex_flow": null,
      "grid_area": null,
      "grid_auto_columns": null,
      "grid_auto_flow": null,
      "grid_auto_rows": null,
      "grid_column": null,
      "grid_gap": null,
      "grid_row": null,
      "grid_template_areas": null,
      "grid_template_columns": null,
      "grid_template_rows": null,
      "height": null,
      "justify_content": null,
      "justify_items": null,
      "left": null,
      "margin": null,
      "max_height": null,
      "max_width": null,
      "min_height": null,
      "min_width": null,
      "object_fit": null,
      "object_position": null,
      "order": null,
      "overflow": null,
      "overflow_x": null,
      "overflow_y": null,
      "padding": null,
      "right": null,
      "top": null,
      "visibility": null,
      "width": null
     }
    },
    "5a6d1306f0734a3d8fba91f54650fb92": {
     "model_module": "@jupyter-widgets/controls",
     "model_name": "DescriptionStyleModel",
     "state": {
      "_model_module": "@jupyter-widgets/controls",
      "_model_module_version": "1.5.0",
      "_model_name": "DescriptionStyleModel",
      "_view_count": null,
      "_view_module": "@jupyter-widgets/base",
      "_view_module_version": "1.2.0",
      "_view_name": "StyleView",
      "description_width": ""
     }
    },
    "5d5015b5414e4b5f9e4531a0cedbbede": {
     "model_module": "@jupyter-widgets/controls",
     "model_name": "HTMLModel",
     "state": {
      "_dom_classes": [],
      "_model_module": "@jupyter-widgets/controls",
      "_model_module_version": "1.5.0",
      "_model_name": "HTMLModel",
      "_view_count": null,
      "_view_module": "@jupyter-widgets/controls",
      "_view_module_version": "1.5.0",
      "_view_name": "HTMLView",
      "description": "",
      "description_tooltip": null,
      "layout": "IPY_MODEL_297eb82f9bee441ea2d577a5062e9470",
      "placeholder": "​",
      "style": "IPY_MODEL_d193227c099e4d2cbdd713cfe446a83d",
      "value": " 0/4542 [00:00&lt;?, ?it/s]"
     }
    },
    "6961a5727fd74809ba9570e799b68ae3": {
     "model_module": "@jupyter-widgets/controls",
     "model_name": "HBoxModel",
     "state": {
      "_dom_classes": [],
      "_model_module": "@jupyter-widgets/controls",
      "_model_module_version": "1.5.0",
      "_model_name": "HBoxModel",
      "_view_count": null,
      "_view_module": "@jupyter-widgets/controls",
      "_view_module_version": "1.5.0",
      "_view_name": "HBoxView",
      "box_style": "",
      "children": [
       "IPY_MODEL_970b8415ffc046f5964afffc21661b5e",
       "IPY_MODEL_5d5015b5414e4b5f9e4531a0cedbbede"
      ],
      "layout": "IPY_MODEL_560673fbc9dc454ab9c6ecb2eab39e0e"
     }
    },
    "71da88bab53a48549e3170a002bb1095": {
     "model_module": "@jupyter-widgets/controls",
     "model_name": "DescriptionStyleModel",
     "state": {
      "_model_module": "@jupyter-widgets/controls",
      "_model_module_version": "1.5.0",
      "_model_name": "DescriptionStyleModel",
      "_view_count": null,
      "_view_module": "@jupyter-widgets/base",
      "_view_module_version": "1.2.0",
      "_view_name": "StyleView",
      "description_width": ""
     }
    },
    "72602a868bab49e7bb008e477483f2c9": {
     "model_module": "@jupyter-widgets/controls",
     "model_name": "FloatProgressModel",
     "state": {
      "_dom_classes": [],
      "_model_module": "@jupyter-widgets/controls",
      "_model_module_version": "1.5.0",
      "_model_name": "FloatProgressModel",
      "_view_count": null,
      "_view_module": "@jupyter-widgets/controls",
      "_view_module_version": "1.5.0",
      "_view_name": "ProgressView",
      "bar_style": "success",
      "description": "",
      "description_tooltip": null,
      "layout": "IPY_MODEL_0582d039804141b99f89933277cade92",
      "max": 1,
      "min": 0,
      "orientation": "horizontal",
      "style": "IPY_MODEL_42022f76d4a846f0a22c9fc740fc8b6a",
      "value": 1
     }
    },
    "8f420efca21c415ab96a94426cc58441": {
     "model_module": "@jupyter-widgets/controls",
     "model_name": "ProgressStyleModel",
     "state": {
      "_model_module": "@jupyter-widgets/controls",
      "_model_module_version": "1.5.0",
      "_model_name": "ProgressStyleModel",
      "_view_count": null,
      "_view_module": "@jupyter-widgets/base",
      "_view_module_version": "1.2.0",
      "_view_name": "StyleView",
      "bar_color": null,
      "description_width": "initial"
     }
    },
    "963876aacb184c55a7081fb9653c50da": {
     "model_module": "@jupyter-widgets/base",
     "model_name": "LayoutModel",
     "state": {
      "_model_module": "@jupyter-widgets/base",
      "_model_module_version": "1.2.0",
      "_model_name": "LayoutModel",
      "_view_count": null,
      "_view_module": "@jupyter-widgets/base",
      "_view_module_version": "1.2.0",
      "_view_name": "LayoutView",
      "align_content": null,
      "align_items": null,
      "align_self": null,
      "border": null,
      "bottom": null,
      "display": null,
      "flex": null,
      "flex_flow": null,
      "grid_area": null,
      "grid_auto_columns": null,
      "grid_auto_flow": null,
      "grid_auto_rows": null,
      "grid_column": null,
      "grid_gap": null,
      "grid_row": null,
      "grid_template_areas": null,
      "grid_template_columns": null,
      "grid_template_rows": null,
      "height": null,
      "justify_content": null,
      "justify_items": null,
      "left": null,
      "margin": null,
      "max_height": null,
      "max_width": null,
      "min_height": null,
      "min_width": null,
      "object_fit": null,
      "object_position": null,
      "order": null,
      "overflow": null,
      "overflow_x": null,
      "overflow_y": null,
      "padding": null,
      "right": null,
      "top": null,
      "visibility": null,
      "width": null
     }
    },
    "970b8415ffc046f5964afffc21661b5e": {
     "model_module": "@jupyter-widgets/controls",
     "model_name": "FloatProgressModel",
     "state": {
      "_dom_classes": [],
      "_model_module": "@jupyter-widgets/controls",
      "_model_module_version": "1.5.0",
      "_model_name": "FloatProgressModel",
      "_view_count": null,
      "_view_module": "@jupyter-widgets/controls",
      "_view_module_version": "1.5.0",
      "_view_name": "ProgressView",
      "bar_style": "info",
      "description": "  0%",
      "description_tooltip": null,
      "layout": "IPY_MODEL_f5cf0d3419f84de28a6f97cdc94a8022",
      "max": 1,
      "min": 0,
      "orientation": "horizontal",
      "style": "IPY_MODEL_8f420efca21c415ab96a94426cc58441",
      "value": 0
     }
    },
    "9a0e73984125418d8833a5423afc09d6": {
     "model_module": "@jupyter-widgets/controls",
     "model_name": "HTMLModel",
     "state": {
      "_dom_classes": [],
      "_model_module": "@jupyter-widgets/controls",
      "_model_module_version": "1.5.0",
      "_model_name": "HTMLModel",
      "_view_count": null,
      "_view_module": "@jupyter-widgets/controls",
      "_view_module_version": "1.5.0",
      "_view_name": "HTMLView",
      "description": "",
      "description_tooltip": null,
      "layout": "IPY_MODEL_02f94299ddf44343a19cbd03b01601b9",
      "placeholder": "​",
      "style": "IPY_MODEL_21b2f5e865f243c2a38d5971267da1ba",
      "value": " 9920512/? [00:20&lt;00:00, 38241768.11it/s]"
     }
    },
    "a37d54e66eee4c8f97e47d0de859ef34": {
     "model_module": "@jupyter-widgets/controls",
     "model_name": "HBoxModel",
     "state": {
      "_dom_classes": [],
      "_model_module": "@jupyter-widgets/controls",
      "_model_module_version": "1.5.0",
      "_model_name": "HBoxModel",
      "_view_count": null,
      "_view_module": "@jupyter-widgets/controls",
      "_view_module_version": "1.5.0",
      "_view_name": "HBoxView",
      "box_style": "",
      "children": [
       "IPY_MODEL_c20d244f3a51455ca21e8d8e4af03765",
       "IPY_MODEL_d853771c6cad48a0b56d8f28d1b7261f"
      ],
      "layout": "IPY_MODEL_fb08beb26396411d87aecc187b986bb1"
     }
    },
    "c20d244f3a51455ca21e8d8e4af03765": {
     "model_module": "@jupyter-widgets/controls",
     "model_name": "FloatProgressModel",
     "state": {
      "_dom_classes": [],
      "_model_module": "@jupyter-widgets/controls",
      "_model_module_version": "1.5.0",
      "_model_name": "FloatProgressModel",
      "_view_count": null,
      "_view_module": "@jupyter-widgets/controls",
      "_view_module_version": "1.5.0",
      "_view_name": "ProgressView",
      "bar_style": "info",
      "description": "",
      "description_tooltip": null,
      "layout": "IPY_MODEL_963876aacb184c55a7081fb9653c50da",
      "max": 1,
      "min": 0,
      "orientation": "horizontal",
      "style": "IPY_MODEL_25a1ea9152d545edb7663673e3db349e",
      "value": 1
     }
    },
    "cbe1312b72284c1a859cfc55dcf9c7f4": {
     "model_module": "@jupyter-widgets/controls",
     "model_name": "FloatProgressModel",
     "state": {
      "_dom_classes": [],
      "_model_module": "@jupyter-widgets/controls",
      "_model_module_version": "1.5.0",
      "_model_name": "FloatProgressModel",
      "_view_count": null,
      "_view_module": "@jupyter-widgets/controls",
      "_view_module_version": "1.5.0",
      "_view_name": "ProgressView",
      "bar_style": "info",
      "description": "",
      "description_tooltip": null,
      "layout": "IPY_MODEL_ffdcedded48f4eb2a72c116a08d51258",
      "max": 1,
      "min": 0,
      "orientation": "horizontal",
      "style": "IPY_MODEL_f713e13834db4c31bb8493083f66ac0f",
      "value": 1
     }
    },
    "d193227c099e4d2cbdd713cfe446a83d": {
     "model_module": "@jupyter-widgets/controls",
     "model_name": "DescriptionStyleModel",
     "state": {
      "_model_module": "@jupyter-widgets/controls",
      "_model_module_version": "1.5.0",
      "_model_name": "DescriptionStyleModel",
      "_view_count": null,
      "_view_module": "@jupyter-widgets/base",
      "_view_module_version": "1.2.0",
      "_view_name": "StyleView",
      "description_width": ""
     }
    },
    "d853771c6cad48a0b56d8f28d1b7261f": {
     "model_module": "@jupyter-widgets/controls",
     "model_name": "HTMLModel",
     "state": {
      "_dom_classes": [],
      "_model_module": "@jupyter-widgets/controls",
      "_model_module_version": "1.5.0",
      "_model_name": "HTMLModel",
      "_view_count": null,
      "_view_module": "@jupyter-widgets/controls",
      "_view_module_version": "1.5.0",
      "_view_name": "HTMLView",
      "description": "",
      "description_tooltip": null,
      "layout": "IPY_MODEL_24dfb115fdae42abb379decd8d4b1757",
      "placeholder": "​",
      "style": "IPY_MODEL_5a6d1306f0734a3d8fba91f54650fb92",
      "value": " 1654784/? [00:18&lt;00:00, 123624.20it/s]"
     }
    },
    "de8c69f4727f42b6a9deb6bdad588597": {
     "model_module": "@jupyter-widgets/controls",
     "model_name": "HTMLModel",
     "state": {
      "_dom_classes": [],
      "_model_module": "@jupyter-widgets/controls",
      "_model_module_version": "1.5.0",
      "_model_name": "HTMLModel",
      "_view_count": null,
      "_view_module": "@jupyter-widgets/controls",
      "_view_module_version": "1.5.0",
      "_view_name": "HTMLView",
      "description": "",
      "description_tooltip": null,
      "layout": "IPY_MODEL_2423f9e5e4ff4bc097e2e985821e70f8",
      "placeholder": "​",
      "style": "IPY_MODEL_71da88bab53a48549e3170a002bb1095",
      "value": " 32768/? [00:00&lt;00:00, 91907.08it/s]"
     }
    },
    "eed9b701896e4bdb85748ad18823ab93": {
     "model_module": "@jupyter-widgets/controls",
     "model_name": "HBoxModel",
     "state": {
      "_dom_classes": [],
      "_model_module": "@jupyter-widgets/controls",
      "_model_module_version": "1.5.0",
      "_model_name": "HBoxModel",
      "_view_count": null,
      "_view_module": "@jupyter-widgets/controls",
      "_view_module_version": "1.5.0",
      "_view_name": "HBoxView",
      "box_style": "",
      "children": [
       "IPY_MODEL_72602a868bab49e7bb008e477483f2c9",
       "IPY_MODEL_de8c69f4727f42b6a9deb6bdad588597"
      ],
      "layout": "IPY_MODEL_1922a6649f154ba0950d3782de8c0131"
     }
    },
    "f4893f074b91489daaff9c8567acc80b": {
     "model_module": "@jupyter-widgets/base",
     "model_name": "LayoutModel",
     "state": {
      "_model_module": "@jupyter-widgets/base",
      "_model_module_version": "1.2.0",
      "_model_name": "LayoutModel",
      "_view_count": null,
      "_view_module": "@jupyter-widgets/base",
      "_view_module_version": "1.2.0",
      "_view_name": "LayoutView",
      "align_content": null,
      "align_items": null,
      "align_self": null,
      "border": null,
      "bottom": null,
      "display": null,
      "flex": null,
      "flex_flow": null,
      "grid_area": null,
      "grid_auto_columns": null,
      "grid_auto_flow": null,
      "grid_auto_rows": null,
      "grid_column": null,
      "grid_gap": null,
      "grid_row": null,
      "grid_template_areas": null,
      "grid_template_columns": null,
      "grid_template_rows": null,
      "height": null,
      "justify_content": null,
      "justify_items": null,
      "left": null,
      "margin": null,
      "max_height": null,
      "max_width": null,
      "min_height": null,
      "min_width": null,
      "object_fit": null,
      "object_position": null,
      "order": null,
      "overflow": null,
      "overflow_x": null,
      "overflow_y": null,
      "padding": null,
      "right": null,
      "top": null,
      "visibility": null,
      "width": null
     }
    },
    "f5cf0d3419f84de28a6f97cdc94a8022": {
     "model_module": "@jupyter-widgets/base",
     "model_name": "LayoutModel",
     "state": {
      "_model_module": "@jupyter-widgets/base",
      "_model_module_version": "1.2.0",
      "_model_name": "LayoutModel",
      "_view_count": null,
      "_view_module": "@jupyter-widgets/base",
      "_view_module_version": "1.2.0",
      "_view_name": "LayoutView",
      "align_content": null,
      "align_items": null,
      "align_self": null,
      "border": null,
      "bottom": null,
      "display": null,
      "flex": null,
      "flex_flow": null,
      "grid_area": null,
      "grid_auto_columns": null,
      "grid_auto_flow": null,
      "grid_auto_rows": null,
      "grid_column": null,
      "grid_gap": null,
      "grid_row": null,
      "grid_template_areas": null,
      "grid_template_columns": null,
      "grid_template_rows": null,
      "height": null,
      "justify_content": null,
      "justify_items": null,
      "left": null,
      "margin": null,
      "max_height": null,
      "max_width": null,
      "min_height": null,
      "min_width": null,
      "object_fit": null,
      "object_position": null,
      "order": null,
      "overflow": null,
      "overflow_x": null,
      "overflow_y": null,
      "padding": null,
      "right": null,
      "top": null,
      "visibility": null,
      "width": null
     }
    },
    "f713e13834db4c31bb8493083f66ac0f": {
     "model_module": "@jupyter-widgets/controls",
     "model_name": "ProgressStyleModel",
     "state": {
      "_model_module": "@jupyter-widgets/controls",
      "_model_module_version": "1.5.0",
      "_model_name": "ProgressStyleModel",
      "_view_count": null,
      "_view_module": "@jupyter-widgets/base",
      "_view_module_version": "1.2.0",
      "_view_name": "StyleView",
      "bar_color": null,
      "description_width": "initial"
     }
    },
    "fb08beb26396411d87aecc187b986bb1": {
     "model_module": "@jupyter-widgets/base",
     "model_name": "LayoutModel",
     "state": {
      "_model_module": "@jupyter-widgets/base",
      "_model_module_version": "1.2.0",
      "_model_name": "LayoutModel",
      "_view_count": null,
      "_view_module": "@jupyter-widgets/base",
      "_view_module_version": "1.2.0",
      "_view_name": "LayoutView",
      "align_content": null,
      "align_items": null,
      "align_self": null,
      "border": null,
      "bottom": null,
      "display": null,
      "flex": null,
      "flex_flow": null,
      "grid_area": null,
      "grid_auto_columns": null,
      "grid_auto_flow": null,
      "grid_auto_rows": null,
      "grid_column": null,
      "grid_gap": null,
      "grid_row": null,
      "grid_template_areas": null,
      "grid_template_columns": null,
      "grid_template_rows": null,
      "height": null,
      "justify_content": null,
      "justify_items": null,
      "left": null,
      "margin": null,
      "max_height": null,
      "max_width": null,
      "min_height": null,
      "min_width": null,
      "object_fit": null,
      "object_position": null,
      "order": null,
      "overflow": null,
      "overflow_x": null,
      "overflow_y": null,
      "padding": null,
      "right": null,
      "top": null,
      "visibility": null,
      "width": null
     }
    },
    "ffdcedded48f4eb2a72c116a08d51258": {
     "model_module": "@jupyter-widgets/base",
     "model_name": "LayoutModel",
     "state": {
      "_model_module": "@jupyter-widgets/base",
      "_model_module_version": "1.2.0",
      "_model_name": "LayoutModel",
      "_view_count": null,
      "_view_module": "@jupyter-widgets/base",
      "_view_module_version": "1.2.0",
      "_view_name": "LayoutView",
      "align_content": null,
      "align_items": null,
      "align_self": null,
      "border": null,
      "bottom": null,
      "display": null,
      "flex": null,
      "flex_flow": null,
      "grid_area": null,
      "grid_auto_columns": null,
      "grid_auto_flow": null,
      "grid_auto_rows": null,
      "grid_column": null,
      "grid_gap": null,
      "grid_row": null,
      "grid_template_areas": null,
      "grid_template_columns": null,
      "grid_template_rows": null,
      "height": null,
      "justify_content": null,
      "justify_items": null,
      "left": null,
      "margin": null,
      "max_height": null,
      "max_width": null,
      "min_height": null,
      "min_width": null,
      "object_fit": null,
      "object_position": null,
      "order": null,
      "overflow": null,
      "overflow_x": null,
      "overflow_y": null,
      "padding": null,
      "right": null,
      "top": null,
      "visibility": null,
      "width": null
     }
    }
   }
  }
 },
 "nbformat": 4,
 "nbformat_minor": 1
}
