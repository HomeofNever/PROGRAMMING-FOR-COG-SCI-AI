{
 "cells": [
  {
   "cell_type": "code",
   "execution_count": 1,
   "metadata": {},
   "outputs": [],
   "source": [
    "import numpy as np\n",
    "import pandas as pd\n",
    "import seaborn as sns\n",
    "import matplotlib.pyplot as plt\n",
    "%matplotlib inline\n",
    "\n",
    "from sklearn.preprocessing import MinMaxScaler"
   ]
  },
  {
   "cell_type": "code",
   "execution_count": 2,
   "metadata": {},
   "outputs": [
    {
     "data": {
      "text/plain": [
       "'2.3.1'"
      ]
     },
     "execution_count": 2,
     "metadata": {},
     "output_type": "execute_result"
    }
   ],
   "source": [
    "import tensorflow as tf\n",
    "\n",
    "from tensorflow.keras.models import Sequential\n",
    "from tensorflow.keras.layers import Dense\n",
    "from tensorflow.keras.layers import LSTM\n",
    "from tensorflow.keras.layers import Dropout\n",
    "\n",
    "tf.__version__"
   ]
  },
  {
   "cell_type": "markdown",
   "metadata": {},
   "source": [
    "### Tensorflow/Keras LSTM \n",
    "\n",
    "https://www.tensorflow.org/api_docs/python/tf/keras/layers/RNN"
   ]
  },
  {
   "cell_type": "code",
   "execution_count": null,
   "metadata": {},
   "outputs": [],
   "source": [
    "import sys\n",
    "if 'google.colab' in sys.modules:\n",
    "    from google.colab import files\n",
    "    uploaded = files.upload()"
   ]
  },
  {
   "cell_type": "markdown",
   "metadata": {},
   "source": [
    "#### Data Preprocessiog"
   ]
  },
  {
   "cell_type": "code",
   "execution_count": 3,
   "metadata": {},
   "outputs": [
    {
     "data": {
      "text/html": [
       "<div>\n",
       "<style scoped>\n",
       "    .dataframe tbody tr th:only-of-type {\n",
       "        vertical-align: middle;\n",
       "    }\n",
       "\n",
       "    .dataframe tbody tr th {\n",
       "        vertical-align: top;\n",
       "    }\n",
       "\n",
       "    .dataframe thead th {\n",
       "        text-align: right;\n",
       "    }\n",
       "</style>\n",
       "<table border=\"1\" class=\"dataframe\">\n",
       "  <thead>\n",
       "    <tr style=\"text-align: right;\">\n",
       "      <th></th>\n",
       "      <th>Date</th>\n",
       "      <th>Open</th>\n",
       "      <th>High</th>\n",
       "      <th>Low</th>\n",
       "      <th>Close</th>\n",
       "      <th>Volume</th>\n",
       "    </tr>\n",
       "  </thead>\n",
       "  <tbody>\n",
       "    <tr>\n",
       "      <th>0</th>\n",
       "      <td>1/3/2012</td>\n",
       "      <td>325.25</td>\n",
       "      <td>332.83</td>\n",
       "      <td>324.97</td>\n",
       "      <td>663.59</td>\n",
       "      <td>7,380,500</td>\n",
       "    </tr>\n",
       "    <tr>\n",
       "      <th>1</th>\n",
       "      <td>1/4/2012</td>\n",
       "      <td>331.27</td>\n",
       "      <td>333.87</td>\n",
       "      <td>329.08</td>\n",
       "      <td>666.45</td>\n",
       "      <td>5,749,400</td>\n",
       "    </tr>\n",
       "    <tr>\n",
       "      <th>2</th>\n",
       "      <td>1/5/2012</td>\n",
       "      <td>329.83</td>\n",
       "      <td>330.75</td>\n",
       "      <td>326.89</td>\n",
       "      <td>657.21</td>\n",
       "      <td>6,590,300</td>\n",
       "    </tr>\n",
       "    <tr>\n",
       "      <th>3</th>\n",
       "      <td>1/6/2012</td>\n",
       "      <td>328.34</td>\n",
       "      <td>328.77</td>\n",
       "      <td>323.68</td>\n",
       "      <td>648.24</td>\n",
       "      <td>5,405,900</td>\n",
       "    </tr>\n",
       "    <tr>\n",
       "      <th>4</th>\n",
       "      <td>1/9/2012</td>\n",
       "      <td>322.04</td>\n",
       "      <td>322.29</td>\n",
       "      <td>309.46</td>\n",
       "      <td>620.76</td>\n",
       "      <td>11,688,800</td>\n",
       "    </tr>\n",
       "  </tbody>\n",
       "</table>\n",
       "</div>"
      ],
      "text/plain": [
       "       Date    Open    High     Low   Close      Volume\n",
       "0  1/3/2012  325.25  332.83  324.97  663.59   7,380,500\n",
       "1  1/4/2012  331.27  333.87  329.08  666.45   5,749,400\n",
       "2  1/5/2012  329.83  330.75  326.89  657.21   6,590,300\n",
       "3  1/6/2012  328.34  328.77  323.68  648.24   5,405,900\n",
       "4  1/9/2012  322.04  322.29  309.46  620.76  11,688,800"
      ]
     },
     "execution_count": 3,
     "metadata": {},
     "output_type": "execute_result"
    }
   ],
   "source": [
    "df_train = pd.read_csv('Google_Stock_Price_Train.csv')\n",
    "df_test = pd.read_csv('Google_Stock_Price_Test.csv')\n",
    "df_train.head()"
   ]
  },
  {
   "cell_type": "code",
   "execution_count": 4,
   "metadata": {},
   "outputs": [
    {
     "data": {
      "text/plain": [
       "(1258, 1)"
      ]
     },
     "execution_count": 4,
     "metadata": {},
     "output_type": "execute_result"
    }
   ],
   "source": [
    "training_set = df_train.iloc[:, 1:2].values # Opening Price\n",
    "\n",
    "# Scale Features\n",
    "\n",
    "sc = MinMaxScaler(feature_range = (0, 1))\n",
    "training_set_scaled = sc.fit_transform(training_set)\n",
    "training_set_scaled.shape"
   ]
  },
  {
   "cell_type": "code",
   "execution_count": 5,
   "metadata": {},
   "outputs": [
    {
     "data": {
      "text/plain": [
       "((1198, 60), (1198,))"
      ]
     },
     "execution_count": 5,
     "metadata": {},
     "output_type": "execute_result"
    }
   ],
   "source": [
    "# Create a data structure with 60 timesteps and 1 output\n",
    "X_train = []\n",
    "y_train = []\n",
    "for i in range(60, 1258):\n",
    "    X_train.append(training_set_scaled[i-60:i, 0])\n",
    "    y_train.append(training_set_scaled[i, 0])\n",
    "X_train, y_train = np.array(X_train), np.array(y_train)\n",
    "X_train.shape,y_train.shape"
   ]
  },
  {
   "cell_type": "code",
   "execution_count": 6,
   "metadata": {},
   "outputs": [
    {
     "data": {
      "text/plain": [
       "(1198, 60, 1)"
      ]
     },
     "execution_count": 6,
     "metadata": {},
     "output_type": "execute_result"
    }
   ],
   "source": [
    "# Reshape to 3d array\n",
    "X_train = np.reshape(X_train, (X_train.shape[0], X_train.shape[1], 1))\n",
    "\n",
    "X_train.shape"
   ]
  },
  {
   "cell_type": "code",
   "execution_count": 7,
   "metadata": {},
   "outputs": [
    {
     "data": {
      "text/plain": [
       "array([0.08581368, 0.09701243, 0.09433366, 0.09156187, 0.07984225,\n",
       "       0.0643277 , 0.0585423 , 0.06568569, 0.06109085, 0.06639259,\n",
       "       0.0614257 , 0.07474514, 0.02797827, 0.02379269, 0.02409033,\n",
       "       0.0159238 , 0.01078949, 0.00967334, 0.01642607, 0.02100231,\n",
       "       0.02280676, 0.02273235, 0.02810849, 0.03212665, 0.0433812 ,\n",
       "       0.04475779, 0.04790163, 0.0440695 , 0.04648783, 0.04745517,\n",
       "       0.04873875, 0.03936305, 0.04137213, 0.04034898, 0.04784582,\n",
       "       0.04325099, 0.04356723, 0.04286033, 0.04602277, 0.05398467,\n",
       "       0.05738894, 0.05714711, 0.05569611, 0.04421832, 0.04514845,\n",
       "       0.04605997, 0.04412531, 0.03675869, 0.04486941, 0.05065481,\n",
       "       0.05214302, 0.05612397, 0.05818885, 0.06540665, 0.06882953,\n",
       "       0.07243843, 0.07993526, 0.07846566, 0.08034452, 0.08497656])"
      ]
     },
     "execution_count": 7,
     "metadata": {},
     "output_type": "execute_result"
    }
   ],
   "source": [
    "X_train[0,:,0]"
   ]
  },
  {
   "cell_type": "markdown",
   "metadata": {},
   "source": [
    "#### Build the RNN"
   ]
  },
  {
   "cell_type": "code",
   "execution_count": 8,
   "metadata": {},
   "outputs": [],
   "source": [
    "#  Sequential Model\n",
    "model = Sequential()\n",
    "\n",
    "# Add four LSTM layers with Dropout regularisation\n",
    "model.add(LSTM(units = 50, return_sequences = True, input_shape = (X_train.shape[1], 1)))\n",
    "model.add(Dropout(0.2))\n",
    "\n",
    "model.add(LSTM(units = 50, return_sequences = True))\n",
    "model.add(Dropout(0.2))\n",
    "\n",
    "model.add(LSTM(units = 50, return_sequences = True))\n",
    "model.add(Dropout(0.2))\n",
    "\n",
    "model.add(LSTM(units = 50))\n",
    "model.add(Dropout(0.2))\n",
    "\n",
    "# Adding the output layer\n",
    "model.add(Dense(units = 1))"
   ]
  },
  {
   "cell_type": "markdown",
   "metadata": {},
   "source": [
    "#### Compile the RNN"
   ]
  },
  {
   "cell_type": "code",
   "execution_count": 9,
   "metadata": {},
   "outputs": [],
   "source": [
    "model.compile(optimizer = 'adam', loss = 'mean_squared_error')"
   ]
  },
  {
   "cell_type": "code",
   "execution_count": 10,
   "metadata": {},
   "outputs": [
    {
     "name": "stdout",
     "output_type": "stream",
     "text": [
      "Model: \"sequential\"\n",
      "_________________________________________________________________\n",
      "Layer (type)                 Output Shape              Param #   \n",
      "=================================================================\n",
      "lstm (LSTM)                  (None, 60, 50)            10400     \n",
      "_________________________________________________________________\n",
      "dropout (Dropout)            (None, 60, 50)            0         \n",
      "_________________________________________________________________\n",
      "lstm_1 (LSTM)                (None, 60, 50)            20200     \n",
      "_________________________________________________________________\n",
      "dropout_1 (Dropout)          (None, 60, 50)            0         \n",
      "_________________________________________________________________\n",
      "lstm_2 (LSTM)                (None, 60, 50)            20200     \n",
      "_________________________________________________________________\n",
      "dropout_2 (Dropout)          (None, 60, 50)            0         \n",
      "_________________________________________________________________\n",
      "lstm_3 (LSTM)                (None, 50)                20200     \n",
      "_________________________________________________________________\n",
      "dropout_3 (Dropout)          (None, 50)                0         \n",
      "_________________________________________________________________\n",
      "dense (Dense)                (None, 1)                 51        \n",
      "=================================================================\n",
      "Total params: 71,051\n",
      "Trainable params: 71,051\n",
      "Non-trainable params: 0\n",
      "_________________________________________________________________\n"
     ]
    }
   ],
   "source": [
    "model.summary()"
   ]
  },
  {
   "cell_type": "markdown",
   "metadata": {},
   "source": [
    "#### Fit the RNN to the Training set"
   ]
  },
  {
   "cell_type": "code",
   "execution_count": 11,
   "metadata": {},
   "outputs": [
    {
     "name": "stdout",
     "output_type": "stream",
     "text": [
      "Epoch 1/100\n",
      "38/38 [==============================] - 4s 99ms/step - loss: 0.0463\n",
      "Epoch 2/100\n",
      "38/38 [==============================] - 4s 98ms/step - loss: 0.0064\n",
      "Epoch 3/100\n",
      "38/38 [==============================] - 4s 93ms/step - loss: 0.0054\n",
      "Epoch 4/100\n",
      "38/38 [==============================] - 4s 92ms/step - loss: 0.0055\n",
      "Epoch 5/100\n",
      "38/38 [==============================] - 4s 95ms/step - loss: 0.0053\n",
      "Epoch 6/100\n",
      "38/38 [==============================] - 4s 93ms/step - loss: 0.0048\n",
      "Epoch 7/100\n",
      "38/38 [==============================] - 4s 93ms/step - loss: 0.0046\n",
      "Epoch 8/100\n",
      "38/38 [==============================] - 4s 97ms/step - loss: 0.0044\n",
      "Epoch 9/100\n",
      "38/38 [==============================] - 4s 100ms/step - loss: 0.0045\n",
      "Epoch 10/100\n",
      "38/38 [==============================] - 4s 100ms/step - loss: 0.0045\n",
      "Epoch 11/100\n",
      "38/38 [==============================] - 4s 97ms/step - loss: 0.0043\n",
      "Epoch 12/100\n",
      "38/38 [==============================] - 4s 101ms/step - loss: 0.0041\n",
      "Epoch 13/100\n",
      "38/38 [==============================] - 4s 99ms/step - loss: 0.0044\n",
      "Epoch 14/100\n",
      "38/38 [==============================] - 4s 102ms/step - loss: 0.0038\n",
      "Epoch 15/100\n",
      "38/38 [==============================] - 4s 99ms/step - loss: 0.0048\n",
      "Epoch 16/100\n",
      "38/38 [==============================] - 4s 101ms/step - loss: 0.0046\n",
      "Epoch 17/100\n",
      "38/38 [==============================] - 4s 99ms/step - loss: 0.0039\n",
      "Epoch 18/100\n",
      "38/38 [==============================] - 4s 101ms/step - loss: 0.0039\n",
      "Epoch 19/100\n",
      "38/38 [==============================] - 4s 101ms/step - loss: 0.0035\n",
      "Epoch 20/100\n",
      "38/38 [==============================] - 4s 103ms/step - loss: 0.0042\n",
      "Epoch 21/100\n",
      "38/38 [==============================] - 5s 142ms/step - loss: 0.0036\n",
      "Epoch 22/100\n",
      "38/38 [==============================] - 4s 102ms/step - loss: 0.0033\n",
      "Epoch 23/100\n",
      "38/38 [==============================] - 4s 105ms/step - loss: 0.0037\n",
      "Epoch 24/100\n",
      "38/38 [==============================] - 4s 102ms/step - loss: 0.0032\n",
      "Epoch 25/100\n",
      "38/38 [==============================] - 4s 102ms/step - loss: 0.0031\n",
      "Epoch 26/100\n",
      "38/38 [==============================] - 4s 102ms/step - loss: 0.0033\n",
      "Epoch 27/100\n",
      "38/38 [==============================] - 4s 102ms/step - loss: 0.0032\n",
      "Epoch 28/100\n",
      "38/38 [==============================] - 4s 103ms/step - loss: 0.0032\n",
      "Epoch 29/100\n",
      "38/38 [==============================] - 4s 111ms/step - loss: 0.0031\n",
      "Epoch 30/100\n",
      "38/38 [==============================] - 4s 102ms/step - loss: 0.0030\n",
      "Epoch 31/100\n",
      "38/38 [==============================] - 4s 101ms/step - loss: 0.0034\n",
      "Epoch 32/100\n",
      "38/38 [==============================] - 4s 101ms/step - loss: 0.0035\n",
      "Epoch 33/100\n",
      "38/38 [==============================] - 4s 102ms/step - loss: 0.0027\n",
      "Epoch 34/100\n",
      "38/38 [==============================] - 4s 101ms/step - loss: 0.0027\n",
      "Epoch 35/100\n",
      "38/38 [==============================] - 4s 104ms/step - loss: 0.0031\n",
      "Epoch 36/100\n",
      "38/38 [==============================] - 4s 107ms/step - loss: 0.0027\n",
      "Epoch 37/100\n",
      "38/38 [==============================] - 5s 119ms/step - loss: 0.0029\n",
      "Epoch 38/100\n",
      "38/38 [==============================] - 4s 102ms/step - loss: 0.0027\n",
      "Epoch 39/100\n",
      "38/38 [==============================] - 4s 105ms/step - loss: 0.0028\n",
      "Epoch 40/100\n",
      "38/38 [==============================] - 4s 100ms/step - loss: 0.0027\n",
      "Epoch 41/100\n",
      "38/38 [==============================] - 4s 100ms/step - loss: 0.0024\n",
      "Epoch 42/100\n",
      "38/38 [==============================] - 4s 99ms/step - loss: 0.0025\n",
      "Epoch 43/100\n",
      "38/38 [==============================] - 4s 98ms/step - loss: 0.0026\n",
      "Epoch 44/100\n",
      "38/38 [==============================] - 4s 101ms/step - loss: 0.0028\n",
      "Epoch 45/100\n",
      "38/38 [==============================] - 4s 99ms/step - loss: 0.0028\n",
      "Epoch 46/100\n",
      "38/38 [==============================] - 4s 100ms/step - loss: 0.0025\n",
      "Epoch 47/100\n",
      "38/38 [==============================] - 4s 101ms/step - loss: 0.0028\n",
      "Epoch 48/100\n",
      "38/38 [==============================] - 4s 99ms/step - loss: 0.0024\n",
      "Epoch 49/100\n",
      "38/38 [==============================] - 4s 99ms/step - loss: 0.0023\n",
      "Epoch 50/100\n",
      "38/38 [==============================] - 4s 99ms/step - loss: 0.0023\n",
      "Epoch 51/100\n",
      "38/38 [==============================] - 4s 99ms/step - loss: 0.0021\n",
      "Epoch 52/100\n",
      "38/38 [==============================] - 4s 97ms/step - loss: 0.0022\n",
      "Epoch 53/100\n",
      "38/38 [==============================] - 4s 97ms/step - loss: 0.0027\n",
      "Epoch 54/100\n",
      "38/38 [==============================] - 4s 99ms/step - loss: 0.0026\n",
      "Epoch 55/100\n",
      "38/38 [==============================] - 4s 101ms/step - loss: 0.0026\n",
      "Epoch 56/100\n",
      "38/38 [==============================] - 4s 103ms/step - loss: 0.0024\n",
      "Epoch 57/100\n",
      "38/38 [==============================] - 4s 101ms/step - loss: 0.0025\n",
      "Epoch 58/100\n",
      "38/38 [==============================] - 4s 102ms/step - loss: 0.0021\n",
      "Epoch 59/100\n",
      "38/38 [==============================] - 4s 100ms/step - loss: 0.0025\n",
      "Epoch 60/100\n",
      "38/38 [==============================] - 4s 96ms/step - loss: 0.0023\n",
      "Epoch 61/100\n",
      "38/38 [==============================] - 4s 96ms/step - loss: 0.0022\n",
      "Epoch 62/100\n",
      "38/38 [==============================] - 4s 96ms/step - loss: 0.0022\n",
      "Epoch 63/100\n",
      "38/38 [==============================] - 4s 97ms/step - loss: 0.0022\n",
      "Epoch 64/100\n",
      "38/38 [==============================] - 4s 96ms/step - loss: 0.0021\n",
      "Epoch 65/100\n",
      "38/38 [==============================] - 4s 97ms/step - loss: 0.0020\n",
      "Epoch 66/100\n",
      "38/38 [==============================] - 4s 96ms/step - loss: 0.0019\n",
      "Epoch 67/100\n",
      "38/38 [==============================] - 4s 97ms/step - loss: 0.0020\n",
      "Epoch 68/100\n",
      "38/38 [==============================] - 4s 97ms/step - loss: 0.0021\n",
      "Epoch 69/100\n",
      "38/38 [==============================] - 4s 98ms/step - loss: 0.0020\n",
      "Epoch 70/100\n",
      "38/38 [==============================] - 4s 98ms/step - loss: 0.0019\n",
      "Epoch 71/100\n",
      "38/38 [==============================] - 4s 96ms/step - loss: 0.0019\n",
      "Epoch 72/100\n",
      "38/38 [==============================] - 4s 99ms/step - loss: 0.0018\n",
      "Epoch 73/100\n",
      "38/38 [==============================] - 4s 96ms/step - loss: 0.0017\n",
      "Epoch 74/100\n",
      "38/38 [==============================] - 4s 97ms/step - loss: 0.0017\n",
      "Epoch 75/100\n",
      "38/38 [==============================] - 4s 95ms/step - loss: 0.0019\n",
      "Epoch 76/100\n",
      "38/38 [==============================] - 4s 97ms/step - loss: 0.0018\n",
      "Epoch 77/100\n",
      "38/38 [==============================] - 4s 96ms/step - loss: 0.0020\n",
      "Epoch 78/100\n",
      "38/38 [==============================] - 4s 96ms/step - loss: 0.0019\n",
      "Epoch 79/100\n",
      "38/38 [==============================] - 4s 97ms/step - loss: 0.0017\n",
      "Epoch 80/100\n",
      "38/38 [==============================] - 4s 96ms/step - loss: 0.0018\n",
      "Epoch 81/100\n",
      "38/38 [==============================] - 4s 99ms/step - loss: 0.0021\n",
      "Epoch 82/100\n",
      "38/38 [==============================] - 4s 95ms/step - loss: 0.0019\n",
      "Epoch 83/100\n",
      "38/38 [==============================] - 4s 97ms/step - loss: 0.0017\n",
      "Epoch 84/100\n",
      "38/38 [==============================] - 4s 96ms/step - loss: 0.0018\n",
      "Epoch 85/100\n",
      "38/38 [==============================] - 4s 97ms/step - loss: 0.0019\n",
      "Epoch 86/100\n",
      "38/38 [==============================] - 4s 96ms/step - loss: 0.0014\n",
      "Epoch 87/100\n",
      "38/38 [==============================] - 4s 97ms/step - loss: 0.0016\n",
      "Epoch 88/100\n",
      "38/38 [==============================] - 4s 99ms/step - loss: 0.0017\n",
      "Epoch 89/100\n",
      "38/38 [==============================] - 4s 95ms/step - loss: 0.0015\n",
      "Epoch 90/100\n",
      "38/38 [==============================] - 4s 95ms/step - loss: 0.0016\n",
      "Epoch 91/100\n",
      "38/38 [==============================] - 4s 95ms/step - loss: 0.0016\n",
      "Epoch 92/100\n",
      "38/38 [==============================] - 4s 96ms/step - loss: 0.0014\n",
      "Epoch 93/100\n",
      "38/38 [==============================] - 4s 97ms/step - loss: 0.0016\n",
      "Epoch 94/100\n",
      "38/38 [==============================] - 4s 96ms/step - loss: 0.0019\n",
      "Epoch 95/100\n",
      "38/38 [==============================] - 4s 96ms/step - loss: 0.0016\n",
      "Epoch 96/100\n",
      "38/38 [==============================] - 4s 95ms/step - loss: 0.0014\n",
      "Epoch 97/100\n",
      "38/38 [==============================] - 4s 94ms/step - loss: 0.0016\n",
      "Epoch 98/100\n",
      "38/38 [==============================] - 4s 97ms/step - loss: 0.0014\n",
      "Epoch 99/100\n",
      "38/38 [==============================] - 4s 94ms/step - loss: 0.0014\n",
      "Epoch 100/100\n",
      "38/38 [==============================] - 4s 93ms/step - loss: 0.0016\n"
     ]
    },
    {
     "data": {
      "text/plain": [
       "<tensorflow.python.keras.callbacks.History at 0x7fb0972c5128>"
      ]
     },
     "execution_count": 11,
     "metadata": {},
     "output_type": "execute_result"
    }
   ],
   "source": [
    "model.fit(X_train, y_train, epochs = 100, batch_size = 32)"
   ]
  },
  {
   "cell_type": "markdown",
   "metadata": {},
   "source": [
    "#### Predict stack price"
   ]
  },
  {
   "cell_type": "code",
   "execution_count": 12,
   "metadata": {},
   "outputs": [],
   "source": [
    "# Get the real stock price of 2017\n",
    "\n",
    "real_stock_price = df_test.iloc[:, 1:2].values"
   ]
  },
  {
   "cell_type": "code",
   "execution_count": 13,
   "metadata": {},
   "outputs": [],
   "source": [
    "# Getting the predicted stock price of 2017\n",
    "df_total = pd.concat((df_train['Open'], df_test['Open']), axis = 0)\n",
    "inputs = df_total[len(df_total) - len(df_test) - 60:].values\n",
    "inputs = inputs.reshape(-1,1)\n",
    "inputs = sc.transform(inputs)\n",
    "X_test = []\n",
    "for i in range(60, 80):\n",
    "    X_test.append(inputs[i-60:i, 0])\n",
    "X_test = np.array(X_test)\n",
    "X_test = np.reshape(X_test, (X_test.shape[0], X_test.shape[1], 1))\n",
    "\n",
    "\n",
    "predicted_stock_price = model.predict(X_test)\n",
    "predicted_stock_price = sc.inverse_transform(predicted_stock_price)"
   ]
  },
  {
   "cell_type": "markdown",
   "metadata": {},
   "source": [
    "#### Visual the results"
   ]
  },
  {
   "cell_type": "code",
   "execution_count": 14,
   "metadata": {},
   "outputs": [
    {
     "data": {
      "image/png": "[encoded data removed]",
      "text/plain": [
       "<Figure size 432x288 with 1 Axes>"
      ]
     },
     "metadata": {
      "needs_background": "light"
     },
     "output_type": "display_data"
    }
   ],
   "source": [
    "\n",
    "plt.plot(real_stock_price, color = 'red', label = 'Real Google Stock Price')\n",
    "plt.plot(predicted_stock_price, color = 'blue', label = 'Predicted Google Stock Price')\n",
    "plt.title('Google Stock Price Prediction')\n",
    "plt.xlabel('Time')\n",
    "plt.ylabel('Google Stock Price')\n",
    "plt.legend();\n"
   ]
  },
  {
   "cell_type": "code",
   "execution_count": null,
   "metadata": {},
   "outputs": [],
   "source": []
  }
 ],
 "metadata": {
  "kernelspec": {
   "display_name": "Python 3",
   "language": "python",
   "name": "python3"
  },
  "language_info": {
   "codemirror_mode": {
    "name": "ipython",
    "version": 3
   },
   "file_extension": ".py",
   "mimetype": "text/x-python",
   "name": "python",
   "nbconvert_exporter": "python",
   "pygments_lexer": "ipython3",
   "version": "3.8.6"
  },
  "varInspector": {
   "cols": {
    "lenName": 16,
    "lenType": 16,
    "lenVar": 40
   },
   "kernels_config": {
    "python": {
     "delete_cmd_postfix": "",
     "delete_cmd_prefix": "del ",
     "library": "var_list.py",
     "varRefreshCmd": "print(var_dic_list())"
    },
    "r": {
     "delete_cmd_postfix": ") ",
     "delete_cmd_prefix": "rm(",
     "library": "var_list.r",
     "varRefreshCmd": "cat(var_dic_list()) "
    }
   },
   "types_to_exclude": [
    "module",
    "function",
    "builtin_function_or_method",
    "instance",
    "_Feature"
   ],
   "window_display": false
  }
 },
 "nbformat": 4,
 "nbformat_minor": 2
}
