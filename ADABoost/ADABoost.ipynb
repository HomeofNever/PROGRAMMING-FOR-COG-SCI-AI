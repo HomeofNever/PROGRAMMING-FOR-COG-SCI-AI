{
 "cells": [
  {
   "cell_type": "code",
   "execution_count": 2,
   "metadata": {},
   "outputs": [],
   "source": [
    "import warnings\n",
    "warnings.simplefilter(action='ignore', category=FutureWarning)\n",
    "warnings.simplefilter(action='ignore', category=UserWarning)\n",
    "\n",
    "import numpy as np\n",
    "import pandas as pd\n",
    "from scipy import stats\n",
    "import seaborn as sns\n",
    "import matplotlib.pyplot as plt\n",
    "%matplotlib inline"
   ]
  },
  {
   "cell_type": "code",
   "execution_count": 3,
   "metadata": {},
   "outputs": [],
   "source": [
    "from sklearn.model_selection import train_test_split\n",
    "from sklearn.metrics import confusion_matrix\n",
    "from sklearn.model_selection import cross_val_score\n",
    "from sklearn.tree import DecisionTreeRegressor\n",
    "from sklearn.linear_model import LinearRegression"
   ]
  },
  {
   "cell_type": "markdown",
   "metadata": {},
   "source": [
    "#### Imports for AdaBoost"
   ]
  },
  {
   "cell_type": "code",
   "execution_count": 4,
   "metadata": {},
   "outputs": [],
   "source": [
    "from sklearn.ensemble import AdaBoostClassifier\n",
    "from sklearn.ensemble import AdaBoostRegressor"
   ]
  },
  {
   "cell_type": "markdown",
   "metadata": {},
   "source": [
    "## Boosting\n",
    "\n",
    " \n",
    "* A general approach that can be applied to many statistical learning methods for regression or classification. \n",
    "* Not a learning method, it boosts performance of other learning methods such as decision trees, linear regression, etc.\n",
    "* An ensemble method, it sequentially combines base learners to improve performance\n",
    "* Not prone to overfitting\n",
    "    - Empirical result\n",
    "    - Can overfit but not as much as other methods\n",
    "* Boosting is a method of combining a sequence of **Weak Learners** $h_i$ into a strong learner H\n",
    "    - Each weak learner gets a vote in determining the final result\n",
    "    \n",
    "<div style=\"font-size: 110%;\">\n",
    "$$H(x) = sign(\\alpha_1h_1(x) + \\alpha_2h_2(x) + ... + \\alpha_nh_n(x))$$\n",
    "</div>\n",
    "\n",
    "* H(x) is the final ensemble learner\n",
    "* $h_i(x)$ is a weak learner\n",
    "* $\\alpha_i$ is the voting power of weak learner $h_i$\n",
    "\n",
    "![](MisClassArea1.png)\n",
    "$$\\text{Figure 1. Weak Learners. Shaded area is the area where the learner misclassifies the samples}$$\n",
    "\n",
    "#### Weak Learner\n",
    " \n",
    "* A learning algorithm that performs slightly better than chance\n",
    "    - e.g. a tree with one split, called a stump\n",
    "* Each weak learner misclassifies samples in part of the space (see Figure 1)\n",
    "\n",
    "#### Error rate\n",
    "\n",
    "![](ErrorRate.png)\n",
    "$$\\text{Figure 2. Error Rates for Learners}$$\n",
    "\n",
    "#### Emphasize data points that have been misclassified.\n",
    "\n",
    "* In each iteration focus on data points that were misclassified in the previous round\n",
    "    - Weighting\n",
    "    - Sampling"
   ]
  },
  {
   "cell_type": "markdown",
   "metadata": {},
   "source": [
    "#### Different Types of Boosting Algorithm\n",
    "\n",
    "* Adaptive Boosting (AdaBoost, Freund and Schapire (1997))\n",
    "    - sklearn\n",
    "* Gradient Boosting\n",
    "    - sklearn\n",
    "    - XGBoost (2014)\n",
    "    - Catboost (2017)"
   ]
  },
  {
   "cell_type": "markdown",
   "metadata": {},
   "source": [
    "### ADABoost (Adaptive Boosting)\n",
    "\n",
    "* Freund and Schapire (1996)\n",
    "    - Godel Prize (2003)\n",
    "    \n",
    "* Any machine learner that accepts weights on training data can be used as the base learner  \n",
    "* Most often applied to Trees  \n",
    "* The samples that the previous tree performed the worst on are given extra weight\n",
    "    - Easy to implement since weights just need to be scaled from one iteration to the next\n",
    "    - For regression: the samples that had the highest mean squared error\n",
    "    - For classification: the samples that were misclassified \n",
    "* Often can just use tree stumps (i.e. trees with only one split)\n",
    "    "
   ]
  },
  {
   "cell_type": "markdown",
   "metadata": {},
   "source": [
    "#### Illustration\n",
    "\n",
    "![](TreeStumps.png)\n",
    "$$\\text{Figure 3. Ensemble of 3 Tree Stumps}$$"
   ]
  },
  {
   "cell_type": "markdown",
   "metadata": {},
   "source": [
    "### Example Problem\n",
    "\n",
    "![](Example.png)\n",
    "$$\\text{Figure 4. Example Problem}$$\n",
    "\n",
    "#### Data Points:\n",
    "\n",
    "A,B,C,D,E will be assigned weights $w_i$\n",
    "\n",
    "#### Weak Learners : Tree stumps\n",
    "\n",
    "Classify samples to the left as positive and to the right as negative: x < 2, x < 4, x < 6  \n",
    "\n",
    "Classify samples to the right as positive and to the left as negative: x > 2, x > 4, x > 6  \n",
    "\n",
    "#### Trying to construct ensemble\n",
    "\n",
    "<div style=\"font-size: 110%;\">\n",
    "$$H(x) = sign(\\alpha_1h_1(x) + \\alpha_2h_2(x) + ... + \\alpha_nh_n(x))$$\n",
    "</div>"
   ]
  },
  {
   "cell_type": "markdown",
   "metadata": {},
   "source": [
    "### Algorithm\n",
    "\n",
    "* Iterative algorithm to find the best weak learner based on lowest error rate at each iteration and add it to the ensemble multiplied by its voting power.\n",
    "* Error Rate is sum of the weights assigned to misclassified samples\n",
    "* These weights are a distribution, i.e. they must add to 1.\n",
    "* For correctly classified samples the weights will decrease and for incorrectly classified samples the weight will increase\n",
    "\n",
    "![](ADABoostAlgo1.png)\n",
    "$$\\text{Figure 4. ADABoost Algorithm Flow Chart}$$"
   ]
  },
  {
   "cell_type": "markdown",
   "metadata": {},
   "source": [
    "### Code for Algorithm"
   ]
  },
  {
   "cell_type": "code",
   "execution_count": 3,
   "metadata": {},
   "outputs": [],
   "source": [
    "def id_idx(id):\n",
    "    return ('A','B','C','D','E').index(id)\n",
    "\n",
    "class WeakLearner():\n",
    "    def __init__(self,i,fn):\n",
    "        self.f = fn\n",
    "        self.name = f'f{i+1}'\n",
    "        self.miss_class_label_ = []\n",
    "        self.miss_class = []\n",
    "        self.alpha_ = 0\n",
    "        self.error_rate_ = 0\n",
    "        \n",
    "    def calc_miss_classifications(self,data):\n",
    "        for d in data:\n",
    "            if self.f(d) == -1: \n",
    "                self.miss_class_label_.append(d.id)\n",
    "                self.miss_class.append(id_idx(d.id))\n",
    "                \n",
    "    def calc_error_rate(self,w):\n",
    "        self.error_rate_ = np.sum(w[self.miss_class])\n",
    "    \n",
    "    def calc_voting_power(self):\n",
    "        self.alpha_ = 1/2*np.log((1 - self.error_rate_) / self.error_rate_)\n",
    "        \n",
    "Weak_Learners = [WeakLearner(i,f) for i,f in enumerate(\n",
    "                    [lambda d: 1 if (d.x < 2) == d.clss else -1,\n",
    "                     lambda d: 1 if (d.x < 4) == d.clss else -1,\n",
    "                     lambda d: 1 if (d.x < 6) == d.clss else -1,\n",
    "                     lambda d: 1 if (d.x > 2) == d.clss else -1,\n",
    "                     lambda d: 1 if (d.x > 4) == d.clss else -1,\n",
    "                     lambda d: 1 if (d.x > 6) == d.clss else -1])]\n"
   ]
  },
  {
   "cell_type": "code",
   "execution_count": 4,
   "metadata": {},
   "outputs": [],
   "source": [
    "class DataPoint():\n",
    "    def __init__(self,vals):\n",
    "        self.id = vals[0]\n",
    "        self.x = vals[1]\n",
    "        self.clss = 1 if vals[2] == '+' else 0\n",
    "        self.weight_ = None\n",
    "        \n",
    "    def update_weight(self,best):\n",
    "        if self.id not in best.miss_class_label_:\n",
    "            self.weight_ = 1/2*(1/(1 - best.error_rate_))*self.weight_\n",
    "        else:\n",
    "            self.weight_ = 1/2*(1/best.error_rate_)*self.weight_\n",
    "\n",
    "Data = [DataPoint(v) for v in [('A',1,'+'),\n",
    "                               ('B',5,'+'),\n",
    "                               ('C',3,'-'),\n",
    "                               ('D',1,'+'),\n",
    "                               ('E',5,'+')]]   \n",
    "\n"
   ]
  },
  {
   "cell_type": "code",
   "execution_count": 5,
   "metadata": {},
   "outputs": [],
   "source": [
    "# Voting: returns +1 or -1\n",
    "def eval_H(d,H):\n",
    "    return np.sign(np.sum([h.alpha_*h.f(d) for h in H]))\n",
    "\n",
    "H = []  # List of the best Weak Learner at each iteration\n",
    " \n",
    "def H_accuracy(H,data):\n",
    "    tot = len(data)\n",
    "    c = 0\n",
    "    for d in data:\n",
    "        c += eval_H(d,H)\n",
    "    return c/tot\n"
   ]
  },
  {
   "cell_type": "markdown",
   "metadata": {},
   "source": [
    "#### Calculate Miss Classification for each learner"
   ]
  },
  {
   "cell_type": "code",
   "execution_count": 6,
   "metadata": {},
   "outputs": [
    {
     "name": "stdout",
     "output_type": "stream",
     "text": [
      "Learner f1: ['B', 'E']\n",
      "Learner f2: ['B', 'C', 'E']\n",
      "Learner f3: ['C']\n",
      "Learner f4: ['A', 'C', 'D']\n",
      "Learner f5: ['A', 'D']\n",
      "Learner f6: ['A', 'B', 'D', 'E']\n"
     ]
    }
   ],
   "source": [
    "# Test of calculating miss classifications\n",
    "for wl in Weak_Learners:\n",
    "    wl.calc_miss_classifications(Data)\n",
    "    print(f'Learner {wl.name}: {wl.miss_class_label_}')\n"
   ]
  },
  {
   "cell_type": "markdown",
   "metadata": {},
   "source": [
    "#### Initialize Weights"
   ]
  },
  {
   "cell_type": "code",
   "execution_count": 7,
   "metadata": {},
   "outputs": [],
   "source": [
    "N = len(Data)\n",
    "for d in Data:\n",
    "    d.weight_ = 1/N\n",
    " "
   ]
  },
  {
   "cell_type": "code",
   "execution_count": 8,
   "metadata": {},
   "outputs": [],
   "source": [
    "# Loop Control and max number of iterations\n",
    "max_round = 4\n",
    "round = 1\n",
    "done = False\n",
    "\n",
    "# Iterate until a stopping criteria is met\n",
    "#while not done:\n",
    "def one_round(round):\n",
    "\n",
    "    weights = np.array([d.weight_ for d in Data])\n",
    "    \n",
    "    print(f'Round {round} \\n Weights {np.round(weights,3)}')\n",
    "    \n",
    "    # Calculate Error Rate\n",
    "    for wl in Weak_Learners:\n",
    "        wl.calc_error_rate(weights)\n",
    "        \n",
    "    print(f'Error Rates: {[np.round(wl.error_rate_,3) for wl in Weak_Learners]}')\n",
    "       \n",
    "    # Determine Best weak learner (one with smallest error rate), if ties 1st one will be the best\n",
    "    best = Weak_Learners[0]\n",
    "    for wl in Weak_Learners[1:]:\n",
    "        if wl.error_rate_ < best.error_rate_:\n",
    "            best = wl\n",
    "            \n",
    "    # Calculate alpha for best learner        \n",
    "    best.calc_voting_power()\n",
    "    \n",
    "    # Add best to ensemble H\n",
    "    H.append(best)\n",
    "    \n",
    "    print(f'Best: {best.name}, Error Rate: {np.round(best.error_rate_,3)}, Alpha: {np.round(best.alpha_,3)}')   \n",
    "    \n",
    "    # Update all the weights\n",
    "    for d in Data:\n",
    "        d.update_weight(best)\n",
    "        \n",
    "    # Calculate Accuracy of current ensemble\n",
    "    accuracy = H_accuracy(H,Data)\n",
    "    print(f'Accuracy of Ensemble: {accuracy}')\n",
    "  \n",
    "    # Check atopping conditions\n",
    "    round += 1\n",
    "    if round == max_round or best.error_rate_ == 0.5 or accuracy == 1:\n",
    "        done = True\n",
    "  "
   ]
  },
  {
   "cell_type": "code",
   "execution_count": 9,
   "metadata": {},
   "outputs": [
    {
     "data": {
      "text/plain": [
       "0.6931471805599453"
      ]
     },
     "execution_count": 9,
     "metadata": {},
     "output_type": "execute_result"
    }
   ],
   "source": [
    "# Test of one_round, expected result\n",
    "Best = 'f3'\n",
    "Error_rate = 0.2\n",
    "alpha = .5*np.log(4)\n",
    "alpha"
   ]
  },
  {
   "cell_type": "code",
   "execution_count": 10,
   "metadata": {},
   "outputs": [
    {
     "name": "stdout",
     "output_type": "stream",
     "text": [
      "Round 1 \n",
      " Weights [0.2 0.2 0.2 0.2 0.2]\n",
      "Error Rates: [0.4, 0.6, 0.2, 0.6, 0.4, 0.8]\n",
      "Best: f3, Error Rate: 0.2, Alpha: 0.693\n",
      "Accuracy of Ensemble: 0.6\n"
     ]
    }
   ],
   "source": [
    "one_round(1)"
   ]
  },
  {
   "cell_type": "code",
   "execution_count": 11,
   "metadata": {},
   "outputs": [
    {
     "name": "stdout",
     "output_type": "stream",
     "text": [
      "Round 2 \n",
      " Weights [0.125 0.125 0.5   0.125 0.125]\n",
      "Error Rates: [0.25, 0.75, 0.5, 0.75, 0.25, 0.5]\n",
      "Best: f1, Error Rate: 0.25, Alpha: 0.549\n",
      "Accuracy of Ensemble: 0.6\n"
     ]
    }
   ],
   "source": [
    "one_round(2)"
   ]
  },
  {
   "cell_type": "code",
   "execution_count": 12,
   "metadata": {},
   "outputs": [
    {
     "name": "stdout",
     "output_type": "stream",
     "text": [
      "Round 3 \n",
      " Weights [0.083 0.25  0.333 0.083 0.25 ]\n",
      "Error Rates: [0.5, 0.833, 0.333, 0.5, 0.167, 0.667]\n",
      "Best: f5, Error Rate: 0.167, Alpha: 0.805\n",
      "Accuracy of Ensemble: 1.0\n"
     ]
    }
   ],
   "source": [
    "one_round(3)"
   ]
  },
  {
   "cell_type": "code",
   "execution_count": 13,
   "metadata": {},
   "outputs": [
    {
     "data": {
      "text/plain": [
       "[<__main__.WeakLearner at 0x7fc07cc032b0>,\n",
       " <__main__.WeakLearner at 0x7fc07cc03198>,\n",
       " <__main__.WeakLearner at 0x7fc07cc03390>]"
      ]
     },
     "execution_count": 13,
     "metadata": {},
     "output_type": "execute_result"
    }
   ],
   "source": [
    "H"
   ]
  },
  {
   "cell_type": "code",
   "execution_count": 14,
   "metadata": {},
   "outputs": [
    {
     "data": {
      "text/plain": [
       "(0.6931471805599453, 0.5493061443340549, 0.8047189562170503)"
      ]
     },
     "execution_count": 14,
     "metadata": {},
     "output_type": "execute_result"
    }
   ],
   "source": [
    "H[0].alpha_,H[1].alpha_,H[2].alpha_"
   ]
  },
  {
   "cell_type": "markdown",
   "metadata": {},
   "source": [
    "### Overview of Mathematical Derivation\n",
    "\n",
    "#### Ensemble that classifies the data\n",
    "\n",
    "<div style=\"font-size: 115%;\">\n",
    "$$H(x) = sign(\\alpha_1h_1(x) + \\alpha_2h_2(x) + ... + \\alpha_nh_n(x))$$\n",
    "</div>\n",
    "\n",
    "#### Weight Update\n",
    "\n",
    "Suppose the weight at time t+1 is:\n",
    "\n",
    "<div style=\"font-size: 115%;\">\n",
    "$$w^{t+1_i} = \\frac{w^t_i}{Z}exp(-\\alpha^th^t(x)y(x))$$\n",
    "</div>\n",
    "  \n",
    "y(x) = 1 if weight is for a positive sample, and -1 for a negative sample  \n",
    "Weights must add to 1, Z is a normalizing constant  \n",
    "\n",
    "#### To minimize the error of H(x)\n",
    "\n",
    "Freund and Schapire derived:  \n",
    "\n",
    "A minimum error bound for H(x)\n",
    "\n",
    "<div style=\"font-size: 115%;\">\n",
    "$$\\alpha^t = \\frac{1}{2}log\\frac{1-\\epsilon^t}{\\epsilon^t}$$\n",
    "</div>\n",
    "\n",
    "* $\\epsilon$ is the error rate\n",
    "* The error can go up as terms are added to H but is bounded by the\n",
    "decaying exponential\n",
    "\n",
    "#### Substitute $\\alpha$ into weight update:\n",
    "If Correct:  \n",
    "<div style=\"font-size: 115%;\">\n",
    "$$w^{t+1_i} = \\frac{w^t_i}{Z}* \\sqrt{\\frac{\\epsilon^t}{1 - \\epsilon^t}} $$\n",
    "</div> \n",
    "If Incorrect:  \n",
    "\n",
    "<div style=\"font-size: 115%;\">\n",
    "$$w^{t+1_i} = \\frac{w^t_i}{Z}* \\sqrt{\\frac{1 - \\epsilon^t}{\\epsilon^t}}$$\n",
    "</div>\n",
    "  \n",
    "Z is the normalizing constant."
   ]
  },
  {
   "cell_type": "markdown",
   "metadata": {},
   "source": [
    "#### Weights must add to 1, so add the correct and incorrect weights without the Z to calculate Z . \n",
    "\n",
    "<div style=\"font-size: 115%;\">\n",
    "$$Z =  \\sqrt{\\frac{\\epsilon^t}{1 - \\epsilon^t}}*\\sum_{Correct}w^t + \\sqrt{\\frac{1 - \\epsilon^t}{\\epsilon^t}}*\\sum_{Incorrect}w^t$$\n",
    "</div>"
   ]
  },
  {
   "cell_type": "markdown",
   "metadata": {},
   "source": [
    "#### Since $\\sum_{Incorrect}w^t = \\epsilon^t$ and $\\sum_{Correct}w^t = 1 - \\epsilon^t$"
   ]
  },
  {
   "cell_type": "markdown",
   "metadata": {},
   "source": [
    "<div style=\"font-size: 115%;\">\n",
    "$$Z =  \\sqrt{\\epsilon^t(1 - \\epsilon^t)} + \\sqrt{\\epsilon^t(1 - \\epsilon^t)} = 2\\sqrt{\\epsilon^t(1 - \\epsilon^t)}$$"
   ]
  },
  {
   "cell_type": "markdown",
   "metadata": {},
   "source": [
    "#### Weight Update Equations\n",
    "\n",
    "<div style=\"font-size: 115%;\">\n",
    "$$ w^{t+1_i} = \\frac{w^t_i}{2}\\frac{1}{1 - \\epsilon} \\text{ }\\text{ if Correct}$$\n",
    "$$ w^{t+1_i} = \\frac{w^t_i}{2}\\frac{1}{\\epsilon} \\text{ }\\text{ if Incorrect}$$\n",
    "</div>"
   ]
  },
  {
   "cell_type": "markdown",
   "metadata": {},
   "source": [
    "#### Add up Correct\n",
    "\n",
    "<div style=\"font-size: 115%;\">\n",
    "$$\\frac{1}{2}\\frac{1}{1 - \\epsilon^t}\\sum_{Correct}w^t = \\frac{1}{2}\\frac{1 - \\epsilon^t}{1 - \\epsilon^t} = \\frac{1}{2}$$\n",
    "</div>"
   ]
  },
  {
   "cell_type": "markdown",
   "metadata": {},
   "source": [
    "#### Thus\n",
    "\n",
    "<div style=\"font-size: 115%;\">\n",
    "$$\\sum_{Correct}w^{t+1_i} = \\frac{1}{2} = \\sum_{Incorrect}w^{t+1_i}$$\n",
    "</div>"
   ]
  },
  {
   "cell_type": "markdown",
   "metadata": {},
   "source": [
    "### ADABoost in sklearn\n",
    "\n",
    "https://scikit-learn.org/stable/modules/generated/sklearn.ensemble.AdaBoostClassifier.html\n",
    "\n",
    "#### Parameters\n",
    "\n",
    "* base estimator: Default: DecisionTreeClassifier(max_depth = 1)\n",
    "* n_estimators: number of estimators\n",
    "* learning_rate"
   ]
  },
  {
   "cell_type": "code",
   "execution_count": 15,
   "metadata": {},
   "outputs": [
    {
     "data": {
      "text/html": [
       "<div>\n",
       "<style scoped>\n",
       "    .dataframe tbody tr th:only-of-type {\n",
       "        vertical-align: middle;\n",
       "    }\n",
       "\n",
       "    .dataframe tbody tr th {\n",
       "        vertical-align: top;\n",
       "    }\n",
       "\n",
       "    .dataframe thead th {\n",
       "        text-align: right;\n",
       "    }\n",
       "</style>\n",
       "<table border=\"1\" class=\"dataframe\">\n",
       "  <thead>\n",
       "    <tr style=\"text-align: right;\">\n",
       "      <th></th>\n",
       "      <th>sepal_length</th>\n",
       "      <th>sepal_width</th>\n",
       "      <th>petal_length</th>\n",
       "      <th>petal_width</th>\n",
       "      <th>species</th>\n",
       "    </tr>\n",
       "  </thead>\n",
       "  <tbody>\n",
       "    <tr>\n",
       "      <th>0</th>\n",
       "      <td>5.1</td>\n",
       "      <td>3.5</td>\n",
       "      <td>1.4</td>\n",
       "      <td>0.2</td>\n",
       "      <td>setosa</td>\n",
       "    </tr>\n",
       "    <tr>\n",
       "      <th>1</th>\n",
       "      <td>4.9</td>\n",
       "      <td>3.0</td>\n",
       "      <td>1.4</td>\n",
       "      <td>0.2</td>\n",
       "      <td>setosa</td>\n",
       "    </tr>\n",
       "    <tr>\n",
       "      <th>2</th>\n",
       "      <td>4.7</td>\n",
       "      <td>3.2</td>\n",
       "      <td>1.3</td>\n",
       "      <td>0.2</td>\n",
       "      <td>setosa</td>\n",
       "    </tr>\n",
       "    <tr>\n",
       "      <th>3</th>\n",
       "      <td>4.6</td>\n",
       "      <td>3.1</td>\n",
       "      <td>1.5</td>\n",
       "      <td>0.2</td>\n",
       "      <td>setosa</td>\n",
       "    </tr>\n",
       "    <tr>\n",
       "      <th>4</th>\n",
       "      <td>5.0</td>\n",
       "      <td>3.6</td>\n",
       "      <td>1.4</td>\n",
       "      <td>0.2</td>\n",
       "      <td>setosa</td>\n",
       "    </tr>\n",
       "  </tbody>\n",
       "</table>\n",
       "</div>"
      ],
      "text/plain": [
       "   sepal_length  sepal_width  petal_length  petal_width species\n",
       "0           5.1          3.5           1.4          0.2  setosa\n",
       "1           4.9          3.0           1.4          0.2  setosa\n",
       "2           4.7          3.2           1.3          0.2  setosa\n",
       "3           4.6          3.1           1.5          0.2  setosa\n",
       "4           5.0          3.6           1.4          0.2  setosa"
      ]
     },
     "execution_count": 15,
     "metadata": {},
     "output_type": "execute_result"
    }
   ],
   "source": [
    "iris = sns.load_dataset('iris')\n",
    "iris.head()"
   ]
  },
  {
   "cell_type": "code",
   "execution_count": 16,
   "metadata": {},
   "outputs": [],
   "source": [
    "X = iris.iloc[:,0:4].values\n",
    "y = iris.iloc[:,4].values\n",
    "\n",
    "X_train, X_test, y_train, y_test = train_test_split(X, y, test_size = 0.25, random_state = 0,stratify = y)"
   ]
  },
  {
   "cell_type": "code",
   "execution_count": 20,
   "metadata": {},
   "outputs": [
    {
     "data": {
      "text/plain": [
       "AdaBoostClassifier(n_estimators=100)"
      ]
     },
     "execution_count": 20,
     "metadata": {},
     "output_type": "execute_result"
    }
   ],
   "source": [
    "model = AdaBoostClassifier(n_estimators=100,learning_rate = 1.0)\n",
    "model.fit(X_train,y_train)"
   ]
  },
  {
   "cell_type": "code",
   "execution_count": 21,
   "metadata": {},
   "outputs": [
    {
     "name": "stdout",
     "output_type": "stream",
     "text": [
      "sepal_length 0.0\n",
      "sepal_width 0.01\n",
      "petal_length 0.5\n",
      "petal_width 0.49\n"
     ]
    }
   ],
   "source": [
    "for n,v in zip(iris.columns.tolist()[0:-1],model.feature_importances_):\n",
    "    print(n,v)\n"
   ]
  },
  {
   "cell_type": "code",
   "execution_count": 22,
   "metadata": {},
   "outputs": [
    {
     "name": "stdout",
     "output_type": "stream",
     "text": [
      "[[13  0  0]\n",
      " [ 0 13  0]\n",
      " [ 0  2 10]]\n",
      "Accuracy is:  0.9473684210526315\n"
     ]
    }
   ],
   "source": [
    "yhat = model.predict(X_test)\n",
    "cm = confusion_matrix(y_test, yhat)\n",
    "print(cm)\n",
    "accuracy = np.trace(cm)/np.sum(cm)\n",
    "print(\"Accuracy is: \", accuracy)"
   ]
  },
  {
   "cell_type": "code",
   "execution_count": 23,
   "metadata": {},
   "outputs": [
    {
     "data": {
      "text/plain": [
       "0.8648221343873518"
      ]
     },
     "execution_count": 23,
     "metadata": {},
     "output_type": "execute_result"
    }
   ],
   "source": [
    "model = AdaBoostClassifier(n_estimators=100,learning_rate = 1.0)\n",
    "scores = cross_val_score(model, X_train, y_train, cv=5)\n",
    "scores.mean() "
   ]
  },
  {
   "cell_type": "code",
   "execution_count": 24,
   "metadata": {},
   "outputs": [
    {
     "data": {
      "image/png": "[encoded data removed]",
      "text/plain": [
       "<Figure size 432x288 with 1 Axes>"
      ]
     },
     "metadata": {
      "needs_background": "light"
     },
     "output_type": "display_data"
    }
   ],
   "source": [
    "plt.plot(range(1,6),scores);"
   ]
  },
  {
   "cell_type": "markdown",
   "metadata": {},
   "source": [
    "### ADABoost Regression\n",
    "\n",
    "https://scikit-learn.org/stable/modules/generated/sklearn.ensemble.AdaBoostRegressor.html#sklearn.ensemble.AdaBoostRegressor\n",
    "#### Parameters\n",
    "\n",
    "* base estimator: Default: DecisionTreeRegressor(max_depth = 3)\n",
    "* n_estimators: number of estimators\n",
    "* learning_rate\n",
    "\n",
    "https://scikit-learn.org/stable/auto_examples/ensemble/plot_adaboost_regression.html#sphx-glr-auto-examples-ensemble-plot-adaboost-regression-py"
   ]
  },
  {
   "cell_type": "code",
   "execution_count": 5,
   "metadata": {},
   "outputs": [],
   "source": [
    "Boston = pd.read_csv(\"Boston.csv\")\n",
    "X = Boston.iloc[:, 0:13].values\n",
    "y = Boston.iloc[:, 13].values\n",
    "feats = Boston.columns.tolist()[0:13]\n",
    "\n",
    "# Validation Set\n",
    "X_train, X_test, y_train, y_test = train_test_split(X, y, test_size = 0.25, random_state = 42)"
   ]
  },
  {
   "cell_type": "markdown",
   "metadata": {},
   "source": [
    "#### Compare Decision Tree with ADABoost"
   ]
  },
  {
   "cell_type": "code",
   "execution_count": 6,
   "metadata": {},
   "outputs": [
    {
     "name": "stdout",
     "output_type": "stream",
     "text": [
      "MSE: 0.075 R2: 0.677\n"
     ]
    }
   ],
   "source": [
    "dt = DecisionTreeRegressor(random_state = 12)\n",
    "dt.fit(X_train,y_train)\n",
    "yhat = dt.predict(X_test)\n",
    "mse = np.mean(y_test - yhat)**2\n",
    "print(f'MSE: {np.round(mse,3)} R2: {np.round(dt.score(X_test,y_test),3)}')"
   ]
  },
  {
   "cell_type": "code",
   "execution_count": 7,
   "metadata": {},
   "outputs": [
    {
     "data": {
      "text/plain": [
       "AdaBoostRegressor(base_estimator=DecisionTreeRegressor(random_state=12),\n",
       "                  n_estimators=500, random_state=42)"
      ]
     },
     "execution_count": 7,
     "metadata": {},
     "output_type": "execute_result"
    }
   ],
   "source": [
    "ada_regress = AdaBoostRegressor(dt,n_estimators = 500,\n",
    "                                learning_rate = 1.0,\n",
    "                                random_state = 42)\n",
    "ada_regress.fit(X_train,y_train)"
   ]
  },
  {
   "cell_type": "code",
   "execution_count": 8,
   "metadata": {},
   "outputs": [
    {
     "name": "stdout",
     "output_type": "stream",
     "text": [
      "MSE: 0.249 R2: 0.832\n"
     ]
    }
   ],
   "source": [
    "yhat = ada_regress.predict(X_test)\n",
    "mse = np.mean(y_test - yhat)**2\n",
    "print(f'MSE: {np.round(mse,3)} R2: {np.round(ada_regress.score(X_test,y_test),3)}')"
   ]
  },
  {
   "cell_type": "markdown",
   "metadata": {},
   "source": [
    "#### Use Linear Regression as an estimator rather than Decision Tree Regressor"
   ]
  },
  {
   "cell_type": "code",
   "execution_count": 10,
   "metadata": {},
   "outputs": [
    {
     "name": "stdout",
     "output_type": "stream",
     "text": [
      "MSE: 0.35 R2: 0.785\n"
     ]
    }
   ],
   "source": [
    "ada_regress = AdaBoostRegressor(n_estimators = 700,\n",
    "                                learning_rate = 1.0,\n",
    "                                random_state = 4)\n",
    "ada_regress.fit(X_train,y_train)\n",
    "yhat = ada_regress.predict(X_test)\n",
    "mse = np.mean(y_test - yhat)**2\n",
    "print(f'MSE: {np.round(mse,3)} R2: {np.round(ada_regress.score(X_test,y_test),3)}')"
   ]
  },
  {
   "cell_type": "code",
   "execution_count": 11,
   "metadata": {},
   "outputs": [
    {
     "name": "stdout",
     "output_type": "stream",
     "text": [
      "MSE: 0.095 R2: 0.684\n"
     ]
    }
   ],
   "source": [
    "lr = LinearRegression()\n",
    "lr.fit(X_train,y_train)\n",
    "yhat = lr.predict(X_test)\n",
    "mse = np.mean(y_test - yhat)**2\n",
    "print(f'MSE: {np.round(mse,3)} R2: {np.round(lr.score(X_test,y_test),3)}')"
   ]
  },
  {
   "cell_type": "markdown",
   "metadata": {},
   "source": [
    "### References\n",
    "\n",
    "Patrick Winston: Learning Boosting, https://www.youtube.com/watch?v=UHBmv7qCey4&t=1636s"
   ]
  }
 ],
 "metadata": {
  "kernelspec": {
   "display_name": "Python 3",
   "language": "python",
   "name": "python3"
  },
  "language_info": {
   "codemirror_mode": {
    "name": "ipython",
    "version": 3
   },
   "file_extension": ".py",
   "mimetype": "text/x-python",
   "name": "python",
   "nbconvert_exporter": "python",
   "pygments_lexer": "ipython3",
   "version": "3.8.6"
  },
  "varInspector": {
   "cols": {
    "lenName": 16,
    "lenType": 16,
    "lenVar": 40
   },
   "kernels_config": {
    "python": {
     "delete_cmd_postfix": "",
     "delete_cmd_prefix": "del ",
     "library": "var_list.py",
     "varRefreshCmd": "print(var_dic_list())"
    },
    "r": {
     "delete_cmd_postfix": ") ",
     "delete_cmd_prefix": "rm(",
     "library": "var_list.r",
     "varRefreshCmd": "cat(var_dic_list()) "
    }
   },
   "types_to_exclude": [
    "module",
    "function",
    "builtin_function_or_method",
    "instance",
    "_Feature"
   ],
   "window_display": false
  }
 },
 "nbformat": 4,
 "nbformat_minor": 2
}
