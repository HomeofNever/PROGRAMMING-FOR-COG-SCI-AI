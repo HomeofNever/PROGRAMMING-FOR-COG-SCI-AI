{
 "cells": [
  {
   "cell_type": "markdown",
   "metadata": {},
   "source": [
    "### Homework 1\n",
    "\n",
    "Due 10/1 Midnight\n",
    "\n",
    "100 pts\n",
    "\n",
    "Work must be submitted as a jupyter notebook with a code or markdown section corresponding to the numbers (1-15) below.\n",
    "\n",
    "This must be solely your work.\n",
    "\n",
    "The title of the notebook must be: rcsid_Homework1 (Note: your rcsid is 6 characters not your RIN)\n",
    "\n",
    "This homework is intended to give you experience with real-world datasets and applying the KNN classification and Linear Regression Algorithms. You must to a KNN classification model and a Linear Regression model. You choose the datasets (one for each model).\n",
    "\n",
    "#### Find and download the datasets. \n",
    "\n",
    "The datasets should have three or more variables with at least one categorical variable. \n",
    "The datasets should be on a topic that interests you although this is not strictly a requirement.  \n",
    "Your submission must contain:  \n",
    "1. A link to the datasets  (1)\n",
    "2. A statement about the goal of the models. What do you want to predict or explain? (2) \n",
    "3. A brief description of the variables. For each model: What is the dependent variables? What are the independent variables?(1)\n",
    "4. Code to read in the datasets and display the beginning and ending observations (1)\n",
    "\n",
    "Total 5 pts. (1 pt each)\n",
    "\n",
    "#### Data Preprocessing\n",
    "\n",
    "For each model your submission must contain:\n",
    "\n",
    "5. Code to check for missing values and process them as needed. (3)\n",
    "\n",
    "6. Code for some descriptive statistics, plots of variables of interest and correlations of variables. Including  brief statement of your interpretation of the statistics and the plots. For example, you may notice a non-linear relationship. (12)\n",
    "\n",
    "8. Code to encode the qualitative variables (3)\n",
    "\n",
    "9. Code to split the dataset into training and test sets (3)\n",
    "\n",
    "10. Code to scale the variables  or statement why no need to scale (3)\n",
    "\n",
    "Total 24 pts \n",
    "\n",
    "#### Applying the algorithms\n",
    "\n",
    "Your submission must contain:\n",
    "\n",
    "11. Code to create the models and fit to training data. ( 3 pts each))\n",
    "\n",
    "12. Code to predict to test set (3 pts each)\n",
    "\n",
    "Total 12 pts. \n",
    "\n",
    "#### Results\n",
    "\n",
    "Your submission must contain:\n",
    "\n",
    "For the KNN model:\n",
    "\n",
    "13. Code to display the confusion matrix for the test and the training data (5)\n",
    "\n",
    "14. Code to calculate the accuracy of the test data. and code to calculate the error rate for the training data.(4)\n",
    "\n",
    "For the Linear Regression. (3)\n",
    "\n",
    "13. Code to display the intercept and coefficients(3)\n",
    "\n",
    "14. Code to display the RMSE.(3)\n",
    "    \n",
    "15. Code displaying the R-squared value for your Linear Regression with brief statement interpreting the R-squared value.(3)\n",
    "\n",
    "\n",
    "Total 9 points (9)\n",
    "\n",
    "Total 100 pts (50 pts for each model)"
   ]
  },
  {
   "cell_type": "markdown",
   "metadata": {},
   "source": [
    "## Answer \n",
    "### Linear Regression"
   ]
  },
  {
   "cell_type": "markdown",
   "metadata": {},
   "source": [
    "1. Link to the datasets:\n",
    "https://www.kaggle.com/spscientist/students-performance-in-exams\n",
    "<br>(Direct download: http://homepages.rpi.edu/~zhangz22/programming_for_cog_sci_and_ai/StudentsPerformance.csv\n",
    "<br>This data set consists of the marks secured by the students in various subjects.\n",
    "\n",
    "2. A statement about the goal of the models. What do you want to predict or explain? (2)\n",
    "<br>\n",
    "This model can help understand the influence of parents' level of education and test preparation on students' performance.\n",
    "<br>\n",
    "3. A brief description of the variables. For each model: What is the dependent variables? What are the independent variables?\n",
    "<br>\n",
    "The data set contains 5 variables:  <br>\n",
    "Dependent variables: <br>\n",
    "-- parental level of education <br>\n",
    "-- test preparation course <br>\n",
    "Independent variables: <br>\n",
    "-- math score <br>\n",
    "-- reading score <br>\n",
    "-- writing score <br>"
   ]
  },
  {
   "cell_type": "code",
   "execution_count": 1,
   "metadata": {},
   "outputs": [],
   "source": [
    "import warnings\n",
    "warnings.simplefilter(action='ignore', category=FutureWarning)\n",
    "warnings.simplefilter(action='ignore', category=UserWarning)\n",
    "\n",
    "import numpy as np\n",
    "import pandas as pd\n",
    "from scipy import stats\n",
    "import seaborn as sns\n",
    "import matplotlib.pyplot as plt\n",
    "%matplotlib inline"
   ]
  },
  {
   "cell_type": "code",
   "execution_count": 2,
   "metadata": {},
   "outputs": [
    {
     "data": {
      "text/html": [
       "<div>\n",
       "<style scoped>\n",
       "    .dataframe tbody tr th:only-of-type {\n",
       "        vertical-align: middle;\n",
       "    }\n",
       "\n",
       "    .dataframe tbody tr th {\n",
       "        vertical-align: top;\n",
       "    }\n",
       "\n",
       "    .dataframe thead th {\n",
       "        text-align: right;\n",
       "    }\n",
       "</style>\n",
       "<table border=\"1\" class=\"dataframe\">\n",
       "  <thead>\n",
       "    <tr style=\"text-align: right;\">\n",
       "      <th></th>\n",
       "      <th>parent_level_of_education</th>\n",
       "      <th>test_preparation</th>\n",
       "      <th>math_score</th>\n",
       "      <th>reading_score</th>\n",
       "      <th>writing_score</th>\n",
       "    </tr>\n",
       "  </thead>\n",
       "  <tbody>\n",
       "    <tr>\n",
       "      <td>0</td>\n",
       "      <td>bachelor's degree</td>\n",
       "      <td>none</td>\n",
       "      <td>72</td>\n",
       "      <td>72</td>\n",
       "      <td>74</td>\n",
       "    </tr>\n",
       "    <tr>\n",
       "      <td>1</td>\n",
       "      <td>some college</td>\n",
       "      <td>completed</td>\n",
       "      <td>69</td>\n",
       "      <td>90</td>\n",
       "      <td>88</td>\n",
       "    </tr>\n",
       "    <tr>\n",
       "      <td>2</td>\n",
       "      <td>master's degree</td>\n",
       "      <td>none</td>\n",
       "      <td>90</td>\n",
       "      <td>95</td>\n",
       "      <td>93</td>\n",
       "    </tr>\n",
       "    <tr>\n",
       "      <td>3</td>\n",
       "      <td>associate's degree</td>\n",
       "      <td>none</td>\n",
       "      <td>47</td>\n",
       "      <td>57</td>\n",
       "      <td>44</td>\n",
       "    </tr>\n",
       "    <tr>\n",
       "      <td>4</td>\n",
       "      <td>some college</td>\n",
       "      <td>none</td>\n",
       "      <td>76</td>\n",
       "      <td>78</td>\n",
       "      <td>75</td>\n",
       "    </tr>\n",
       "  </tbody>\n",
       "</table>\n",
       "</div>"
      ],
      "text/plain": [
       "  parent_level_of_education test_preparation  math_score  reading_score  \\\n",
       "0         bachelor's degree             none          72             72   \n",
       "1              some college        completed          69             90   \n",
       "2           master's degree             none          90             95   \n",
       "3        associate's degree             none          47             57   \n",
       "4              some college             none          76             78   \n",
       "\n",
       "   writing_score  \n",
       "0             74  \n",
       "1             88  \n",
       "2             93  \n",
       "3             44  \n",
       "4             75  "
      ]
     },
     "execution_count": 2,
     "metadata": {},
     "output_type": "execute_result"
    }
   ],
   "source": [
    "''' 4. Code to read in the datasets and display the beginning and ending observations '''\n",
    "sp = pd.read_csv(\"StudentsPerformance.csv\")\n",
    "sp.drop(columns = [\"gender\", \"race/ethnicity\", \"lunch\"], inplace = True)\n",
    "sp.rename(columns ={'math score' : 'math_score'}, inplace =True)\n",
    "sp.rename(columns ={'reading score' : 'reading_score'}, inplace =True)\n",
    "sp.rename(columns ={'writing score' : 'writing_score'}, inplace =True)\n",
    "sp.rename(columns ={'test preparation course': 'test_preparation'}, inplace =True)\n",
    "sp.rename(columns ={'parental level of education': 'parent_level_of_education'}, inplace =True)\n",
    "sp.head()"
   ]
  },
  {
   "cell_type": "code",
   "execution_count": 3,
   "metadata": {},
   "outputs": [
    {
     "data": {
      "text/html": [
       "<div>\n",
       "<style scoped>\n",
       "    .dataframe tbody tr th:only-of-type {\n",
       "        vertical-align: middle;\n",
       "    }\n",
       "\n",
       "    .dataframe tbody tr th {\n",
       "        vertical-align: top;\n",
       "    }\n",
       "\n",
       "    .dataframe thead th {\n",
       "        text-align: right;\n",
       "    }\n",
       "</style>\n",
       "<table border=\"1\" class=\"dataframe\">\n",
       "  <thead>\n",
       "    <tr style=\"text-align: right;\">\n",
       "      <th></th>\n",
       "      <th>parent_level_of_education</th>\n",
       "      <th>test_preparation</th>\n",
       "      <th>math_score</th>\n",
       "      <th>reading_score</th>\n",
       "      <th>writing_score</th>\n",
       "    </tr>\n",
       "  </thead>\n",
       "  <tbody>\n",
       "    <tr>\n",
       "      <td>995</td>\n",
       "      <td>master's degree</td>\n",
       "      <td>completed</td>\n",
       "      <td>88</td>\n",
       "      <td>99</td>\n",
       "      <td>95</td>\n",
       "    </tr>\n",
       "    <tr>\n",
       "      <td>996</td>\n",
       "      <td>high school</td>\n",
       "      <td>none</td>\n",
       "      <td>62</td>\n",
       "      <td>55</td>\n",
       "      <td>55</td>\n",
       "    </tr>\n",
       "    <tr>\n",
       "      <td>997</td>\n",
       "      <td>high school</td>\n",
       "      <td>completed</td>\n",
       "      <td>59</td>\n",
       "      <td>71</td>\n",
       "      <td>65</td>\n",
       "    </tr>\n",
       "    <tr>\n",
       "      <td>998</td>\n",
       "      <td>some college</td>\n",
       "      <td>completed</td>\n",
       "      <td>68</td>\n",
       "      <td>78</td>\n",
       "      <td>77</td>\n",
       "    </tr>\n",
       "    <tr>\n",
       "      <td>999</td>\n",
       "      <td>some college</td>\n",
       "      <td>none</td>\n",
       "      <td>77</td>\n",
       "      <td>86</td>\n",
       "      <td>86</td>\n",
       "    </tr>\n",
       "  </tbody>\n",
       "</table>\n",
       "</div>"
      ],
      "text/plain": [
       "    parent_level_of_education test_preparation  math_score  reading_score  \\\n",
       "995           master's degree        completed          88             99   \n",
       "996               high school             none          62             55   \n",
       "997               high school        completed          59             71   \n",
       "998              some college        completed          68             78   \n",
       "999              some college             none          77             86   \n",
       "\n",
       "     writing_score  \n",
       "995             95  \n",
       "996             55  \n",
       "997             65  \n",
       "998             77  \n",
       "999             86  "
      ]
     },
     "execution_count": 3,
     "metadata": {},
     "output_type": "execute_result"
    }
   ],
   "source": [
    "sp.tail()"
   ]
  },
  {
   "cell_type": "markdown",
   "metadata": {},
   "source": [
    "**Data Preprocessing**"
   ]
  },
  {
   "cell_type": "code",
   "execution_count": 4,
   "metadata": {},
   "outputs": [
    {
     "data": {
      "text/plain": [
       "parent_level_of_education    0\n",
       "test_preparation             0\n",
       "math_score                   0\n",
       "reading_score                0\n",
       "writing_score                0\n",
       "dtype: int64"
      ]
     },
     "execution_count": 4,
     "metadata": {},
     "output_type": "execute_result"
    }
   ],
   "source": [
    "''' 5. Code to check for missing values '''\n",
    "sp.isnull().sum()"
   ]
  },
  {
   "cell_type": "code",
   "execution_count": 66,
   "metadata": {},
   "outputs": [
    {
     "data": {
      "text/plain": [
       "parent_level_of_education    0\n",
       "test_preparation             0\n",
       "math_score                   0\n",
       "reading_score                0\n",
       "writing_score                0\n",
       "dtype: int64"
      ]
     },
     "execution_count": 66,
     "metadata": {},
     "output_type": "execute_result"
    }
   ],
   "source": [
    "''' Code to process them as needed '''\n",
    "sp = sp.dropna()\n",
    "sp.isnull().sum()"
   ]
  },
  {
   "cell_type": "code",
   "execution_count": 67,
   "metadata": {},
   "outputs": [
    {
     "data": {
      "text/html": [
       "<div>\n",
       "<style scoped>\n",
       "    .dataframe tbody tr th:only-of-type {\n",
       "        vertical-align: middle;\n",
       "    }\n",
       "\n",
       "    .dataframe tbody tr th {\n",
       "        vertical-align: top;\n",
       "    }\n",
       "\n",
       "    .dataframe thead th {\n",
       "        text-align: right;\n",
       "    }\n",
       "</style>\n",
       "<table border=\"1\" class=\"dataframe\">\n",
       "  <thead>\n",
       "    <tr style=\"text-align: right;\">\n",
       "      <th></th>\n",
       "      <th>math_score</th>\n",
       "      <th>reading_score</th>\n",
       "      <th>writing_score</th>\n",
       "    </tr>\n",
       "  </thead>\n",
       "  <tbody>\n",
       "    <tr>\n",
       "      <th>count</th>\n",
       "      <td>1000.00000</td>\n",
       "      <td>1000.000000</td>\n",
       "      <td>1000.000000</td>\n",
       "    </tr>\n",
       "    <tr>\n",
       "      <th>mean</th>\n",
       "      <td>66.08900</td>\n",
       "      <td>69.169000</td>\n",
       "      <td>68.054000</td>\n",
       "    </tr>\n",
       "    <tr>\n",
       "      <th>std</th>\n",
       "      <td>15.16308</td>\n",
       "      <td>14.600192</td>\n",
       "      <td>15.195657</td>\n",
       "    </tr>\n",
       "    <tr>\n",
       "      <th>min</th>\n",
       "      <td>0.00000</td>\n",
       "      <td>17.000000</td>\n",
       "      <td>10.000000</td>\n",
       "    </tr>\n",
       "    <tr>\n",
       "      <th>25%</th>\n",
       "      <td>57.00000</td>\n",
       "      <td>59.000000</td>\n",
       "      <td>57.750000</td>\n",
       "    </tr>\n",
       "    <tr>\n",
       "      <th>50%</th>\n",
       "      <td>66.00000</td>\n",
       "      <td>70.000000</td>\n",
       "      <td>69.000000</td>\n",
       "    </tr>\n",
       "    <tr>\n",
       "      <th>75%</th>\n",
       "      <td>77.00000</td>\n",
       "      <td>79.000000</td>\n",
       "      <td>79.000000</td>\n",
       "    </tr>\n",
       "    <tr>\n",
       "      <th>max</th>\n",
       "      <td>100.00000</td>\n",
       "      <td>100.000000</td>\n",
       "      <td>100.000000</td>\n",
       "    </tr>\n",
       "  </tbody>\n",
       "</table>\n",
       "</div>"
      ],
      "text/plain": [
       "       math_score  reading_score  writing_score\n",
       "count  1000.00000    1000.000000    1000.000000\n",
       "mean     66.08900      69.169000      68.054000\n",
       "std      15.16308      14.600192      15.195657\n",
       "min       0.00000      17.000000      10.000000\n",
       "25%      57.00000      59.000000      57.750000\n",
       "50%      66.00000      70.000000      69.000000\n",
       "75%      77.00000      79.000000      79.000000\n",
       "max     100.00000     100.000000     100.000000"
      ]
     },
     "execution_count": 67,
     "metadata": {},
     "output_type": "execute_result"
    }
   ],
   "source": [
    "'''\n",
    "6. Code for some descriptive statistics, plots of variables of interest and correlations of variables.\n",
    "   Including brief statement of your interpretation of the statistics and the plots. \n",
    "   For example, you may notice a non-linear relationship.\n",
    "'''\n",
    "sp.describe()  "
   ]
  },
  {
   "cell_type": "code",
   "execution_count": 68,
   "metadata": {},
   "outputs": [
    {
     "data": {
      "image/png": "[encoded data removed]",
      "text/plain": [
       "<Figure size 432x288 with 1 Axes>"
      ]
     },
     "metadata": {},
     "output_type": "display_data"
    }
   ],
   "source": [
    "sns.boxplot(x='parent_level_of_education',y = 'math_score', data = sp);"
   ]
  },
  {
   "cell_type": "code",
   "execution_count": 69,
   "metadata": {},
   "outputs": [
    {
     "data": {
      "image/png": "[encoded data removed]",
      "text/plain": [
       "<Figure size 432x288 with 1 Axes>"
      ]
     },
     "metadata": {},
     "output_type": "display_data"
    }
   ],
   "source": [
    "sns.boxplot(x='parent_level_of_education',y = 'reading_score', data = sp);"
   ]
  },
  {
   "cell_type": "code",
   "execution_count": 70,
   "metadata": {},
   "outputs": [
    {
     "data": {
      "image/png": "[encoded data removed]",
      "text/plain": [
       "<Figure size 432x288 with 1 Axes>"
      ]
     },
     "metadata": {},
     "output_type": "display_data"
    }
   ],
   "source": [
    "sns.boxplot(x='parent_level_of_education',y = 'writing_score', data = sp);"
   ]
  },
  {
   "cell_type": "markdown",
   "metadata": {},
   "source": [
    "The three diagrams above shows the relation between student parents' education level and students' performance. With higher student parent's education level, the higher the students' performance are."
   ]
  },
  {
   "cell_type": "code",
   "execution_count": 71,
   "metadata": {},
   "outputs": [
    {
     "data": {
      "image/png": "[encoded data removed]",
      "text/plain": [
       "<Figure size 432x288 with 1 Axes>"
      ]
     },
     "metadata": {},
     "output_type": "display_data"
    }
   ],
   "source": [
    "sns.boxplot(x='test_preparation',y = 'math_score', data = sp);"
   ]
  },
  {
   "cell_type": "code",
   "execution_count": 72,
   "metadata": {},
   "outputs": [
    {
     "data": {
      "image/png": "[encoded data removed]",
      "text/plain": [
       "<Figure size 432x288 with 1 Axes>"
      ]
     },
     "metadata": {},
     "output_type": "display_data"
    }
   ],
   "source": [
    "sns.boxplot(x='test_preparation',y = 'reading_score', data = sp);"
   ]
  },
  {
   "cell_type": "code",
   "execution_count": 73,
   "metadata": {},
   "outputs": [
    {
     "data": {
      "image/png": "[encoded data removed]",
      "text/plain": [
       "<Figure size 432x288 with 1 Axes>"
      ]
     },
     "metadata": {},
     "output_type": "display_data"
    }
   ],
   "source": [
    "sns.boxplot(x='test_preparation',y = 'writing_score', data = sp);"
   ]
  },
  {
   "cell_type": "markdown",
   "metadata": {},
   "source": [
    "The three diagrams above shows the relation between students' test preparation and students' performance. It is very obvious that students who completed the test preparation had much better performance."
   ]
  },
  {
   "cell_type": "code",
   "execution_count": 74,
   "metadata": {},
   "outputs": [
    {
     "name": "stdout",
     "output_type": "stream",
     "text": [
      "[1 0 1 1 1 1 0 1 0 1 1 1 1 0 1 1 1 1 0 1 1 0 1 1 0 1 1 1 1 1 1 1 1 1 1 0 1\n",
      " 1 0 1 1 1 1 0 1 1 0 1 0 0 1 0 1 1 0 1 0 1 0 1 0 1 1 1 1 1 1 1 1 1 0 0 1 1\n",
      " 1 1 1 0 0 1 1 1 0 1 1 1 1 1 1 1 1 1 1 0 1 0 0 0 1 1 1 0 1 0 0 1 1 0 1 1 0\n",
      " 1 1 1 0 1 1 1 1 1 0 0 0 1 1 1 1 0 1 1 1 0 0 0 0 1 0 1 1 0 1 1 0 1 1 1 1 1\n",
      " 0 0 0 1 0 1 1 0 0 1 0 1 0 0 1 1 1 0 0 0 0 0 0 1 1 1 0 0 0 0 0 0 0 1 1 1 0\n",
      " 0 1 0 1 1 1 0 1 0 0 1 0 1 1 1 0 1 1 1 1 0 1 0 1 1 0 1 1 0 0 0 0 1 1 0 0 1\n",
      " 1 1 0 1 1 1 1 0 1 1 1 1 0 1 1 0 1 1 0 1 1 1 1 1 1 0 1 1 0 1 0 1 1 1 1 0 1\n",
      " 0 0 0 1 1 1 1 1 1 0 1 1 1 1 1 0 1 0 0 1 1 1 1 1 0 1 0 0 1 1 0 1 1 0 1 0 1\n",
      " 0 0 0 1 0 1 0 1 0 1 0 1 1 1 1 1 0 0 0 1 0 1 1 1 0 1 1 1 1 1 1 1 0 1 1 1 0\n",
      " 1 1 1 0 1 1 0 1 1 0 0 1 1 1 0 1 1 1 1 0 1 1 1 1 0 1 1 1 0 1 1 1 0 0 1 1 1\n",
      " 1 0 1 0 1 1 1 0 1 1 1 0 1 1 1 1 1 1 1 1 0 1 1 0 0 1 1 1 1 1 0 1 1 0 1 1 0\n",
      " 1 0 0 0 0 1 0 0 1 0 1 1 0 0 0 0 0 1 1 1 1 1 1 1 1 1 1 1 0 1 1 1 0 0 1 1 1\n",
      " 1 0 1 0 1 1 0 1 1 1 1 1 1 1 1 0 1 1 1 1 0 1 1 0 0 1 0 1 0 1 0 0 0 1 1 1 0\n",
      " 1 1 1 1 1 1 1 0 0 1 1 1 1 1 0 1 0 1 1 1 0 1 0 1 1 1 1 1 1 1 1 1 0 0 0 1 0\n",
      " 0 0 1 1 1 1 0 1 0 1 1 1 0 1 0 0 0 0 0 1 0 0 0 0 1 1 1 0 0 0 1 1 1 0 1 1 1\n",
      " 1 0 1 1 1 0 1 0 0 1 1 0 0 1 1 0 1 1 0 1 0 0 1 0 1 1 1 1 0 1 1 1 1 1 1 1 1\n",
      " 1 1 0 0 1 1 1 1 1 1 1 1 0 1 1 1 1 1 0 1 0 1 1 1 1 1 1 0 1 1 0 0 1 0 0 1 1\n",
      " 0 1 1 0 1 1 1 0 0 1 1 1 0 1 0 1 0 1 1 1 0 0 0 0 0 1 1 1 1 1 1 1 1 1 1 1 0\n",
      " 0 1 1 0 1 1 1 0 0 0 0 0 1 1 1 1 1 0 0 0 0 1 1 1 1 1 0 1 1 1 0 1 0 1 0 1 0\n",
      " 1 0 1 1 1 1 0 0 0 1 1 0 0 0 0 1 0 1 0 0 1 1 0 0 0 1 1 0 1 0 1 1 1 1 0 1 1\n",
      " 1 1 1 0 1 1 1 1 1 0 0 1 0 0 1 1 1 0 0 0 1 1 0 1 1 1 0 0 1 1 1 1 0 1 1 1 1\n",
      " 1 0 0 1 1 0 0 0 0 1 1 1 1 1 1 1 0 1 0 1 1 1 1 0 0 1 1 1 1 1 1 1 1 1 1 0 0\n",
      " 1 0 1 0 1 1 0 1 0 1 1 1 0 1 0 1 1 0 1 0 1 0 1 0 0 1 1 1 0 0 0 1 0 1 1 1 1\n",
      " 1 1 1 1 1 1 1 0 1 1 1 0 0 1 0 1 1 0 1 1 0 0 1 1 1 1 1 1 1 0 0 1 1 1 0 0 1\n",
      " 1 1 0 1 1 0 1 1 1 0 0 0 1 1 0 0 1 1 1 0 1 0 1 1 0 0 1 1 0 1 0 0 1 1 1 1 1\n",
      " 0 1 0 0 1 0 1 0 0 0 1 1 1 0 0 0 1 1 0 1 1 1 1 0 0 1 0 1 0 1 1 1 1 1 1 1 1\n",
      " 1 0 1 1 0 1 1 1 1 0 0 1 1 0 0 1 0 1 1 1 0 0 1 1 1 0 1 0 0 0 1 1 1 0 1 0 0\n",
      " 1]\n"
     ]
    }
   ],
   "source": [
    "''' 7. Code to encode the qualitative variables (3) '''\n",
    "from sklearn.preprocessing import LabelEncoder\n",
    "\n",
    "label_encoder = LabelEncoder()\n",
    "sp.loc[:, 'test_preparation'] = label_encoder.fit_transform(sp.loc[:, 'test_preparation'])\n",
    "print(sp.test_preparation.values)"
   ]
  },
  {
   "cell_type": "code",
   "execution_count": 75,
   "metadata": {},
   "outputs": [
    {
     "name": "stdout",
     "output_type": "stream",
     "text": [
      "[1 4 3 0 4 0 4 4 2 2 0 0 2 4 3 5 2 5 3 0 2 4 4 5 1 3 4 1 2 3 4 4 3 4 4 0 0\n",
      " 5 0 0 0 0 0 4 0 0 0 2 0 2 4 0 4 2 5 2 0 0 4 5 1 5 0 0 5 5 5 4 0 0 4 4 0 5\n",
      " 5 0 5 1 5 3 0 2 4 0 2 4 4 0 4 5 1 2 2 0 4 0 5 4 4 1 4 1 0 2 4 4 3 0 0 5 0\n",
      " 2 0 4 1 2 1 1 5 4 1 0 4 2 4 2 5 4 3 1 3 5 4 4 1 1 5 2 0 4 5 4 4 2 4 4 5 0\n",
      " 1 0 5 1 0 1 5 4 2 4 0 0 0 4 3 2 3 1 2 3 2 4 2 5 4 0 1 3 2 0 3 5 3 4 2 0 5\n",
      " 0 2 5 5 1 0 4 5 4 3 0 5 2 4 1 0 4 0 0 4 5 1 2 4 4 5 4 2 0 2 5 0 2 2 5 2 0\n",
      " 5 5 0 3 4 2 5 4 4 0 1 5 1 0 1 5 4 0 2 1 2 4 5 0 0 2 2 2 5 4 5 3 2 4 0 0 4\n",
      " 3 5 4 5 2 2 5 1 2 0 4 1 4 0 4 4 1 5 2 5 1 2 2 1 4 5 0 0 5 1 5 0 5 5 1 2 0\n",
      " 5 0 2 0 4 5 0 0 0 4 4 5 0 2 0 1 1 0 1 2 3 0 1 0 2 2 4 5 2 4 4 4 0 5 2 0 0\n",
      " 0 1 4 5 0 5 5 2 2 2 0 4 2 4 1 2 0 1 4 4 0 4 1 0 4 4 4 2 5 4 5 4 1 2 1 5 5\n",
      " 4 4 5 4 1 0 5 3 5 1 0 0 3 5 5 4 1 0 2 3 5 4 4 0 5 2 2 0 5 5 5 4 4 2 2 5 0\n",
      " 0 2 0 3 4 0 5 1 2 1 0 4 2 0 2 3 5 4 4 1 5 5 5 0 2 2 5 5 4 0 0 2 5 4 2 5 0\n",
      " 5 5 4 2 2 0 4 4 0 4 0 1 1 0 1 2 1 4 4 4 1 4 0 2 2 4 0 2 0 5 0 1 1 0 3 0 2\n",
      " 0 4 2 0 2 4 0 5 0 0 0 4 1 2 2 4 4 5 4 3 0 4 0 3 5 2 1 3 1 4 5 5 5 3 5 4 4\n",
      " 5 2 4 0 1 3 2 4 5 2 1 0 0 5 0 0 2 1 0 2 1 0 2 0 0 0 3 5 5 2 2 3 5 1 0 4 0\n",
      " 4 0 3 0 5 4 4 1 4 1 0 1 3 2 1 4 1 4 2 2 0 4 2 4 3 5 5 1 0 4 0 2 1 4 5 4 5\n",
      " 1 2 1 1 2 5 2 5 3 2 4 2 3 5 0 3 4 0 4 4 1 0 0 2 1 1 3 0 2 1 2 4 1 4 0 0 4\n",
      " 5 4 2 1 2 5 2 2 5 4 0 2 0 5 2 2 1 0 2 2 4 5 2 4 0 5 4 0 5 0 0 4 5 4 2 0 5\n",
      " 4 1 4 0 2 0 4 0 2 4 4 5 0 4 2 2 2 5 4 3 4 0 2 4 0 0 1 0 5 4 0 1 0 2 1 5 1\n",
      " 4 5 1 2 4 2 0 4 5 4 3 5 0 0 0 2 0 4 5 5 2 4 4 0 5 2 4 0 5 4 5 4 3 0 4 0 2\n",
      " 1 0 2 0 4 0 2 4 1 4 5 4 3 5 0 0 4 1 4 4 2 5 5 2 4 2 2 2 5 4 2 1 5 1 4 5 2\n",
      " 4 4 0 0 3 2 0 1 5 5 4 0 3 2 4 2 5 2 0 2 0 4 0 5 5 0 4 4 4 4 2 2 1 5 2 3 5\n",
      " 2 5 1 1 2 5 5 1 4 2 5 2 0 5 5 5 4 1 1 2 4 2 2 2 0 0 2 5 2 4 5 3 3 2 2 0 3\n",
      " 2 4 5 5 1 4 1 2 0 0 3 1 4 0 4 2 0 0 0 2 4 0 0 1 4 4 5 5 0 1 1 2 1 0 0 0 2\n",
      " 4 2 4 0 3 5 0 5 2 5 0 5 3 3 2 1 5 4 2 4 1 1 1 4 1 1 0 4 1 2 0 4 2 2 2 0 2\n",
      " 5 0 2 0 5 4 4 0 1 0 4 0 2 4 5 3 3 2 5 2 0 2 4 5 2 2 4 5 2 4 0 4 3 2 2 4 5\n",
      " 0 5 4 4 5 4 0 1 1 5 2 4 4 4 4 0 2 0 2 5 5 4 5 2 0 5 5 4 2 5 0 1 2 3 2 2 4\n",
      " 4]\n"
     ]
    }
   ],
   "source": [
    "sp.loc[:, 'parent_level_of_education'] = label_encoder.fit_transform(sp.loc[:, 'parent_level_of_education'])\n",
    "print(sp.parent_level_of_education.values)"
   ]
  },
  {
   "cell_type": "code",
   "execution_count": 76,
   "metadata": {},
   "outputs": [
    {
     "name": "stdout",
     "output_type": "stream",
     "text": [
      "X Train\n",
      "       parent_level_of_education  test_preparation\n",
      "281                          2                 1\n",
      "42                           0                 1\n",
      "255                          4                 1\n",
      "906                          2                 1\n",
      "394                          5                 0\n",
      "y Train\n",
      "       math_score  reading_score  writing_score\n",
      "281          45             48             46\n",
      "42           53             58             65\n",
      "255          62             73             70\n",
      "906          57             48             51\n",
      "394          65             74             77\n"
     ]
    }
   ],
   "source": [
    "''' 8. Code to split the dataset into training and test sets (3) '''\n",
    "from sklearn.model_selection import train_test_split\n",
    "X = sp.iloc[:,0:2]\n",
    "y = sp.iloc[:,2:]\n",
    "X_train, X_test, y_train, y_test = train_test_split(X, y, test_size = 0.2, random_state = 1234)\n",
    "sp_data = X_train, X_test, y_train, y_test\n",
    "print(\"X Train\\n \",X_train.head())\n",
    "print(\"y Train\\n \",y_train.head())"
   ]
  },
  {
   "cell_type": "code",
   "execution_count": 77,
   "metadata": {},
   "outputs": [
    {
     "name": "stdout",
     "output_type": "stream",
     "text": [
      "X Train\n",
      "  [[-0.23429981  0.75203572]\n",
      " [-1.3209076   0.75203572]\n",
      " [ 0.85230799  0.75203572]\n",
      " ...\n",
      " [-0.23429981 -1.32972407]\n",
      " [-0.23429981  0.75203572]\n",
      " [ 1.39561189 -1.32972407]]\n"
     ]
    }
   ],
   "source": [
    "''' 9. Code to scale the variables or statement why no need to scale (3) '''\n",
    "from sklearn.preprocessing import StandardScaler, MinMaxScaler\n",
    "\n",
    "# Standardization\n",
    "X_train, X_test, y_train, y_test = sp_data\n",
    "\n",
    "std_scaler = StandardScaler()\n",
    "X_train = std_scaler.fit_transform(X_train)\n",
    "X_test = std_scaler.transform(X_test)\n",
    "print(\"X Train\\n \",X_train)"
   ]
  },
  {
   "cell_type": "code",
   "execution_count": 78,
   "metadata": {},
   "outputs": [
    {
     "name": "stdout",
     "output_type": "stream",
     "text": [
      "X Train\n",
      "  [[0.4 1. ]\n",
      " [0.  1. ]\n",
      " [0.8 1. ]\n",
      " ...\n",
      " [0.4 0. ]\n",
      " [0.4 1. ]\n",
      " [1.  0. ]]\n"
     ]
    }
   ],
   "source": [
    "X_train, X_test, y_train, y_test = sp_data\n",
    "minmax_scaler = MinMaxScaler()\n",
    "X_train = minmax_scaler.fit_transform(X_train)\n",
    "X_test = minmax_scaler.transform(X_test)\n",
    "print(\"X Train\\n \",X_train)"
   ]
  },
  {
   "cell_type": "markdown",
   "metadata": {},
   "source": [
    "** Applying the algorithms **"
   ]
  },
  {
   "cell_type": "code",
   "execution_count": 80,
   "metadata": {},
   "outputs": [
    {
     "data": {
      "text/plain": [
       "((1000, 2), (1000, 3), (200, 2), (800, 2), (200, 3), (800, 3))"
      ]
     },
     "execution_count": 80,
     "metadata": {},
     "output_type": "execute_result"
    }
   ],
   "source": [
    "''' 11. Code to create the models and fit to training data. ( 3 pts each)) '''\n",
    "X.shape,y.shape, X_test.shape, X_train.shape, y_test.shape, y_train.shape"
   ]
  },
  {
   "cell_type": "code",
   "execution_count": 81,
   "metadata": {},
   "outputs": [
    {
     "data": {
      "text/plain": [
       "LinearRegression(copy_X=True, fit_intercept=True, n_jobs=None, normalize=False)"
      ]
     },
     "execution_count": 81,
     "metadata": {},
     "output_type": "execute_result"
    }
   ],
   "source": [
    "''' 12. Code to predict to test set (3 pts each) '''\n",
    "from sklearn.linear_model import LinearRegression\n",
    "model = LinearRegression()\n",
    "model.fit(X_train, y_train)"
   ]
  },
  {
   "cell_type": "markdown",
   "metadata": {},
   "source": [
    "** Results **"
   ]
  },
  {
   "cell_type": "code",
   "execution_count": 82,
   "metadata": {},
   "outputs": [
    {
     "name": "stdout",
     "output_type": "stream",
     "text": [
      "Intercept: [71.29612803 75.64914584 76.59109246] \n",
      " Slope: [[-3.60560029 -5.51531099]\n",
      " [-3.8581388  -7.45499155]\n",
      " [-4.78053015 -9.93003471]] \n"
     ]
    }
   ],
   "source": [
    "''' 13. Code to display the intercept and coefficients(3) '''\n",
    "print(f'Intercept: {model.intercept_} \\n Slope: {model.coef_} ')"
   ]
  },
  {
   "cell_type": "code",
   "execution_count": 83,
   "metadata": {
    "collapsed": true
   },
   "outputs": [],
   "source": [
    "''' 14. Code to display the RMSE.(3) '''\n",
    "X_test.shape\n",
    "\n",
    "yhat = model.predict(X_test)"
   ]
  },
  {
   "cell_type": "code",
   "execution_count": 84,
   "metadata": {},
   "outputs": [
    {
     "data": {
      "text/plain": [
       "math_score       14.844908\n",
       "reading_score    13.851133\n",
       "writing_score    14.012068\n",
       "dtype: float64"
      ]
     },
     "execution_count": 84,
     "metadata": {},
     "output_type": "execute_result"
    }
   ],
   "source": [
    "''' 15. Code displaying the R-squared value for your Linear Regression with \n",
    "brief statement interpreting the R-squared value.(3) '''\n",
    "def rmse(y,yhat):\n",
    "    return np.sqrt(np.mean((y - yhat)**2))\n",
    "\n",
    "rmse(y_test, yhat)"
   ]
  },
  {
   "cell_type": "markdown",
   "metadata": {},
   "source": [
    "** Brief Statement ** <br>\n",
    "This means that for each subject, the prediction is about 14 points different from the actual score"
   ]
  },
  {
   "cell_type": "markdown",
   "metadata": {},
   "source": [
    "### KNN"
   ]
  },
  {
   "cell_type": "markdown",
   "metadata": {},
   "source": [
    "1. A link to the datasets  <br>\n",
    "https://www.kaggle.com/fernandol/countries-of-the-world\n",
    "(Direct download: http://homepages.rpi.edu/~zhangz22/programming_for_cog_sci_and_ai/countries%20of%20the%20world.csv) <br>\n",
    "The data contains the information on population, region, area size, infant mortality and so on of all countries of the world. All these data sets are made up of data from the US government. \n",
    "\n",
    "2. A statement about the goal of the models. What do you want to predict or explain?  <br>\n",
    "This model will try to use the information such as population, GDP or other variables to predict what region of the world a country is in. Countries are usually similar to their neighbor countries and therefore KNN algorithm can be applied.\n",
    "\n",
    "3. A brief description of the variables. For each model: What is the dependent variables? What are the independent variables? <br>\n",
    "- Dependent variables:\n",
    "Country: Name of the country <br>\n",
    "Region: What region the country is in <br>\n",
    "<br>\n",
    "- Independent variables:\n",
    "Population: the number of population <br>\n",
    "Area (sq. mi.): the size of area <br>\n",
    "Pop. Density (per sq. mi.): the population density <br>\n",
    "Coastline (coast/area ratio): the ratio of coast/total area <br>\n",
    "Net migration: the net migration <br>\n",
    "Infant mortality (per 1000 births): the infant mortality per 1000 births <br>\n",
    "GDP ($ per capita): the GDP of the country <br>\n",
    "Literacy (%): the literacy <br>\n",
    "Phones (per 1000): number of phones per 1000 people <br>\n",
    "Arable (%): the percent of arable <br>\n",
    "Crops (%): the percent of crops <br>\n",
    "Other (%): the percent of others <br>\n",
    "Climate: the climate of the country <br>\n",
    "Birthrate: the number of birthrate <br>\n",
    "Deathrate: the number of deathrate <br>\n",
    "Agriculture: the number of agriculture <br>\n",
    "Industry: the number of industry <br>\n",
    "Service: the number of service <br>"
   ]
  },
  {
   "cell_type": "code",
   "execution_count": 85,
   "metadata": {
    "collapsed": true
   },
   "outputs": [],
   "source": [
    "import warnings\n",
    "warnings.simplefilter(action='ignore', category=FutureWarning)\n",
    "warnings.simplefilter(action='ignore', category=UserWarning)\n",
    "\n",
    "import numpy as np\n",
    "import pandas as pd\n",
    "from scipy import stats\n",
    "import seaborn as sns\n",
    "import matplotlib.pyplot as plt\n",
    "%matplotlib inline"
   ]
  },
  {
   "cell_type": "code",
   "execution_count": 86,
   "metadata": {},
   "outputs": [
    {
     "data": {
      "text/html": [
       "<div>\n",
       "<style scoped>\n",
       "    .dataframe tbody tr th:only-of-type {\n",
       "        vertical-align: middle;\n",
       "    }\n",
       "\n",
       "    .dataframe tbody tr th {\n",
       "        vertical-align: top;\n",
       "    }\n",
       "\n",
       "    .dataframe thead th {\n",
       "        text-align: right;\n",
       "    }\n",
       "</style>\n",
       "<table border=\"1\" class=\"dataframe\">\n",
       "  <thead>\n",
       "    <tr style=\"text-align: right;\">\n",
       "      <th></th>\n",
       "      <th>region</th>\n",
       "      <th>population</th>\n",
       "      <th>area</th>\n",
       "      <th>pop_density</th>\n",
       "      <th>coastline</th>\n",
       "      <th>net_migration</th>\n",
       "      <th>infant_mortality</th>\n",
       "      <th>gdp</th>\n",
       "      <th>literacy</th>\n",
       "      <th>phones</th>\n",
       "      <th>arable</th>\n",
       "      <th>crops</th>\n",
       "      <th>other</th>\n",
       "      <th>climate</th>\n",
       "      <th>birthrate</th>\n",
       "      <th>deathrate</th>\n",
       "      <th>agriculture</th>\n",
       "      <th>industry</th>\n",
       "      <th>service</th>\n",
       "    </tr>\n",
       "  </thead>\n",
       "  <tbody>\n",
       "    <tr>\n",
       "      <th>0</th>\n",
       "      <td>ASIA (EX. NEAR EAST)</td>\n",
       "      <td>31056997</td>\n",
       "      <td>647500</td>\n",
       "      <td>480</td>\n",
       "      <td>0</td>\n",
       "      <td>2306.0</td>\n",
       "      <td>16307.0</td>\n",
       "      <td>700.0</td>\n",
       "      <td>360.0</td>\n",
       "      <td>32.0</td>\n",
       "      <td>1213.0</td>\n",
       "      <td>22.0</td>\n",
       "      <td>8765.0</td>\n",
       "      <td>1.0</td>\n",
       "      <td>466.0</td>\n",
       "      <td>2034.0</td>\n",
       "      <td>38.0</td>\n",
       "      <td>24.0</td>\n",
       "      <td>38.0</td>\n",
       "    </tr>\n",
       "    <tr>\n",
       "      <th>1</th>\n",
       "      <td>EASTERN EUROPE</td>\n",
       "      <td>3581655</td>\n",
       "      <td>28748</td>\n",
       "      <td>1246</td>\n",
       "      <td>126</td>\n",
       "      <td>-493.0</td>\n",
       "      <td>2152.0</td>\n",
       "      <td>4500.0</td>\n",
       "      <td>865.0</td>\n",
       "      <td>712.0</td>\n",
       "      <td>2109.0</td>\n",
       "      <td>442.0</td>\n",
       "      <td>7449.0</td>\n",
       "      <td>3.0</td>\n",
       "      <td>1511.0</td>\n",
       "      <td>522.0</td>\n",
       "      <td>232.0</td>\n",
       "      <td>188.0</td>\n",
       "      <td>579.0</td>\n",
       "    </tr>\n",
       "    <tr>\n",
       "      <th>2</th>\n",
       "      <td>NORTHERN AFRICA</td>\n",
       "      <td>32930091</td>\n",
       "      <td>2381740</td>\n",
       "      <td>138</td>\n",
       "      <td>4</td>\n",
       "      <td>-39.0</td>\n",
       "      <td>31.0</td>\n",
       "      <td>6000.0</td>\n",
       "      <td>700.0</td>\n",
       "      <td>781.0</td>\n",
       "      <td>322.0</td>\n",
       "      <td>25.0</td>\n",
       "      <td>9653.0</td>\n",
       "      <td>1.0</td>\n",
       "      <td>1714.0</td>\n",
       "      <td>461.0</td>\n",
       "      <td>101.0</td>\n",
       "      <td>6.0</td>\n",
       "      <td>298.0</td>\n",
       "    </tr>\n",
       "    <tr>\n",
       "      <th>3</th>\n",
       "      <td>OCEANIA</td>\n",
       "      <td>57794</td>\n",
       "      <td>199</td>\n",
       "      <td>2904</td>\n",
       "      <td>5829</td>\n",
       "      <td>-2071.0</td>\n",
       "      <td>927.0</td>\n",
       "      <td>8000.0</td>\n",
       "      <td>970.0</td>\n",
       "      <td>2595.0</td>\n",
       "      <td>10.0</td>\n",
       "      <td>15.0</td>\n",
       "      <td>75.0</td>\n",
       "      <td>2.0</td>\n",
       "      <td>2246.0</td>\n",
       "      <td>327.0</td>\n",
       "      <td>NaN</td>\n",
       "      <td>NaN</td>\n",
       "      <td>NaN</td>\n",
       "    </tr>\n",
       "    <tr>\n",
       "      <th>4</th>\n",
       "      <td>WESTERN EUROPE</td>\n",
       "      <td>71201</td>\n",
       "      <td>468</td>\n",
       "      <td>1521</td>\n",
       "      <td>0</td>\n",
       "      <td>66.0</td>\n",
       "      <td>405.0</td>\n",
       "      <td>19000.0</td>\n",
       "      <td>1000.0</td>\n",
       "      <td>4972.0</td>\n",
       "      <td>222.0</td>\n",
       "      <td>0.0</td>\n",
       "      <td>9778.0</td>\n",
       "      <td>3.0</td>\n",
       "      <td>871.0</td>\n",
       "      <td>625.0</td>\n",
       "      <td>NaN</td>\n",
       "      <td>NaN</td>\n",
       "      <td>NaN</td>\n",
       "    </tr>\n",
       "  </tbody>\n",
       "</table>\n",
       "</div>"
      ],
      "text/plain": [
       "                                region  population     area  pop_density  \\\n",
       "0        ASIA (EX. NEAR EAST)             31056997   647500          480   \n",
       "1  EASTERN EUROPE                          3581655    28748         1246   \n",
       "2  NORTHERN AFRICA                        32930091  2381740          138   \n",
       "3  OCEANIA                                   57794      199         2904   \n",
       "4  WESTERN EUROPE                            71201      468         1521   \n",
       "\n",
       "   coastline  net_migration  infant_mortality      gdp  literacy  phones  \\\n",
       "0          0         2306.0           16307.0    700.0     360.0    32.0   \n",
       "1        126         -493.0            2152.0   4500.0     865.0   712.0   \n",
       "2          4          -39.0              31.0   6000.0     700.0   781.0   \n",
       "3       5829        -2071.0             927.0   8000.0     970.0  2595.0   \n",
       "4          0           66.0             405.0  19000.0    1000.0  4972.0   \n",
       "\n",
       "   arable  crops   other  climate  birthrate  deathrate  agriculture  \\\n",
       "0  1213.0   22.0  8765.0      1.0      466.0     2034.0         38.0   \n",
       "1  2109.0  442.0  7449.0      3.0     1511.0      522.0        232.0   \n",
       "2   322.0   25.0  9653.0      1.0     1714.0      461.0        101.0   \n",
       "3    10.0   15.0    75.0      2.0     2246.0      327.0          NaN   \n",
       "4   222.0    0.0  9778.0      3.0      871.0      625.0          NaN   \n",
       "\n",
       "   industry  service  \n",
       "0      24.0     38.0  \n",
       "1     188.0    579.0  \n",
       "2       6.0    298.0  \n",
       "3       NaN      NaN  \n",
       "4       NaN      NaN  "
      ]
     },
     "execution_count": 86,
     "metadata": {},
     "output_type": "execute_result"
    }
   ],
   "source": [
    "''' 4. Code to read in the datasets and display the beginning and ending observations (1) '''\n",
    "df = pd.read_csv(\"countries of the world.csv\", thousands=',')\n",
    "# The name has nothing to do with the prediction\n",
    "df.drop(columns = [\"Country\"], inplace = True) \n",
    "# Dependent variables:\n",
    "df.rename(columns ={'Region' : 'region'}, inplace =True)\n",
    "# Independent variables:\n",
    "df.rename(columns ={'Population': 'population',\n",
    "                    'Area (sq. mi.)' : 'area',\n",
    "                    'Pop. Density (per sq. mi.)' : 'pop_density',\n",
    "                    'Coastline (coast/area ratio)' : 'coastline',\n",
    "                    'Net migration' : 'net_migration',\n",
    "                    'Infant mortality (per 1000 births)' : 'infant_mortality',\n",
    "                    'GDP ($ per capita)' : 'gdp',\n",
    "                    'Literacy (%)' : 'literacy',\n",
    "                    'Phones (per 1000)' : 'phones',\n",
    "                    'Arable (%)': 'arable',\n",
    "                    'Crops (%)': 'crops',\n",
    "                    'Other (%)': 'other',\n",
    "                    'Climate': 'climate',\n",
    "                    'Birthrate': 'birthrate',\n",
    "                    'Deathrate': 'deathrate',\n",
    "                    'Agriculture' : 'agriculture',\n",
    "                    'Industry' : 'industry',\n",
    "                    'Service' : 'service'}, inplace =True)\n",
    "df.head()"
   ]
  },
  {
   "cell_type": "code",
   "execution_count": 87,
   "metadata": {},
   "outputs": [
    {
     "data": {
      "text/html": [
       "<div>\n",
       "<style scoped>\n",
       "    .dataframe tbody tr th:only-of-type {\n",
       "        vertical-align: middle;\n",
       "    }\n",
       "\n",
       "    .dataframe tbody tr th {\n",
       "        vertical-align: top;\n",
       "    }\n",
       "\n",
       "    .dataframe thead th {\n",
       "        text-align: right;\n",
       "    }\n",
       "</style>\n",
       "<table border=\"1\" class=\"dataframe\">\n",
       "  <thead>\n",
       "    <tr style=\"text-align: right;\">\n",
       "      <th></th>\n",
       "      <th>region</th>\n",
       "      <th>population</th>\n",
       "      <th>area</th>\n",
       "      <th>pop_density</th>\n",
       "      <th>coastline</th>\n",
       "      <th>net_migration</th>\n",
       "      <th>infant_mortality</th>\n",
       "      <th>gdp</th>\n",
       "      <th>literacy</th>\n",
       "      <th>phones</th>\n",
       "      <th>arable</th>\n",
       "      <th>crops</th>\n",
       "      <th>other</th>\n",
       "      <th>climate</th>\n",
       "      <th>birthrate</th>\n",
       "      <th>deathrate</th>\n",
       "      <th>agriculture</th>\n",
       "      <th>industry</th>\n",
       "      <th>service</th>\n",
       "    </tr>\n",
       "  </thead>\n",
       "  <tbody>\n",
       "    <tr>\n",
       "      <th>222</th>\n",
       "      <td>NEAR EAST</td>\n",
       "      <td>2460492</td>\n",
       "      <td>5860</td>\n",
       "      <td>4199</td>\n",
       "      <td>0</td>\n",
       "      <td>298.0</td>\n",
       "      <td>1962.0</td>\n",
       "      <td>800.0</td>\n",
       "      <td>NaN</td>\n",
       "      <td>1452.0</td>\n",
       "      <td>169.0</td>\n",
       "      <td>1897.0</td>\n",
       "      <td>6413.0</td>\n",
       "      <td>3.0</td>\n",
       "      <td>3167.0</td>\n",
       "      <td>392.0</td>\n",
       "      <td>9.0</td>\n",
       "      <td>28.0</td>\n",
       "      <td>63.0</td>\n",
       "    </tr>\n",
       "    <tr>\n",
       "      <th>223</th>\n",
       "      <td>NORTHERN AFRICA</td>\n",
       "      <td>273008</td>\n",
       "      <td>266000</td>\n",
       "      <td>10</td>\n",
       "      <td>42</td>\n",
       "      <td>NaN</td>\n",
       "      <td>NaN</td>\n",
       "      <td>NaN</td>\n",
       "      <td>NaN</td>\n",
       "      <td>NaN</td>\n",
       "      <td>2.0</td>\n",
       "      <td>0.0</td>\n",
       "      <td>9998.0</td>\n",
       "      <td>1.0</td>\n",
       "      <td>NaN</td>\n",
       "      <td>NaN</td>\n",
       "      <td>NaN</td>\n",
       "      <td>NaN</td>\n",
       "      <td>4.0</td>\n",
       "    </tr>\n",
       "    <tr>\n",
       "      <th>224</th>\n",
       "      <td>NEAR EAST</td>\n",
       "      <td>21456188</td>\n",
       "      <td>527970</td>\n",
       "      <td>406</td>\n",
       "      <td>36</td>\n",
       "      <td>0.0</td>\n",
       "      <td>615.0</td>\n",
       "      <td>800.0</td>\n",
       "      <td>502.0</td>\n",
       "      <td>372.0</td>\n",
       "      <td>278.0</td>\n",
       "      <td>24.0</td>\n",
       "      <td>9698.0</td>\n",
       "      <td>1.0</td>\n",
       "      <td>4289.0</td>\n",
       "      <td>83.0</td>\n",
       "      <td>135.0</td>\n",
       "      <td>472.0</td>\n",
       "      <td>393.0</td>\n",
       "    </tr>\n",
       "    <tr>\n",
       "      <th>225</th>\n",
       "      <td>SUB-SAHARAN AFRICA</td>\n",
       "      <td>11502010</td>\n",
       "      <td>752614</td>\n",
       "      <td>153</td>\n",
       "      <td>0</td>\n",
       "      <td>0.0</td>\n",
       "      <td>8829.0</td>\n",
       "      <td>800.0</td>\n",
       "      <td>806.0</td>\n",
       "      <td>82.0</td>\n",
       "      <td>708.0</td>\n",
       "      <td>3.0</td>\n",
       "      <td>929.0</td>\n",
       "      <td>2.0</td>\n",
       "      <td>41.0</td>\n",
       "      <td>1993.0</td>\n",
       "      <td>22.0</td>\n",
       "      <td>29.0</td>\n",
       "      <td>489.0</td>\n",
       "    </tr>\n",
       "    <tr>\n",
       "      <th>226</th>\n",
       "      <td>SUB-SAHARAN AFRICA</td>\n",
       "      <td>12236805</td>\n",
       "      <td>390580</td>\n",
       "      <td>313</td>\n",
       "      <td>0</td>\n",
       "      <td>0.0</td>\n",
       "      <td>6769.0</td>\n",
       "      <td>1900.0</td>\n",
       "      <td>907.0</td>\n",
       "      <td>268.0</td>\n",
       "      <td>832.0</td>\n",
       "      <td>34.0</td>\n",
       "      <td>9134.0</td>\n",
       "      <td>2.0</td>\n",
       "      <td>2801.0</td>\n",
       "      <td>2184.0</td>\n",
       "      <td>179.0</td>\n",
       "      <td>243.0</td>\n",
       "      <td>579.0</td>\n",
       "    </tr>\n",
       "  </tbody>\n",
       "</table>\n",
       "</div>"
      ],
      "text/plain": [
       "                                  region  population    area  pop_density  \\\n",
       "222  NEAR EAST                               2460492    5860         4199   \n",
       "223  NORTHERN AFRICA                          273008  266000           10   \n",
       "224  NEAR EAST                              21456188  527970          406   \n",
       "225  SUB-SAHARAN AFRICA                     11502010  752614          153   \n",
       "226  SUB-SAHARAN AFRICA                     12236805  390580          313   \n",
       "\n",
       "     coastline  net_migration  infant_mortality     gdp  literacy  phones  \\\n",
       "222          0          298.0            1962.0   800.0       NaN  1452.0   \n",
       "223         42            NaN               NaN     NaN       NaN     NaN   \n",
       "224         36            0.0             615.0   800.0     502.0   372.0   \n",
       "225          0            0.0            8829.0   800.0     806.0    82.0   \n",
       "226          0            0.0            6769.0  1900.0     907.0   268.0   \n",
       "\n",
       "     arable   crops   other  climate  birthrate  deathrate  agriculture  \\\n",
       "222   169.0  1897.0  6413.0      3.0     3167.0      392.0          9.0   \n",
       "223     2.0     0.0  9998.0      1.0        NaN        NaN          NaN   \n",
       "224   278.0    24.0  9698.0      1.0     4289.0       83.0        135.0   \n",
       "225   708.0     3.0   929.0      2.0       41.0     1993.0         22.0   \n",
       "226   832.0    34.0  9134.0      2.0     2801.0     2184.0        179.0   \n",
       "\n",
       "     industry  service  \n",
       "222      28.0     63.0  \n",
       "223       NaN      4.0  \n",
       "224     472.0    393.0  \n",
       "225      29.0    489.0  \n",
       "226     243.0    579.0  "
      ]
     },
     "execution_count": 87,
     "metadata": {},
     "output_type": "execute_result"
    }
   ],
   "source": [
    "df.tail()"
   ]
  },
  {
   "cell_type": "markdown",
   "metadata": {},
   "source": [
    "** Data Preprocessing **"
   ]
  },
  {
   "cell_type": "code",
   "execution_count": 88,
   "metadata": {},
   "outputs": [
    {
     "data": {
      "text/plain": [
       "region               0\n",
       "population           0\n",
       "area                 0\n",
       "pop_density          0\n",
       "coastline            0\n",
       "net_migration        3\n",
       "infant_mortality     3\n",
       "gdp                  1\n",
       "literacy            18\n",
       "phones               4\n",
       "arable               2\n",
       "crops                2\n",
       "other                2\n",
       "climate             22\n",
       "birthrate            3\n",
       "deathrate            4\n",
       "agriculture         15\n",
       "industry            16\n",
       "service             15\n",
       "dtype: int64"
      ]
     },
     "execution_count": 88,
     "metadata": {},
     "output_type": "execute_result"
    }
   ],
   "source": [
    "''' 5. Code to check for missing values '''\n",
    "df.isnull().sum()"
   ]
  },
  {
   "cell_type": "code",
   "execution_count": 89,
   "metadata": {},
   "outputs": [
    {
     "data": {
      "text/plain": [
       "region              0\n",
       "population          0\n",
       "area                0\n",
       "pop_density         0\n",
       "coastline           0\n",
       "net_migration       0\n",
       "infant_mortality    0\n",
       "gdp                 0\n",
       "literacy            0\n",
       "phones              0\n",
       "arable              0\n",
       "crops               0\n",
       "other               0\n",
       "climate             0\n",
       "birthrate           0\n",
       "deathrate           0\n",
       "agriculture         0\n",
       "industry            0\n",
       "service             0\n",
       "dtype: int64"
      ]
     },
     "execution_count": 89,
     "metadata": {},
     "output_type": "execute_result"
    }
   ],
   "source": [
    "''' Code to process them as needed '''\n",
    "df = df.dropna()\n",
    "df.isnull().sum()"
   ]
  },
  {
   "cell_type": "code",
   "execution_count": 90,
   "metadata": {},
   "outputs": [
    {
     "data": {
      "text/html": [
       "<div>\n",
       "<style scoped>\n",
       "    .dataframe tbody tr th:only-of-type {\n",
       "        vertical-align: middle;\n",
       "    }\n",
       "\n",
       "    .dataframe tbody tr th {\n",
       "        vertical-align: top;\n",
       "    }\n",
       "\n",
       "    .dataframe thead th {\n",
       "        text-align: right;\n",
       "    }\n",
       "</style>\n",
       "<table border=\"1\" class=\"dataframe\">\n",
       "  <thead>\n",
       "    <tr style=\"text-align: right;\">\n",
       "      <th></th>\n",
       "      <th>population</th>\n",
       "      <th>area</th>\n",
       "      <th>pop_density</th>\n",
       "      <th>coastline</th>\n",
       "      <th>net_migration</th>\n",
       "      <th>infant_mortality</th>\n",
       "      <th>gdp</th>\n",
       "      <th>literacy</th>\n",
       "      <th>phones</th>\n",
       "      <th>arable</th>\n",
       "      <th>crops</th>\n",
       "      <th>other</th>\n",
       "      <th>climate</th>\n",
       "      <th>birthrate</th>\n",
       "      <th>deathrate</th>\n",
       "      <th>agriculture</th>\n",
       "      <th>industry</th>\n",
       "      <th>service</th>\n",
       "    </tr>\n",
       "  </thead>\n",
       "  <tbody>\n",
       "    <tr>\n",
       "      <th>count</th>\n",
       "      <td>1.790000e+02</td>\n",
       "      <td>1.790000e+02</td>\n",
       "      <td>179.000000</td>\n",
       "      <td>179.000000</td>\n",
       "      <td>179.000000</td>\n",
       "      <td>179.000000</td>\n",
       "      <td>179.000000</td>\n",
       "      <td>179.000000</td>\n",
       "      <td>179.000000</td>\n",
       "      <td>179.000000</td>\n",
       "      <td>179.000000</td>\n",
       "      <td>179.000000</td>\n",
       "      <td>179.000000</td>\n",
       "      <td>179.000000</td>\n",
       "      <td>179.000000</td>\n",
       "      <td>179.000000</td>\n",
       "      <td>179.000000</td>\n",
       "      <td>179.000000</td>\n",
       "    </tr>\n",
       "    <tr>\n",
       "      <th>mean</th>\n",
       "      <td>3.421415e+07</td>\n",
       "      <td>5.641830e+05</td>\n",
       "      <td>2948.050279</td>\n",
       "      <td>1649.519553</td>\n",
       "      <td>-5.972067</td>\n",
       "      <td>3461.083799</td>\n",
       "      <td>9125.698324</td>\n",
       "      <td>819.441341</td>\n",
       "      <td>2081.519553</td>\n",
       "      <td>1204.960894</td>\n",
       "      <td>415.424581</td>\n",
       "      <td>7161.648045</td>\n",
       "      <td>3.089385</td>\n",
       "      <td>2119.860335</td>\n",
       "      <td>857.972067</td>\n",
       "      <td>113.865922</td>\n",
       "      <td>222.513966</td>\n",
       "      <td>417.346369</td>\n",
       "    </tr>\n",
       "    <tr>\n",
       "      <th>std</th>\n",
       "      <td>1.317639e+08</td>\n",
       "      <td>1.395657e+06</td>\n",
       "      <td>13793.525570</td>\n",
       "      <td>7397.760059</td>\n",
       "      <td>463.095246</td>\n",
       "      <td>3513.033899</td>\n",
       "      <td>9644.123141</td>\n",
       "      <td>198.375370</td>\n",
       "      <td>2101.218754</td>\n",
       "      <td>1299.800518</td>\n",
       "      <td>799.382043</td>\n",
       "      <td>2970.707197</td>\n",
       "      <td>3.975041</td>\n",
       "      <td>1254.307678</td>\n",
       "      <td>520.899788</td>\n",
       "      <td>131.016655</td>\n",
       "      <td>173.189133</td>\n",
       "      <td>264.132803</td>\n",
       "    </tr>\n",
       "    <tr>\n",
       "      <th>min</th>\n",
       "      <td>1.347700e+04</td>\n",
       "      <td>2.800000e+01</td>\n",
       "      <td>18.000000</td>\n",
       "      <td>0.000000</td>\n",
       "      <td>-2099.000000</td>\n",
       "      <td>31.000000</td>\n",
       "      <td>500.000000</td>\n",
       "      <td>176.000000</td>\n",
       "      <td>2.000000</td>\n",
       "      <td>0.000000</td>\n",
       "      <td>0.000000</td>\n",
       "      <td>70.000000</td>\n",
       "      <td>1.000000</td>\n",
       "      <td>10.000000</td>\n",
       "      <td>22.000000</td>\n",
       "      <td>0.000000</td>\n",
       "      <td>1.000000</td>\n",
       "      <td>5.000000</td>\n",
       "    </tr>\n",
       "    <tr>\n",
       "      <th>25%</th>\n",
       "      <td>1.188580e+06</td>\n",
       "      <td>1.991500e+04</td>\n",
       "      <td>268.000000</td>\n",
       "      <td>9.000000</td>\n",
       "      <td>-79.000000</td>\n",
       "      <td>741.500000</td>\n",
       "      <td>1800.000000</td>\n",
       "      <td>699.500000</td>\n",
       "      <td>271.000000</td>\n",
       "      <td>245.000000</td>\n",
       "      <td>14.000000</td>\n",
       "      <td>6196.500000</td>\n",
       "      <td>2.000000</td>\n",
       "      <td>1194.000000</td>\n",
       "      <td>535.000000</td>\n",
       "      <td>18.000000</td>\n",
       "      <td>40.000000</td>\n",
       "      <td>78.000000</td>\n",
       "    </tr>\n",
       "    <tr>\n",
       "      <th>50%</th>\n",
       "      <td>6.940432e+06</td>\n",
       "      <td>1.184800e+05</td>\n",
       "      <td>669.000000</td>\n",
       "      <td>63.000000</td>\n",
       "      <td>0.000000</td>\n",
       "      <td>2055.000000</td>\n",
       "      <td>5100.000000</td>\n",
       "      <td>909.000000</td>\n",
       "      <td>1371.000000</td>\n",
       "      <td>719.000000</td>\n",
       "      <td>96.000000</td>\n",
       "      <td>8223.000000</td>\n",
       "      <td>2.000000</td>\n",
       "      <td>1828.000000</td>\n",
       "      <td>722.000000</td>\n",
       "      <td>62.000000</td>\n",
       "      <td>229.000000</td>\n",
       "      <td>489.000000</td>\n",
       "    </tr>\n",
       "    <tr>\n",
       "      <th>75%</th>\n",
       "      <td>2.086014e+07</td>\n",
       "      <td>4.964410e+05</td>\n",
       "      <td>1647.000000</td>\n",
       "      <td>535.500000</td>\n",
       "      <td>27.000000</td>\n",
       "      <td>5533.500000</td>\n",
       "      <td>12950.000000</td>\n",
       "      <td>978.000000</td>\n",
       "      <td>3350.000000</td>\n",
       "      <td>1770.500000</td>\n",
       "      <td>438.500000</td>\n",
       "      <td>9358.500000</td>\n",
       "      <td>3.000000</td>\n",
       "      <td>3020.000000</td>\n",
       "      <td>1046.500000</td>\n",
       "      <td>172.000000</td>\n",
       "      <td>313.500000</td>\n",
       "      <td>618.500000</td>\n",
       "    </tr>\n",
       "    <tr>\n",
       "      <th>max</th>\n",
       "      <td>1.313974e+09</td>\n",
       "      <td>9.631420e+06</td>\n",
       "      <td>161830.000000</td>\n",
       "      <td>87066.000000</td>\n",
       "      <td>2306.000000</td>\n",
       "      <td>16307.000000</td>\n",
       "      <td>37800.000000</td>\n",
       "      <td>1000.000000</td>\n",
       "      <td>8980.000000</td>\n",
       "      <td>6211.000000</td>\n",
       "      <td>4896.000000</td>\n",
       "      <td>9996.000000</td>\n",
       "      <td>25.000000</td>\n",
       "      <td>5073.000000</td>\n",
       "      <td>2974.000000</td>\n",
       "      <td>769.000000</td>\n",
       "      <td>906.000000</td>\n",
       "      <td>954.000000</td>\n",
       "    </tr>\n",
       "  </tbody>\n",
       "</table>\n",
       "</div>"
      ],
      "text/plain": [
       "         population          area    pop_density     coastline  net_migration  \\\n",
       "count  1.790000e+02  1.790000e+02     179.000000    179.000000     179.000000   \n",
       "mean   3.421415e+07  5.641830e+05    2948.050279   1649.519553      -5.972067   \n",
       "std    1.317639e+08  1.395657e+06   13793.525570   7397.760059     463.095246   \n",
       "min    1.347700e+04  2.800000e+01      18.000000      0.000000   -2099.000000   \n",
       "25%    1.188580e+06  1.991500e+04     268.000000      9.000000     -79.000000   \n",
       "50%    6.940432e+06  1.184800e+05     669.000000     63.000000       0.000000   \n",
       "75%    2.086014e+07  4.964410e+05    1647.000000    535.500000      27.000000   \n",
       "max    1.313974e+09  9.631420e+06  161830.000000  87066.000000    2306.000000   \n",
       "\n",
       "       infant_mortality           gdp     literacy       phones       arable  \\\n",
       "count        179.000000    179.000000   179.000000   179.000000   179.000000   \n",
       "mean        3461.083799   9125.698324   819.441341  2081.519553  1204.960894   \n",
       "std         3513.033899   9644.123141   198.375370  2101.218754  1299.800518   \n",
       "min           31.000000    500.000000   176.000000     2.000000     0.000000   \n",
       "25%          741.500000   1800.000000   699.500000   271.000000   245.000000   \n",
       "50%         2055.000000   5100.000000   909.000000  1371.000000   719.000000   \n",
       "75%         5533.500000  12950.000000   978.000000  3350.000000  1770.500000   \n",
       "max        16307.000000  37800.000000  1000.000000  8980.000000  6211.000000   \n",
       "\n",
       "             crops        other     climate    birthrate    deathrate  \\\n",
       "count   179.000000   179.000000  179.000000   179.000000   179.000000   \n",
       "mean    415.424581  7161.648045    3.089385  2119.860335   857.972067   \n",
       "std     799.382043  2970.707197    3.975041  1254.307678   520.899788   \n",
       "min       0.000000    70.000000    1.000000    10.000000    22.000000   \n",
       "25%      14.000000  6196.500000    2.000000  1194.000000   535.000000   \n",
       "50%      96.000000  8223.000000    2.000000  1828.000000   722.000000   \n",
       "75%     438.500000  9358.500000    3.000000  3020.000000  1046.500000   \n",
       "max    4896.000000  9996.000000   25.000000  5073.000000  2974.000000   \n",
       "\n",
       "       agriculture    industry     service  \n",
       "count   179.000000  179.000000  179.000000  \n",
       "mean    113.865922  222.513966  417.346369  \n",
       "std     131.016655  173.189133  264.132803  \n",
       "min       0.000000    1.000000    5.000000  \n",
       "25%      18.000000   40.000000   78.000000  \n",
       "50%      62.000000  229.000000  489.000000  \n",
       "75%     172.000000  313.500000  618.500000  \n",
       "max     769.000000  906.000000  954.000000  "
      ]
     },
     "execution_count": 90,
     "metadata": {},
     "output_type": "execute_result"
    }
   ],
   "source": [
    "'''\n",
    "6. Code for some descriptive statistics, plots of variables of interest and correlations of variables.\n",
    "   Including brief statement of your interpretation of the statistics and the plots. \n",
    "   For example, you may notice a non-linear relationship.\n",
    "'''\n",
    "df.describe()  "
   ]
  },
  {
   "cell_type": "code",
   "execution_count": 91,
   "metadata": {},
   "outputs": [
    {
     "data": {
      "image/png": "[encoded data removed]",
      "text/plain": [
       "<Figure size 432x288 with 1 Axes>"
      ]
     },
     "metadata": {},
     "output_type": "display_data"
    }
   ],
   "source": [
    "sns.distplot(df.gdp);  \n",
    "# This graph shows the general gdp of all countries in the world,\n",
    "# showing the distribution of poor and rich countries"
   ]
  },
  {
   "cell_type": "code",
   "execution_count": 92,
   "metadata": {},
   "outputs": [
    {
     "data": {
      "image/png": "[encoded data removed]",
      "text/plain": [
       "<Figure size 432x288 with 1 Axes>"
      ]
     },
     "metadata": {},
     "output_type": "display_data"
    }
   ],
   "source": [
    "plt.plot(df.population,df.area,'o');\n",
    "# This graph indicates that the population and the area are not linear related"
   ]
  },
  {
   "cell_type": "code",
   "execution_count": 93,
   "metadata": {},
   "outputs": [
    {
     "data": {
      "image/png": "[encoded data removed]",
      "text/plain": [
       "<Figure size 432x288 with 1 Axes>"
      ]
     },
     "metadata": {},
     "output_type": "display_data"
    }
   ],
   "source": [
    "plt.plot(df.pop_density,df.area,'o');\n",
    "# This graph indicates that the population density and the area are not linear related"
   ]
  },
  {
   "cell_type": "code",
   "execution_count": 94,
   "metadata": {},
   "outputs": [
    {
     "data": {
      "image/png": "[encoded data removed]",
      "text/plain": [
       "<Figure size 432x288 with 1 Axes>"
      ]
     },
     "metadata": {},
     "output_type": "display_data"
    }
   ],
   "source": [
    "sns.boxplot(x='region',y = 'gdp', data = df);\n",
    "# This graph shows the distribution of rich and poor countries in different region of the world, showing \n",
    "# that the distribution is uneven."
   ]
  },
  {
   "cell_type": "code",
   "execution_count": 95,
   "metadata": {},
   "outputs": [
    {
     "data": {
      "image/png": "[encoded data removed]",
      "text/plain": [
       "<Figure size 432x288 with 1 Axes>"
      ]
     },
     "metadata": {},
     "output_type": "display_data"
    }
   ],
   "source": [
    "sns.boxplot(x='region',y = 'population', data = df);\n",
    "# This graph shows that in different region of the world, the population of different countries are different."
   ]
  },
  {
   "cell_type": "code",
   "execution_count": 96,
   "metadata": {},
   "outputs": [
    {
     "name": "stdout",
     "output_type": "stream",
     "text": [
      "[ 0  3  6  4  4  4  2  4  8 10  2  4  5  0  4  2 10  4  9  7  0  4  9  4\n",
      "  4  0  3  9  0  9  0  9  9  4  9  9  4  0  4  9  9  9  4  9  4  3 10  9\n",
      "  4  4  4  6  4  9  9  1  9  8 10 10  4  8  9  9  2 10  9 10  4  4  4  9\n",
      "  9  4  4  4  0  3 10  0  0  0  5 10  5  4  0  5  2  9  0  0  5  2  0  1\n",
      "  9  9 10  0  9  9  0  0  9  8  4  9  9  4  8  0  9  9 10  4  8  8  4  9\n",
      "  9 10  5  0  8  4  8  4  4  0  3 10  4  5  9  3  9  4  4  4  8  9  5  9\n",
      "  9  9  0  9  9 10  0  9  4  9 10 10  5  0  2  0  9  8  4  6  5  2  9  2\n",
      "  5 10  7  4  2  8  4  0  5  9  9]\n"
     ]
    }
   ],
   "source": [
    "''' 7. Code to encode the qualitative variables (3) '''\n",
    "from sklearn.preprocessing import LabelEncoder\n",
    "\n",
    "label_encoder = LabelEncoder()\n",
    "df.loc[:, 'region'] = label_encoder.fit_transform(df.loc[:, 'region'])\n",
    "print(df.region.values)"
   ]
  },
  {
   "cell_type": "code",
   "execution_count": 97,
   "metadata": {},
   "outputs": [
    {
     "name": "stdout",
     "output_type": "stream",
     "text": [
      "X Train\n",
      "       population     area  pop_density  coastline  net_migration  \\\n",
      "130       60422    11854           51        312         -604.0   \n",
      "76     82422299   357021         2309         67          218.0   \n",
      "68      5231372   338145          155         37           95.0   \n",
      "31     13902972   274200          507          0            0.0   \n",
      "106    15233244  2717300           56          0         -335.0   \n",
      "\n",
      "     infant_mortality      gdp  literacy  phones  arable   crops   other  \\\n",
      "130            2945.0   1600.0     937.0   912.0  1667.0  3889.0  4444.0   \n",
      "76              416.0  27600.0     990.0  6679.0  3385.0    59.0  6556.0   \n",
      "68              357.0  27400.0    1000.0  4053.0   719.0     3.0  9278.0   \n",
      "31             9757.0   1100.0     266.0    70.0  1443.0    19.0  8538.0   \n",
      "106            2921.0   6300.0     984.0  1641.0   798.0     5.0  9197.0   \n",
      "\n",
      "     climate  birthrate  deathrate  agriculture  industry  service  \n",
      "130      2.0     3305.0      478.0        317.0     149.0    534.0  \n",
      "76       3.0      825.0     1062.0          9.0     296.0    695.0  \n",
      "68       3.0     1045.0      986.0         28.0     295.0    676.0  \n",
      "31       2.0     4562.0      156.0        322.0     196.0    482.0  \n",
      "106      4.0       16.0      942.0         67.0     386.0    547.0  \n",
      "y Train\n",
      "  130     8\n",
      "76     10\n",
      "68     10\n",
      "31      9\n",
      "106     2\n",
      "Name: region, dtype: int32\n"
     ]
    }
   ],
   "source": [
    "''' 8. Code to split the dataset into training and test sets (3) '''\n",
    "from sklearn.model_selection import train_test_split\n",
    "X = df.iloc[:,1:]\n",
    "y = df.iloc[:,0]\n",
    "X_train, X_test, y_train, y_test = train_test_split(X, y, test_size = 0.2, random_state = 1234)\n",
    "df_data = X_train, X_test, y_train, y_test\n",
    "print(\"X Train\\n \",X_train.head())\n",
    "print(\"y Train\\n \",y_train.head())"
   ]
  },
  {
   "cell_type": "code",
   "execution_count": 98,
   "metadata": {},
   "outputs": [
    {
     "name": "stdout",
     "output_type": "stream",
     "text": [
      "X Train\n",
      "  [[-0.26579272 -0.38183228 -0.21811088 ...  1.51335312 -0.38388084\n",
      "   0.43919669]\n",
      " [ 0.44218787 -0.15348616 -0.07097078 ... -0.79046704  0.47049281\n",
      "   1.03284581]\n",
      " [-0.22134336 -0.16597363 -0.21133384 ... -0.64834826  0.46468075\n",
      "   0.96278784]\n",
      " ...\n",
      " [-0.26166934 -0.37111711 -0.20885761 ... -0.83534665  4.01585288\n",
      "  -1.30119078]\n",
      " [ 0.10841251  0.36377452 -0.19647647 ...  0.07720549  0.73784783\n",
      "   0.43550943]\n",
      " [-0.2621299  -0.37445861 -0.20761949 ...  0.48112201  0.05783615\n",
      "   0.66780691]]\n"
     ]
    }
   ],
   "source": [
    "''' 9. Code to scale the variables or statement why no need to scale (3) '''\n",
    "from sklearn.preprocessing import StandardScaler, MinMaxScaler\n",
    "\n",
    "# Standardization\n",
    "X_train, X_test, y_train, y_test = df_data\n",
    "\n",
    "std_scaler = StandardScaler()\n",
    "X_train = std_scaler.fit_transform(X_train)\n",
    "X_test = std_scaler.transform(X_test)\n",
    "print(\"X Train\\n \",X_train)"
   ]
  },
  {
   "cell_type": "code",
   "execution_count": 99,
   "metadata": {},
   "outputs": [
    {
     "name": "stdout",
     "output_type": "stream",
     "text": [
      "Y Train\n",
      "  130     8\n",
      "76     10\n",
      "68     10\n",
      "31      9\n",
      "106     2\n",
      "111     5\n",
      "37      9\n",
      "122     0\n",
      "133     9\n",
      "201     0\n",
      "165     4\n",
      "14      4\n",
      "71      8\n",
      "215     4\n",
      "164    10\n",
      "20      4\n",
      "210     9\n",
      "98     10\n",
      "196    10\n",
      "40      9\n",
      "23      0\n",
      "168     3\n",
      "128     9\n",
      "205     6\n",
      "48      4\n",
      "77      9\n",
      "197     5\n",
      "156     0\n",
      "41      4\n",
      "125     9\n",
      "       ..\n",
      "176     8\n",
      "22      7\n",
      "2       6\n",
      "6       4\n",
      "204     4\n",
      "90      4\n",
      "161     4\n",
      "175     4\n",
      "39      9\n",
      "42      0\n",
      "91      0\n",
      "59      4\n",
      "160     4\n",
      "95      0\n",
      "82      4\n",
      "142     9\n",
      "152     9\n",
      "150     4\n",
      "30      3\n",
      "157     8\n",
      "199     2\n",
      "34      0\n",
      "195    10\n",
      "27      4\n",
      "180     9\n",
      "193     4\n",
      "148     8\n",
      "62      9\n",
      "43      4\n",
      "55      9\n",
      "Name: region, Length: 143, dtype: int32\n"
     ]
    }
   ],
   "source": [
    "print(\"Y Train\\n \",y_train)"
   ]
  },
  {
   "cell_type": "code",
   "execution_count": 100,
   "metadata": {},
   "outputs": [
    {
     "name": "stdout",
     "output_type": "stream",
     "text": [
      "X Train\n",
      "  [[-0.26579272 -0.38183228 -0.21811088 ...  1.51335312 -0.38388084\n",
      "   0.43919669]\n",
      " [ 0.44218787 -0.15348616 -0.07097078 ... -0.79046704  0.47049281\n",
      "   1.03284581]\n",
      " [-0.22134336 -0.16597363 -0.21133384 ... -0.64834826  0.46468075\n",
      "   0.96278784]\n",
      " ...\n",
      " [-0.26166934 -0.37111711 -0.20885761 ... -0.83534665  4.01585288\n",
      "  -1.30119078]\n",
      " [ 0.10841251  0.36377452 -0.19647647 ...  0.07720549  0.73784783\n",
      "   0.43550943]\n",
      " [-0.2621299  -0.37445861 -0.20761949 ...  0.48112201  0.05783615\n",
      "   0.66780691]]\n"
     ]
    }
   ],
   "source": [
    "X_train, X_test, y_train, y_test = df_data\n",
    "sc = StandardScaler()\n",
    "X_train = sc.fit_transform(X_train)\n",
    "X_test = sc.transform(X_test)\n",
    "print(\"X Train\\n \",X_train)"
   ]
  },
  {
   "cell_type": "markdown",
   "metadata": {},
   "source": [
    "** Applying the algorithms **"
   ]
  },
  {
   "cell_type": "code",
   "execution_count": 101,
   "metadata": {},
   "outputs": [
    {
     "data": {
      "text/plain": [
       "((179, 18), (179,), (36, 18), (143, 18), (36,), (143,))"
      ]
     },
     "execution_count": 101,
     "metadata": {},
     "output_type": "execute_result"
    }
   ],
   "source": [
    "''' 11. Code to create the models and fit to training data. ( 3 pts each)) '''\n",
    "X.shape,y.shape, X_test.shape, X_train.shape, y_test.shape, y_train.shape"
   ]
  },
  {
   "cell_type": "code",
   "execution_count": 102,
   "metadata": {},
   "outputs": [
    {
     "data": {
      "text/plain": [
       "KNeighborsClassifier(algorithm='auto', leaf_size=30, metric='euclidean',\n",
       "                     metric_params=None, n_jobs=None, n_neighbors=5, p=2,\n",
       "                     weights='uniform')"
      ]
     },
     "execution_count": 102,
     "metadata": {},
     "output_type": "execute_result"
    }
   ],
   "source": [
    "''' 12. Code to predict to test set (3 pts each) '''\n",
    "# Make classifier and Fit to the Training data\n",
    "from sklearn.neighbors import KNeighborsClassifier\n",
    "knn_model = KNeighborsClassifier(n_neighbors = 5, metric = 'euclidean')                                         \n",
    "knn_model.fit(X_train, y_train)"
   ]
  },
  {
   "cell_type": "markdown",
   "metadata": {},
   "source": [
    "** Prediction **"
   ]
  },
  {
   "cell_type": "code",
   "execution_count": 112,
   "metadata": {},
   "outputs": [
    {
     "data": {
      "text/plain": [
       "(36,)"
      ]
     },
     "execution_count": 112,
     "metadata": {},
     "output_type": "execute_result"
    }
   ],
   "source": [
    "# Pred the Test set results\n",
    "preds = knn_model.predict(X_test)\n",
    "preds.shape"
   ]
  },
  {
   "cell_type": "markdown",
   "metadata": {},
   "source": [
    "** Results **"
   ]
  },
  {
   "cell_type": "code",
   "execution_count": 113,
   "metadata": {},
   "outputs": [
    {
     "name": "stdout",
     "output_type": "stream",
     "text": [
      "Confusion Matrix for Test Data:\n",
      "[[0 0 0 0 3 1 0 0 1 0]\n",
      " [0 1 0 0 0 0 0 0 0 0]\n",
      " [0 0 0 0 2 0 0 0 0 0]\n",
      " [1 0 1 0 0 0 0 0 0 0]\n",
      " [0 0 0 0 3 0 0 0 1 0]\n",
      " [1 0 0 0 4 0 0 0 0 0]\n",
      " [0 0 0 0 1 0 0 0 0 0]\n",
      " [0 0 0 0 1 0 0 0 0 0]\n",
      " [0 0 0 0 4 0 0 2 6 0]\n",
      " [0 0 0 0 0 0 0 0 0 3]]\n"
     ]
    }
   ],
   "source": [
    "''' 13. Code to display the confusion matrix for the test and the training data (5) '''\n",
    "# Make the Confusion Matrix and calc test error rate\n",
    "from sklearn.metrics import confusion_matrix\n",
    "cm_test = confusion_matrix(y_test, preds)\n",
    "print(\"Confusion Matrix for Test Data:\")\n",
    "print(cm_test)"
   ]
  },
  {
   "cell_type": "code",
   "execution_count": 114,
   "metadata": {},
   "outputs": [
    {
     "name": "stdout",
     "output_type": "stream",
     "text": [
      "Confusion Matrix for Training Data:\n",
      "[[14  0  0  0  2  0  0  0  0  3  2]\n",
      " [ 0  1  0  0  0  0  0  0  0  0  0]\n",
      " [ 3  0  2  1  2  0  0  0  0  0  0]\n",
      " [ 1  1  0  2  0  0  0  0  0  0  0]\n",
      " [ 1  0  1  0 34  0  0  0  0  0  2]\n",
      " [ 1  0  0  0  3  1  0  0  0  1  1]\n",
      " [ 1  0  0  0  1  0  0  0  0  0  0]\n",
      " [ 0  0  0  0  2  0  0  0  0  0  0]\n",
      " [ 3  0  0  0  4  0  0  0  3  1  0]\n",
      " [ 0  0  0  1  3  0  0  0  0 31  0]\n",
      " [ 0  0  0  0  2  0  0  0  0  0 12]]\n"
     ]
    }
   ],
   "source": [
    "# Make the Confusion Matrix for the training data\n",
    "from sklearn.metrics import confusion_matrix\n",
    "preds_train = knn_model.predict(X_train)\n",
    "cm_train = confusion_matrix(y_train, preds_train)\n",
    "print(\"Confusion Matrix for Training Data:\")\n",
    "print(cm_train)"
   ]
  },
  {
   "cell_type": "code",
   "execution_count": 115,
   "metadata": {},
   "outputs": [
    {
     "name": "stdout",
     "output_type": "stream",
     "text": [
      "The accuracy on the test set is 0.36\n",
      "The error on the training set is 0.3\n"
     ]
    }
   ],
   "source": [
    "''' 14. Code to calculate the accuracy of the test data. and code to calculate the error \n",
    "rate for the training data.(4) '''\n",
    "test_accuracy = np.trace(cm_test)/np.sum(cm_test)\n",
    "print(f\"The accuracy on the test set is {round(test_accuracy,2)}\")\n",
    "training_error = 1 - np.trace(cm_train)/np.sum(cm_train)\n",
    "print(f\"The error on the training set is {round(training_error,2)}\")"
   ]
  },
  {
   "cell_type": "code",
   "execution_count": null,
   "metadata": {
    "collapsed": true
   },
   "outputs": [],
   "source": []
  }
 ],
 "metadata": {
  "kernelspec": {
   "display_name": "Python 3",
   "language": "python",
   "name": "python3"
  },
  "language_info": {
   "codemirror_mode": {
    "name": "ipython",
    "version": 3
   },
   "file_extension": ".py",
   "mimetype": "text/x-python",
   "name": "python",
   "nbconvert_exporter": "python",
   "pygments_lexer": "ipython3",
   "version": "3.8.5"
  },
  "varInspector": {
   "cols": {
    "lenName": 16,
    "lenType": 16,
    "lenVar": 40
   },
   "kernels_config": {
    "python": {
     "delete_cmd_postfix": "",
     "delete_cmd_prefix": "del ",
     "library": "var_list.py",
     "varRefreshCmd": "print(var_dic_list())"
    },
    "r": {
     "delete_cmd_postfix": ") ",
     "delete_cmd_prefix": "rm(",
     "library": "var_list.r",
     "varRefreshCmd": "cat(var_dic_list()) "
    }
   },
   "types_to_exclude": [
    "module",
    "function",
    "builtin_function_or_method",
    "instance",
    "_Feature"
   ],
   "window_display": false
  }
 },
 "nbformat": 4,
 "nbformat_minor": 2
}
