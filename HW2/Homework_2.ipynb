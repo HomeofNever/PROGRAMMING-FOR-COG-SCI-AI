{
 "cells": [
  {
   "cell_type": "markdown",
   "metadata": {},
   "source": [
    "## Homework\n",
    "\n",
    "Due 10/16 11:59pm\n",
    "\n",
    "Name your submission yourRCSID_HW2.ipynb"
   ]
  },
  {
   "cell_type": "code",
   "execution_count": 391,
   "metadata": {},
   "outputs": [],
   "source": [
    "import warnings\n",
    "warnings.simplefilter(action='ignore', category=FutureWarning)\n",
    "warnings.simplefilter(action='ignore', category=UserWarning)\n",
    "\n",
    "import numpy as np\n",
    "import numpy.linalg as la\n",
    "import pandas as pd\n",
    "from scipy import stats\n",
    "import seaborn as sns\n",
    "import matplotlib.pyplot as plt\n",
    "from matplotlib.colors import ListedColormap\n",
    "%matplotlib inline"
   ]
  },
  {
   "cell_type": "code",
   "execution_count": 392,
   "metadata": {},
   "outputs": [],
   "source": [
    "from sklearn.linear_model import LogisticRegression\n",
    "from sklearn.svm import SVC\n",
    "from sklearn.neighbors import KNeighborsClassifier\n",
    "\n",
    "from sklearn.impute import SimpleImputer\n",
    "from sklearn.preprocessing import LabelEncoder,StandardScaler,MinMaxScaler\n",
    "from sklearn.model_selection import train_test_split\n",
    "from sklearn.metrics import confusion_matrix,roc_curve,auc\n"
   ]
  },
  {
   "cell_type": "code",
   "execution_count": 393,
   "metadata": {},
   "outputs": [],
   "source": [
    "\n",
    "def plot_decision_boundary(model,X_data,y_data):\n",
    "    fig,ax = plt.subplots()\n",
    "    # Make grid: min to max of 1st column, min to max of 2nd column in small increments\n",
    "    X1,X2 = np.meshgrid(np.arange(X_data[:, 0].min() - 1, X_data[:, 0].max() + 1, step = 0.01),\n",
    "                     np.arange(X_data[:, 1].min() - 1, X_data[:, 1].max() + 1, step = 0.01))\n",
    "    # Flatten X1 and X2, create an array and transpose to a 2-column array (one for each feature)\n",
    "    v = np.array([X1.ravel(), X2.ravel()]).T\n",
    "    #  Using fitted model, predict the points in v and reshape to a 2-dimensional array\n",
    "    ax.contourf(X1, X2, model.predict(v).reshape(X1.shape),alpha = 0.75,cmap = ListedColormap(('magenta','cyan')))\n",
    "    ax.set_xlim(X1.min(), X1.max())\n",
    "    ax.set_ylim(X2.min(), X2.max())\n",
    "    for i, j in enumerate(np.unique(y_data)): # For each class\n",
    "        ax.scatter(X_data[y_data == j, 0], X_data[y_data == j, 1],\n",
    "                c = np.array(ListedColormap(('white', 'black'))(i)).reshape(1,-1), \n",
    "                                            label = j)\n",
    "    ax.set_title('Decision Boundary');"
   ]
  },
  {
   "cell_type": "markdown",
   "metadata": {},
   "source": [
    "### The homework has three parts.\n",
    "\n",
    "#### Part 1: (80 pts).\n",
    "Data Analysis of a dataset with  three different  Classification algorithms.  \n",
    "\n",
    "Exploratory Data Analysis and Data Preprocessing (20 pts)  \n",
    "Generic Preprocessing, Classification Model and Results (20 pts)  \n",
    "KNN Model (15 pts)  \n",
    "Logistic Regression Model (10 pts)  \n",
    "Support Vector Machine Model (15 pts)  \n",
    "\n",
    "#### Part 2: (10 pts)\n",
    "A PyTorch model of the dataset.\n",
    "#### Part 3: (10 pts)\n",
    "Two Linear Algebra questions"
   ]
  },
  {
   "cell_type": "markdown",
   "metadata": {},
   "source": [
    "### Data\n",
    "\n",
    "#### Goal\n",
    "\n",
    "Clasify the features into no/yes classes."
   ]
  },
  {
   "cell_type": "code",
   "execution_count": 394,
   "metadata": {},
   "outputs": [
    {
     "data": {
      "text/html": [
       "<div>\n",
       "<style scoped>\n",
       "    .dataframe tbody tr th:only-of-type {\n",
       "        vertical-align: middle;\n",
       "    }\n",
       "\n",
       "    .dataframe tbody tr th {\n",
       "        vertical-align: top;\n",
       "    }\n",
       "\n",
       "    .dataframe thead th {\n",
       "        text-align: right;\n",
       "    }\n",
       "</style>\n",
       "<table border=\"1\" class=\"dataframe\">\n",
       "  <thead>\n",
       "    <tr style=\"text-align: right;\">\n",
       "      <th></th>\n",
       "      <th>feat1</th>\n",
       "      <th>feat2</th>\n",
       "      <th>feat3</th>\n",
       "      <th>feat4</th>\n",
       "      <th>feat5</th>\n",
       "      <th>feat6</th>\n",
       "      <th>feat7</th>\n",
       "      <th>feat8</th>\n",
       "      <th>Class</th>\n",
       "    </tr>\n",
       "  </thead>\n",
       "  <tbody>\n",
       "    <tr>\n",
       "      <th>763</th>\n",
       "      <td>10</td>\n",
       "      <td>101.0</td>\n",
       "      <td>76</td>\n",
       "      <td>48</td>\n",
       "      <td>180</td>\n",
       "      <td>32.9</td>\n",
       "      <td>0.171</td>\n",
       "      <td>63</td>\n",
       "      <td>no</td>\n",
       "    </tr>\n",
       "    <tr>\n",
       "      <th>764</th>\n",
       "      <td>2</td>\n",
       "      <td>122.0</td>\n",
       "      <td>70</td>\n",
       "      <td>27</td>\n",
       "      <td>0</td>\n",
       "      <td>36.8</td>\n",
       "      <td>0.340</td>\n",
       "      <td>27</td>\n",
       "      <td>no</td>\n",
       "    </tr>\n",
       "    <tr>\n",
       "      <th>765</th>\n",
       "      <td>5</td>\n",
       "      <td>NaN</td>\n",
       "      <td>72</td>\n",
       "      <td>23</td>\n",
       "      <td>112</td>\n",
       "      <td>26.2</td>\n",
       "      <td>0.245</td>\n",
       "      <td>30</td>\n",
       "      <td>no</td>\n",
       "    </tr>\n",
       "    <tr>\n",
       "      <th>766</th>\n",
       "      <td>1</td>\n",
       "      <td>126.0</td>\n",
       "      <td>60</td>\n",
       "      <td>0</td>\n",
       "      <td>0</td>\n",
       "      <td>30.1</td>\n",
       "      <td>0.349</td>\n",
       "      <td>47</td>\n",
       "      <td>yes</td>\n",
       "    </tr>\n",
       "    <tr>\n",
       "      <th>767</th>\n",
       "      <td>1</td>\n",
       "      <td>93.0</td>\n",
       "      <td>70</td>\n",
       "      <td>31</td>\n",
       "      <td>0</td>\n",
       "      <td>30.4</td>\n",
       "      <td>0.315</td>\n",
       "      <td>23</td>\n",
       "      <td>no</td>\n",
       "    </tr>\n",
       "  </tbody>\n",
       "</table>\n",
       "</div>"
      ],
      "text/plain": [
       "     feat1  feat2  feat3  feat4  feat5  feat6  feat7  feat8 Class\n",
       "763     10  101.0     76     48    180   32.9  0.171     63    no\n",
       "764      2  122.0     70     27      0   36.8  0.340     27    no\n",
       "765      5    NaN     72     23    112   26.2  0.245     30    no\n",
       "766      1  126.0     60      0      0   30.1  0.349     47   yes\n",
       "767      1   93.0     70     31      0   30.4  0.315     23    no"
      ]
     },
     "execution_count": 394,
     "metadata": {},
     "output_type": "execute_result"
    }
   ],
   "source": [
    "df = pd.read_csv(\"HW2.csv\")\n",
    "df.tail()"
   ]
  },
  {
   "cell_type": "markdown",
   "metadata": {},
   "source": [
    "### Part 1  Exploratory Data Analysis & Data Preprocessing\n",
    "\n",
    "Provide descriptive statistics and visualizations of the dataset. (10pts)  \n",
    "\n"
   ]
  },
  {
   "cell_type": "code",
   "execution_count": 395,
   "metadata": {},
   "outputs": [
    {
     "data": {
      "text/html": [
       "<div>\n",
       "<style scoped>\n",
       "    .dataframe tbody tr th:only-of-type {\n",
       "        vertical-align: middle;\n",
       "    }\n",
       "\n",
       "    .dataframe tbody tr th {\n",
       "        vertical-align: top;\n",
       "    }\n",
       "\n",
       "    .dataframe thead th {\n",
       "        text-align: right;\n",
       "    }\n",
       "</style>\n",
       "<table border=\"1\" class=\"dataframe\">\n",
       "  <thead>\n",
       "    <tr style=\"text-align: right;\">\n",
       "      <th></th>\n",
       "      <th>feat1</th>\n",
       "      <th>feat2</th>\n",
       "      <th>feat3</th>\n",
       "      <th>feat4</th>\n",
       "      <th>feat5</th>\n",
       "      <th>feat6</th>\n",
       "      <th>feat7</th>\n",
       "      <th>feat8</th>\n",
       "    </tr>\n",
       "  </thead>\n",
       "  <tbody>\n",
       "    <tr>\n",
       "      <th>count</th>\n",
       "      <td>768.000000</td>\n",
       "      <td>762.000000</td>\n",
       "      <td>768.000000</td>\n",
       "      <td>768.000000</td>\n",
       "      <td>768.000000</td>\n",
       "      <td>768.000000</td>\n",
       "      <td>768.000000</td>\n",
       "      <td>768.000000</td>\n",
       "    </tr>\n",
       "    <tr>\n",
       "      <th>mean</th>\n",
       "      <td>3.845052</td>\n",
       "      <td>120.893701</td>\n",
       "      <td>69.105469</td>\n",
       "      <td>20.536458</td>\n",
       "      <td>79.799479</td>\n",
       "      <td>31.992578</td>\n",
       "      <td>0.471876</td>\n",
       "      <td>33.240885</td>\n",
       "    </tr>\n",
       "    <tr>\n",
       "      <th>std</th>\n",
       "      <td>3.369578</td>\n",
       "      <td>32.098411</td>\n",
       "      <td>19.355807</td>\n",
       "      <td>15.952218</td>\n",
       "      <td>115.244002</td>\n",
       "      <td>7.884160</td>\n",
       "      <td>0.331329</td>\n",
       "      <td>11.760232</td>\n",
       "    </tr>\n",
       "    <tr>\n",
       "      <th>min</th>\n",
       "      <td>0.000000</td>\n",
       "      <td>0.000000</td>\n",
       "      <td>0.000000</td>\n",
       "      <td>0.000000</td>\n",
       "      <td>0.000000</td>\n",
       "      <td>0.000000</td>\n",
       "      <td>0.078000</td>\n",
       "      <td>21.000000</td>\n",
       "    </tr>\n",
       "    <tr>\n",
       "      <th>25%</th>\n",
       "      <td>1.000000</td>\n",
       "      <td>99.000000</td>\n",
       "      <td>62.000000</td>\n",
       "      <td>0.000000</td>\n",
       "      <td>0.000000</td>\n",
       "      <td>27.300000</td>\n",
       "      <td>0.243750</td>\n",
       "      <td>24.000000</td>\n",
       "    </tr>\n",
       "    <tr>\n",
       "      <th>50%</th>\n",
       "      <td>3.000000</td>\n",
       "      <td>117.000000</td>\n",
       "      <td>72.000000</td>\n",
       "      <td>23.000000</td>\n",
       "      <td>30.500000</td>\n",
       "      <td>32.000000</td>\n",
       "      <td>0.372500</td>\n",
       "      <td>29.000000</td>\n",
       "    </tr>\n",
       "    <tr>\n",
       "      <th>75%</th>\n",
       "      <td>6.000000</td>\n",
       "      <td>141.000000</td>\n",
       "      <td>80.000000</td>\n",
       "      <td>32.000000</td>\n",
       "      <td>127.250000</td>\n",
       "      <td>36.600000</td>\n",
       "      <td>0.626250</td>\n",
       "      <td>41.000000</td>\n",
       "    </tr>\n",
       "    <tr>\n",
       "      <th>max</th>\n",
       "      <td>17.000000</td>\n",
       "      <td>199.000000</td>\n",
       "      <td>122.000000</td>\n",
       "      <td>99.000000</td>\n",
       "      <td>846.000000</td>\n",
       "      <td>67.100000</td>\n",
       "      <td>2.420000</td>\n",
       "      <td>81.000000</td>\n",
       "    </tr>\n",
       "  </tbody>\n",
       "</table>\n",
       "</div>"
      ],
      "text/plain": [
       "            feat1       feat2       feat3       feat4       feat5       feat6  \\\n",
       "count  768.000000  762.000000  768.000000  768.000000  768.000000  768.000000   \n",
       "mean     3.845052  120.893701   69.105469   20.536458   79.799479   31.992578   \n",
       "std      3.369578   32.098411   19.355807   15.952218  115.244002    7.884160   \n",
       "min      0.000000    0.000000    0.000000    0.000000    0.000000    0.000000   \n",
       "25%      1.000000   99.000000   62.000000    0.000000    0.000000   27.300000   \n",
       "50%      3.000000  117.000000   72.000000   23.000000   30.500000   32.000000   \n",
       "75%      6.000000  141.000000   80.000000   32.000000  127.250000   36.600000   \n",
       "max     17.000000  199.000000  122.000000   99.000000  846.000000   67.100000   \n",
       "\n",
       "            feat7       feat8  \n",
       "count  768.000000  768.000000  \n",
       "mean     0.471876   33.240885  \n",
       "std      0.331329   11.760232  \n",
       "min      0.078000   21.000000  \n",
       "25%      0.243750   24.000000  \n",
       "50%      0.372500   29.000000  \n",
       "75%      0.626250   41.000000  \n",
       "max      2.420000   81.000000  "
      ]
     },
     "execution_count": 395,
     "metadata": {},
     "output_type": "execute_result"
    }
   ],
   "source": [
    "df.describe()"
   ]
  },
  {
   "cell_type": "code",
   "execution_count": 396,
   "metadata": {},
   "outputs": [
    {
     "data": {
      "image/png": "[encoded data removed]",
      "text/plain": [
       "<Figure size 864x432 with 8 Axes>"
      ]
     },
     "metadata": {
      "needs_background": "light"
     },
     "output_type": "display_data"
    }
   ],
   "source": [
    "###Hint:\n",
    "### Use this code to display eight plots in an 2x4 array\n",
    "fig,((ax1,ax2,ax3,ax4),(ax5,ax6,ax7,ax8))=plt.subplots(2,4,figsize = (12,6))\n",
    "df_yes = df.loc[df['Class']=='yes']\n",
    "df_no = df.loc[df['Class']=='no']\n",
    "for i,ax in enumerate((ax1,ax2,ax3,ax4,ax5,ax6,ax7,ax8)):    \n",
    "    sns.distplot(df_yes.iloc[:,i], hist = False, ax = ax)\n",
    "    sns.distplot(df_no.iloc[:,i], hist = False, ax = ax)\n",
    "plt.tight_layout()"
   ]
  },
  {
   "cell_type": "markdown",
   "metadata": {},
   "source": [
    "#### Data Preprocessing\n",
    "\n",
    "Use sklearn SimpleImputer to process missing values (5pts)"
   ]
  },
  {
   "cell_type": "code",
   "execution_count": 397,
   "metadata": {
    "scrolled": true
   },
   "outputs": [
    {
     "data": {
      "text/html": [
       "<div>\n",
       "<style scoped>\n",
       "    .dataframe tbody tr th:only-of-type {\n",
       "        vertical-align: middle;\n",
       "    }\n",
       "\n",
       "    .dataframe tbody tr th {\n",
       "        vertical-align: top;\n",
       "    }\n",
       "\n",
       "    .dataframe thead th {\n",
       "        text-align: right;\n",
       "    }\n",
       "</style>\n",
       "<table border=\"1\" class=\"dataframe\">\n",
       "  <thead>\n",
       "    <tr style=\"text-align: right;\">\n",
       "      <th></th>\n",
       "      <th>feat1</th>\n",
       "      <th>feat2</th>\n",
       "      <th>feat3</th>\n",
       "      <th>feat4</th>\n",
       "      <th>feat5</th>\n",
       "      <th>feat6</th>\n",
       "      <th>feat7</th>\n",
       "      <th>feat8</th>\n",
       "      <th>Class</th>\n",
       "    </tr>\n",
       "  </thead>\n",
       "  <tbody>\n",
       "    <tr>\n",
       "      <th>763</th>\n",
       "      <td>10.0</td>\n",
       "      <td>101.0</td>\n",
       "      <td>76.0</td>\n",
       "      <td>48.0</td>\n",
       "      <td>180.0</td>\n",
       "      <td>32.9</td>\n",
       "      <td>0.171</td>\n",
       "      <td>63.0</td>\n",
       "      <td>no</td>\n",
       "    </tr>\n",
       "    <tr>\n",
       "      <th>764</th>\n",
       "      <td>2.0</td>\n",
       "      <td>122.0</td>\n",
       "      <td>70.0</td>\n",
       "      <td>27.0</td>\n",
       "      <td>0.0</td>\n",
       "      <td>36.8</td>\n",
       "      <td>0.340</td>\n",
       "      <td>27.0</td>\n",
       "      <td>no</td>\n",
       "    </tr>\n",
       "    <tr>\n",
       "      <th>765</th>\n",
       "      <td>5.0</td>\n",
       "      <td>99.0</td>\n",
       "      <td>72.0</td>\n",
       "      <td>23.0</td>\n",
       "      <td>112.0</td>\n",
       "      <td>26.2</td>\n",
       "      <td>0.245</td>\n",
       "      <td>30.0</td>\n",
       "      <td>no</td>\n",
       "    </tr>\n",
       "    <tr>\n",
       "      <th>766</th>\n",
       "      <td>1.0</td>\n",
       "      <td>126.0</td>\n",
       "      <td>60.0</td>\n",
       "      <td>0.0</td>\n",
       "      <td>0.0</td>\n",
       "      <td>30.1</td>\n",
       "      <td>0.349</td>\n",
       "      <td>47.0</td>\n",
       "      <td>yes</td>\n",
       "    </tr>\n",
       "    <tr>\n",
       "      <th>767</th>\n",
       "      <td>1.0</td>\n",
       "      <td>93.0</td>\n",
       "      <td>70.0</td>\n",
       "      <td>31.0</td>\n",
       "      <td>0.0</td>\n",
       "      <td>30.4</td>\n",
       "      <td>0.315</td>\n",
       "      <td>23.0</td>\n",
       "      <td>no</td>\n",
       "    </tr>\n",
       "  </tbody>\n",
       "</table>\n",
       "</div>"
      ],
      "text/plain": [
       "     feat1  feat2  feat3  feat4  feat5  feat6  feat7  feat8 Class\n",
       "763   10.0  101.0   76.0   48.0  180.0   32.9  0.171   63.0    no\n",
       "764    2.0  122.0   70.0   27.0    0.0   36.8  0.340   27.0    no\n",
       "765    5.0   99.0   72.0   23.0  112.0   26.2  0.245   30.0    no\n",
       "766    1.0  126.0   60.0    0.0    0.0   30.1  0.349   47.0   yes\n",
       "767    1.0   93.0   70.0   31.0    0.0   30.4  0.315   23.0    no"
      ]
     },
     "execution_count": 397,
     "metadata": {},
     "output_type": "execute_result"
    }
   ],
   "source": [
    "imp= SimpleImputer(missing_values=np.nan, strategy='most_frequent')\n",
    "df.iloc[:,0:8] = imp.fit_transform(df.iloc[:,0:8])\n",
    "df.tail()"
   ]
  },
  {
   "cell_type": "markdown",
   "metadata": {},
   "source": [
    "#### Check for zeros in the features\n",
    "\n",
    "Use sklearn SimpleImputer to replace the zeros in features feat4 and feat5 with the means of the feature (5pts)"
   ]
  },
  {
   "cell_type": "code",
   "execution_count": 398,
   "metadata": {},
   "outputs": [
    {
     "name": "stdout",
     "output_type": "stream",
     "text": [
      "feat1  111\n",
      "feat2  5\n",
      "feat3  35\n",
      "feat4  227\n",
      "feat5  374\n",
      "feat6  11\n",
      "feat7  0\n",
      "feat8  0\n",
      "Class  0\n"
     ]
    }
   ],
   "source": [
    "for col in df.columns:\n",
    "    print(f'{col}  {np.sum(df[col] == 0)}')"
   ]
  },
  {
   "cell_type": "code",
   "execution_count": 399,
   "metadata": {},
   "outputs": [],
   "source": [
    "imp = SimpleImputer(missing_values=0, strategy='mean')\n",
    "df[['feat4', 'feat5']] = imp.fit_transform(df[['feat4', 'feat5']])"
   ]
  },
  {
   "cell_type": "markdown",
   "metadata": {},
   "source": [
    "### Generic Preprocessing, Model & Results\n",
    "\n",
    "Complete the code in run_model (14 pts)"
   ]
  },
  {
   "cell_type": "code",
   "execution_count": 400,
   "metadata": {},
   "outputs": [],
   "source": [
    "def run_model(model,X,y):\n",
    "    '''\n",
    "    Inputs:\n",
    "    model: a sklearn machine learning object\n",
    "    X: numpy array of features\n",
    "    y: numpy vector of target variable\n",
    "    \n",
    "    Returns:\n",
    "    model: fitted model\n",
    "    X_test: test data for feature\n",
    "    y_test: test data for target'''\n",
    "    \n",
    "    # Train/Test Split\n",
    "    # Your Code Here \n",
    "    X_train, X_test, y_train, y_test = train_test_split(X, y, test_size = 0.2, random_state=1234)\n",
    "                                                       \n",
    "    # Scaling\n",
    "    # Your Code Here\n",
    "    scaler = StandardScaler()\n",
    "    X_train = scaler.fit_transform(X_train)\n",
    "    X_test  = scaler.transform(X_test)\n",
    "\n",
    "    print(X_train.shape,X_test.shape,y_train.shape,y_test.shape)\n",
    "\n",
    "    # Model\n",
    "    print(model)\n",
    "    # Fit the training data\n",
    "    # Your Code Here\n",
    "    model.fit(X_train, y_train)\n",
    "    \n",
    "    # Predict the test data\n",
    "    # Your Code Here\n",
    "    predictions = model.predict(X_test)\n",
    "\n",
    "    # Calculate the accuracy, error,precision,recall and f1\n",
    "    # Your Code Here\n",
    "    cm = confusion_matrix(y_test,predictions)\n",
    "    \n",
    "    tn, fp, fn, tp = cm[0,0],cm[0,1],cm[1,0], cm[1,1]\n",
    "    accuracy = np.trace(cm)/np.sum(cm)\n",
    "    error = (fp+fn) / np.sum(cm)\n",
    "    recall = tp / (tp+fn)\n",
    "    precision = tp / (tp+fp)\n",
    "    f1 = (2 * recall * precision) / (recall + precision)\n",
    "    \n",
    "    print(\"Confusion Matrix:\")\n",
    "    print(cm)\n",
    "    print(f'Accuracy: {accuracy}\\nError: {error}')\n",
    "    print(f'Precision: {precision}\\nRecall: {recall}\\nF1: {f1}')\n",
    "   \n",
    "    return model,X_test,y_test"
   ]
  },
  {
   "cell_type": "markdown",
   "metadata": {},
   "source": [
    "#### Display ROC, Auc and Decision Boundary\n",
    "\n",
    "Complete the code in Classification Plots (6 pts)"
   ]
  },
  {
   "cell_type": "code",
   "execution_count": 401,
   "metadata": {},
   "outputs": [],
   "source": [
    "def classification_plots (model,X_data,y_data):\n",
    "    # Calculate class probabilities for each data point\n",
    "    # Your Code Here\n",
    "    ypp = model.predict_proba(X_data)\n",
    "    \n",
    "    # Calculate false positive (fpr) rate and true positive rate (tpr)\n",
    "    # Your Code Here\n",
    "    fpr, tpr, thresholds = roc_curve(y_data, ypp[:, 1])\n",
    "    \n",
    "    # Calculate AUC (roc_auc)\n",
    "    # Your Code Here\n",
    "    roc_auc = auc(fpr, tpr)\n",
    "\n",
    "    #### Plot ROC curves \n",
    "\n",
    "    plt.title('Receiver Operating Characteristic')\n",
    "    plt.plot(fpr, tpr, 'b', label = 'AUC = %0.2f' % roc_auc)\n",
    "    plt.legend(loc = 'lower right')\n",
    "    plt.plot([0, 1], [0, 1],'r--')\n",
    "    plt.xlim([0, 1])\n",
    "    plt.ylim([0, 1])\n",
    "    plt.ylabel('True Positive Rate')\n",
    "    plt.xlabel('False Positive Rate');\n",
    "\n",
    "#### Decision Boundary plot\n",
    "\n",
    "    plot_decision_boundary(model,X_data,y_data)"
   ]
  },
  {
   "cell_type": "markdown",
   "metadata": {},
   "source": [
    " \n",
    "### K-nearest Neighbor  Model\n",
    "\n",
    "https://scikit-learn.org/stable/modules/generated/sklearn.neighbors.KNeighborsClassifier.html"
   ]
  },
  {
   "cell_type": "markdown",
   "metadata": {},
   "source": [
    "* Classification algorithm\n",
    "    - Classify a point according to the the class of its K closest neighbors\n",
    "* Regression algorithm\n",
    "    - Assign y value to the mean of the K closest neighbors\n",
    "* Closest determined by some distance measure\n",
    "* Simple algorithm but often gives very good results\n",
    "* Lazy learner: just uses the training data, it doesn't have any learned parameters  \n",
    "* K is a hyperparameter\n",
    "    - How to choose the best K?\n",
    "* A **hyperparameter** is a parameter that controls the learning process.  \n",
    "    - It is not learned but must be tuned by the modeler.\n",
    "\n"
   ]
  },
  {
   "cell_type": "markdown",
   "metadata": {},
   "source": [
    "### KNN Algorithm\n",
    "\n",
    "1. Choose K (the number of neighbors to use)\n",
    "2. Find the K nearest neighbors to the new point $x_{new}$ using a distance measure (most common is Euclidean Distance)  \n",
    "\n",
    "<div style=\"font-size: 110%;\">\n",
    "    $$\\text{Euclidean distance between two points }(x_1,y_1),(x_2,y_2) = \\sqrt{(x_1 - x_2)^2 + (y_1 - y_2)^2}$$\n",
    "</div>\n",
    " \n",
    "3. Among these K neighbors count the number in each category (i.e. class)\n",
    "4. Assign the new point the category  with the highest count\n",
    "\n",
    "\n",
    "* The algorithm estimates the conditional probability for class j as the fraction of points in $N_{new}$ with response value j and classifies $X_{new}$ to the class with highest probability.\n",
    "\n",
    "$$Pr(Y=j|X=x_{new}) = \\frac{1}{K}\\sum_{i\\in{N_{new}}}I(y_i=j)$$\n",
    "\n",
    "### Distance Measures\n",
    "\n",
    " http://scikit-learn.org/stable/modules/generated/sklearn.neighbors.DistanceMetric.html\n",
    "\n",
    "\n"
   ]
  },
  {
   "cell_type": "markdown",
   "metadata": {},
   "source": [
    "### KNN Model\n",
    "\n",
    "Function to run KNN model with 1 hyperparameter (the number of nearest neighbors. ) \n",
    "\n",
    "Inputs: Features, target, list of hyperparameters\n",
    "\n",
    "Returns the average score over the number of iterations, the model, the X test data and the y test data."
   ]
  },
  {
   "cell_type": "markdown",
   "metadata": {},
   "source": [
    "#### run_knn (10 pts)\n",
    "\n",
    "Complete the code in run_knn."
   ]
  },
  {
   "cell_type": "code",
   "execution_count": 402,
   "metadata": {},
   "outputs": [],
   "source": [
    "def run_knn(X,y,hyperparams,iter=5):\n",
    "    avg_scores = np.zeros(len(hyperparams))\n",
    "    # Loop to instantiate and run model iter times with different hyperparameters\n",
    "    # Your Code Here\n",
    "    X_train, X_test, y_train, y_test = train_test_split(X, y, test_size=0.2, random_state = 1234)\n",
    "\n",
    "    for i in range(len(hyperparams)):\n",
    "        model = KNeighborsClassifier(n_neighbors = hyperparams[i])\n",
    "        for j in range(iter):\n",
    "            model, X_test, y_test = run_model(model, X, y)\n",
    "            avg_scores[i] += model.score(X_test, y_test)\n",
    "        \n",
    "        avg_scores[i] /= iter\n",
    "            \n",
    "    \n",
    "    return avg_scores,model,X_test,y_test\n",
    "        "
   ]
  },
  {
   "cell_type": "markdown",
   "metadata": {},
   "source": [
    "#### Run KNN model with all the features (2pts)\n",
    "\n",
    "Features: All  \n",
    "Hyperparameters: (1,5,10)  \n",
    "Number of iterations for each hyperparameter: 5"
   ]
  },
  {
   "cell_type": "code",
   "execution_count": 403,
   "metadata": {},
   "outputs": [
    {
     "name": "stdout",
     "output_type": "stream",
     "text": [
      "(614, 8) (154, 8) (614,) (154,)\n",
      "KNeighborsClassifier(n_neighbors=1)\n",
      "Confusion Matrix:\n",
      "[[74 25]\n",
      " [32 23]]\n",
      "Accuracy: 0.6298701298701299\n",
      "Error: 0.37012987012987014\n",
      "Precision: 0.4791666666666667\n",
      "Recall: 0.41818181818181815\n",
      "F1: 0.44660194174757284\n",
      "(614, 8) (154, 8) (614,) (154,)\n",
      "KNeighborsClassifier(n_neighbors=1)\n",
      "Confusion Matrix:\n",
      "[[74 25]\n",
      " [32 23]]\n",
      "Accuracy: 0.6298701298701299\n",
      "Error: 0.37012987012987014\n",
      "Precision: 0.4791666666666667\n",
      "Recall: 0.41818181818181815\n",
      "F1: 0.44660194174757284\n",
      "(614, 8) (154, 8) (614,) (154,)\n",
      "KNeighborsClassifier(n_neighbors=1)\n",
      "Confusion Matrix:\n",
      "[[74 25]\n",
      " [32 23]]\n",
      "Accuracy: 0.6298701298701299\n",
      "Error: 0.37012987012987014\n",
      "Precision: 0.4791666666666667\n",
      "Recall: 0.41818181818181815\n",
      "F1: 0.44660194174757284\n",
      "(614, 8) (154, 8) (614,) (154,)\n",
      "KNeighborsClassifier(n_neighbors=1)\n",
      "Confusion Matrix:\n",
      "[[74 25]\n",
      " [32 23]]\n",
      "Accuracy: 0.6298701298701299\n",
      "Error: 0.37012987012987014\n",
      "Precision: 0.4791666666666667\n",
      "Recall: 0.41818181818181815\n",
      "F1: 0.44660194174757284\n",
      "(614, 8) (154, 8) (614,) (154,)\n",
      "KNeighborsClassifier(n_neighbors=1)\n",
      "Confusion Matrix:\n",
      "[[74 25]\n",
      " [32 23]]\n",
      "Accuracy: 0.6298701298701299\n",
      "Error: 0.37012987012987014\n",
      "Precision: 0.4791666666666667\n",
      "Recall: 0.41818181818181815\n",
      "F1: 0.44660194174757284\n",
      "(614, 8) (154, 8) (614,) (154,)\n",
      "KNeighborsClassifier()\n",
      "Confusion Matrix:\n",
      "[[85 14]\n",
      " [29 26]]\n",
      "Accuracy: 0.7207792207792207\n",
      "Error: 0.2792207792207792\n",
      "Precision: 0.65\n",
      "Recall: 0.4727272727272727\n",
      "F1: 0.5473684210526315\n",
      "(614, 8) (154, 8) (614,) (154,)\n",
      "KNeighborsClassifier()\n",
      "Confusion Matrix:\n",
      "[[85 14]\n",
      " [29 26]]\n",
      "Accuracy: 0.7207792207792207\n",
      "Error: 0.2792207792207792\n",
      "Precision: 0.65\n",
      "Recall: 0.4727272727272727\n",
      "F1: 0.5473684210526315\n",
      "(614, 8) (154, 8) (614,) (154,)\n",
      "KNeighborsClassifier()\n",
      "Confusion Matrix:\n",
      "[[85 14]\n",
      " [29 26]]\n",
      "Accuracy: 0.7207792207792207\n",
      "Error: 0.2792207792207792\n",
      "Precision: 0.65\n",
      "Recall: 0.4727272727272727\n",
      "F1: 0.5473684210526315\n",
      "(614, 8) (154, 8) (614,) (154,)\n",
      "KNeighborsClassifier()\n",
      "Confusion Matrix:\n",
      "[[85 14]\n",
      " [29 26]]\n",
      "Accuracy: 0.7207792207792207\n",
      "Error: 0.2792207792207792\n",
      "Precision: 0.65\n",
      "Recall: 0.4727272727272727\n",
      "F1: 0.5473684210526315\n",
      "(614, 8) (154, 8) (614,) (154,)\n",
      "KNeighborsClassifier()\n",
      "Confusion Matrix:\n",
      "[[85 14]\n",
      " [29 26]]\n",
      "Accuracy: 0.7207792207792207\n",
      "Error: 0.2792207792207792\n",
      "Precision: 0.65\n",
      "Recall: 0.4727272727272727\n",
      "F1: 0.5473684210526315\n",
      "(614, 8) (154, 8) (614,) (154,)\n",
      "KNeighborsClassifier(n_neighbors=10)\n",
      "Confusion Matrix:\n",
      "[[88 11]\n",
      " [31 24]]\n",
      "Accuracy: 0.7272727272727273\n",
      "Error: 0.2727272727272727\n",
      "Precision: 0.6857142857142857\n",
      "Recall: 0.43636363636363634\n",
      "F1: 0.5333333333333333\n",
      "(614, 8) (154, 8) (614,) (154,)\n",
      "KNeighborsClassifier(n_neighbors=10)\n",
      "Confusion Matrix:\n",
      "[[88 11]\n",
      " [31 24]]\n",
      "Accuracy: 0.7272727272727273\n",
      "Error: 0.2727272727272727\n",
      "Precision: 0.6857142857142857\n",
      "Recall: 0.43636363636363634\n",
      "F1: 0.5333333333333333\n",
      "(614, 8) (154, 8) (614,) (154,)\n",
      "KNeighborsClassifier(n_neighbors=10)\n",
      "Confusion Matrix:\n",
      "[[88 11]\n",
      " [31 24]]\n",
      "Accuracy: 0.7272727272727273\n",
      "Error: 0.2727272727272727\n",
      "Precision: 0.6857142857142857\n",
      "Recall: 0.43636363636363634\n",
      "F1: 0.5333333333333333\n",
      "(614, 8) (154, 8) (614,) (154,)\n",
      "KNeighborsClassifier(n_neighbors=10)\n",
      "Confusion Matrix:\n",
      "[[88 11]\n",
      " [31 24]]\n",
      "Accuracy: 0.7272727272727273\n",
      "Error: 0.2727272727272727\n",
      "Precision: 0.6857142857142857\n",
      "Recall: 0.43636363636363634\n",
      "F1: 0.5333333333333333\n",
      "(614, 8) (154, 8) (614,) (154,)\n",
      "KNeighborsClassifier(n_neighbors=10)\n",
      "Confusion Matrix:\n",
      "[[88 11]\n",
      " [31 24]]\n",
      "Accuracy: 0.7272727272727273\n",
      "Error: 0.2727272727272727\n",
      "Precision: 0.6857142857142857\n",
      "Recall: 0.43636363636363634\n",
      "F1: 0.5333333333333333\n"
     ]
    }
   ],
   "source": [
    "# Make feature and target arrays\n",
    "# Your Code Here\n",
    "\n",
    "X = df.iloc[:,:8].values\n",
    "y = df[['Class']].T.squeeze().map({'yes': 1, 'no': -1}).values\n",
    "hyperparams = [1, 5, 10]\n",
    "iter = 5\n",
    "\n",
    "# Call run_knn\n",
    "# Your Code Here\n",
    "avg_scores,model,X_test,y_test = run_knn(X, y, hyperparams, iter)\n"
   ]
  },
  {
   "cell_type": "code",
   "execution_count": 404,
   "metadata": {},
   "outputs": [
    {
     "name": "stdout",
     "output_type": "stream",
     "text": [
      "Average scores per hyperparameter: [0.62987013 0.72077922 0.72727273]\n"
     ]
    }
   ],
   "source": [
    "print(f'Average scores per hyperparameter: {avg_scores}')"
   ]
  },
  {
   "cell_type": "markdown",
   "metadata": {},
   "source": [
    "#### Run KNN model with two features (3 pts)\n",
    "\n",
    "Features: Two features you think will give the best prediction  \n",
    "Hyperparameters: (5,10)  \n",
    "Number of iterations: 5"
   ]
  },
  {
   "cell_type": "code",
   "execution_count": 405,
   "metadata": {},
   "outputs": [
    {
     "name": "stdout",
     "output_type": "stream",
     "text": [
      "(614, 2) (154, 2) (614,) (154,)\n",
      "KNeighborsClassifier(n_neighbors=1)\n",
      "Confusion Matrix:\n",
      "[[71 28]\n",
      " [36 19]]\n",
      "Accuracy: 0.5844155844155844\n",
      "Error: 0.4155844155844156\n",
      "Precision: 0.40425531914893614\n",
      "Recall: 0.34545454545454546\n",
      "F1: 0.37254901960784315\n",
      "(614, 2) (154, 2) (614,) (154,)\n",
      "KNeighborsClassifier(n_neighbors=1)\n",
      "Confusion Matrix:\n",
      "[[71 28]\n",
      " [36 19]]\n",
      "Accuracy: 0.5844155844155844\n",
      "Error: 0.4155844155844156\n",
      "Precision: 0.40425531914893614\n",
      "Recall: 0.34545454545454546\n",
      "F1: 0.37254901960784315\n",
      "(614, 2) (154, 2) (614,) (154,)\n",
      "KNeighborsClassifier(n_neighbors=1)\n",
      "Confusion Matrix:\n",
      "[[71 28]\n",
      " [36 19]]\n",
      "Accuracy: 0.5844155844155844\n",
      "Error: 0.4155844155844156\n",
      "Precision: 0.40425531914893614\n",
      "Recall: 0.34545454545454546\n",
      "F1: 0.37254901960784315\n",
      "(614, 2) (154, 2) (614,) (154,)\n",
      "KNeighborsClassifier(n_neighbors=1)\n",
      "Confusion Matrix:\n",
      "[[71 28]\n",
      " [36 19]]\n",
      "Accuracy: 0.5844155844155844\n",
      "Error: 0.4155844155844156\n",
      "Precision: 0.40425531914893614\n",
      "Recall: 0.34545454545454546\n",
      "F1: 0.37254901960784315\n",
      "(614, 2) (154, 2) (614,) (154,)\n",
      "KNeighborsClassifier(n_neighbors=1)\n",
      "Confusion Matrix:\n",
      "[[71 28]\n",
      " [36 19]]\n",
      "Accuracy: 0.5844155844155844\n",
      "Error: 0.4155844155844156\n",
      "Precision: 0.40425531914893614\n",
      "Recall: 0.34545454545454546\n",
      "F1: 0.37254901960784315\n",
      "(614, 2) (154, 2) (614,) (154,)\n",
      "KNeighborsClassifier()\n",
      "Confusion Matrix:\n",
      "[[77 22]\n",
      " [36 19]]\n",
      "Accuracy: 0.6233766233766234\n",
      "Error: 0.37662337662337664\n",
      "Precision: 0.4634146341463415\n",
      "Recall: 0.34545454545454546\n",
      "F1: 0.39583333333333337\n",
      "(614, 2) (154, 2) (614,) (154,)\n",
      "KNeighborsClassifier()\n",
      "Confusion Matrix:\n",
      "[[77 22]\n",
      " [36 19]]\n",
      "Accuracy: 0.6233766233766234\n",
      "Error: 0.37662337662337664\n",
      "Precision: 0.4634146341463415\n",
      "Recall: 0.34545454545454546\n",
      "F1: 0.39583333333333337\n",
      "(614, 2) (154, 2) (614,) (154,)\n",
      "KNeighborsClassifier()\n",
      "Confusion Matrix:\n",
      "[[77 22]\n",
      " [36 19]]\n",
      "Accuracy: 0.6233766233766234\n",
      "Error: 0.37662337662337664\n",
      "Precision: 0.4634146341463415\n",
      "Recall: 0.34545454545454546\n",
      "F1: 0.39583333333333337\n",
      "(614, 2) (154, 2) (614,) (154,)\n",
      "KNeighborsClassifier()\n",
      "Confusion Matrix:\n",
      "[[77 22]\n",
      " [36 19]]\n",
      "Accuracy: 0.6233766233766234\n",
      "Error: 0.37662337662337664\n",
      "Precision: 0.4634146341463415\n",
      "Recall: 0.34545454545454546\n",
      "F1: 0.39583333333333337\n",
      "(614, 2) (154, 2) (614,) (154,)\n",
      "KNeighborsClassifier()\n",
      "Confusion Matrix:\n",
      "[[77 22]\n",
      " [36 19]]\n",
      "Accuracy: 0.6233766233766234\n",
      "Error: 0.37662337662337664\n",
      "Precision: 0.4634146341463415\n",
      "Recall: 0.34545454545454546\n",
      "F1: 0.39583333333333337\n",
      "(614, 2) (154, 2) (614,) (154,)\n",
      "KNeighborsClassifier(n_neighbors=10)\n",
      "Confusion Matrix:\n",
      "[[85 14]\n",
      " [39 16]]\n",
      "Accuracy: 0.6558441558441559\n",
      "Error: 0.34415584415584416\n",
      "Precision: 0.5333333333333333\n",
      "Recall: 0.2909090909090909\n",
      "F1: 0.3764705882352941\n",
      "(614, 2) (154, 2) (614,) (154,)\n",
      "KNeighborsClassifier(n_neighbors=10)\n",
      "Confusion Matrix:\n",
      "[[85 14]\n",
      " [39 16]]\n",
      "Accuracy: 0.6558441558441559\n",
      "Error: 0.34415584415584416\n",
      "Precision: 0.5333333333333333\n",
      "Recall: 0.2909090909090909\n",
      "F1: 0.3764705882352941\n",
      "(614, 2) (154, 2) (614,) (154,)\n",
      "KNeighborsClassifier(n_neighbors=10)\n",
      "Confusion Matrix:\n",
      "[[85 14]\n",
      " [39 16]]\n",
      "Accuracy: 0.6558441558441559\n",
      "Error: 0.34415584415584416\n",
      "Precision: 0.5333333333333333\n",
      "Recall: 0.2909090909090909\n",
      "F1: 0.3764705882352941\n",
      "(614, 2) (154, 2) (614,) (154,)\n",
      "KNeighborsClassifier(n_neighbors=10)\n",
      "Confusion Matrix:\n",
      "[[85 14]\n",
      " [39 16]]\n",
      "Accuracy: 0.6558441558441559\n",
      "Error: 0.34415584415584416\n",
      "Precision: 0.5333333333333333\n",
      "Recall: 0.2909090909090909\n",
      "F1: 0.3764705882352941\n",
      "(614, 2) (154, 2) (614,) (154,)\n",
      "KNeighborsClassifier(n_neighbors=10)\n",
      "Confusion Matrix:\n",
      "[[85 14]\n",
      " [39 16]]\n",
      "Accuracy: 0.6558441558441559\n",
      "Error: 0.34415584415584416\n",
      "Precision: 0.5333333333333333\n",
      "Recall: 0.2909090909090909\n",
      "F1: 0.3764705882352941\n"
     ]
    }
   ],
   "source": [
    "# Make feature and target arrays\n",
    "# Your Code Here\n",
    "X = df.iloc[:,[6, 7]].values\n",
    "y = df[['Class']].T.squeeze().map({'yes': 1, 'no': -1}).values\n",
    "hyperparams = [1, 5, 10]\n",
    "iter = 5\n",
    "\n",
    "# Call run_knn\n",
    "# Your Code Here\n",
    "avg_scores,model,X_test,y_test = run_knn(X, y, hyperparams, iter)"
   ]
  },
  {
   "cell_type": "code",
   "execution_count": 406,
   "metadata": {},
   "outputs": [
    {
     "data": {
      "image/png": "[encoded data removed]",
      "text/plain": [
       "<Figure size 432x288 with 1 Axes>"
      ]
     },
     "metadata": {
      "needs_background": "light"
     },
     "output_type": "display_data"
    },
    {
     "data": {
      "image/png": "[encoded data removed]",
      "text/plain": [
       "<Figure size 432x288 with 1 Axes>"
      ]
     },
     "metadata": {
      "needs_background": "light"
     },
     "output_type": "display_data"
    }
   ],
   "source": [
    "classification_plots(model,X_test,y_test)"
   ]
  },
  {
   "cell_type": "markdown",
   "metadata": {},
   "source": [
    "### Logisitic Regression Model\n",
    "\n",
    "Function to run Logistic Regression model with no hyperparameters\n",
    "\n",
    "Inputs: Features, target\n",
    "\n",
    "Returns the average score over the number of iterations, the model, the X test data and the y test data.\n",
    "\n"
   ]
  },
  {
   "cell_type": "markdown",
   "metadata": {},
   "source": [
    "#### run_log_regress (5 pts)\n",
    "\n",
    "Complete the code in run_knn."
   ]
  },
  {
   "cell_type": "code",
   "execution_count": 407,
   "metadata": {},
   "outputs": [],
   "source": [
    "def run_log_regress(X,y,iter=5):\n",
    "    scores = 0\n",
    "    # Loop to instantiate and run model iter times\n",
    "    # Yoru Code Here\n",
    "    X_train, X_test, y_train, y_test = train_test_split(X, y, test_size=0.2, stratify=y, random_state = 1234)\n",
    "    \n",
    "    for i in range(iter):\n",
    "        model = LogisticRegression(random_state=1234)\n",
    "        model.fit(X_train, y_train)\n",
    "        scores += model.score(X_test, y_test)\n",
    "    scores /= iter\n",
    "    \n",
    "    print(f'Average score: {scores}')\n",
    "    return model,X_test,y_test"
   ]
  },
  {
   "cell_type": "markdown",
   "metadata": {},
   "source": [
    "#### Run Logistic Regresssion model with all the features (2pts)\n",
    "\n",
    "No hyperparameters  \n",
    "Number of iterations: 5"
   ]
  },
  {
   "cell_type": "code",
   "execution_count": 408,
   "metadata": {},
   "outputs": [
    {
     "name": "stdout",
     "output_type": "stream",
     "text": [
      "Average score: 0.8116883116883116\n"
     ]
    }
   ],
   "source": [
    "# Make feature and target arrays\n",
    "# Your Code Here\n",
    "X = df.iloc[:,:8].values\n",
    "y = df[['Class']].T.squeeze().map({'yes': 1, 'no': -1}).values\n",
    "iter = 5\n",
    "\n",
    "# Call run_log_regress\n",
    "# Your Code Here\n",
    "model, X_test, y_test = run_log_regress(X, y, iter)"
   ]
  },
  {
   "cell_type": "markdown",
   "metadata": {},
   "source": [
    "#### Run Logistic Regresssion model with two features (3 pts)\n",
    "\n",
    "Features: Two features you think will give the best prediction \n",
    "Number of iterations: 5"
   ]
  },
  {
   "cell_type": "code",
   "execution_count": 427,
   "metadata": {},
   "outputs": [
    {
     "name": "stdout",
     "output_type": "stream",
     "text": [
      "Average score: 0.8116883116883116\n"
     ]
    }
   ],
   "source": [
    "# Make feature and target arrays\n",
    "# Your Code Here\n",
    "X = df.iloc[:,[1, 4]].values\n",
    "y = df[['Class']].T.squeeze().map({'yes': 1, 'no': -1}).values\n",
    "iter = 5\n",
    "\n",
    "\n",
    "# Call run_log_regress\n",
    "# Your Code Here\n",
    "model, X_test, y_test = run_log_regress(X, y, iter)"
   ]
  },
  {
   "cell_type": "markdown",
   "metadata": {},
   "source": [
    "### Support Vector Machine model\n",
    "\n",
    "Function to run SVM model with 2 hyperparameters, C and the kernel\n",
    "\n",
    "Inputs: Features, target, list of hyperparameters\n",
    "\n",
    "Returns the average score over the number of iterations, the model, the X test data and the y test data."
   ]
  },
  {
   "cell_type": "markdown",
   "metadata": {},
   "source": [
    "#### run_svm (10 pts)\n",
    "\n",
    "Complete the code in run_svm."
   ]
  },
  {
   "cell_type": "code",
   "execution_count": 410,
   "metadata": {},
   "outputs": [],
   "source": [
    "def run_svm(X,y,hyperparams,iter=5):\n",
    "    avg_scores = np.zeros(len(hyperparams))\n",
    "    # Loop to instantiate and run model iter times with different hyperparameters\n",
    "    # Your Code Here\n",
    "    X_train, X_test, y_train, y_test = train_test_split(X, y, stratify=y, test_size = 0.2, random_state=1234)\n",
    "    \n",
    "    sc = StandardScaler()\n",
    "    X_train = sc.fit_transform(X_train)\n",
    "    X_test = sc.transform(X_test)\n",
    "    \n",
    "    for i in range(len(hyperparams)):\n",
    "        model = SVC(C= hyperparams[i][0], kernel=hyperparams[i][1], random_state=1234, probability=True)\n",
    "        for j in range(iter):\n",
    "            model.fit(X_train, y_train)\n",
    "            avg_scores[i] += model.score(X_test, y_test)\n",
    "        avg_scores[i] = avg_scores[i] / iter\n",
    "   \n",
    "    return avg_scores,model,X_test,y_test"
   ]
  },
  {
   "cell_type": "markdown",
   "metadata": {},
   "source": [
    "#### Run Logistic Regresssion model with all features (2 pts)\n",
    "\n",
    "Features: All  \n",
    "Hyperparameters: List of lists: ((C,kernel),(C,kernel),...)  \n",
    "(1.0,'linear'),(1.0,'rbf'),(1.0,'poly')  \n",
    "Number of iterations: 5"
   ]
  },
  {
   "cell_type": "code",
   "execution_count": 411,
   "metadata": {},
   "outputs": [],
   "source": [
    "# Make feature and target arrays\n",
    "# Your Code Here\n",
    "X = df.iloc[:,:8].values\n",
    "y = df[['Class']].T.squeeze().map({'yes': 1, 'no': -1}).values\n",
    "iter = 5\n",
    "hyperparams = [(1.0,'linear'),(1.0,'rbf'),(1.0,'poly')]\n",
    "\n",
    "# Call run_svm\n",
    "# Your Code Here\n",
    "avg_scores, model, X_test, y_test = run_svm(X, y, hyperparams, iter)"
   ]
  },
  {
   "cell_type": "code",
   "execution_count": 412,
   "metadata": {},
   "outputs": [
    {
     "name": "stdout",
     "output_type": "stream",
     "text": [
      "Average Scores: [0.81168831 0.77272727 0.74025974]\n"
     ]
    }
   ],
   "source": [
    " print(f'Average Scores: {avg_scores}')"
   ]
  },
  {
   "cell_type": "markdown",
   "metadata": {},
   "source": [
    "#### Run SVM model with two features (3pts)\n",
    "\n",
    "Features: Two features you think will give the best prediction   \n",
    "Hyperparameters: List of lists: ((C,kernel),(C,kernel),...)  \n",
    "(1.0,'linear'),(1.0,'rbf'),(1.0,'poly')  \n",
    "Number of iterations: 5"
   ]
  },
  {
   "cell_type": "code",
   "execution_count": 425,
   "metadata": {},
   "outputs": [],
   "source": [
    "# Make feature and target arrays\n",
    "# Your Code Here\n",
    "X = df.iloc[:,[1, 7]].values\n",
    "y = df[['Class']].T.squeeze().map({'yes': 1, 'no': -1}).values\n",
    "iter = 5\n",
    "hyperparams = [(1.0,'linear'),(1.0,'rbf'),(1.0,'poly')]\n",
    "\n",
    "# Call run_svm\n",
    "# Your Code Here\n",
    "avg_scores, model, X_test, y_test = run_svm(X, y, hyperparams, iter)"
   ]
  },
  {
   "cell_type": "code",
   "execution_count": 426,
   "metadata": {},
   "outputs": [
    {
     "name": "stdout",
     "output_type": "stream",
     "text": [
      "Average Scores: [0.7987013  0.81818182 0.73376623]\n"
     ]
    },
    {
     "data": {
      "image/png": "[encoded data removed]",
      "text/plain": [
       "<Figure size 432x288 with 1 Axes>"
      ]
     },
     "metadata": {
      "needs_background": "light"
     },
     "output_type": "display_data"
    },
    {
     "data": {
      "image/png": "[encoded data removed]",
      "text/plain": [
       "<Figure size 432x288 with 1 Axes>"
      ]
     },
     "metadata": {
      "needs_background": "light"
     },
     "output_type": "display_data"
    }
   ],
   "source": [
    "print(f'Average Scores: {avg_scores}')\n",
    "classification_plots(model,X_test,y_test)"
   ]
  },
  {
   "cell_type": "markdown",
   "metadata": {},
   "source": [
    "### Part 2:  PyTorch SVM model for the dataset with all the features\n",
    "\n",
    "1. You only have to convert your training data to PyTorch tensors\n",
    "and define your model class with 2 linear layers, named linear1 and linear2.  (2pts)\n",
    "2. Apply a ReLU function to linear1 and send the output to linear2.  \n",
    "Linear2 should have 8 nodes. (4pts) \n",
    "3. Use the Adam optimizer with a learning rate of 0.01 (2pts)\n",
    "4. Predict training and test data (2pts)"
   ]
  },
  {
   "cell_type": "code",
   "execution_count": 415,
   "metadata": {},
   "outputs": [
    {
     "data": {
      "text/plain": [
       "'1.4.0'"
      ]
     },
     "execution_count": 415,
     "metadata": {},
     "output_type": "execute_result"
    }
   ],
   "source": [
    "import torch\n",
    "import torch.nn as nn\n",
    "import torch.optim as optim\n",
    "torch.__version__"
   ]
  },
  {
   "cell_type": "code",
   "execution_count": 416,
   "metadata": {},
   "outputs": [
    {
     "data": {
      "text/plain": [
       "(torch.Size([614, 8]),\n",
       " torch.Size([154, 8]),\n",
       " torch.Size([614, 1]),\n",
       " torch.Size([154, 1]))"
      ]
     },
     "execution_count": 416,
     "metadata": {},
     "output_type": "execute_result"
    }
   ],
   "source": [
    "# Copy you code from run_model that splits the data and scales it for all features\n",
    "X = df.iloc[:,:8].values\n",
    "y = df[['Class']].T.squeeze().map({'yes': 1, 'no': -1}).values\n",
    "X_train,X_test,y_train,y_test = train_test_split(X, y,  test_size = 0.2, stratify=y,\n",
    "                                                 random_state = 1234)\n",
    "\n",
    "scaler = StandardScaler()\n",
    "X_train = scaler.fit_transform(X_train)\n",
    "X_test = scaler.transform(X_test)\n",
    "\n",
    "# Convert data into torch tensors\n",
    "# Your Code Here\n",
    "# device = torch.device(\"cuda:0\" if torch.cuda.is_available() else \"cpu\")\n",
    "\n",
    "X_train_t = torch.from_numpy(X_train.astype(np.float32))\n",
    "X_test_t = torch.from_numpy(X_test.astype(np.float32))\n",
    "y_train_t = torch.from_numpy(y_train.astype(np.float32).reshape(-1, 1))\n",
    "y_test_t = torch.from_numpy(y_test.astype(np.float32).reshape(-1, 1))\n",
    "\n",
    "X_train_t.shape,X_test_t.shape,y_train_t.shape,y_test_t.shape"
   ]
  },
  {
   "cell_type": "markdown",
   "metadata": {},
   "source": [
    "#### Class definition\n",
    "\n",
    "Define a network with all the features as inputs."
   ]
  },
  {
   "cell_type": "code",
   "execution_count": 444,
   "metadata": {},
   "outputs": [],
   "source": [
    "class SVM(nn.Module):\n",
    "    def __init__(self,num_in,num_out):\n",
    "        super(SVM,self).__init__()\n",
    "        # Define layers\n",
    "        # Your Code Here\n",
    "        self.linear1 = nn.Linear(num_in, num_in)\n",
    "        self.relu = nn.ReLU()\n",
    "        self.linear2 = nn.Linear(num_in, num_out)\n",
    "        \n",
    "    def forward(self,x):\n",
    "        # Your Code Here\n",
    "        x = self.linear1(x)\n",
    "        x = self.relu(x)\n",
    "        x = self.linear2(x)\n",
    "        \n",
    "        return x\n",
    "    \n",
    "model = SVM(8,1)    \n"
   ]
  },
  {
   "cell_type": "markdown",
   "metadata": {},
   "source": [
    "#### Optimizer and Loss function"
   ]
  },
  {
   "cell_type": "code",
   "execution_count": 445,
   "metadata": {},
   "outputs": [],
   "source": [
    "# Instantiate Optimizer\n",
    "# Your Code Here\n",
    "optimizer = optim.Adam(model.parameters(), lr=0.01)\n",
    "\n",
    "def svm_loss(w,y,lin_out,c):\n",
    "    constraint = torch.mean(torch.clamp(1 - y * lin_out, min=0)) #>= 0\n",
    "    return c*torch.dot(w.t(),w)/2.0 + constraint"
   ]
  },
  {
   "cell_type": "markdown",
   "metadata": {},
   "source": [
    "#### Train Model"
   ]
  },
  {
   "cell_type": "code",
   "execution_count": 446,
   "metadata": {},
   "outputs": [],
   "source": [
    "def train(X, Y, model, batchsize,epochs,c):\n",
    "    N = len(Y)\n",
    "    model.train()\n",
    "    for epoch in range(epochs):\n",
    "        perm = torch.randperm(N)\n",
    "        sum_loss = 0\n",
    "\n",
    "        for i in range(0, N, batchsize):\n",
    "            x = X[perm[i : i + batchsize]]\n",
    "            y = Y[perm[i : i + batchsize]]\n",
    "\n",
    "            optimizer.zero_grad()\n",
    "            output = model(x).squeeze()\n",
    "            weight = model.linear2.weight.squeeze()\n",
    "            loss = svm_loss(weight,y,output,c)\n",
    "            loss.backward()\n",
    "            optimizer.step()\n",
    "\n",
    "            sum_loss += float(loss)\n",
    "    print(sum_loss/N)"
   ]
  },
  {
   "cell_type": "markdown",
   "metadata": {},
   "source": [
    "#### Predict training and test data and calculate accuracy"
   ]
  },
  {
   "cell_type": "code",
   "execution_count": 447,
   "metadata": {},
   "outputs": [],
   "source": [
    "def torch_accuracy():\n",
    "    with torch.no_grad():\n",
    "      ## Predict Training data\n",
    "      p_train = model(X_train_t) # Your Code Here\n",
    "      p_train = np.round(p_train.cpu().numpy())\n",
    "      train_acc = np.mean(y_train_t.cpu().numpy() == p_train) # Get accuracy\n",
    "      \n",
    "      ## Predict test data\n",
    "      p_test = model(X_test_t) # Your Code Here\n",
    "      p_test = np.round(p_test.cpu().numpy())\n",
    "      test_acc = np.mean(y_test_t.cpu().numpy() == p_test) # Get accuracy\n",
    "    print(f\"Train acc: {train_acc:.4f}, Test acc: {test_acc:.4f}\")"
   ]
  },
  {
   "cell_type": "markdown",
   "metadata": {},
   "source": [
    "#### Run"
   ]
  },
  {
   "cell_type": "code",
   "execution_count": 448,
   "metadata": {},
   "outputs": [
    {
     "name": "stdout",
     "output_type": "stream",
     "text": [
      "0.0144719161117504\n",
      "Train acc: 0.6515, Test acc: 0.6494\n",
      "0.01447264257976209\n",
      "Train acc: 0.6515, Test acc: 0.6494\n",
      "0.014457711713321823\n",
      "Train acc: 0.6515, Test acc: 0.6494\n",
      "0.015142101272697946\n",
      "Train acc: 0.6515, Test acc: 0.6494\n",
      "0.015462525552957764\n",
      "Train acc: 0.6515, Test acc: 0.6494\n"
     ]
    }
   ],
   "source": [
    "c = 100.0\n",
    "batchsize = 50\n",
    "num_epochs = 500\n",
    "for i in range(5):\n",
    "    train(X_train_t, y_train_t, model, batchsize, num_epochs, c)\n",
    "    torch_accuracy()"
   ]
  },
  {
   "cell_type": "markdown",
   "metadata": {},
   "source": [
    "### Part 3: Linear Algebra\n",
    "\n",
    "For the marix A below, calculate ATA the square matrix of A times A transpose.\n",
    "Show that the singular values of the Singular Value Decomposition of A are equal to the square root of the eigenvalues of ATA. (5pts)"
   ]
  },
  {
   "cell_type": "code",
   "execution_count": 328,
   "metadata": {},
   "outputs": [
    {
     "name": "stdout",
     "output_type": "stream",
     "text": [
      "ATA\n",
      "[[26 32 38 44]\n",
      " [32 40 48 56]\n",
      " [38 48 58 68]\n",
      " [44 56 68 80]]\n",
      "Sqrt of eigenvalues of ATA: [14.22740741263374, 1.2573298353791125]\n",
      "Sigular values of SVD of A: [14.22740741  1.25732984]\n"
     ]
    },
    {
     "name": "stderr",
     "output_type": "stream",
     "text": [
      "<ipython-input-328-7e3cc5fc0e38>:11: ComplexWarning: Casting complex values to real discards the imaginary part\n",
      "  print(\"Sqrt of eigenvalues of ATA: {}\".format([math.sqrt(ATAvalue[0]), math.sqrt(ATAvalue[1])]))\n"
     ]
    }
   ],
   "source": [
    "A = np.array([[1,2,3,4],[5,6,7,8]])\n",
    "\n",
    "# Your Code Here\n",
    "import math \n",
    "ATA = np.dot(A.transpose(), A)\n",
    "print(\"ATA\\n{}\".format(ATA))\n",
    "\n",
    "ATAvalue, ATAvector = la.eig(ATA)\n",
    "SVD = la.svd(A)\n",
    "\n",
    "print(\"Sqrt of eigenvalues of ATA: {}\".format([math.sqrt(ATAvalue[0]), math.sqrt(ATAvalue[1])]))\n",
    "print(\"Sigular values of SVD of A: {}\".format(SVD[1]))"
   ]
  },
  {
   "cell_type": "markdown",
   "metadata": {},
   "source": [
    "\n",
    "Given x and z below. Define a function Poly_k that implements the polynomial kernel with r = 0 and d = 2. Also define a function Phi that computes the dot product of the $\\phi$ transformation. Show that given the inputs x and z they compute the same value.\n",
    "$\\Phi(\\vec{x}) = (x_1^2,\\sqrt{2}x_1x_2,x_2^2) $ (5pts)"
   ]
  },
  {
   "cell_type": "code",
   "execution_count": 450,
   "metadata": {},
   "outputs": [],
   "source": [
    "x = np.array([3,4])\n",
    "z = np.array([2,5])"
   ]
  },
  {
   "cell_type": "code",
   "execution_count": 453,
   "metadata": {},
   "outputs": [
    {
     "name": "stdout",
     "output_type": "stream",
     "text": [
      "Poly_k: 676\n",
      "Phi: 676\n"
     ]
    }
   ],
   "source": [
    "# Your Code Here\n",
    "\n",
    "def Poly_k(x, z , d=2):\n",
    "    return np.power(np.dot(x.transpose(), z),d)\n",
    "\n",
    "def Phi(x, z):\n",
    "    [x1, x2] = x\n",
    "    [z1, z2] = z\n",
    "    return (x1**2) * (z1**2) + 2*x1*z1*x2*z2 + (x2**2 * z2**2)\n",
    "\n",
    "print(\"Poly_k: {}\".format(Poly_k(x,z)))\n",
    "print(\"Phi: {}\".format(Phi(x, z)))"
   ]
  },
  {
   "cell_type": "code",
   "execution_count": null,
   "metadata": {},
   "outputs": [],
   "source": []
  }
 ],
 "metadata": {
  "kernelspec": {
   "display_name": "Python 3",
   "language": "python",
   "name": "python3"
  },
  "language_info": {
   "codemirror_mode": {
    "name": "ipython",
    "version": 3
   },
   "file_extension": ".py",
   "mimetype": "text/x-python",
   "name": "python",
   "nbconvert_exporter": "python",
   "pygments_lexer": "ipython3",
   "version": "3.8.6"
  },
  "varInspector": {
   "cols": {
    "lenName": 16,
    "lenType": 16,
    "lenVar": 40
   },
   "kernels_config": {
    "python": {
     "delete_cmd_postfix": "",
     "delete_cmd_prefix": "del ",
     "library": "var_list.py",
     "varRefreshCmd": "print(var_dic_list())"
    },
    "r": {
     "delete_cmd_postfix": ") ",
     "delete_cmd_prefix": "rm(",
     "library": "var_list.r",
     "varRefreshCmd": "cat(var_dic_list()) "
    }
   },
   "types_to_exclude": [
    "module",
    "function",
    "builtin_function_or_method",
    "instance",
    "_Feature"
   ],
   "window_display": false
  }
 },
 "nbformat": 4,
 "nbformat_minor": 4
}
