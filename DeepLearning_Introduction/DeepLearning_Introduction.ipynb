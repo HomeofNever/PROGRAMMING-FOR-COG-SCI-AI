{
 "cells": [
  {
   "cell_type": "code",
   "execution_count": 1,
   "metadata": {},
   "outputs": [],
   "source": [
    "import warnings\n",
    "warnings.simplefilter(action='ignore', category=FutureWarning)\n",
    "warnings.simplefilter(action='ignore', category=UserWarning)\n",
    "\n",
    "import numpy as np\n",
    "import pandas as pd\n",
    "from scipy import stats\n",
    "import seaborn as sns\n",
    "import matplotlib.pyplot as plt\n",
    "%matplotlib inline\n"
   ]
  },
  {
   "cell_type": "markdown",
   "metadata": {},
   "source": [
    "## Deep Learning\n",
    "\n",
    "#### Extend Multilayer Perceptron to a much larger number of hidden layers to learn higher order features\n",
    "\n",
    "* Solutions to the Vanishing Gradient Problem\n",
    "\n",
    "* Deep Belief Networks (Hinton,2006,2009)\n",
    "    - Train layers greedily with Contrastive Deviance then use Backprop\n",
    "\n",
    "* ReLUs replace sigmoid function for hidden layer activation\n",
    "    - Reduces Vanishing Gradient problem\n",
    "    \n",
    "* Long Short Term Memory (Hochreiter and Schmidhuber, 1997)\n",
    "\n",
    "#### Representation Learning\n",
    "\n",
    "* Learn the features rather than manual engineering them\n",
    "\n",
    "* AlexNet (Krizhevshy,Sutskever, Hinton)\n",
    "    - Convolutional Neural Network that won ImageNet competition in 2012\n",
    "\n",
    "![](DeepLearning.png)\n",
    "$$\\text{Figure 1. Deep Learning as Representation Learning, Source: Deep Learning Ian Goodfellow, et. al.}$$"
   ]
  },
  {
   "cell_type": "markdown",
   "metadata": {},
   "source": [
    "## Deep Learning Network\n",
    "\n",
    "* Convolutional Neural Nets\n",
    "    - Vision\n",
    "* Recurrent Neural Nets\n",
    "    - Sequence learning\n",
    "    - Long Short Term Memory (LSTM)\n",
    "    - Gated Recurrent Units (GRU)\n",
    "* Residual Neural Networks\n",
    "    - Residual connections are connections that skip layers\n",
    "* Autoencoders\n",
    "    - Unsupervised (semi-supervised)\n",
    "        - reproduces the input\n",
    "    - Recommender Systems\n",
    "    - Dimension Reduction    \n",
    "* Generative Adversarial Networks (GANs)\n",
    "    - Realistic image generation\n",
    "* Deep Reinforcement Learning\n",
    "    - Learns to play Atari games\n",
    "    - AlphaGo\n",
    "* Attention and Transformers\n",
    "    - Natural Language Processing\n",
    "        - BERT, GPT-3"
   ]
  },
  {
   "cell_type": "markdown",
   "metadata": {},
   "source": [
    "\n",
    "### Artificial Neural Network ( 1-2  hidden layers)\n",
    "\n",
    "![](ANN.png)\n",
    "$$\\text{Figure 2 Artifical Neural Network}$$\n",
    "\n",
    "### Deep Network (Many hidden layes)\n",
    "![](DeepNN.png)\n",
    "$$\\text{Figure 3. Deep Neural Network}$$\n",
    "\n",
    "\n",
    "#### Forward Pass : Moving forward from input layer to output layer (Function composition)\n",
    "    \n",
    "* Input layer\n",
    "    - m features, ${x_i, i = 1,...,m}$\n",
    "    - One input node per feature\n",
    "* Hidden Layer(s)\n",
    "    - Each node has parameters (e.g. weights and bias) for each input \n",
    "    - Each layer transforms via an activation function f the weighted sum of its input $a_i = f(\\sum x_iw_i + b_i)$\n",
    "    - Width of layer is number of nodes in layer\n",
    "    - Depth of network is number of layers\n",
    "    - Layers can have different activation functions\n",
    "* Output Layer\n",
    "    - Final transformation to target outcome\n",
    "    \n",
    "* Activation Functions\n",
    "    - ReLU\n",
    "        - $ ReLU = max(0,z)$ \n",
    "        - Hidden Layers\n",
    "    - Leaky ReLU\n",
    "        - $ LeakyReLU =  a*z \\text{ if } z < 0 \\text{ else } z$\n",
    "        - Hidden Layers\n",
    "    - Sigmoid (aka logistic)\n",
    "        - Range(0,1)\n",
    "        - $\\sigma(z) = \\frac{1}{1 + e^{-z}}$\n",
    "        - Output layer Binary Classification\n",
    "    - Softmax\n",
    "        - $ Softmax(z)_j =S(z)_j = \\frac{e^{z_j}}{\\sum_{k=1}^K e^{z_k}} $\n",
    "        - Output layer Multinomial Classification\n",
    "    - Tanh\n",
    "        - Range (-1,+1)\n",
    "        - $ tanh(z) = \\frac{sinh(z)}{cosh(z)} =  \\frac{2}{1 + e^{-2z}} - 1$\n",
    "        - Long Short Term Memory\n",
    "\n",
    "\n",
    "\n",
    "#### Loss Function (aka Cost Function, Error Function)\n",
    "* Compare output with label, difference is the amount of error\n",
    "* Squared Loss (regression)\n",
    "* Log loss (binary classification)\n",
    "* Cross-entropy loss (multinomial classification)\n",
    "        \n",
    "\n",
    "#### Backward Pass\n",
    "* Back propagation: \n",
    "    -Propagate the error backwards through the network\n",
    "* Calculates the gradients\n",
    "    - The partial derivatives of the parameters wrt the Loss function\n",
    "* Autograd: Automatic Differentiation\n",
    "    - Builds Dynamic Graph \n",
    "\n",
    "#### Optimization\n",
    "* Updates the weights and bias\n",
    "* Stochastic Gradient Descent (SGD)\n",
    "* SGD with Momentum\n",
    "* RMSProp\n",
    "* ADAM\n",
    "* Others\n",
    "    - ADAM variations\n",
    "    - ADAgrad\n",
    "    - ADAdelta\n",
    "   \n",
    "#### Learning Rate Decay\n",
    "* Gradually reduce learning rate parameter to converge to minimum faster and in a smaller area around the minimum\n"
   ]
  },
  {
   "cell_type": "markdown",
   "metadata": {},
   "source": [
    "\n",
    "### Backpropagation and Gradient Descent \n",
    "\n",
    "* Calculate the Loss (i.e. Error, Cost) at the end of the forward pass and then propagate the error backwards though the layers to the input.\n",
    "\n",
    "* Changing (i.e. updating) the weights is the only way to affect the loss. We use gradient descent to update the weights in neural networks.\n",
    "\n",
    "* Gradient descent: Minimize the loss function by iteratively moving in the direction of the negative of the gradient. $\\alpha$ is the learning rate.\n",
    "\n",
    "\n",
    "$$ \\theta_{t + 1} = \\theta_t - \\alpha \\frac{\\partial{L}}{\\partial{\\theta_t}}$$\n",
    "\n",
    "* Training the network: Repeat propagating the error backwards and adjusting the weights until the loss is within some tolerance.\n",
    "\n",
    "* Three type of Gradient Descent\n",
    "    - **Batch** - Update all trials (observations) each epoch (i.e. one pass through the data)\n",
    "    - **Stochastic** - Randomizes the order of the data and select one observation to update each epoch\n",
    "    - **Mini Batch** - Choose a batch (e.g.64,128,512) observations to update each epoch"
   ]
  },
  {
   "cell_type": "markdown",
   "metadata": {},
   "source": [
    "## Optimizers\n",
    "\n",
    "https://pytorch.org/docs/stable/optim.html\n",
    "\n",
    "https://www.tensorflow.org/api_docs/python/tf/keras/optimizers\n",
    "\n",
    "#### Exponentially Weighted Averages\n",
    "\n",
    "$$v_t = \\beta*v_{t-1} + (1-\\beta)*\\theta_t$$\n",
    "\n",
    "beta = .9 averages over last 10 iterations  \n",
    "beta = .5 averages last 2 iterations"
   ]
  },
  {
   "cell_type": "code",
   "execution_count": 2,
   "metadata": {},
   "outputs": [],
   "source": [
    "def ewa(theta,beta = 0.9):\n",
    "    v = np.zeros(len(theta))\n",
    "    for t in range(len(theta)):\n",
    "        if t ==0:\n",
    "            v[t] = (1-beta)*y[t]\n",
    "        else:\n",
    "            v[t] = beta*v[t-1] + (1-beta)*theta[t]\n",
    "    return v\n",
    "        "
   ]
  },
  {
   "cell_type": "code",
   "execution_count": 3,
   "metadata": {},
   "outputs": [
    {
     "data": {
      "text/plain": [
       "((1250,), (1250,))"
      ]
     },
     "execution_count": 3,
     "metadata": {},
     "output_type": "execute_result"
    }
   ],
   "source": [
    "df = pd.read_csv('Smarket.csv')\n",
    "y = df.Volume.values\n",
    "x=np.linspace(0,len(y),len(y))\n",
    "x.shape,y.shape"
   ]
  },
  {
   "cell_type": "code",
   "execution_count": 6,
   "metadata": {},
   "outputs": [
    {
     "data": {
      "image/png": "[encoded data removed]",
      "text/plain": [
       "<Figure size 432x288 with 1 Axes>"
      ]
     },
     "metadata": {
      "needs_background": "light"
     },
     "output_type": "display_data"
    }
   ],
   "source": [
    "avg = ewa(y,beta=0.99)# try .99 .5\n",
    "plt.plot(x,y,'o')\n",
    "plt.plot(x,avg,'r');"
   ]
  },
  {
   "cell_type": "markdown",
   "metadata": {},
   "source": [
    "### Stochastic Gradient Descent with Momentum\n",
    "\n",
    "![](Momentum.png)\n",
    "$$\\text{Figure 4. SGD with Momentum Source: Andrew Ng}$$\n",
    "\n",
    "* Smooth out the movement towards the minimum\n",
    "\n",
    "Let $\\theta$ be a vector of the parameters. \n",
    "\n",
    "* On each iteration t:  \n",
    "    - Compute the gradient of the Loss function wrt to the parameters\n",
    "$$\\nabla_{\\theta}L $$\n",
    "    - The exponential weighted average of the gradient\n",
    "$$V = \\beta*V + (1-\\beta)*\\nabla_{\\theta}L$$\n",
    "    - Update the parameters\n",
    "$$\\theta = \\theta - \\alpha*V$$\n",
    "    \n",
    "#### Hyperparameters\n",
    "* $\\beta$ = 0.9 (default)\n",
    "* $\\alpha$ the learning rate.  "
   ]
  },
  {
   "cell_type": "markdown",
   "metadata": {},
   "source": [
    "### RMSprop\n",
    "\n",
    "* Move slower in the directions of greater slope and faster in the directions of flatter slopes\n",
    "\n",
    "Let $\\theta$ be a vector of the parameters. \n",
    "\n",
    "* On each iteration t:  \n",
    "    - Compute the gradient of the Loss function wrt to the parameters\n",
    "$$\\nabla_{\\theta}L $$ \n",
    "    - Exponential weighted average of the gradient squared\n",
    "$$S = \\beta*S + (1-\\beta)*\\nabla_{\\theta}^2L$$  \n",
    "    - Update the parameters\n",
    "$$\\theta = \\theta - \\alpha*\\frac{\\nabla_{\\theta}}{\\sqrt{S + \\epsilon}}$$"
   ]
  },
  {
   "cell_type": "markdown",
   "metadata": {},
   "source": [
    "### Adam\n",
    "\n",
    "* Combine momentum with RMSprop\n",
    "\n",
    "Let $\\theta$ be a vector of the parameters. \n",
    "\n",
    "* On each iteration t:  \n",
    "    - Compute the gradient of the Loss function wrt to the parameters\n",
    "$$\\nabla_{\\theta}L $$ \n",
    "    - Momentum\n",
    "$$V = \\beta_1*V + (1-\\beta_1)*\\nabla_{\\theta}L$$\n",
    "    - RMSprop\n",
    "$$S = \\beta_2*S + (1-\\beta_2)*\\nabla_{\\theta}^2L$$ \n",
    "    - Apply bias correction\n",
    "$$V^c = V/(1 - \\beta_1^t) \\\\\n",
    "  S^c = S/(1 - \\beta_2^t)$$\n",
    "    \n",
    "    - Update the parameters\n",
    "$$\\theta = \\theta - \\alpha*\\frac{V^c}{\\sqrt{S^c + \\epsilon}}$$\n",
    "\n",
    "#### Hyperparameters\n",
    "\n",
    "* $\\alpha$: Tune\n",
    "* $\\beta_1$: 0.9\n",
    "* $\\beta_2$: 0.999\n",
    "* $\\epsilon: 1x10^{-8}$\n"
   ]
  },
  {
   "cell_type": "markdown",
   "metadata": {},
   "source": [
    "### Learning Rate Decay\n",
    "\n",
    "* Let NumEpoch = current epoch and $\\alpha_0$ be the initial Learning Rate hyperparameter\n",
    "\n",
    "$$\\alpha = \\frac{1}{1 + \\gamma*NumEpoch}*\\alpha_0$$\n",
    "\n",
    "$\\gamma$ is the Decay Rate hyperparameter\n",
    "\n",
    "* Exponential Rate Decay\n",
    "\n",
    "$$\\alpha = \\gamma^{NumEpoch}*\\alpha_0 \\text{ where } \\gamma \\lt 1$$\n",
    "\n"
   ]
  },
  {
   "cell_type": "markdown",
   "metadata": {},
   "source": [
    "### Autograd\n",
    "\n",
    " \n",
    "* For every epoch (i.e. a pass of the data through the model), autograd builds a dynamic graph on the fly from which it can immediately backpropagate gradients.\n",
    "\n",
    "https://www.youtube.com/watch?v=MswxJw-8PvE"
   ]
  },
  {
   "cell_type": "markdown",
   "metadata": {},
   "source": [
    "### References"
   ]
  },
  {
   "cell_type": "markdown",
   "metadata": {},
   "source": [
    "https://ruder.io/optimizing-gradient-descent/index.html#adagrad"
   ]
  },
  {
   "cell_type": "markdown",
   "metadata": {},
   "source": [
    "### Appendix"
   ]
  },
  {
   "cell_type": "markdown",
   "metadata": {},
   "source": [
    "https://www.youtube.com/watch?v=wG_nF1awSSY&ab_channel=CarlosLaraAICarlosLaraAI"
   ]
  }
 ],
 "metadata": {
  "kernelspec": {
   "display_name": "Python 3",
   "language": "python",
   "name": "python3"
  },
  "language_info": {
   "codemirror_mode": {
    "name": "ipython",
    "version": 3
   },
   "file_extension": ".py",
   "mimetype": "text/x-python",
   "name": "python",
   "nbconvert_exporter": "python",
   "pygments_lexer": "ipython3",
   "version": "3.8.6"
  },
  "varInspector": {
   "cols": {
    "lenName": 16,
    "lenType": 16,
    "lenVar": 40
   },
   "kernels_config": {
    "python": {
     "delete_cmd_postfix": "",
     "delete_cmd_prefix": "del ",
     "library": "var_list.py",
     "varRefreshCmd": "print(var_dic_list())"
    },
    "r": {
     "delete_cmd_postfix": ") ",
     "delete_cmd_prefix": "rm(",
     "library": "var_list.r",
     "varRefreshCmd": "cat(var_dic_list()) "
    }
   },
   "position": {
    "height": "254px",
    "left": "997px",
    "right": "20px",
    "top": "120px",
    "width": "315px"
   },
   "types_to_exclude": [
    "module",
    "function",
    "builtin_function_or_method",
    "instance",
    "_Feature"
   ],
   "window_display": false
  }
 },
 "nbformat": 4,
 "nbformat_minor": 2
}
