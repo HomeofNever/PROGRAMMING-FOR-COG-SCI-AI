{
 "cells": [
  {
   "cell_type": "code",
   "execution_count": null,
   "metadata": {},
   "outputs": [],
   "source": [
    "import warnings\n",
    "warnings.simplefilter(action='ignore', category=FutureWarning)\n",
    "warnings.simplefilter(action='ignore', category=UserWarning)\n",
    "\n",
    "import numpy as np\n",
    "import pandas as pd\n",
    "from scipy import stats\n",
    "import seaborn as sns\n",
    "import matplotlib.pyplot as plt\n",
    "%matplotlib inline"
   ]
  },
  {
   "cell_type": "code",
   "execution_count": null,
   "metadata": {},
   "outputs": [],
   "source": [
    "from sklearn.model_selection import train_test_split\n",
    "from sklearn.preprocessing import LabelEncoder\n",
    "from sklearn.preprocessing import StandardScaler\n",
    "from sklearn.metrics import confusion_matrix"
   ]
  },
  {
   "cell_type": "markdown",
   "metadata": {},
   "source": [
    "#### Install TensorFlow2\n",
    "\n",
    "https://www.tensorflow.org/install/\n"
   ]
  },
  {
   "cell_type": "code",
   "execution_count": null,
   "metadata": {},
   "outputs": [],
   "source": [
    "#!pip install --upgrade pip # Requires pip version > 19.0\n",
    "#!pip install tensorflow"
   ]
  },
  {
   "cell_type": "markdown",
   "metadata": {},
   "source": [
    "#### TensorFlow imports"
   ]
  },
  {
   "cell_type": "code",
   "execution_count": null,
   "metadata": {},
   "outputs": [],
   "source": [
    "import tensorflow as tf\n",
    "from tensorflow.keras.layers import Input, Dense\n",
    "from tensorflow.keras.models import Sequential, Model\n",
    "from tensorflow.keras.layers import Lambda\n",
    "\n",
    "tf.random.set_seed(42)\n",
    "tf.__version__"
   ]
  },
  {
   "cell_type": "markdown",
   "metadata": {},
   "source": [
    "## Tensorflow 2.X\n",
    "\n",
    "\n",
    "https://www.tensorflow.org/\n",
    "\n",
    "https://www.tensorflow.org/api_docs/python/tf/keras\n",
    "\n",
    "\n",
    "* An open source symbolic math library for neural networks.\n",
    "* Supports execution on CPUs, GPUs and TPUs\n",
    "* TensorBoard: a data visualization toolkit.\n",
    "* Originally developed as part of Google Brain\n",
    "* Built-in high level specification Keras\n",
    "    - Import tensorflow.keras\n",
    "\n",
    "#### Keras Model Classes\n",
    "\n",
    "* Sequential - the easiest\n",
    "    - Add layers to model\n",
    "* Model - functional interface\n",
    "    - Layers are like functions\n",
    "    - Can compose layers\n",
    "    - More flexible than sequential\n",
    "\n",
    "#### Layers\n",
    "\n",
    "* Layers are the fundamental building block of keras models. \n",
    "* For example:\n",
    "    - Input\n",
    "    - Dense\n",
    "    - Output\n",
    "    - Convolutional\n",
    "    - Pooling\n",
    "    - Activation\n",
    "    "
   ]
  },
  {
   "cell_type": "code",
   "execution_count": null,
   "metadata": {},
   "outputs": [],
   "source": [
    "tf.executing_eagerly()"
   ]
  },
  {
   "cell_type": "code",
   "execution_count": null,
   "metadata": {},
   "outputs": [],
   "source": [
    "[device.name for device in tf.config.experimental.list_physical_devices()]"
   ]
  },
  {
   "cell_type": "markdown",
   "metadata": {},
   "source": [
    "### Simple Linear Regression Model"
   ]
  },
  {
   "cell_type": "code",
   "execution_count": null,
   "metadata": {},
   "outputs": [],
   "source": [
    "cars = pd.read_csv(\"cars.csv\")\n"
   ]
  },
  {
   "cell_type": "code",
   "execution_count": null,
   "metadata": {},
   "outputs": [],
   "source": [
    "data = tf.constant(cars.values)\n",
    "type(data),data.shape"
   ]
  },
  {
   "cell_type": "code",
   "execution_count": null,
   "metadata": {},
   "outputs": [],
   "source": [
    "speed = data[:,0]\n",
    "stopping_distance = data[:,1]"
   ]
  },
  {
   "cell_type": "code",
   "execution_count": null,
   "metadata": {},
   "outputs": [],
   "source": [
    "sns.scatterplot(speed,stopping_distance);"
   ]
  },
  {
   "cell_type": "markdown",
   "metadata": {},
   "source": [
    "### Simple Neural Network Model\n",
    "\n",
    "* Multiple Layers\n",
    "* Activation = ReLU"
   ]
  },
  {
   "cell_type": "markdown",
   "metadata": {},
   "source": [
    "#### TF2 model using sequential class"
   ]
  },
  {
   "cell_type": "code",
   "execution_count": null,
   "metadata": {},
   "outputs": [],
   "source": [
    "def seq_neural_net():\n",
    "  net = tf.keras.Sequential([\n",
    "    Dense(32, activation='relu', input_shape=[1]),\n",
    "    Dense(16, activation='relu'),\n",
    "    Dense(1),\n",
    "  ])\n",
    "  return net"
   ]
  },
  {
   "cell_type": "code",
   "execution_count": null,
   "metadata": {},
   "outputs": [],
   "source": [
    "net = seq_neural_net()\n",
    "\n",
    "optimizer = tf.keras.optimizers.RMSprop(0.001)\n",
    "\n",
    "net.compile(loss='mse',optimizer=optimizer, metrics=['mse', 'accuracy'])\n",
    "\n",
    "history = net.fit(x=speed, y=stopping_distance,\n",
    "                  shuffle=True,\n",
    "                  epochs=1000,\n",
    "                  validation_split=0.2,\n",
    "                  verbose=0)"
   ]
  },
  {
   "cell_type": "code",
   "execution_count": null,
   "metadata": {},
   "outputs": [],
   "source": [
    "def plot_loss(history):\n",
    "    plt.plot(history.history['loss'])\n",
    "    plt.plot(history.history['val_loss'])\n",
    "    plt.title('model loss')\n",
    "    plt.ylabel('loss')\n",
    "    plt.xlabel('epoch')\n",
    "    plt.legend(['train', 'test'], loc='upper right');\n"
   ]
  },
  {
   "cell_type": "code",
   "execution_count": null,
   "metadata": {},
   "outputs": [],
   "source": [
    "def plot_mse(history):\n",
    "    plt.plot(history.history['mse'])\n",
    "    plt.plot(history.history['val_mse'])\n",
    "    plt.title('model accuracy')\n",
    "    plt.ylabel('mse')\n",
    "    plt.xlabel('epoch')\n",
    "    plt.legend(['train', 'test'], loc='upper right');"
   ]
  },
  {
   "cell_type": "code",
   "execution_count": null,
   "metadata": {},
   "outputs": [],
   "source": [
    "plot_loss(history)"
   ]
  },
  {
   "cell_type": "code",
   "execution_count": null,
   "metadata": {},
   "outputs": [],
   "source": [
    "plot_mse(history)"
   ]
  },
  {
   "cell_type": "markdown",
   "metadata": {},
   "source": [
    "#### Save/Restore Model"
   ]
  },
  {
   "cell_type": "code",
   "execution_count": null,
   "metadata": {},
   "outputs": [],
   "source": [
    "net.save('simple_net.h5')"
   ]
  },
  {
   "cell_type": "code",
   "execution_count": null,
   "metadata": {},
   "outputs": [],
   "source": [
    "simple_net = tf.keras.models.load_model('simple_net.h5')"
   ]
  },
  {
   "cell_type": "markdown",
   "metadata": {},
   "source": [
    "#### Early Stopping\n",
    "\n",
    "* Stop training when some metric stops improving\n"
   ]
  },
  {
   "cell_type": "code",
   "execution_count": null,
   "metadata": {},
   "outputs": [],
   "source": [
    "early_stop = tf.keras.callbacks.EarlyStopping(\n",
    "  monitor='val_loss',\n",
    "  patience=10\n",
    ")"
   ]
  },
  {
   "cell_type": "code",
   "execution_count": null,
   "metadata": {},
   "outputs": [],
   "source": [
    "net = seq_neural_net()\n",
    "\n",
    "net.compile(loss='mse',optimizer=optimizer, metrics=['mse', 'accuracy'])\n",
    "\n",
    "history = net.fit(\n",
    "  x=speed,\n",
    "  y=stopping_distance,\n",
    "  shuffle=True,\n",
    "  epochs=1000,\n",
    "  validation_split=0.2,\n",
    "  verbose=0,\n",
    "  callbacks=[early_stop]\n",
    ")"
   ]
  },
  {
   "cell_type": "code",
   "execution_count": null,
   "metadata": {},
   "outputs": [],
   "source": [
    "plot_mse(history)"
   ]
  },
  {
   "cell_type": "markdown",
   "metadata": {
    "colab_type": "text",
    "id": "E1P_247pZWNS"
   },
   "source": [
    "### TF2 model using Model Class\n",
    "\n",
    "* Keras Functional API https://keras.io/models/model/\n",
    "    - Layers are callable\n",
    "        - input: a tensor\n",
    "        - output: a tensor\n",
    "    - Layers can be composed\n",
    "    - Model is defined by providing input and output layers\n",
    "    - More flexible than sequential"
   ]
  },
  {
   "cell_type": "code",
   "execution_count": null,
   "metadata": {
    "colab": {
     "base_uri": "https://localhost:8080/",
     "height": 34
    },
    "colab_type": "code",
    "id": "w4vrOE5VZWNT",
    "outputId": "1394ec50-bee4-4655-ab32-0847fa1ad36a"
   },
   "outputs": [],
   "source": [
    "# What it means to be callable\n",
    "\n",
    "f = lambda x: x**2\n",
    "f(5)"
   ]
  },
  {
   "cell_type": "code",
   "execution_count": null,
   "metadata": {
    "colab": {
     "base_uri": "https://localhost:8080/",
     "height": 34
    },
    "colab_type": "code",
    "id": "jFYKmN4qZWNV",
    "outputId": "9a695353-d80c-46ad-f2da-eaf9e7e14f70"
   },
   "outputs": [],
   "source": [
    "layer = Lambda(lambda x: x**2)\n",
    "v = tf.constant(5)\n",
    "w = layer(v)\n",
    "w.numpy()"
   ]
  },
  {
   "cell_type": "code",
   "execution_count": null,
   "metadata": {},
   "outputs": [],
   "source": [
    "w"
   ]
  },
  {
   "cell_type": "code",
   "execution_count": null,
   "metadata": {},
   "outputs": [],
   "source": [
    "def model_neural_net():\n",
    "    In = Input(shape=(1,))\n",
    "    H1 = Dense(32, activation='relu')(In)\n",
    "    H2 = Dense(16, activation='relu')(H1)\n",
    "    Out = Dense(1)(H2)\n",
    "    net = Model(In,Out)\n",
    "    return(net)"
   ]
  },
  {
   "cell_type": "code",
   "execution_count": null,
   "metadata": {},
   "outputs": [],
   "source": [
    "net = model_neural_net()\n",
    "\n",
    "optimizer = tf.keras.optimizers.RMSprop(0.001)\n",
    "\n",
    "net.compile(loss='mse',optimizer=optimizer, metrics=['mse', 'accuracy'])\n",
    "\n",
    "history = net.fit(x=speed, y=stopping_distance,\n",
    "                  shuffle=True,\n",
    "                  epochs=1000,\n",
    "                  validation_split=0.2,\n",
    "                  verbose=0)"
   ]
  },
  {
   "cell_type": "code",
   "execution_count": null,
   "metadata": {},
   "outputs": [],
   "source": [
    "plot_loss(history)"
   ]
  },
  {
   "cell_type": "code",
   "execution_count": null,
   "metadata": {},
   "outputs": [],
   "source": [
    "plot_mse(history)"
   ]
  },
  {
   "cell_type": "markdown",
   "metadata": {},
   "source": [
    "### References\n",
    "\n",
    "https://www.curiousily.com/posts/tensorflow-2-and-keras-quick-start-guide/"
   ]
  }
 ],
 "metadata": {
  "kernelspec": {
   "display_name": "Python 3",
   "language": "python",
   "name": "python3"
  },
  "language_info": {
   "codemirror_mode": {
    "name": "ipython",
    "version": 3
   },
   "file_extension": ".py",
   "mimetype": "text/x-python",
   "name": "python",
   "nbconvert_exporter": "python",
   "pygments_lexer": "ipython3",
   "version": "3.8.6"
  },
  "varInspector": {
   "cols": {
    "lenName": 16,
    "lenType": 16,
    "lenVar": 40
   },
   "kernels_config": {
    "python": {
     "delete_cmd_postfix": "",
     "delete_cmd_prefix": "del ",
     "library": "var_list.py",
     "varRefreshCmd": "print(var_dic_list())"
    },
    "r": {
     "delete_cmd_postfix": ") ",
     "delete_cmd_prefix": "rm(",
     "library": "var_list.r",
     "varRefreshCmd": "cat(var_dic_list()) "
    }
   },
   "types_to_exclude": [
    "module",
    "function",
    "builtin_function_or_method",
    "instance",
    "_Feature"
   ],
   "window_display": false
  }
 },
 "nbformat": 4,
 "nbformat_minor": 2
}
