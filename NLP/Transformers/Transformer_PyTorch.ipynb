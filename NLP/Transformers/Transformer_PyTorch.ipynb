{
 "cells": [
  {
   "cell_type": "code",
   "execution_count": 1,
   "metadata": {
    "id": "KsdG6dTVpIQM"
   },
   "outputs": [],
   "source": [
    "%matplotlib inline"
   ]
  },
  {
   "cell_type": "code",
   "execution_count": 2,
   "metadata": {
    "id": "DHywO77lpIQN"
   },
   "outputs": [],
   "source": [
    "import math\n",
    "import torch\n",
    "import torch.nn as nn\n",
    "import torch.nn.functional as F\n",
    "import torchtext\n",
    "from torchtext.data.utils import get_tokenizer\n",
    "\n",
    " from torch.nn import TransformerEncoder, TransformerEncoderLayer"
   ]
  },
  {
   "cell_type": "code",
   "execution_count": 3,
   "metadata": {
    "colab": {
     "base_uri": "https://localhost:8080/"
    },
    "id": "5BALSajgpIQO",
    "outputId": "9f71d880-48e9-4cdf-df11-1f6237e3229b"
   },
   "outputs": [
    {
     "data": {
      "text/plain": [
       "device(type='cuda')"
      ]
     },
     "execution_count": 3,
     "metadata": {
      "tags": []
     },
     "output_type": "execute_result"
    }
   ],
   "source": [
    "device = torch.device(\"cuda\" if torch.cuda.is_available() else \"cpu\")\n",
    "device"
   ]
  },
  {
   "cell_type": "markdown",
   "metadata": {
    "id": "gEeoRVsopIQN"
   },
   "source": [
    "\n",
    "## Transformer for Sequence-to-Sequence Modeling \n",
    "\n",
    "* A nn.TransformerEncoder model is trained on a language modeling task. \n",
    "* The language modeling task is to assign a probability for the likelihood of a given word (or a sequence of words) to follow a sequence of words. \n",
    "\n",
    "https://pytorch.org/docs/master/nn.html?highlight=nn%20transformer#torch.nn.Transformer\n",
    "\n",
    "* nn.Transformer is based on the paper 'Attention is All You Need'\n",
    "https://arxiv.org/pdf/1706.03762.pdf\n",
    "* The nn.Transformer module relies on the attention mechanism nn.MultiheadAttention to draw global dependencies between input and output\n",
    "https://pytorch.org/docs/stable/generated/torch.nn.MultiheadAttention.html\n"
   ]
  },
  {
   "cell_type": "markdown",
   "metadata": {
    "id": "gI2EzniMpIQN"
   },
   "source": [
    "### Model definition\n",
    "\n",
    "* The nn.TransformerEncoder consists of multiple layers of nn.TransformerEncoderLayer \n",
    "* Along with the input sequence, a square attention mask is required because the self-attention layers in nn.TransformerEncoder are only allowed to attend the earlier positions in the sequence. \n",
    "* For the language modeling task, any tokens on the future positions should be masked. To have the actual words, \n",
    "* The output of nn.TransformerEncoder  model is sent to the final Linear layer, which is followed by a log-Softmax function.\n",
    "\n",
    "\n"
   ]
  },
  {
   "cell_type": "code",
   "execution_count": 4,
   "metadata": {
    "id": "pKuUNFC2pIQP"
   },
   "outputs": [],
   "source": [
    "class TransformerModel(nn.Module):\n",
    "\n",
    "    def __init__(self, ntoken, ninp, nhead, nhid, nlayers, dropout=0.5):\n",
    "        super(TransformerModel, self).__init__()\n",
    "        self.model_type = 'Transformer'\n",
    "        \n",
    "        self.encoder = nn.Embedding(ntoken, ninp)\n",
    "        self.pos_encoder = PositionalEncoding(ninp, dropout)\n",
    "        \n",
    "        encoder_layers = TransformerEncoderLayer(ninp, nhead, nhid, dropout)\n",
    "        self.transformer_encoder = TransformerEncoder(encoder_layers, nlayers)\n",
    "       \n",
    "        self.ninp = ninp\n",
    "        self.decoder = nn.Linear(ninp, ntoken)\n",
    "\n",
    "        self.init_weights()\n",
    "\n",
    "    def generate_square_subsequent_mask(self, sz):\n",
    "        mask = (torch.triu(torch.ones(sz, sz)) == 1).transpose(0, 1)\n",
    "        mask = mask.float().masked_fill(mask == 0, float('-inf')).masked_fill(mask == 1, float(0.0))\n",
    "        return mask\n",
    "\n",
    "    def init_weights(self):\n",
    "        initrange = 0.1\n",
    "        self.encoder.weight.data.uniform_(-initrange, initrange)\n",
    "        self.decoder.bias.data.zero_()\n",
    "        self.decoder.weight.data.uniform_(-initrange, initrange)\n",
    "\n",
    "    def forward(self, src, src_mask):\n",
    "        src = self.encoder(src) * math.sqrt(self.ninp)\n",
    "        src = self.pos_encoder(src)\n",
    "        output = self.transformer_encoder(src, src_mask)\n",
    "        output = self.decoder(output)\n",
    "        return output"
   ]
  },
  {
   "cell_type": "markdown",
   "metadata": {
    "id": "EnWvw09mpIQP"
   },
   "source": [
    "#### Positional Encoding \n",
    "\n",
    "* The PositionalEncoding module adds information about the positions of the tokens in the sequence. \n",
    "* The positional encodings have the same dimension as the embeddings so that\n",
    "the two can be summed. \n",
    "* The positions are indicated by different frequencies of the sine and cosine functions.\n"
   ]
  },
  {
   "cell_type": "code",
   "execution_count": 5,
   "metadata": {
    "id": "b-aWH6POpIQP"
   },
   "outputs": [],
   "source": [
    "class PositionalEncoding(nn.Module):\n",
    "\n",
    "    def __init__(self, d_model, dropout=0.1, max_len=5000):\n",
    "        super(PositionalEncoding, self).__init__()\n",
    "        self.dropout = nn.Dropout(p=dropout)\n",
    "\n",
    "        pe = torch.zeros(max_len, d_model)\n",
    "        position = torch.arange(0, max_len, dtype=torch.float).unsqueeze(1)\n",
    "        div_term = torch.exp(torch.arange(0, d_model, 2).float() * (-math.log(10000.0) / d_model))\n",
    "        pe[:, 0::2] = torch.sin(position * div_term)\n",
    "        pe[:, 1::2] = torch.cos(position * div_term)\n",
    "        pe = pe.unsqueeze(0).transpose(0, 1)\n",
    "        self.register_buffer('pe', pe)\n",
    "\n",
    "    def forward(self, x):\n",
    "        x = x + self.pe[:x.size(0), :]\n",
    "        return self.dropout(x)"
   ]
  },
  {
   "cell_type": "code",
   "execution_count": 11,
   "metadata": {
    "colab": {
     "base_uri": "https://localhost:8080/"
    },
    "id": "YVP6hAc_pIQQ",
    "outputId": "49c767bf-9d6d-4ca6-d93e-23559b057a4e"
   },
   "outputs": [
    {
     "data": {
      "text/plain": [
       "TransformerModel(\n",
       "  (pos_encoder): PositionalEncoding(\n",
       "    (dropout): Dropout(p=0.2, inplace=False)\n",
       "  )\n",
       "  (transformer_encoder): TransformerEncoder(\n",
       "    (layers): ModuleList(\n",
       "      (0): TransformerEncoderLayer(\n",
       "        (self_attn): MultiheadAttention(\n",
       "          (out_proj): _LinearWithBias(in_features=200, out_features=200, bias=True)\n",
       "        )\n",
       "        (linear1): Linear(in_features=200, out_features=200, bias=True)\n",
       "        (dropout): Dropout(p=0.2, inplace=False)\n",
       "        (linear2): Linear(in_features=200, out_features=200, bias=True)\n",
       "        (norm1): LayerNorm((200,), eps=1e-05, elementwise_affine=True)\n",
       "        (norm2): LayerNorm((200,), eps=1e-05, elementwise_affine=True)\n",
       "        (dropout1): Dropout(p=0.2, inplace=False)\n",
       "        (dropout2): Dropout(p=0.2, inplace=False)\n",
       "      )\n",
       "      (1): TransformerEncoderLayer(\n",
       "        (self_attn): MultiheadAttention(\n",
       "          (out_proj): _LinearWithBias(in_features=200, out_features=200, bias=True)\n",
       "        )\n",
       "        (linear1): Linear(in_features=200, out_features=200, bias=True)\n",
       "        (dropout): Dropout(p=0.2, inplace=False)\n",
       "        (linear2): Linear(in_features=200, out_features=200, bias=True)\n",
       "        (norm1): LayerNorm((200,), eps=1e-05, elementwise_affine=True)\n",
       "        (norm2): LayerNorm((200,), eps=1e-05, elementwise_affine=True)\n",
       "        (dropout1): Dropout(p=0.2, inplace=False)\n",
       "        (dropout2): Dropout(p=0.2, inplace=False)\n",
       "      )\n",
       "    )\n",
       "  )\n",
       "  (encoder): Embedding(28871, 200)\n",
       "  (decoder): Linear(in_features=200, out_features=28871, bias=True)\n",
       ")"
      ]
     },
     "execution_count": 11,
     "metadata": {
      "tags": []
     },
     "output_type": "execute_result"
    }
   ],
   "source": [
    "ntokens = len(TEXT.vocab.stoi) # the size of vocabulary\n",
    "emsize = 200 # embedding dimension\n",
    "nhid = 200 # the dimension of the feedforward network model in nn.TransformerEncoder\n",
    "nlayers = 2 # the number of nn.TransformerEncoderLayer in nn.TransformerEncoder\n",
    "nhead = 2 # the number of heads in the multiheadattention models\n",
    "dropout = 0.2 # the dropout value\n",
    "model = TransformerModel(ntokens, emsize, nhead, nhid, nlayers, dropout).to(device)\n",
    "model"
   ]
  },
  {
   "cell_type": "markdown",
   "metadata": {
    "id": "OXPkPahdpIQP"
   },
   "source": [
    "### Wikitext-2 dataset\n",
    "\n",
    "* The dataset input is the Wikitext-2 dataset from torchtext.   \n",
    "\n",
    "* The vocab object is built based on the training dataset and is used to create numerical tokens as tensors. \n",
    "\n",
    "* The batchify() function arranges the dataset into columns, trimming off any tokens remaining after the data has been divided into batches of size batch_size.\n",
    "    - For instance, with the alphabet as the sequence (total length of 26)and a batch size of 4, we would divide the alphabet into 4 sequences of length 6:\n",
    "\n",
    "\\begin{align}\\begin{bmatrix}\n",
    "  \\text{A} & \\text{B} & \\text{C} & \\ldots & \\text{X} & \\text{Y} & \\text{Z}\n",
    "  \\end{bmatrix}\n",
    "  \\Rightarrow\n",
    "  \\begin{bmatrix}\n",
    "  \\begin{bmatrix}\\text{A} \\\\ \\text{B} \\\\ \\text{C} \\\\ \\text{D} \\\\ \\text{E} \\\\ \\text{F}\\end{bmatrix} &\n",
    "  \\begin{bmatrix}\\text{G} \\\\ \\text{H} \\\\ \\text{I} \\\\ \\text{J} \\\\ \\text{K} \\\\ \\text{L}\\end{bmatrix} &\n",
    "  \\begin{bmatrix}\\text{M} \\\\ \\text{N} \\\\ \\text{O} \\\\ \\text{P} \\\\ \\text{Q} \\\\ \\text{R}\\end{bmatrix} &\n",
    "  \\begin{bmatrix}\\text{S} \\\\ \\text{T} \\\\ \\text{U} \\\\ \\text{V} \\\\ \\text{W} \\\\ \\text{X}\\end{bmatrix}\n",
    "  \\end{bmatrix}\\end{align}\n",
    "\n",
    "* These columns are treated as independent by the model, which means that the dependence of ``G`` and ``F`` can not be learned, but allows more efficient batch processing.\n",
    "\n",
    "\n"
   ]
  },
  {
   "cell_type": "code",
   "execution_count": 7,
   "metadata": {
    "colab": {
     "base_uri": "https://localhost:8080/"
    },
    "id": "fAWaOtexpIQP",
    "outputId": "29391af5-fa85-4586-a1cb-71969bc6885c"
   },
   "outputs": [
    {
     "name": "stdout",
     "output_type": "stream",
     "text": [
      "downloading wikitext-2-v1.zip\n"
     ]
    },
    {
     "name": "stderr",
     "output_type": "stream",
     "text": [
      "wikitext-2-v1.zip: 100%|██████████| 4.48M/4.48M [00:00<00:00, 8.77MB/s]\n"
     ]
    },
    {
     "name": "stdout",
     "output_type": "stream",
     "text": [
      "extracting\n"
     ]
    }
   ],
   "source": [
    "\n",
    "TEXT = torchtext.data.Field(tokenize=get_tokenizer(\"spacy\"),\n",
    "                            init_token='<sos>',\n",
    "                            eos_token='<eos>',\n",
    "                            lower=True)\n",
    "train_txt, val_txt, test_txt = torchtext.datasets.WikiText2.splits(TEXT)\n",
    "TEXT.build_vocab(train_txt)\n",
    "\n",
    "\n",
    "def batchify(data, bsz):\n",
    "    data = TEXT.numericalize([data.examples[0].text])\n",
    "    # Divide the dataset into bsz parts.\n",
    "    nbatch = data.size(0) // bsz\n",
    "    # Trim off any extra elements that wouldn't cleanly fit (remainders).\n",
    "    data = data.narrow(0, 0, nbatch * bsz)\n",
    "    # Evenly divide the data across the bsz batches.\n",
    "    data = data.view(bsz, -1).t().contiguous()\n",
    "    return data.to(device)\n",
    "\n",
    "batch_size = 20\n",
    "eval_batch_size = 10\n",
    "train_data = batchify(train_txt, batch_size)\n",
    "val_data = batchify(val_txt, eval_batch_size)\n",
    "test_data = batchify(test_txt, eval_batch_size)"
   ]
  },
  {
   "cell_type": "markdown",
   "metadata": {
    "id": "6-ozYkWlpIQP"
   },
   "source": [
    "#### get_batch()\n",
    "\n",
    "* This function generates the input and target sequence for the transformer model. \n",
    "* It subdivides the source data into chunks of length bptt. \n"
   ]
  },
  {
   "cell_type": "code",
   "execution_count": 9,
   "metadata": {
    "id": "K_7zOypCpIQP"
   },
   "outputs": [],
   "source": [
    "bptt = 35\n",
    "def get_batch(source, i):\n",
    "    seq_len = min(bptt, len(source) - 1 - i)\n",
    "    data = source[i:i+seq_len]\n",
    "    target = source[i+1:i+1+seq_len].reshape(-1)\n",
    "    return data, target"
   ]
  },
  {
   "cell_type": "markdown",
   "metadata": {
    "id": "1LygFxV5pIQQ"
   },
   "source": [
    "### Training"
   ]
  },
  {
   "cell_type": "code",
   "execution_count": 12,
   "metadata": {
    "id": "mShKKh82pIQQ"
   },
   "outputs": [],
   "source": [
    "criterion = nn.CrossEntropyLoss()\n",
    "lr = 5.0 # learning rate\n",
    "optimizer = torch.optim.SGD(model.parameters(), lr=lr)\n",
    "scheduler = torch.optim.lr_scheduler.StepLR(optimizer, 1.0, gamma=0.95)\n",
    "\n",
    "import time\n",
    "def train():\n",
    "    model.train() # Turn on the train mode\n",
    "    total_loss = 0.\n",
    "    start_time = time.time()\n",
    "    ntokens = len(TEXT.vocab.stoi)\n",
    "    src_mask = model.generate_square_subsequent_mask(bptt).to(device)\n",
    "    for batch, i in enumerate(range(0, train_data.size(0) - 1, bptt)):\n",
    "        data, targets = get_batch(train_data, i)\n",
    "        optimizer.zero_grad()\n",
    "        if data.size(0) != bptt:\n",
    "            src_mask = model.generate_square_subsequent_mask(data.size(0)).to(device)\n",
    "        output = model(data, src_mask)\n",
    "        loss = criterion(output.view(-1, ntokens), targets)\n",
    "        loss.backward()\n",
    "        torch.nn.utils.clip_grad_norm_(model.parameters(), 0.5)\n",
    "        optimizer.step()\n",
    "\n",
    "        total_loss += loss.item()\n",
    "        log_interval = 200\n",
    "        if batch % log_interval == 0 and batch > 0:\n",
    "            cur_loss = total_loss / log_interval\n",
    "            elapsed = time.time() - start_time\n",
    "            \n",
    "            print('| epoch {:3d} | {:5d}/{:5d} batches | '\n",
    "                  'lr {:02.2f} | ms/batch {:5.2f} | '\n",
    "                  'loss {:5.2f} | ppl {:8.2f}'.format(\n",
    "                    epoch, batch, len(train_data) // bptt, scheduler.get_lr()[0],\n",
    "                    elapsed * 1000 / log_interval,\n",
    "                    cur_loss, math.exp(cur_loss)))\n",
    "            total_loss = 0\n",
    "            start_time = time.time()\n",
    "\n",
    "def evaluate(eval_model, data_source):\n",
    "    eval_model.eval() # Turn on the evaluation mode\n",
    "    total_loss = 0.\n",
    "    ntokens = len(TEXT.vocab.stoi)\n",
    "    src_mask = model.generate_square_subsequent_mask(bptt).to(device)\n",
    "    with torch.no_grad():\n",
    "        for i in range(0, data_source.size(0) - 1, bptt):\n",
    "            data, targets = get_batch(data_source, i)\n",
    "            if data.size(0) != bptt:\n",
    "                src_mask = model.generate_square_subsequent_mask(data.size(0)).to(device)\n",
    "            output = eval_model(data, src_mask)\n",
    "            output_flat = output.view(-1, ntokens)\n",
    "            total_loss += len(data) * criterion(output_flat, targets).item()\n",
    "    return total_loss / (len(data_source) - 1)"
   ]
  },
  {
   "cell_type": "markdown",
   "metadata": {
    "id": "WVNLaX02pIQQ"
   },
   "source": [
    "#### Training Loop \n",
    "\n",
    "* Save the model if the validation loss is the best we've seen so far. \n",
    "* Adjust the learning rate after each epoch."
   ]
  },
  {
   "cell_type": "code",
   "execution_count": 13,
   "metadata": {
    "colab": {
     "base_uri": "https://localhost:8080/"
    },
    "id": "YI_agnE7pIQQ",
    "outputId": "cc21424e-fd1b-4e44-a7dc-ebf026487bd4"
   },
   "outputs": [
    {
     "name": "stderr",
     "output_type": "stream",
     "text": [
      "/usr/local/lib/python3.6/dist-packages/torch/optim/lr_scheduler.py:370: UserWarning: To get the last learning rate computed by the scheduler, please use `get_last_lr()`.\n",
      "  \"please use `get_last_lr()`.\", UserWarning)\n"
     ]
    },
    {
     "name": "stdout",
     "output_type": "stream",
     "text": [
      "| epoch   1 |   200/ 3195 batches | lr 5.00 | ms/batch 18.53 | loss  7.30 | ppl  1481.15\n",
      "| epoch   1 |   400/ 3195 batches | lr 5.00 | ms/batch 16.94 | loss  6.26 | ppl   521.75\n",
      "| epoch   1 |   600/ 3195 batches | lr 5.00 | ms/batch 16.73 | loss  5.97 | ppl   391.33\n",
      "| epoch   1 |   800/ 3195 batches | lr 5.00 | ms/batch 16.92 | loss  5.79 | ppl   327.65\n",
      "| epoch   1 |  1000/ 3195 batches | lr 5.00 | ms/batch 16.94 | loss  5.81 | ppl   333.78\n",
      "| epoch   1 |  1200/ 3195 batches | lr 5.00 | ms/batch 17.23 | loss  5.75 | ppl   312.72\n",
      "| epoch   1 |  1400/ 3195 batches | lr 5.00 | ms/batch 17.42 | loss  5.70 | ppl   299.05\n",
      "| epoch   1 |  1600/ 3195 batches | lr 5.00 | ms/batch 17.20 | loss  5.59 | ppl   268.88\n",
      "| epoch   1 |  1800/ 3195 batches | lr 5.00 | ms/batch 16.91 | loss  5.63 | ppl   277.84\n",
      "| epoch   1 |  2000/ 3195 batches | lr 5.00 | ms/batch 17.34 | loss  5.63 | ppl   277.98\n",
      "| epoch   1 |  2200/ 3195 batches | lr 5.00 | ms/batch 17.25 | loss  5.57 | ppl   261.31\n",
      "| epoch   1 |  2400/ 3195 batches | lr 5.00 | ms/batch 17.04 | loss  5.45 | ppl   232.16\n",
      "| epoch   1 |  2600/ 3195 batches | lr 5.00 | ms/batch 17.57 | loss  5.53 | ppl   251.05\n",
      "| epoch   1 |  2800/ 3195 batches | lr 5.00 | ms/batch 17.38 | loss  5.51 | ppl   247.66\n",
      "| epoch   1 |  3000/ 3195 batches | lr 5.00 | ms/batch 17.33 | loss  5.41 | ppl   224.47\n",
      "-----------------------------------------------------------------------------------------\n",
      "| end of epoch   1 | time: 58.13s | valid loss  5.14 | valid ppl   170.10\n",
      "-----------------------------------------------------------------------------------------\n",
      "| epoch   2 |   200/ 3195 batches | lr 4.51 | ms/batch 17.66 | loss  5.37 | ppl   214.53\n",
      "| epoch   2 |   400/ 3195 batches | lr 4.51 | ms/batch 17.60 | loss  5.35 | ppl   211.35\n",
      "| epoch   2 |   600/ 3195 batches | lr 4.51 | ms/batch 17.83 | loss  5.26 | ppl   192.93\n",
      "| epoch   2 |   800/ 3195 batches | lr 4.51 | ms/batch 17.78 | loss  5.22 | ppl   185.76\n",
      "| epoch   2 |  1000/ 3195 batches | lr 4.51 | ms/batch 17.94 | loss  5.30 | ppl   200.65\n",
      "| epoch   2 |  1200/ 3195 batches | lr 4.51 | ms/batch 17.59 | loss  5.27 | ppl   194.73\n",
      "| epoch   2 |  1400/ 3195 batches | lr 4.51 | ms/batch 17.80 | loss  5.29 | ppl   198.13\n",
      "| epoch   2 |  1600/ 3195 batches | lr 4.51 | ms/batch 17.84 | loss  5.22 | ppl   184.18\n",
      "| epoch   2 |  1800/ 3195 batches | lr 4.51 | ms/batch 17.62 | loss  5.27 | ppl   193.94\n",
      "| epoch   2 |  2000/ 3195 batches | lr 4.51 | ms/batch 18.21 | loss  5.29 | ppl   198.72\n",
      "| epoch   2 |  2200/ 3195 batches | lr 4.51 | ms/batch 17.92 | loss  5.24 | ppl   188.51\n",
      "| epoch   2 |  2400/ 3195 batches | lr 4.51 | ms/batch 17.78 | loss  5.13 | ppl   169.41\n",
      "| epoch   2 |  2600/ 3195 batches | lr 4.51 | ms/batch 17.68 | loss  5.23 | ppl   186.31\n",
      "| epoch   2 |  2800/ 3195 batches | lr 4.51 | ms/batch 17.72 | loss  5.22 | ppl   184.38\n",
      "| epoch   2 |  3000/ 3195 batches | lr 4.51 | ms/batch 17.57 | loss  5.14 | ppl   171.00\n",
      "-----------------------------------------------------------------------------------------\n",
      "| end of epoch   2 | time: 59.66s | valid loss  5.07 | valid ppl   158.82\n",
      "-----------------------------------------------------------------------------------------\n",
      "| epoch   3 |   200/ 3195 batches | lr 4.29 | ms/batch 17.43 | loss  5.13 | ppl   169.83\n",
      "| epoch   3 |   400/ 3195 batches | lr 4.29 | ms/batch 17.54 | loss  5.15 | ppl   171.59\n",
      "| epoch   3 |   600/ 3195 batches | lr 4.29 | ms/batch 17.75 | loss  5.04 | ppl   154.54\n",
      "| epoch   3 |   800/ 3195 batches | lr 4.29 | ms/batch 17.80 | loss  5.01 | ppl   149.99\n",
      "| epoch   3 |  1000/ 3195 batches | lr 4.29 | ms/batch 17.56 | loss  5.10 | ppl   164.01\n",
      "| epoch   3 |  1200/ 3195 batches | lr 4.29 | ms/batch 17.85 | loss  5.08 | ppl   160.64\n",
      "| epoch   3 |  1400/ 3195 batches | lr 4.29 | ms/batch 17.49 | loss  5.11 | ppl   165.31\n",
      "| epoch   3 |  1600/ 3195 batches | lr 4.29 | ms/batch 17.54 | loss  5.05 | ppl   155.77\n",
      "| epoch   3 |  1800/ 3195 batches | lr 4.29 | ms/batch 17.62 | loss  5.08 | ppl   161.23\n",
      "| epoch   3 |  2000/ 3195 batches | lr 4.29 | ms/batch 17.42 | loss  5.12 | ppl   167.93\n",
      "| epoch   3 |  2200/ 3195 batches | lr 4.29 | ms/batch 17.72 | loss  5.07 | ppl   159.42\n",
      "| epoch   3 |  2400/ 3195 batches | lr 4.29 | ms/batch 18.13 | loss  4.96 | ppl   142.90\n",
      "| epoch   3 |  2600/ 3195 batches | lr 4.29 | ms/batch 17.54 | loss  5.06 | ppl   157.86\n",
      "| epoch   3 |  2800/ 3195 batches | lr 4.29 | ms/batch 17.81 | loss  5.06 | ppl   157.75\n",
      "| epoch   3 |  3000/ 3195 batches | lr 4.29 | ms/batch 17.94 | loss  4.98 | ppl   145.42\n",
      "-----------------------------------------------------------------------------------------\n",
      "| end of epoch   3 | time: 59.44s | valid loss  4.99 | valid ppl   147.56\n",
      "-----------------------------------------------------------------------------------------\n"
     ]
    }
   ],
   "source": [
    "best_val_loss = float(\"inf\")\n",
    "epochs = 3 # The number of epochs\n",
    "best_model = None\n",
    "\n",
    "for epoch in range(1, epochs + 1):\n",
    "    epoch_start_time = time.time()\n",
    "    train()\n",
    "    val_loss = evaluate(model, val_data)\n",
    "    print('-' * 89)\n",
    "    print('| end of epoch {:3d} | time: {:5.2f}s | valid loss {:5.2f} | '\n",
    "          'valid ppl {:8.2f}'.format(epoch, (time.time() - epoch_start_time),\n",
    "                                     val_loss, math.exp(val_loss)))\n",
    "    print('-' * 89)\n",
    "\n",
    "    if val_loss < best_val_loss:\n",
    "        best_val_loss = val_loss\n",
    "        best_model = model\n",
    "\n",
    "    scheduler.step()"
   ]
  },
  {
   "cell_type": "markdown",
   "metadata": {
    "id": "tkVQ7arXpIQQ"
   },
   "source": [
    "Evaluate the model with the test dataset\n",
    "-------------------------------------\n",
    "\n",
    "Apply the best model to check the result with the test dataset.\n",
    "\n"
   ]
  },
  {
   "cell_type": "code",
   "execution_count": 15,
   "metadata": {
    "colab": {
     "base_uri": "https://localhost:8080/"
    },
    "id": "1_ifpVSzpIQQ",
    "outputId": "c4a1a5e4-cd6d-4db9-e876-bc68c9cdc689"
   },
   "outputs": [
    {
     "name": "stdout",
     "output_type": "stream",
     "text": [
      "| End of training | test loss  4.84 | test ppl   126.54\n"
     ]
    }
   ],
   "source": [
    "test_loss = evaluate(best_model, test_data)\n",
    "print('| End of training | test loss {:5.2f} | test ppl {:8.2f}'.format(\n",
    "    test_loss, math.exp(test_loss)))\n"
   ]
  }
 ],
 "metadata": {
  "accelerator": "GPU",
  "colab": {
   "collapsed_sections": [],
   "name": "Transformer_PyTorch.ipynb",
   "provenance": []
  },
  "kernelspec": {
   "display_name": "Python 3",
   "language": "python",
   "name": "python3"
  },
  "language_info": {
   "codemirror_mode": {
    "name": "ipython",
    "version": 3
   },
   "file_extension": ".py",
   "mimetype": "text/x-python",
   "name": "python",
   "nbconvert_exporter": "python",
   "pygments_lexer": "ipython3",
   "version": "3.7.3"
  },
  "varInspector": {
   "cols": {
    "lenName": 16,
    "lenType": 16,
    "lenVar": 40
   },
   "kernels_config": {
    "python": {
     "delete_cmd_postfix": "",
     "delete_cmd_prefix": "del ",
     "library": "var_list.py",
     "varRefreshCmd": "print(var_dic_list())"
    },
    "r": {
     "delete_cmd_postfix": ") ",
     "delete_cmd_prefix": "rm(",
     "library": "var_list.r",
     "varRefreshCmd": "cat(var_dic_list()) "
    }
   },
   "types_to_exclude": [
    "module",
    "function",
    "builtin_function_or_method",
    "instance",
    "_Feature"
   ],
   "window_display": false
  }
 },
 "nbformat": 4,
 "nbformat_minor": 1
}
