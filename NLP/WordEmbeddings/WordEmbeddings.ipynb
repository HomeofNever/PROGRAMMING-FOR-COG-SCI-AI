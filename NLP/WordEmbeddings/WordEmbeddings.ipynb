{
 "cells": [
  {
   "cell_type": "code",
   "execution_count": 1,
   "metadata": {
    "id": "v2goQ7zZ6Jky"
   },
   "outputs": [],
   "source": [
    "import warnings\n",
    "warnings.simplefilter(action='ignore', category=FutureWarning)\n",
    "warnings.simplefilter(action='ignore', category=UserWarning)\n",
    "\n",
    "import numpy as np\n",
    "import os\n",
    "from sklearn.manifold import TSNE\n",
    "import matplotlib.pyplot as plt"
   ]
  },
  {
   "cell_type": "markdown",
   "metadata": {
    "id": "9iAu-fZNjm0H"
   },
   "source": [
    "## Word Embeddings\n",
    "\n",
    "* Define the semantics of words by the context in which they are used.\n",
    "* **word embeddings** are low-dimensional floating point vectors that are learned from data. \n",
    "* They are typically 256-dimensional, 512-dimensional, or 1024-dimensional when dealing with very large vocabularies. "
   ]
  },
  {
   "cell_type": "markdown",
   "metadata": {
    "id": "DSr4VxTTjm0H"
   },
   "source": [
    "#### Two types of word embeddings:\n",
    "\n",
    "* **pre-trained word embeddings** are pre-computed embeddings that are learned from a large corpus.\n",
    "    - You can load these into your model and then fine-tune for your domain.\n",
    "    - The two most used are Word2Vec and GloVe\n",
    "* **Learned word embeddings** are vectors that are learned jointly with the other model parameters\n"
   ]
  },
  {
   "cell_type": "markdown",
   "metadata": {
    "id": "dpXyXho8jm0H"
   },
   "source": [
    "## Pre-trained word embeddings\n",
    "\n",
    "* Sometimes you have so little training data available that could never use your data alone to learn an appropriate task-specific embedding of your vocabulary. \n",
    "\n",
    "* In this case, instead of learning word embeddings you use embedding vectors from a pre-computed \n",
    "embedding space that captures generic aspects of language structure. \n",
    "\n",
    "* These pre-computed embeddings are generally computed using word occurrence statistics.\n",
    "* Word2Vec and GloVe are the two most common pre-trained word embeddings"
   ]
  },
  {
   "cell_type": "markdown",
   "metadata": {
    "id": "2aXkKxgbjm0H"
   },
   "source": [
    "## Word2Vec\n",
    "\n",
    "* First pre-trained word embedding system\n",
    "\n",
    "* Developed by a team led Thomas Mikolov at Google in 2013\n",
    "\n",
    "https://papers.nips.cc/paper/2013/file/9aa42b31882ec039965f3c4923ce901b-Paper.pdf\n",
    "\n",
    "* Two types of models to learn the embeddings\n",
    "    - Continuous Bag of Words (CBOW)\n",
    "    - Skip-Gram"
   ]
  },
  {
   "cell_type": "markdown",
   "metadata": {
    "id": "VAiXwEzZjm0H"
   },
   "source": [
    "#### Continuous Bag of Words (CBOW)\n",
    "\n",
    "* Maps Context to Target Word\n",
    "    - I went to the bank on Tuesday. Predict 'bank' from {I,went,to,the,on,Tuesday}\n",
    "\n",
    "![](CBOW.png)\n",
    "$$\\text{Figure 1. Word2Vec CBOW}$$\n",
    "\n",
    "* $x_{ik} i=1,2,....C$ where C = number of words in context, k = Number of words in vocabulary.\n",
    "    - Each $x_{ik}$ is a one-hot encoded vector of the context word\n",
    "* $W_{VxN}$ is the weight matrix mapping the word to the hidden layer\n",
    "* $h_i$ is hidden layer output. $h_i = \\frac{1}{C}W^T(x_1,...,x_C)$\n",
    "* $W^{'}_{NxV}$ is the weight matrix mapping the hidden layer to the Output layer\n",
    "    - The hidden layer has no non-linear activation\n",
    "* $y_j$ is the  V_dimension output distribution (i.e. the output activation is the softmax function)  for the target word.\n"
   ]
  },
  {
   "cell_type": "markdown",
   "metadata": {
    "id": "KtFcjG_Vjm0H"
   },
   "source": [
    "#### Skip-Gram Model\n",
    "\n",
    "* Maps Word to Context\n",
    "    - I went to the bank on Tuesday. Predict {I,went,to,the,on,Tuesday} from 'bank'\n",
    "\n",
    "![](Skip-Gram.png)\n",
    "$$\\text{Figure 2. Skip-Gram Model}$$\n",
    "\n",
    "* $x_k$ is the one-hot encoded word used to predict the context\n",
    "* $W_{VxN}$ is the weight matrix mapping the word to the hidden layer\n",
    "$h_i$ is hidden layer input.\n",
    "* $W^{'}_{NxV}$ is the weight matrix mapping the hidden layer to the Output layer\n",
    "* $y_{ij} i=1,2,....C$ is the V_dimension output distribution (i.e. the output activation is the softmax function)  for the i context word."
   ]
  },
  {
   "cell_type": "markdown",
   "metadata": {
    "id": "e8kSUsoO1Z3U"
   },
   "source": [
    "### Download the word vectors"
   ]
  },
  {
   "cell_type": "code",
   "execution_count": 2,
   "metadata": {
    "colab": {
     "base_uri": "https://localhost:8080/"
    },
    "id": "9WbgU0u66nw4",
    "outputId": "248c7458-1009-4eac-cf6e-d63fa2663637"
   },
   "outputs": [
    {
     "name": "stdout",
     "output_type": "stream",
     "text": [
      "[=================================================-] 100.0% 1662.0/1662.8MB downloaded\n"
     ]
    }
   ],
   "source": [
    "import gensim.downloader as api\n",
    "word2vec_model = api.load('word2vec-google-news-300')"
   ]
  },
  {
   "cell_type": "markdown",
   "metadata": {
    "id": "EAnppTlU1foo"
   },
   "source": [
    "### Vector representation of a word"
   ]
  },
  {
   "cell_type": "code",
   "execution_count": 27,
   "metadata": {
    "colab": {
     "base_uri": "https://localhost:8080/"
    },
    "id": "5a3DLDARgOBS",
    "outputId": "eb23e8d7-5086-4c2a-c697-a9dff2cac4ec"
   },
   "outputs": [
    {
     "data": {
      "text/plain": [
       "array([-0.01831055,  0.05566406, -0.01153564,  0.07275391,  0.15136719,\n",
       "       -0.06176758,  0.20605469, -0.15332031, -0.05908203,  0.22851562,\n",
       "       -0.06445312, -0.22851562, -0.09472656, -0.03344727,  0.24707031,\n",
       "        0.05541992, -0.00921631,  0.1328125 , -0.15429688,  0.08105469,\n",
       "       -0.07373047,  0.24316406,  0.12353516, -0.09277344,  0.08203125,\n",
       "        0.06494141,  0.15722656,  0.11279297, -0.0612793 , -0.296875  ,\n",
       "       -0.13378906,  0.234375  ,  0.09765625,  0.17773438,  0.06689453,\n",
       "       -0.27539062,  0.06445312, -0.13867188, -0.08886719,  0.171875  ,\n",
       "        0.07861328, -0.10058594,  0.23925781,  0.03808594,  0.18652344,\n",
       "       -0.11279297,  0.22558594,  0.10986328, -0.11865234,  0.02026367,\n",
       "        0.11376953,  0.09570312,  0.29492188,  0.08251953, -0.05444336,\n",
       "       -0.0090332 , -0.0625    , -0.17578125, -0.08154297,  0.01062012,\n",
       "       -0.04736328, -0.08544922, -0.19042969, -0.30273438,  0.07617188,\n",
       "        0.125     , -0.05932617,  0.03833008, -0.03564453,  0.2421875 ,\n",
       "        0.36132812,  0.04760742,  0.00631714, -0.03088379, -0.13964844,\n",
       "        0.22558594, -0.06298828, -0.02636719,  0.1171875 ,  0.33398438,\n",
       "       -0.07666016, -0.06689453,  0.04150391, -0.15136719, -0.22460938,\n",
       "        0.03320312, -0.15332031,  0.07128906,  0.16992188,  0.11572266,\n",
       "       -0.13085938,  0.12451172, -0.20410156,  0.04736328, -0.296875  ,\n",
       "       -0.17480469,  0.00872803, -0.04638672,  0.10791016, -0.203125  ,\n",
       "       -0.27539062,  0.2734375 ,  0.02563477, -0.11035156,  0.0625    ,\n",
       "        0.1953125 ,  0.16015625, -0.13769531, -0.09863281, -0.1953125 ,\n",
       "       -0.22851562,  0.25390625,  0.00915527, -0.03857422,  0.3984375 ,\n",
       "       -0.1796875 ,  0.03833008, -0.24804688,  0.03515625,  0.03881836,\n",
       "        0.03442383, -0.04101562,  0.20214844, -0.03015137, -0.09619141,\n",
       "        0.11669922, -0.06738281,  0.0625    ,  0.10742188,  0.25585938,\n",
       "       -0.21777344,  0.05639648, -0.0065918 ,  0.16113281,  0.11865234,\n",
       "       -0.03088379, -0.11572266,  0.02685547,  0.03100586,  0.09863281,\n",
       "        0.05883789,  0.00634766,  0.11914062,  0.07324219, -0.01586914,\n",
       "        0.18457031,  0.05322266,  0.19824219, -0.22363281, -0.25195312,\n",
       "        0.15039062,  0.22753906,  0.05737305,  0.16992188, -0.22558594,\n",
       "        0.06494141,  0.11914062, -0.06640625, -0.10449219, -0.07226562,\n",
       "       -0.16992188,  0.0625    ,  0.14648438,  0.27148438, -0.02172852,\n",
       "       -0.12695312,  0.18457031, -0.27539062, -0.36523438, -0.03491211,\n",
       "       -0.18554688,  0.23828125, -0.13867188,  0.00296021,  0.04272461,\n",
       "        0.13867188,  0.12207031,  0.05957031, -0.22167969, -0.18945312,\n",
       "       -0.23242188, -0.28710938, -0.00866699, -0.16113281, -0.24316406,\n",
       "        0.05712891, -0.06982422,  0.00053406, -0.10302734, -0.13378906,\n",
       "       -0.16113281,  0.11621094,  0.31640625, -0.02697754, -0.01574707,\n",
       "        0.11425781, -0.04174805,  0.05908203,  0.02661133, -0.08642578,\n",
       "        0.140625  ,  0.09228516, -0.25195312, -0.31445312, -0.05688477,\n",
       "        0.01031494,  0.0234375 , -0.02331543, -0.08056641,  0.01269531,\n",
       "       -0.34179688,  0.17285156, -0.16015625,  0.07763672, -0.03088379,\n",
       "        0.11962891,  0.11767578,  0.20117188, -0.01940918,  0.02172852,\n",
       "        0.23046875,  0.28125   , -0.17675781,  0.02978516,  0.08740234,\n",
       "       -0.06176758,  0.00939941, -0.09277344, -0.203125  ,  0.13085938,\n",
       "       -0.13671875, -0.00500488, -0.04296875,  0.12988281,  0.3515625 ,\n",
       "        0.0402832 , -0.12988281, -0.03173828,  0.28515625,  0.18261719,\n",
       "        0.13867188, -0.16503906, -0.26171875, -0.04345703,  0.0100708 ,\n",
       "        0.08740234,  0.00421143, -0.1328125 , -0.17578125, -0.04321289,\n",
       "       -0.015625  ,  0.16894531,  0.25      ,  0.37109375,  0.19921875,\n",
       "       -0.36132812, -0.10302734, -0.20800781, -0.20117188, -0.01519775,\n",
       "       -0.12207031, -0.12011719, -0.07421875, -0.04345703,  0.14160156,\n",
       "        0.15527344, -0.03027344, -0.09326172, -0.04589844,  0.16796875,\n",
       "       -0.03027344,  0.09179688, -0.10058594,  0.20703125,  0.11376953,\n",
       "       -0.12402344,  0.04003906,  0.06933594, -0.34570312,  0.03881836,\n",
       "        0.16210938,  0.05761719, -0.12792969, -0.05810547,  0.03857422,\n",
       "       -0.11328125, -0.1953125 , -0.28125   , -0.13183594,  0.15722656,\n",
       "       -0.09765625,  0.09619141, -0.09960938, -0.00285339, -0.03637695,\n",
       "        0.15429688,  0.06152344, -0.34570312,  0.11083984,  0.03344727],\n",
       "      dtype=float32)"
      ]
     },
     "execution_count": 27,
     "metadata": {
      "tags": []
     },
     "output_type": "execute_result"
    }
   ],
   "source": [
    "word2vec_model[\"beautiful\"]"
   ]
  },
  {
   "cell_type": "code",
   "execution_count": 28,
   "metadata": {
    "colab": {
     "base_uri": "https://localhost:8080/"
    },
    "id": "GOyEJKmRCa4t",
    "outputId": "bc23a77d-ca40-4615-9109-483b371e44cb"
   },
   "outputs": [
    {
     "data": {
      "text/plain": [
       "(300,)"
      ]
     },
     "execution_count": 28,
     "metadata": {
      "tags": []
     },
     "output_type": "execute_result"
    }
   ],
   "source": [
    "word2vec_model[\"beautiful\"].shape"
   ]
  },
  {
   "cell_type": "markdown",
   "metadata": {
    "id": "E9qfbMxS1qDa"
   },
   "source": [
    "### Word vectors and the meanings of words\n"
   ]
  },
  {
   "cell_type": "code",
   "execution_count": 29,
   "metadata": {
    "colab": {
     "base_uri": "https://localhost:8080/"
    },
    "id": "zR3zzQUrfEXe",
    "outputId": "ca4d3fcc-b0b1-4306-9e7b-0c84c1a168c8"
   },
   "outputs": [
    {
     "data": {
      "text/plain": [
       "[('boy', 0.8543272018432617),\n",
       " ('teenage_girl', 0.7927976250648499),\n",
       " ('woman', 0.7494640946388245),\n",
       " ('teenager', 0.717249870300293),\n",
       " ('schoolgirl', 0.7075953483581543),\n",
       " ('teenaged_girl', 0.6650916337966919),\n",
       " ('daughter', 0.6489864587783813),\n",
       " ('mother', 0.6478164196014404),\n",
       " ('toddler', 0.6473966836929321),\n",
       " ('girls', 0.6154742240905762)]"
      ]
     },
     "execution_count": 29,
     "metadata": {
      "tags": []
     },
     "output_type": "execute_result"
    }
   ],
   "source": [
    "word2vec_model.most_similar(\"girl\")"
   ]
  },
  {
   "cell_type": "markdown",
   "metadata": {
    "id": "_Go8rwIO1RXU"
   },
   "source": [
    "#### queen - girl + boy = king"
   ]
  },
  {
   "cell_type": "code",
   "execution_count": 30,
   "metadata": {
    "colab": {
     "base_uri": "https://localhost:8080/"
    },
    "id": "DVNmvmnyw-9h",
    "outputId": "54a37962-fcbf-4a4d-bf3a-73624546390a"
   },
   "outputs": [
    {
     "data": {
      "text/plain": [
       "[('king', 0.7298422455787659)]"
      ]
     },
     "execution_count": 30,
     "metadata": {
      "tags": []
     },
     "output_type": "execute_result"
    }
   ],
   "source": [
    "word2vec_model.most_similar(positive=['boy', 'queen'], negative=['girl'], topn=1)"
   ]
  },
  {
   "cell_type": "code",
   "execution_count": 31,
   "metadata": {
    "colab": {
     "base_uri": "https://localhost:8080/"
    },
    "id": "66JOCW0qBNLM",
    "outputId": "83ccf4c7-759a-4e0e-cdde-d000799a7285"
   },
   "outputs": [
    {
     "data": {
      "text/plain": [
       "[('king', 0.6958590149879456)]"
      ]
     },
     "execution_count": 31,
     "metadata": {
      "tags": []
     },
     "output_type": "execute_result"
    }
   ],
   "source": [
    "word2vec_model.most_similar(positive=['man', 'queen'], negative=['woman'], topn=1)"
   ]
  },
  {
   "cell_type": "code",
   "execution_count": 32,
   "metadata": {
    "colab": {
     "base_uri": "https://localhost:8080/"
    },
    "id": "-aoG-4pRBa-t",
    "outputId": "8ff80263-2fd6-4397-a54a-e3bfd9a6d134"
   },
   "outputs": [
    {
     "data": {
      "text/plain": [
       "[('prince', 0.7020792961120605)]"
      ]
     },
     "execution_count": 32,
     "metadata": {
      "tags": []
     },
     "output_type": "execute_result"
    }
   ],
   "source": [
    "word2vec_model.most_similar(positive=['boy', 'princess'], negative=['girl'], topn=1)"
   ]
  },
  {
   "cell_type": "code",
   "execution_count": 33,
   "metadata": {
    "colab": {
     "base_uri": "https://localhost:8080/",
     "height": 483
    },
    "id": "R9Tn9a3zjISS",
    "outputId": "0e55341b-1dcc-40e4-c7b7-889798e4c4aa"
   },
   "outputs": [
    {
     "data": {
      "image/png": "[encoded data removed]",
      "text/plain": [
       "<Figure size 576x576 with 1 Axes>"
      ]
     },
     "metadata": {
      "needs_background": "light",
      "tags": []
     },
     "output_type": "display_data"
    }
   ],
   "source": [
    "vocab = [\"boy\", \"girl\", \"man\", \"woman\", \"king\", \"queen\", \"banana\", \"apple\", \"mango\", \"fruit\", \"coconut\", \"orange\",\n",
    "         \"peas\",\"carrots\",\"celery\",\"lettuce\",\"tomato\",\"whale\",\"elephant\"]\n",
    "\n",
    "def tsne_plot(model):\n",
    "    labels = []\n",
    "    wordvecs = []\n",
    "\n",
    "    for word in vocab:\n",
    "        wordvecs.append(model[word])\n",
    "        labels.append(word)\n",
    "    \n",
    "    tsne_model = TSNE(perplexity=3, n_components=2, init='pca', random_state=42) # projects to lower dimension\n",
    "    coordinates = tsne_model.fit_transform(wordvecs)\n",
    "\n",
    "    x = []\n",
    "    y = []\n",
    "    for value in coordinates:\n",
    "        x.append(value[0])\n",
    "        y.append(value[1])\n",
    "        \n",
    "    plt.figure(figsize=(8,8)) \n",
    "    for i in range(len(x)):\n",
    "        plt.scatter(x[i],y[i])\n",
    "        plt.annotate(labels[i],\n",
    "                     xy=(x[i], y[i]),\n",
    "                     xytext=(2, 2),\n",
    "                     textcoords='offset points',\n",
    "                     ha='right',\n",
    "                     va='bottom')\n",
    "    plt.show()\n",
    "\n",
    "tsne_plot(word2vec_model)"
   ]
  },
  {
   "cell_type": "markdown",
   "metadata": {
    "id": "XNIXOVUijm0K"
   },
   "source": [
    "### Learned Word Embeddings: The Embedding layer\n",
    "\n",
    "* Learn the the geometric relationships between word vectors should reflect the semantic relationships between these words. \n",
    "* Word embeddings map language into a geometric space with a similarity metric.\n",
    "    - Words similar in meaning (e.g. cat and dog) should be close in the geometric space. \n",
    "    - The geometric distance (e.g. Euclidean distance) between any two word vectors should reflect the semantic distance of the associated words \n",
    "* The **embedding layer** represents a word as a vector in this geometric space learned through backpropagation.\n",
    "\n",
    "* The Embedding layer is like a dictionary mapping integer indices which represent specific words to real-valued  vectors. "
   ]
  },
  {
   "cell_type": "markdown",
   "metadata": {
    "id": "bRf7uLyWjm0K"
   },
   "source": [
    "### Embedding layer in Tensorflow\n",
    "\n",
    "* The Embedding layer takes at least two arguments:\n",
    "    - The number of samples (i.e. words, tokens)\n",
    "    - The dimensionality (length) of the embedding vector\n",
    "\n",
    "* This layer returns a 3D floating point tensor, of shape (num_samples, sequence_length, embedding_dimensionality). \n",
    "\n",
    "* When this layer is instantiated, its weights are initially random. During training, these word vectors will be gradually adjusted via backpropagation, structuring the space into a representation that can be used in other layers.\n",
    "\n"
   ]
  },
  {
   "cell_type": "code",
   "execution_count": 10,
   "metadata": {
    "colab": {
     "base_uri": "https://localhost:8080/",
     "height": 35
    },
    "id": "Hh_uE8lMjm0K",
    "outputId": "033beeb0-ff75-47db-c3a9-b4ad6f02b8ad"
   },
   "outputs": [
    {
     "data": {
      "application/vnd.google.colaboratory.intrinsic+json": {
       "type": "string"
      },
      "text/plain": [
       "'2.3.0'"
      ]
     },
     "execution_count": 10,
     "metadata": {
      "tags": []
     },
     "output_type": "execute_result"
    }
   ],
   "source": [
    "import tensorflow as tf\n",
    "from tensorflow.keras.models import Sequential\n",
    "from tensorflow.keras.layers import Flatten,Dense,Embedding\n",
    "from tensorflow.keras.datasets import imdb\n",
    "from tensorflow.keras.preprocessing.sequence import pad_sequences\n",
    "\n",
    "tf.__version__"
   ]
  },
  {
   "cell_type": "markdown",
   "metadata": {
    "id": "AFT3nljCjm0L"
   },
   "source": [
    "### Sentiment prediction using IMDB Movie Reviews\n",
    "\n",
    "* The number of words is restricted to the top 10,000 most common words in the reviews \n",
    "* The reviews are trucated to only 20 words. \n",
    "* The model will consist of:\n",
    "    - An 8-dimensional embedding for each of the 10,000 words\n",
    "    - Flatten layer the tensor to 2D, and \n",
    "    - A single Dense layer to classify a review as favorable or not."
   ]
  },
  {
   "cell_type": "code",
   "execution_count": 11,
   "metadata": {
    "colab": {
     "base_uri": "https://localhost:8080/"
    },
    "id": "J_NcpB55jm0L",
    "outputId": "1ad29280-8dc9-4825-e2eb-d824c52b2fbd"
   },
   "outputs": [
    {
     "name": "stdout",
     "output_type": "stream",
     "text": [
      "Downloading data from https://storage.googleapis.com/tensorflow/tf-keras-datasets/imdb.npz\n",
      "17465344/17464789 [==============================] - 0s 0us/step\n",
      "(25000,) (25000,) (25000,) (25000,)\n"
     ]
    },
    {
     "data": {
      "text/plain": [
       "[1, 14, 22, 16, 43, 530, 973, 1622, 1385, 65]"
      ]
     },
     "execution_count": 11,
     "metadata": {
      "tags": []
     },
     "output_type": "execute_result"
    }
   ],
   "source": [
    "max_features = 10000 # Number of words to consider as features\n",
    "\n",
    "maxlen = 20 # Cut text after maxlen (among top max_features most common words)\n",
    "\n",
    "(X_train, y_train), (X_test, y_test) = imdb.load_data(num_words=max_features)\n",
    "print(X_train.shape, y_train.shape, X_test.shape, y_test.shape)\n",
    "type(X_train[0]),len(X_train[0]),max(X_train[0])\n",
    "\n",
    "X_train[0][0:10]"
   ]
  },
  {
   "cell_type": "code",
   "execution_count": 12,
   "metadata": {
    "colab": {
     "base_uri": "https://localhost:8080/"
    },
    "id": "HzwwOFjnjm0L",
    "outputId": "85410e5d-e4b2-488c-ffaf-552e4dc9d7d5"
   },
   "outputs": [
    {
     "data": {
      "text/plain": [
       "189"
      ]
     },
     "execution_count": 12,
     "metadata": {
      "tags": []
     },
     "output_type": "execute_result"
    }
   ],
   "source": [
    "len(X_train[1])"
   ]
  },
  {
   "cell_type": "markdown",
   "metadata": {
    "id": "wr4e3kKfjm0L"
   },
   "source": [
    "#### Create 2D integer tensor of shape (samples, maxlen)"
   ]
  },
  {
   "cell_type": "code",
   "execution_count": 13,
   "metadata": {
    "colab": {
     "base_uri": "https://localhost:8080/"
    },
    "id": "Eo2myv5Djm0L",
    "outputId": "ed386802-37f6-4e3e-c2e8-c714bb2f9df3"
   },
   "outputs": [
    {
     "name": "stdout",
     "output_type": "stream",
     "text": [
      "(25000, 20) (25000, 20)\n"
     ]
    },
    {
     "data": {
      "text/plain": [
       "array([  65,   16,   38, 1334,   88,   12,   16,  283,    5,   16, 4472,\n",
       "        113,  103,   32,   15,   16, 5345,   19,  178,   32], dtype=int32)"
      ]
     },
     "execution_count": 13,
     "metadata": {
      "tags": []
     },
     "output_type": "execute_result"
    }
   ],
   "source": [
    "X_train = pad_sequences(X_train, maxlen=maxlen)\n",
    "X_test = pad_sequences(X_test, maxlen=maxlen)\n",
    "print(X_train.shape,X_test.shape)\n",
    "X_train[0,:]"
   ]
  },
  {
   "cell_type": "markdown",
   "metadata": {
    "id": "2kHADgsUjm0L"
   },
   "source": [
    "#### Create Model\n"
   ]
  },
  {
   "cell_type": "code",
   "execution_count": 14,
   "metadata": {
    "colab": {
     "base_uri": "https://localhost:8080/"
    },
    "id": "En54hcUsjm0L",
    "outputId": "ce8993b9-1338-435c-e09f-529e93ea340c"
   },
   "outputs": [
    {
     "name": "stdout",
     "output_type": "stream",
     "text": [
      "Model: \"sequential\"\n",
      "_________________________________________________________________\n",
      "Layer (type)                 Output Shape              Param #   \n",
      "=================================================================\n",
      "embedding (Embedding)        (None, 20, 8)             80000     \n",
      "_________________________________________________________________\n",
      "flatten (Flatten)            (None, 160)               0         \n",
      "_________________________________________________________________\n",
      "dense (Dense)                (None, 1)                 161       \n",
      "=================================================================\n",
      "Total params: 80,161\n",
      "Trainable params: 80,161\n",
      "Non-trainable params: 0\n",
      "_________________________________________________________________\n"
     ]
    }
   ],
   "source": [
    "model = Sequential()\n",
    "\n",
    "model.add(Embedding(10000, 8, input_length=maxlen))\n",
    "# Output shape (samples, maxlen, 8)\n",
    "model.add(Flatten()) # Flatten into a 2D tensor of shape (samples, maxlen * 8)\n",
    "model.add(Dense(1, activation='sigmoid'))\n",
    "\n",
    "model.summary()"
   ]
  },
  {
   "cell_type": "markdown",
   "metadata": {
    "id": "JbuWTLQ-jm0L"
   },
   "source": [
    "#### Compile and fit"
   ]
  },
  {
   "cell_type": "code",
   "execution_count": 15,
   "metadata": {
    "colab": {
     "base_uri": "https://localhost:8080/"
    },
    "id": "j05XO2Xdjm0L",
    "outputId": "e9664e78-a495-4224-fc8b-cd4f09409845"
   },
   "outputs": [
    {
     "name": "stdout",
     "output_type": "stream",
     "text": [
      "Epoch 1/10\n",
      "625/625 [==============================] - 1s 2ms/step - loss: 0.6762 - acc: 0.6004 - val_loss: 0.6314 - val_acc: 0.6892\n",
      "Epoch 2/10\n",
      "625/625 [==============================] - 1s 2ms/step - loss: 0.5505 - acc: 0.7459 - val_loss: 0.5306 - val_acc: 0.7276\n",
      "Epoch 3/10\n",
      "625/625 [==============================] - 1s 2ms/step - loss: 0.4657 - acc: 0.7850 - val_loss: 0.4999 - val_acc: 0.7464\n",
      "Epoch 4/10\n",
      "625/625 [==============================] - 1s 2ms/step - loss: 0.4272 - acc: 0.8043 - val_loss: 0.4933 - val_acc: 0.7504\n",
      "Epoch 5/10\n",
      "625/625 [==============================] - 1s 2ms/step - loss: 0.4029 - acc: 0.8184 - val_loss: 0.4948 - val_acc: 0.7528\n",
      "Epoch 6/10\n",
      "625/625 [==============================] - 1s 2ms/step - loss: 0.3838 - acc: 0.8288 - val_loss: 0.4980 - val_acc: 0.7554\n",
      "Epoch 7/10\n",
      "625/625 [==============================] - 1s 2ms/step - loss: 0.3667 - acc: 0.8382 - val_loss: 0.4996 - val_acc: 0.7590\n",
      "Epoch 8/10\n",
      "625/625 [==============================] - 1s 2ms/step - loss: 0.3497 - acc: 0.8483 - val_loss: 0.5036 - val_acc: 0.7568\n",
      "Epoch 9/10\n",
      "625/625 [==============================] - 1s 2ms/step - loss: 0.3324 - acc: 0.8572 - val_loss: 0.5098 - val_acc: 0.7552\n",
      "Epoch 10/10\n",
      "625/625 [==============================] - 1s 2ms/step - loss: 0.3149 - acc: 0.8676 - val_loss: 0.5165 - val_acc: 0.7588\n"
     ]
    }
   ],
   "source": [
    "model.compile(optimizer='rmsprop', loss='binary_crossentropy', metrics=['acc'])\n",
    "\n",
    "history = model.fit(X_train, y_train,\n",
    "                    epochs=10,\n",
    "                    batch_size=32,\n",
    "                    validation_split=0.2)"
   ]
  },
  {
   "cell_type": "markdown",
   "metadata": {
    "id": "cNQ80P7zjm0L"
   },
   "source": [
    "#### Compute classification accuracy"
   ]
  },
  {
   "cell_type": "code",
   "execution_count": 16,
   "metadata": {
    "id": "b3ekaY9Bjm0L"
   },
   "outputs": [],
   "source": [
    "def accuracy(x,y):\n",
    "    y_hat = model.predict(x)\n",
    "    foo = np.array([1 if i > .5 else 0 for i in y_hat[:,0] ])\n",
    "    return np.sum(foo == y)/len(y)\n"
   ]
  },
  {
   "cell_type": "code",
   "execution_count": 17,
   "metadata": {
    "colab": {
     "base_uri": "https://localhost:8080/"
    },
    "id": "aFgB89_Bjm0L",
    "outputId": "cbf13ffd-093b-46f4-a62b-c35089cb1592"
   },
   "outputs": [
    {
     "data": {
      "text/plain": [
       "(0.85516, 0.76136)"
      ]
     },
     "execution_count": 17,
     "metadata": {
      "tags": []
     },
     "output_type": "execute_result"
    }
   ],
   "source": [
    "accuracy(X_train,y_train),accuracy(X_test,y_test)"
   ]
  },
  {
   "cell_type": "markdown",
   "metadata": {
    "id": "u_EaplDojm0L"
   },
   "source": [
    "* This model with a single Dense layer treats each word in the input sequence separately\n",
    "    - Inter-word relationships and structure sentence are not taken into account\n",
    "* We could add recurrent layers or 1D convolutional layers after the embedded sequences to learn features that take into account each sequence as a whole."
   ]
  },
  {
   "cell_type": "markdown",
   "metadata": {
    "id": "1SbCJ7r_jm0L"
   },
   "source": [
    "### Embedding layer Pytorch"
   ]
  },
  {
   "cell_type": "code",
   "execution_count": 18,
   "metadata": {
    "colab": {
     "base_uri": "https://localhost:8080/",
     "height": 35
    },
    "id": "s9WIhzLajm0L",
    "outputId": "a941d8e5-79ac-465e-be23-54b30d048f2d"
   },
   "outputs": [
    {
     "data": {
      "application/vnd.google.colaboratory.intrinsic+json": {
       "type": "string"
      },
      "text/plain": [
       "'1.7.0+cu101'"
      ]
     },
     "execution_count": 18,
     "metadata": {
      "tags": []
     },
     "output_type": "execute_result"
    }
   ],
   "source": [
    "import torch\n",
    "import torch.nn as nn\n",
    "import torch.nn.functional as F\n",
    "import torch.optim as optim\n",
    "\n",
    "torch.manual_seed(1)\n",
    "torch.__version__"
   ]
  },
  {
   "cell_type": "code",
   "execution_count": 19,
   "metadata": {
    "colab": {
     "base_uri": "https://localhost:8080/"
    },
    "id": "2-549w4Ejm0L",
    "outputId": "f379fcf0-ec06-4b98-d5a8-b1c10a96d15b"
   },
   "outputs": [
    {
     "name": "stdout",
     "output_type": "stream",
     "text": [
      "tensor([[ 0.6614,  0.2669,  0.0617,  0.6213, -0.4519]],\n",
      "       grad_fn=<EmbeddingBackward>)\n"
     ]
    }
   ],
   "source": [
    "word_to_ix = {\"hello\": 0, \"world\": 1}\n",
    "embeds = nn.Embedding(2, 5)  # 2 words in vocab, 5 dimensional embeddings\n",
    "lookup_tensor = torch.tensor([word_to_ix[\"hello\"]], dtype=torch.long)\n",
    "hello_embed = embeds(lookup_tensor)\n",
    "print(hello_embed)"
   ]
  },
  {
   "cell_type": "code",
   "execution_count": 20,
   "metadata": {
    "colab": {
     "base_uri": "https://localhost:8080/"
    },
    "id": "_tDJSfl7jm0L",
    "outputId": "cd6acc5e-9e9a-4652-c06f-721a51639d30"
   },
   "outputs": [
    {
     "name": "stdout",
     "output_type": "stream",
     "text": [
      "[(['When', 'forty'], 'winters'), (['forty', 'winters'], 'shall'), (['winters', 'shall'], 'besiege')]\n"
     ]
    }
   ],
   "source": [
    "CONTEXT_SIZE = 2\n",
    "EMBEDDING_DIM = 10\n",
    "# We will use Shakespeare Sonnet 2\n",
    "test_sentence = \"\"\"When forty winters shall besiege thy brow,\n",
    "And dig deep trenches in thy beauty's field,\n",
    "Thy youth's proud livery so gazed on now,\n",
    "Will be a totter'd weed of small worth held:\n",
    "Then being asked, where all thy beauty lies,\n",
    "Where all the treasure of thy lusty days;\n",
    "To say, within thine own deep sunken eyes,\n",
    "Were an all-eating shame, and thriftless praise.\n",
    "How much more praise deserv'd thy beauty's use,\n",
    "If thou couldst answer 'This fair child of mine\n",
    "Shall sum my count, and make my old excuse,'\n",
    "Proving his beauty by succession thine!\n",
    "This were to be new made when thou art old,\n",
    "And see thy blood warm when thou feel'st it cold.\"\"\".split()\n",
    "\n",
    "# Build a list of trigrams.  Each trigram is ([ word_i-2, word_i-1 ], target word)\n",
    "# Note: we should tokenize the input\n",
    "\n",
    "trigrams = [([test_sentence[i], test_sentence[i + 1]], test_sentence[i + 2])\n",
    "            for i in range(len(test_sentence) - 2)]\n",
    "\n",
    "print(trigrams[:3])"
   ]
  },
  {
   "cell_type": "code",
   "execution_count": 21,
   "metadata": {
    "colab": {
     "base_uri": "https://localhost:8080/"
    },
    "id": "suMTkoI8jm0L",
    "outputId": "df940061-3d55-4859-84a4-a6426b5f5b71"
   },
   "outputs": [
    {
     "data": {
      "text/plain": [
       "97"
      ]
     },
     "execution_count": 21,
     "metadata": {
      "tags": []
     },
     "output_type": "execute_result"
    }
   ],
   "source": [
    "vocab = set(test_sentence)\n",
    "word_to_ix = {word: i for i, word in enumerate(vocab)}\n",
    "len(vocab)"
   ]
  },
  {
   "cell_type": "code",
   "execution_count": 22,
   "metadata": {
    "colab": {
     "base_uri": "https://localhost:8080/"
    },
    "id": "p1MRzaxgjm0L",
    "outputId": "dac85d4b-1b37-4f32-d8ca-ae12a4772d55"
   },
   "outputs": [
    {
     "data": {
      "text/plain": [
       "26"
      ]
     },
     "execution_count": 22,
     "metadata": {
      "tags": []
     },
     "output_type": "execute_result"
    }
   ],
   "source": [
    "word_to_ix[\"winters\"]"
   ]
  },
  {
   "cell_type": "code",
   "execution_count": 23,
   "metadata": {
    "colab": {
     "base_uri": "https://localhost:8080/"
    },
    "id": "LdIniu_Yjm0L",
    "outputId": "404b1cd3-61ce-483b-d2ce-0cbbf136ce6c"
   },
   "outputs": [
    {
     "data": {
      "text/plain": [
       "NGramLanguageModeler(\n",
       "  (embeddings): Embedding(97, 10)\n",
       "  (linear1): Linear(in_features=20, out_features=128, bias=True)\n",
       "  (linear2): Linear(in_features=128, out_features=97, bias=True)\n",
       ")"
      ]
     },
     "execution_count": 23,
     "metadata": {
      "tags": []
     },
     "output_type": "execute_result"
    }
   ],
   "source": [
    "class NGramLanguageModeler(nn.Module):\n",
    "\n",
    "    def __init__(self, vocab_size, embedding_dim, context_size):\n",
    "        super(NGramLanguageModeler, self).__init__()\n",
    "        self.embeddings = nn.Embedding(vocab_size, embedding_dim)\n",
    "        self.linear1 = nn.Linear(context_size * embedding_dim, 128)\n",
    "        self.linear2 = nn.Linear(128, vocab_size)\n",
    "\n",
    "    def forward(self, inputs):\n",
    "        embeds = self.embeddings(inputs).view((1, -1)) # Reshape\n",
    "        out = F.relu(self.linear1(embeds))\n",
    "        out = self.linear2(out)\n",
    "        log_probs = F.log_softmax(out, dim=1)\n",
    "        return log_probs\n",
    "model = NGramLanguageModeler(len(vocab), EMBEDDING_DIM, CONTEXT_SIZE)\n",
    "model"
   ]
  },
  {
   "cell_type": "markdown",
   "metadata": {
    "id": "dHgmybaOjm0M"
   },
   "source": [
    "#### Negative Log-Likelihood Loss\n",
    "\n",
    "* Similar to cross-entropy loss.\n",
    "* In cross entropy loss (nn.CrossEntropyLoss) the forward function outputs logits which will be input to a softmax in the optimizer. \n",
    "* In negative log-likelihood loss (tensor.nn.NLLLoss) the log-softmax (tensor.LogSoftmax()) is called in the forward() method."
   ]
  },
  {
   "cell_type": "code",
   "execution_count": 24,
   "metadata": {
    "id": "BcwOY-H1jm0M"
   },
   "outputs": [],
   "source": [
    "loss_function = nn.NLLLoss()\n",
    "optimizer = optim.SGD(model.parameters(), lr=0.001)"
   ]
  },
  {
   "cell_type": "code",
   "execution_count": 25,
   "metadata": {
    "colab": {
     "base_uri": "https://localhost:8080/"
    },
    "id": "FmmOs1L5jm0M",
    "outputId": "d6c2e1bb-cb5a-4be9-b9f1-992776440dbc"
   },
   "outputs": [
    {
     "name": "stdout",
     "output_type": "stream",
     "text": [
      "[521.18049717 518.48077965 515.80033612 513.13620043 510.48763585\n",
      " 507.85377598 505.23100877 502.62168455 500.02433562 497.43707323]\n"
     ]
    }
   ],
   "source": [
    "epochs =10\n",
    "losses = np.zeros(epochs)\n",
    "for epoch in range(epochs):\n",
    "    total_loss = 0\n",
    "    for context, target in trigrams:\n",
    "        \n",
    "        context_idxs = torch.tensor([word_to_ix[w] for w in context], dtype=torch.long)\n",
    "\n",
    "        model.zero_grad()\n",
    "        log_probs = model(context_idxs) # forward pass\n",
    "\n",
    "        # Compute loss function with model output and target.\n",
    "        loss = loss_function(log_probs, torch.tensor([word_to_ix[target]], dtype=torch.long))\n",
    "        loss.backward() # compute gradients\n",
    "        optimizer.step() # update\n",
    "        \n",
    "        total_loss += loss.item() # accumulate loss\n",
    "    losses[epoch] = total_loss\n",
    "print(losses)  # The loss decreased every iteration over the training data!"
   ]
  },
  {
   "cell_type": "code",
   "execution_count": 26,
   "metadata": {
    "colab": {
     "base_uri": "https://localhost:8080/"
    },
    "id": "_SOV7lgDjm0M",
    "outputId": "8af25cd6-dfac-4d40-f453-997b225fb5fa"
   },
   "outputs": [
    {
     "data": {
      "text/plain": [
       "tensor([[-0.8336, -1.1937, -2.3073,  0.6030,  0.3151,  1.1425,  0.3057, -0.5796,\n",
       "          0.5641, -0.8775]], grad_fn=<EmbeddingBackward>)"
      ]
     },
     "execution_count": 26,
     "metadata": {
      "tags": []
     },
     "output_type": "execute_result"
    }
   ],
   "source": [
    "model.embeddings(torch.tensor([word_to_ix[\"winters\"]], dtype=torch.long))"
   ]
  },
  {
   "cell_type": "markdown",
   "metadata": {
    "id": "uglZ_Mrtjm0M"
   },
   "source": [
    "### References\n",
    "\n",
    "Chollet, Francois (2018) Deep Learning with Python\n",
    "\n",
    "https://pytorch.org/tutorials/beginner/nlp/word_embeddings_tutorial.html\n",
    "\n",
    "https://arxiv.org/pdf/1411.2738.pdf"
   ]
  },
  {
   "cell_type": "code",
   "execution_count": 26,
   "metadata": {
    "id": "n9YzdMtXjm0M"
   },
   "outputs": [],
   "source": []
  }
 ],
 "metadata": {
  "colab": {
   "collapsed_sections": [],
   "name": "WordEmbeddings.ipynb",
   "provenance": []
  },
  "kernelspec": {
   "display_name": "Python 3",
   "language": "python",
   "name": "python3"
  },
  "language_info": {
   "codemirror_mode": {
    "name": "ipython",
    "version": 3
   },
   "file_extension": ".py",
   "mimetype": "text/x-python",
   "name": "python",
   "nbconvert_exporter": "python",
   "pygments_lexer": "ipython3",
   "version": "3.7.3"
  },
  "varInspector": {
   "cols": {
    "lenName": 16,
    "lenType": 16,
    "lenVar": 40
   },
   "kernels_config": {
    "python": {
     "delete_cmd_postfix": "",
     "delete_cmd_prefix": "del ",
     "library": "var_list.py",
     "varRefreshCmd": "print(var_dic_list())"
    },
    "r": {
     "delete_cmd_postfix": ") ",
     "delete_cmd_prefix": "rm(",
     "library": "var_list.r",
     "varRefreshCmd": "cat(var_dic_list()) "
    }
   },
   "types_to_exclude": [
    "module",
    "function",
    "builtin_function_or_method",
    "instance",
    "_Feature"
   ],
   "window_display": false
  }
 },
 "nbformat": 4,
 "nbformat_minor": 1
}
