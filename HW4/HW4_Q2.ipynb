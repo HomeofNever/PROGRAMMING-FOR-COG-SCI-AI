{
 "cells": [
  {
   "cell_type": "markdown",
   "metadata": {
    "colab_type": "text",
    "id": "WarGZV8EV0JL"
   },
   "source": [
    "### Question 2 CNN for CIFAR10 dataset in PyTorch\n",
    "\n",
    "#### To be run on GPUs\n"
   ]
  },
  {
   "cell_type": "code",
   "execution_count": 11,
   "metadata": {},
   "outputs": [],
   "source": [
    "import warnings\n",
    "warnings.simplefilter(action='ignore', category=FutureWarning)\n",
    "warnings.simplefilter(action='ignore', category=UserWarning)\n",
    "\n",
    "import numpy as np\n",
    "import pandas as pd\n",
    "from scipy import stats\n",
    "import seaborn as sns\n",
    "import matplotlib.pyplot as plt\n",
    "%matplotlib inline\n",
    "\n",
    "from datetime import datetime\n",
    "from sklearn.metrics import confusion_matrix"
   ]
  },
  {
   "cell_type": "markdown",
   "metadata": {},
   "source": [
    "#### 2.1 (1) Torch imports"
   ]
  },
  {
   "cell_type": "code",
   "execution_count": 15,
   "metadata": {},
   "outputs": [
    {
     "data": {
      "text/plain": [
       "'1.4.0'"
      ]
     },
     "execution_count": 15,
     "metadata": {},
     "output_type": "execute_result"
    }
   ],
   "source": [
    "# Your Code Here\n",
    "import torch\n",
    "import torch.nn as nn\n",
    "import torchvision\n",
    "import torchvision.transforms as transforms\n",
    "from torchsummary import summary\n",
    "\n",
    "torch.__version__"
   ]
  },
  {
   "cell_type": "code",
   "execution_count": 16,
   "metadata": {},
   "outputs": [
    {
     "name": "stdout",
     "output_type": "stream",
     "text": [
      "cpu\n"
     ]
    }
   ],
   "source": [
    "device = torch.device(\"cuda:0\" if torch.cuda.is_available() else \"cpu\")\n",
    "print(device)"
   ]
  },
  {
   "cell_type": "markdown",
   "metadata": {},
   "source": [
    "#### Function to calculate size of output of final convolutional layer"
   ]
  },
  {
   "cell_type": "code",
   "execution_count": 17,
   "metadata": {},
   "outputs": [],
   "source": [
    "def calc_image_size(layers,size_in,padding=0,kernel=3,stride=2,dilation=1):\n",
    "    \"\"\"layers: the number of maxPool operations\n",
    "       size_in: height or width of image\n",
    "       \"\"\"\n",
    "    for _ in range(layers):\n",
    "        size_in = np.floor(((size_in + 2*padding - dilation*(kernel-1)-1)/stride)+1)\n",
    "        #print(size_in)\n",
    "    return int(size_in)"
   ]
  },
  {
   "cell_type": "markdown",
   "metadata": {},
   "source": [
    "#### 2.2 (2) Download and transform Cifar10 data from torchvision\n",
    "\n",
    "* The Cifar10 dataset has 3 color channels\n",
    "* Show the shape of the training data and the type the test dataset"
   ]
  },
  {
   "cell_type": "code",
   "execution_count": 26,
   "metadata": {
    "colab": {
     "base_uri": "https://localhost:8080/",
     "height": 1000
    },
    "colab_type": "code",
    "id": "-UhN3O81Kww0",
    "outputId": "91eb44f9-64bc-472c-e1bd-c32adee28cc2"
   },
   "outputs": [
    {
     "name": "stdout",
     "output_type": "stream",
     "text": [
      "Files already downloaded and verified\n",
      "Files already downloaded and verified\n",
      "(50000, 32, 32, 3)\n",
      "(10000, 32, 32, 3)\n"
     ]
    }
   ],
   "source": [
    "train_dataset = torchvision.datasets.CIFAR10(\n",
    "    root='.',\n",
    "    train=True,\n",
    "    transform=transforms.ToTensor(),\n",
    "    download=True)\n",
    "\n",
    "test_dataset = torchvision.datasets.CIFAR10(\n",
    "    root='.',\n",
    "    train=False,\n",
    "    transform=transforms.ToTensor(),\n",
    "    download=True)\n",
    "\n",
    "transformer_train = torchvision.transforms.Compose([\n",
    "  transforms.RandomCrop(32, padding=4),\n",
    "  torchvision.transforms.RandomHorizontalFlip(p=0.5),\n",
    "  transforms.ToTensor(),])\n",
    "\n",
    "# Your Code Here\n",
    "print(train_dataset.data.shape)\n",
    "print(test_dataset.data.shape)"
   ]
  },
  {
   "cell_type": "markdown",
   "metadata": {},
   "source": [
    "#### 2.3 (1) Create train and test loaders using mini-batch size of 64"
   ]
  },
  {
   "cell_type": "code",
   "execution_count": 122,
   "metadata": {
    "colab": {},
    "colab_type": "code",
    "id": "W_lH3-1XLDS1"
   },
   "outputs": [],
   "source": [
    "# Your Code Here\n",
    "batch_size = 64\n",
    "train_loader = torch.utils.data.DataLoader(dataset=train_dataset, \n",
    "                                           batch_size=batch_size, \n",
    "                                           shuffle=True)\n",
    "\n",
    "test_loader = torch.utils.data.DataLoader(dataset=test_dataset, \n",
    "                                          batch_size=batch_size, \n",
    "                                          shuffle=False)\n"
   ]
  },
  {
   "cell_type": "markdown",
   "metadata": {},
   "source": [
    "#### 2.4 (8) Create CNN Model Class\n",
    "\n",
    "* Create 2 blocks, conv1 and conv2 of convolutional layers using the Sequential class for each block.\n",
    "    - Inside the block should be  a two conv2d classes with 32, 64 output channels, two ReLU and two Batch Normalizations  \n",
    "    \n",
    "* Create two linear layers, linear1 and linear2, linear1 should have an output of 1024 channels  \n",
    "* In the forward function wrap linear1 in a ReLU and add a dropout layer after it  \n",
    "\n",
    "* Hint:  Use calc_image_size  to help determining the size of the flattened image\n",
    "\n",
    "Question 2.4.:  Add a MaxPool2d with a 2x2 kernel at the end of conv1 and conv2\n",
    "    "
   ]
  },
  {
   "cell_type": "code",
   "execution_count": 123,
   "metadata": {},
   "outputs": [
    {
     "name": "stdout",
     "output_type": "stream",
     "text": [
      "7\n"
     ]
    }
   ],
   "source": [
    "# Call calc_image_size\n",
    "inp_sz = calc_image_size(2,32)\n",
    "# Your Code Here\n",
    "print(inp_sz)"
   ]
  },
  {
   "cell_type": "code",
   "execution_count": 173,
   "metadata": {
    "colab": {},
    "colab_type": "code",
    "id": "bnBKf22eMTXw"
   },
   "outputs": [],
   "source": [
    "# Define the model\n",
    "class CNN(nn.Module):\n",
    "  def __init__(self, K):\n",
    "    super(CNN, self).__init__()\n",
    "    # define the conv layers, flatten and linear layers\n",
    "    self.conv1 = nn.Sequential(\n",
    "        nn.Conv2d(in_channels=3, out_channels=32, kernel_size=6, stride=2),\n",
    "        nn.BatchNorm2d(32),\n",
    "        nn.ReLU(),\n",
    "        nn.MaxPool2d(2, 2)\n",
    "    )\n",
    "    self.conv2 = nn.Sequential(\n",
    "        nn.Conv2d(in_channels=32, out_channels=64, kernel_size=3, stride=2),\n",
    "        nn.BatchNorm2d(64),\n",
    "        nn.ReLU(),\n",
    "        nn.MaxPool2d(2, 2)\n",
    "    )\n",
    "    self.linear1= nn.Linear(64, 1024)\n",
    "    self.linear2 = nn.Linear(1024,K)\n",
    "    \n",
    "    self.flatten = nn.Flatten()\n",
    "    self.relu = nn.ReLU()\n",
    "    self.dropout = nn.Dropout(0.2)\n",
    "    \n",
    "    # Your Code Here\n",
    "    \n",
    "  def forward(self, x):\n",
    "    # Your Code Here\n",
    "    x = self.conv1(x)\n",
    "    x = self.conv2(x)\n",
    "    x = self.flatten(x)\n",
    "    x = self.relu(self.linear1(x))\n",
    "    x = self.dropout(x)\n",
    "    x = self.linear2(x)\n",
    "\n",
    "    return x\n",
    "    "
   ]
  },
  {
   "cell_type": "markdown",
   "metadata": {},
   "source": [
    "#### 2.5 (2) Instantiate the model and display a torchsummary model summary"
   ]
  },
  {
   "cell_type": "code",
   "execution_count": 174,
   "metadata": {
    "colab": {
     "base_uri": "https://localhost:8080/",
     "height": 581
    },
    "colab_type": "code",
    "id": "AXzkttj0QIav",
    "outputId": "cf1b38fb-047b-4834-8da2-1106930de272"
   },
   "outputs": [
    {
     "name": "stdout",
     "output_type": "stream",
     "text": [
      "number of classes: 10\n",
      "----------------------------------------------------------------\n",
      "        Layer (type)               Output Shape         Param #\n",
      "================================================================\n",
      "            Conv2d-1           [-1, 32, 14, 14]           3,488\n",
      "       BatchNorm2d-2           [-1, 32, 14, 14]              64\n",
      "              ReLU-3           [-1, 32, 14, 14]               0\n",
      "         MaxPool2d-4             [-1, 32, 7, 7]               0\n",
      "            Conv2d-5             [-1, 64, 3, 3]          18,496\n",
      "       BatchNorm2d-6             [-1, 64, 3, 3]             128\n",
      "              ReLU-7             [-1, 64, 3, 3]               0\n",
      "         MaxPool2d-8             [-1, 64, 1, 1]               0\n",
      "           Flatten-9                   [-1, 64]               0\n",
      "           Linear-10                 [-1, 1024]          66,560\n",
      "             ReLU-11                 [-1, 1024]               0\n",
      "          Dropout-12                 [-1, 1024]               0\n",
      "           Linear-13                   [-1, 10]          10,250\n",
      "================================================================\n",
      "Total params: 98,986\n",
      "Trainable params: 98,986\n",
      "Non-trainable params: 0\n",
      "----------------------------------------------------------------\n",
      "Input size (MB): 0.01\n",
      "Forward/backward pass size (MB): 0.19\n",
      "Params size (MB): 0.38\n",
      "Estimated Total Size (MB): 0.58\n",
      "----------------------------------------------------------------\n"
     ]
    }
   ],
   "source": [
    "# Your Code Here\n",
    "K = len(set(train_dataset.targets))\n",
    "print(\"number of classes:\", K)\n",
    "\n",
    "model = CNN(K)\n",
    "summary(model, (3,32,32))"
   ]
  },
  {
   "cell_type": "markdown",
   "metadata": {},
   "source": [
    "#### 2.6 (1) Use Cross Entropy Loss and Adam optimizer with learning rate of 0.001"
   ]
  },
  {
   "cell_type": "code",
   "execution_count": 175,
   "metadata": {
    "colab": {},
    "colab_type": "code",
    "id": "NVJ9VRunN5uJ"
   },
   "outputs": [],
   "source": [
    "# Your Code Here\n",
    "criterion = nn.CrossEntropyLoss()\n",
    "optimizer = torch.optim.Adam(model.parameters(),  lr=0.001)"
   ]
  },
  {
   "cell_type": "markdown",
   "metadata": {},
   "source": [
    "#### 2.7 (5) Code training loop for 20 epochs\n",
    "\n",
    "* Calculate both training and test loss\n",
    "* Save training loss and test loss for plotting\n",
    "* Print training loss and test loss at end of every epoch\n"
   ]
  },
  {
   "cell_type": "code",
   "execution_count": 176,
   "metadata": {
    "colab": {},
    "colab_type": "code",
    "id": "K_Ux13bnN87z"
   },
   "outputs": [],
   "source": [
    "def mini_batch_gd(model, criterion, optimizer, train_loader, test_loader, device, epochs):\n",
    "  train_losses = np.zeros(epochs)\n",
    "  test_losses = np.zeros(epochs)\n",
    "\n",
    "  for it in range(epochs):\n",
    "    t0 = datetime.now()\n",
    "    train_loss = []\n",
    "    for inputs, targets in train_loader:\n",
    "      # move data to device\n",
    "      inputs, targets = inputs.to(device), targets.to(device)\n",
    "\n",
    "      # zero the parameter gradients\n",
    "      optimizer.zero_grad()\n",
    "\n",
    "      # Forward pass\n",
    "      outputs = model(inputs)\n",
    "      loss = criterion(outputs, targets)\n",
    "        \n",
    "      # Backward and optimize\n",
    "      loss.backward()\n",
    "      optimizer.step()\n",
    "\n",
    "      train_loss.append(loss.item())\n",
    "\n",
    "    # Get train loss and test loss\n",
    "    train_loss = np.mean(train_loss) # a little misleading\n",
    "    \n",
    "    test_loss = []\n",
    "    for inputs, targets in test_loader:\n",
    "      inputs, targets = inputs.to(device), targets.to(device)\n",
    "      outputs = model(inputs)\n",
    "      loss = criterion(outputs, targets)\n",
    "      test_loss.append(loss.item())\n",
    "    test_loss = np.mean(test_loss)\n",
    "\n",
    "    # Save losses\n",
    "    train_losses[it] = train_loss\n",
    "    test_losses[it] = test_loss\n",
    "    \n",
    "    dt = datetime.now() - t0\n",
    "    print(f'Epoch {it+1}/{epochs}, Train Loss: {train_loss:.4f}, \\\n",
    "      Test Loss: {test_loss:.4f}, Duration: {dt}')\n",
    "  \n",
    "  return train_losses, test_losses"
   ]
  },
  {
   "cell_type": "markdown",
   "metadata": {},
   "source": [
    "#### 2.8 (1) Plot the train and test loss"
   ]
  },
  {
   "cell_type": "code",
   "execution_count": 177,
   "metadata": {
    "colab": {
     "base_uri": "https://localhost:8080/",
     "height": 265
    },
    "colab_type": "code",
    "id": "M0DUdF95Ov7C",
    "outputId": "7d56adb3-6a33-46d9-926c-79a63d2faf53"
   },
   "outputs": [
    {
     "name": "stdout",
     "output_type": "stream",
     "text": [
      "Epoch 1/20, Train Loss: 1.5619,       Test Loss: 1.3658, Duration: 0:00:11.345239\n",
      "Epoch 2/20, Train Loss: 1.3128,       Test Loss: 1.2851, Duration: 0:00:11.164723\n",
      "Epoch 3/20, Train Loss: 1.2078,       Test Loss: 1.2694, Duration: 0:00:11.316138\n",
      "Epoch 4/20, Train Loss: 1.1415,       Test Loss: 1.2124, Duration: 0:00:11.368989\n",
      "Epoch 5/20, Train Loss: 1.0909,       Test Loss: 1.2019, Duration: 0:00:11.204665\n",
      "Epoch 6/20, Train Loss: 1.0512,       Test Loss: 1.1975, Duration: 0:00:11.344167\n",
      "Epoch 7/20, Train Loss: 1.0080,       Test Loss: 1.1645, Duration: 0:00:11.263575\n",
      "Epoch 8/20, Train Loss: 0.9758,       Test Loss: 1.1714, Duration: 0:00:11.311797\n",
      "Epoch 9/20, Train Loss: 0.9499,       Test Loss: 1.1570, Duration: 0:00:11.491335\n",
      "Epoch 10/20, Train Loss: 0.9201,       Test Loss: 1.1466, Duration: 0:00:11.430201\n",
      "Epoch 11/20, Train Loss: 0.8988,       Test Loss: 1.1477, Duration: 0:00:11.455635\n",
      "Epoch 12/20, Train Loss: 0.8722,       Test Loss: 1.1765, Duration: 0:00:11.374660\n",
      "Epoch 13/20, Train Loss: 0.8469,       Test Loss: 1.1766, Duration: 0:00:11.320509\n",
      "Epoch 14/20, Train Loss: 0.8304,       Test Loss: 1.1843, Duration: 0:00:11.454342\n",
      "Epoch 15/20, Train Loss: 0.8091,       Test Loss: 1.1948, Duration: 0:00:11.258736\n",
      "Epoch 16/20, Train Loss: 0.7923,       Test Loss: 1.2110, Duration: 0:00:11.254990\n",
      "Epoch 17/20, Train Loss: 0.7743,       Test Loss: 1.2240, Duration: 0:00:11.347633\n",
      "Epoch 18/20, Train Loss: 0.7510,       Test Loss: 1.2228, Duration: 0:00:11.279128\n",
      "Epoch 19/20, Train Loss: 0.7348,       Test Loss: 1.2423, Duration: 0:00:11.697490\n",
      "Epoch 20/20, Train Loss: 0.7211,       Test Loss: 1.2321, Duration: 0:00:11.771130\n"
     ]
    },
    {
     "data": {
      "image/png": "[encoded data removed]",
      "text/plain": [
       "<Figure size 432x288 with 1 Axes>"
      ]
     },
     "metadata": {
      "needs_background": "light"
     },
     "output_type": "display_data"
    }
   ],
   "source": [
    "# Your Code Here\n",
    "train_losses, test_losses = mini_batch_gd(model, criterion, optimizer, train_loader, test_loader, device, epochs=20)\n",
    "\n",
    "# Plot the train loss and test loss per iteration\n",
    "plt.plot(train_losses, label='train loss')\n",
    "plt.plot(test_losses, label='test loss')\n",
    "plt.legend()\n",
    "plt.show()"
   ]
  },
  {
   "cell_type": "markdown",
   "metadata": {},
   "source": [
    "#### 2.9 (4 ) Predict the test data and display  results in a confusion matrix. Print the accuracy."
   ]
  },
  {
   "cell_type": "code",
   "execution_count": 178,
   "metadata": {
    "colab": {
     "base_uri": "https://localhost:8080/",
     "height": 498
    },
    "colab_type": "code",
    "id": "_T5qifQLO2yT",
    "outputId": "a8393d53-5aba-4a38-ed75-ed4b1f00847f"
   },
   "outputs": [
    {
     "name": "stdout",
     "output_type": "stream",
     "text": [
      "[[600  41  75  23  20  17  15  24 154  31]\n",
      " [ 48 696  16  11  14  13  20  14  81  87]\n",
      " [ 53  18 481  93  80  77  99  55  28  16]\n",
      " [ 20  19  79 440  77 182  93  63  20   7]\n",
      " [ 27  10  84  68 547  48  96  88  22  10]\n",
      " [ 11  17  58 186  62 529  47  68  12  10]\n",
      " [  9  16  60  70  50  26 733  18  10   8]\n",
      " [ 30  17  45  75  74  83  17 617   8  34]\n",
      " [ 77  64  20  21  13  12   7   8 737  41]\n",
      " [ 35 146  18  31  17  22  19  34  75 603]]\n",
      "Accuracy = 0.5983\n"
     ]
    }
   ],
   "source": [
    "x_test = test_dataset.data\n",
    "y_test = test_dataset.targets\n",
    "pred_test = np.array([])\n",
    "for inputs, targets in test_loader:\n",
    "  # move data \n",
    "  inputs, targets = inputs.to(device), targets.to(device)\n",
    "\n",
    "  # Forward pass\n",
    "  outputs = model(inputs)\n",
    "\n",
    "  # Get prediction\n",
    "  _, predictions = torch.max(outputs, 1)\n",
    "  \n",
    "  # update pred_test\n",
    "  pred_test = np.concatenate((pred_test, predictions.cpu().numpy()))\n",
    "\n",
    "cm = confusion_matrix(y_test, pred_test)\n",
    "print(cm)\n",
    "\n",
    "print(f'Accuracy = {np.trace(cm)/np.sum(cm)}')"
   ]
  },
  {
   "cell_type": "code",
   "execution_count": null,
   "metadata": {},
   "outputs": [],
   "source": []
  },
  {
   "cell_type": "code",
   "execution_count": null,
   "metadata": {},
   "outputs": [],
   "source": []
  }
 ],
 "metadata": {
  "accelerator": "GPU",
  "colab": {
   "name": "PyTorch CIFAR Improved.ipynb",
   "provenance": []
  },
  "kernelspec": {
   "display_name": "Python 3",
   "language": "python",
   "name": "python3"
  },
  "language_info": {
   "codemirror_mode": {
    "name": "ipython",
    "version": 3
   },
   "file_extension": ".py",
   "mimetype": "text/x-python",
   "name": "python",
   "nbconvert_exporter": "python",
   "pygments_lexer": "ipython3",
   "version": "3.8.6"
  },
  "varInspector": {
   "cols": {
    "lenName": 16,
    "lenType": 16,
    "lenVar": 40
   },
   "kernels_config": {
    "python": {
     "delete_cmd_postfix": "",
     "delete_cmd_prefix": "del ",
     "library": "var_list.py",
     "varRefreshCmd": "print(var_dic_list())"
    },
    "r": {
     "delete_cmd_postfix": ") ",
     "delete_cmd_prefix": "rm(",
     "library": "var_list.r",
     "varRefreshCmd": "cat(var_dic_list()) "
    }
   },
   "types_to_exclude": [
    "module",
    "function",
    "builtin_function_or_method",
    "instance",
    "_Feature"
   ],
   "window_display": false
  },
  "widgets": {
   "application/vnd.jupyter.widget-state+json": {
    "12bdbd59a1774baab3c8277adc592781": {
     "model_module": "@jupyter-widgets/base",
     "model_name": "LayoutModel",
     "state": {
      "_model_module": "@jupyter-widgets/base",
      "_model_module_version": "1.2.0",
      "_model_name": "LayoutModel",
      "_view_count": null,
      "_view_module": "@jupyter-widgets/base",
      "_view_module_version": "1.2.0",
      "_view_name": "LayoutView",
      "align_content": null,
      "align_items": null,
      "align_self": null,
      "border": null,
      "bottom": null,
      "display": null,
      "flex": null,
      "flex_flow": null,
      "grid_area": null,
      "grid_auto_columns": null,
      "grid_auto_flow": null,
      "grid_auto_rows": null,
      "grid_column": null,
      "grid_gap": null,
      "grid_row": null,
      "grid_template_areas": null,
      "grid_template_columns": null,
      "grid_template_rows": null,
      "height": null,
      "justify_content": null,
      "justify_items": null,
      "left": null,
      "margin": null,
      "max_height": null,
      "max_width": null,
      "min_height": null,
      "min_width": null,
      "object_fit": null,
      "object_position": null,
      "order": null,
      "overflow": null,
      "overflow_x": null,
      "overflow_y": null,
      "padding": null,
      "right": null,
      "top": null,
      "visibility": null,
      "width": null
     }
    },
    "1bbfe879bace4439a0a85af2219ad242": {
     "model_module": "@jupyter-widgets/controls",
     "model_name": "HBoxModel",
     "state": {
      "_dom_classes": [],
      "_model_module": "@jupyter-widgets/controls",
      "_model_module_version": "1.5.0",
      "_model_name": "HBoxModel",
      "_view_count": null,
      "_view_module": "@jupyter-widgets/controls",
      "_view_module_version": "1.5.0",
      "_view_name": "HBoxView",
      "box_style": "",
      "children": [
       "IPY_MODEL_f8e7daaac9d34ee39ecb69e6658e84c9",
       "IPY_MODEL_9ef6aedca5b34e1b84bf9545c917714a"
      ],
      "layout": "IPY_MODEL_e03bd81c35ad4fbdb41a19d5296ac10e"
     }
    },
    "97323a3188bf40d59972a24bdb6fb901": {
     "model_module": "@jupyter-widgets/base",
     "model_name": "LayoutModel",
     "state": {
      "_model_module": "@jupyter-widgets/base",
      "_model_module_version": "1.2.0",
      "_model_name": "LayoutModel",
      "_view_count": null,
      "_view_module": "@jupyter-widgets/base",
      "_view_module_version": "1.2.0",
      "_view_name": "LayoutView",
      "align_content": null,
      "align_items": null,
      "align_self": null,
      "border": null,
      "bottom": null,
      "display": null,
      "flex": null,
      "flex_flow": null,
      "grid_area": null,
      "grid_auto_columns": null,
      "grid_auto_flow": null,
      "grid_auto_rows": null,
      "grid_column": null,
      "grid_gap": null,
      "grid_row": null,
      "grid_template_areas": null,
      "grid_template_columns": null,
      "grid_template_rows": null,
      "height": null,
      "justify_content": null,
      "justify_items": null,
      "left": null,
      "margin": null,
      "max_height": null,
      "max_width": null,
      "min_height": null,
      "min_width": null,
      "object_fit": null,
      "object_position": null,
      "order": null,
      "overflow": null,
      "overflow_x": null,
      "overflow_y": null,
      "padding": null,
      "right": null,
      "top": null,
      "visibility": null,
      "width": null
     }
    },
    "9ef6aedca5b34e1b84bf9545c917714a": {
     "model_module": "@jupyter-widgets/controls",
     "model_name": "HTMLModel",
     "state": {
      "_dom_classes": [],
      "_model_module": "@jupyter-widgets/controls",
      "_model_module_version": "1.5.0",
      "_model_name": "HTMLModel",
      "_view_count": null,
      "_view_module": "@jupyter-widgets/controls",
      "_view_module_version": "1.5.0",
      "_view_name": "HTMLView",
      "description": "",
      "description_tooltip": null,
      "layout": "IPY_MODEL_12bdbd59a1774baab3c8277adc592781",
      "placeholder": "​",
      "style": "IPY_MODEL_bf0e89e1b9044febbad2ad4400a20780",
      "value": "170500096it [00:03, 42941616.12it/s]"
     }
    },
    "bf0e89e1b9044febbad2ad4400a20780": {
     "model_module": "@jupyter-widgets/controls",
     "model_name": "DescriptionStyleModel",
     "state": {
      "_model_module": "@jupyter-widgets/controls",
      "_model_module_version": "1.5.0",
      "_model_name": "DescriptionStyleModel",
      "_view_count": null,
      "_view_module": "@jupyter-widgets/base",
      "_view_module_version": "1.2.0",
      "_view_name": "StyleView",
      "description_width": ""
     }
    },
    "c020ed43abf7471981e40c80dfd50ffc": {
     "model_module": "@jupyter-widgets/controls",
     "model_name": "ProgressStyleModel",
     "state": {
      "_model_module": "@jupyter-widgets/controls",
      "_model_module_version": "1.5.0",
      "_model_name": "ProgressStyleModel",
      "_view_count": null,
      "_view_module": "@jupyter-widgets/base",
      "_view_module_version": "1.2.0",
      "_view_name": "StyleView",
      "bar_color": null,
      "description_width": ""
     }
    },
    "e03bd81c35ad4fbdb41a19d5296ac10e": {
     "model_module": "@jupyter-widgets/base",
     "model_name": "LayoutModel",
     "state": {
      "_model_module": "@jupyter-widgets/base",
      "_model_module_version": "1.2.0",
      "_model_name": "LayoutModel",
      "_view_count": null,
      "_view_module": "@jupyter-widgets/base",
      "_view_module_version": "1.2.0",
      "_view_name": "LayoutView",
      "align_content": null,
      "align_items": null,
      "align_self": null,
      "border": null,
      "bottom": null,
      "display": null,
      "flex": null,
      "flex_flow": null,
      "grid_area": null,
      "grid_auto_columns": null,
      "grid_auto_flow": null,
      "grid_auto_rows": null,
      "grid_column": null,
      "grid_gap": null,
      "grid_row": null,
      "grid_template_areas": null,
      "grid_template_columns": null,
      "grid_template_rows": null,
      "height": null,
      "justify_content": null,
      "justify_items": null,
      "left": null,
      "margin": null,
      "max_height": null,
      "max_width": null,
      "min_height": null,
      "min_width": null,
      "object_fit": null,
      "object_position": null,
      "order": null,
      "overflow": null,
      "overflow_x": null,
      "overflow_y": null,
      "padding": null,
      "right": null,
      "top": null,
      "visibility": null,
      "width": null
     }
    },
    "f8e7daaac9d34ee39ecb69e6658e84c9": {
     "model_module": "@jupyter-widgets/controls",
     "model_name": "IntProgressModel",
     "state": {
      "_dom_classes": [],
      "_model_module": "@jupyter-widgets/controls",
      "_model_module_version": "1.5.0",
      "_model_name": "IntProgressModel",
      "_view_count": null,
      "_view_module": "@jupyter-widgets/controls",
      "_view_module_version": "1.5.0",
      "_view_name": "ProgressView",
      "bar_style": "success",
      "description": "",
      "description_tooltip": null,
      "layout": "IPY_MODEL_97323a3188bf40d59972a24bdb6fb901",
      "max": 1,
      "min": 0,
      "orientation": "horizontal",
      "style": "IPY_MODEL_c020ed43abf7471981e40c80dfd50ffc",
      "value": 1
     }
    }
   }
  }
 },
 "nbformat": 4,
 "nbformat_minor": 1
}
