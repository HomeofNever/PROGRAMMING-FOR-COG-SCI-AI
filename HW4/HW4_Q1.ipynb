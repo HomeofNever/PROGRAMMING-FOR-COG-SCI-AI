{
 "cells": [
  {
   "cell_type": "markdown",
   "metadata": {},
   "source": [
    "### Question 1.  A Tensorflow2 Convolutional Neural Network on the MNIST dataset"
   ]
  },
  {
   "cell_type": "code",
   "execution_count": 1,
   "metadata": {},
   "outputs": [],
   "source": [
    "import numpy as np\n",
    "import matplotlib.pyplot as plt\n",
    "%matplotlib inline\n",
    "\n",
    "from sklearn.model_selection import train_test_split\n",
    "from sklearn.metrics import confusion_matrix"
   ]
  },
  {
   "cell_type": "markdown",
   "metadata": {},
   "source": [
    "#### 1.1 (1) Tensorflow2 imports "
   ]
  },
  {
   "cell_type": "code",
   "execution_count": 9,
   "metadata": {},
   "outputs": [
    {
     "data": {
      "text/plain": [
       "'2.3.1'"
      ]
     },
     "execution_count": 9,
     "metadata": {},
     "output_type": "execute_result"
    }
   ],
   "source": [
    "# Your Code Here\n",
    "import tensorflow as tf\n",
    "from tensorflow.keras.models import Sequential,Model \n",
    "from tensorflow.keras.layers import Dense, Dropout, Flatten\n",
    "from tensorflow.keras.layers import Conv2D, MaxPooling2D\n",
    "from tensorflow.keras.layers import ReLU, LeakyReLU\n",
    "\n",
    "from tensorflow.keras.losses import categorical_crossentropy\n",
    "from tensorflow.keras.optimizers import Adam\n",
    "\n",
    "from tensorflow.keras.models import load_model,save_model\n",
    "\n",
    "\n",
    "tf.__version__"
   ]
  },
  {
   "cell_type": "markdown",
   "metadata": {},
   "source": [
    "#### 1.2 (1) Load the Mnist data set into X_train,y_train,X_test and y_test\n"
   ]
  },
  {
   "cell_type": "code",
   "execution_count": 10,
   "metadata": {},
   "outputs": [
    {
     "data": {
      "text/plain": [
       "((60000, 28, 28), (60000,), (10000, 28, 28), (10000,))"
      ]
     },
     "execution_count": 10,
     "metadata": {},
     "output_type": "execute_result"
    }
   ],
   "source": [
    "# Your Code Here\n",
    "from tensorflow.keras.datasets import mnist\n",
    "from tensorflow.keras.utils import to_categorical\n",
    "\n",
    "(X_train, y_train), (X_test, y_test) = mnist.load_data()\n",
    "\n",
    "X_train.shape,y_train.shape,X_test.shape,y_test.shape"
   ]
  },
  {
   "cell_type": "markdown",
   "metadata": {},
   "source": [
    "#### 1.3 (1) Display the 5th Image in the test set"
   ]
  },
  {
   "cell_type": "code",
   "execution_count": 11,
   "metadata": {},
   "outputs": [
    {
     "name": "stdout",
     "output_type": "stream",
     "text": [
      "4\n"
     ]
    },
    {
     "data": {
      "image/png": "[encoded data removed]",
      "text/plain": [
       "<Figure size 432x288 with 1 Axes>"
      ]
     },
     "metadata": {
      "needs_background": "light"
     },
     "output_type": "display_data"
    }
   ],
   "source": [
    "# Your Code Here\n",
    "plt.imshow(X_test[4], cmap=plt.cm.binary)\n",
    "print(y_test[4])"
   ]
  },
  {
   "cell_type": "markdown",
   "metadata": {},
   "source": [
    "####  1.4 (2) Reshape each image to 28x28x1, convert to float32 and scale to between 0 and 1\n"
   ]
  },
  {
   "cell_type": "code",
   "execution_count": 12,
   "metadata": {},
   "outputs": [
    {
     "name": "stdout",
     "output_type": "stream",
     "text": [
      "(60000, 28, 28, 1) (10000, 28, 28, 1)\n",
      "(60000, 28, 28, 1) (10000, 28, 28, 1)\n"
     ]
    }
   ],
   "source": [
    "# Your Code Here\n",
    "X_train = X_train.reshape(-1, 28,28, 1)\n",
    "X_test = X_test.reshape(-1, 28,28, 1)\n",
    "print(X_train.shape, X_test.shape)\n",
    "X_train = X_train.astype('float32')\n",
    "X_test = X_test.astype('float32')\n",
    "X_train = X_train / 255.\n",
    "X_test = X_test / 255.\n",
    "print(X_train.shape, X_test.shape)"
   ]
  },
  {
   "cell_type": "markdown",
   "metadata": {},
   "source": [
    "#### 1.5 (2) One-hot encode the target labels"
   ]
  },
  {
   "cell_type": "code",
   "execution_count": 13,
   "metadata": {},
   "outputs": [
    {
     "name": "stdout",
     "output_type": "stream",
     "text": [
      "One hot shape  (10000, 10)\n",
      "Original label: 5\n",
      "After conversion to one-hot: [0. 0. 0. 0. 0. 1. 0. 0. 0. 0.]\n"
     ]
    }
   ],
   "source": [
    "# Change the labels from categorical to one-hot encoding\n",
    "y_train_one_hot = to_categorical(y_train)\n",
    "y_test_one_hot = to_categorical(y_test)\n",
    "print('One hot shape ',y_test_one_hot.shape)\n",
    "# Display the change for category label using one-hot encoding\n",
    "print('Original label:', y_train[0])\n",
    "print('After conversion to one-hot:', y_train_one_hot[0])"
   ]
  },
  {
   "cell_type": "markdown",
   "metadata": {},
   "source": [
    "#### 1.6 (2) Split training data into training data and validation data \n"
   ]
  },
  {
   "cell_type": "code",
   "execution_count": 14,
   "metadata": {},
   "outputs": [
    {
     "data": {
      "text/plain": [
       "((48000, 28, 28, 1), (12000, 28, 28, 1), (48000, 10), (12000, 10))"
      ]
     },
     "execution_count": 14,
     "metadata": {},
     "output_type": "execute_result"
    }
   ],
   "source": [
    "# Your Code Here\n",
    "train_X,valid_X,train_label,valid_label = train_test_split(X_train, y_train_one_hot, test_size=0.2, random_state=13)\n",
    "train_X.shape,valid_X.shape,train_label.shape,valid_label.shape"
   ]
  },
  {
   "cell_type": "markdown",
   "metadata": {},
   "source": [
    "#### 1.7 (6) Specify the model structure and output a model summary\n",
    "\n",
    "* Use two Convolutional 2D layers, 2 MaxPooling layers and 2 ReLu layers, 2 dropout layers and a Feed Foward layer.\n",
    "* The two Convolutional 2D layers should have output of 16 and 32 channels\n",
    "* Display a summary of the model"
   ]
  },
  {
   "cell_type": "code",
   "execution_count": 15,
   "metadata": {},
   "outputs": [
    {
     "name": "stdout",
     "output_type": "stream",
     "text": [
      "Model: \"sequential_1\"\n",
      "_________________________________________________________________\n",
      "Layer (type)                 Output Shape              Param #   \n",
      "=================================================================\n",
      "conv2d_2 (Conv2D)            (None, 28, 28, 16)        160       \n",
      "_________________________________________________________________\n",
      "max_pooling2d_2 (MaxPooling2 (None, 14, 14, 16)        0         \n",
      "_________________________________________________________________\n",
      "re_lu_2 (ReLU)               (None, 14, 14, 16)        0         \n",
      "_________________________________________________________________\n",
      "dropout_2 (Dropout)          (None, 14, 14, 16)        0         \n",
      "_________________________________________________________________\n",
      "conv2d_3 (Conv2D)            (None, 14, 14, 32)        4640      \n",
      "_________________________________________________________________\n",
      "re_lu_3 (ReLU)               (None, 14, 14, 32)        0         \n",
      "_________________________________________________________________\n",
      "max_pooling2d_3 (MaxPooling2 (None, 7, 7, 32)          0         \n",
      "_________________________________________________________________\n",
      "dropout_3 (Dropout)          (None, 7, 7, 32)          0         \n",
      "_________________________________________________________________\n",
      "flatten_1 (Flatten)          (None, 1568)              0         \n",
      "_________________________________________________________________\n",
      "dense_1 (Dense)              (None, 64)                100416    \n",
      "_________________________________________________________________\n",
      "leaky_re_lu (LeakyReLU)      (None, 64)                0         \n",
      "_________________________________________________________________\n",
      "dense_2 (Dense)              (None, 10)                650       \n",
      "=================================================================\n",
      "Total params: 105,866\n",
      "Trainable params: 105,866\n",
      "Non-trainable params: 0\n",
      "_________________________________________________________________\n"
     ]
    }
   ],
   "source": [
    "# Your Code Here\n",
    "model = Sequential()\n",
    "\n",
    "model.add(Conv2D(16, kernel_size=(3, 3),activation='linear',input_shape=(28,28,1),\n",
    "                     padding='same'))\n",
    "model.add(MaxPooling2D((2, 2),padding='same'))\n",
    "model.add(ReLU())\n",
    "model.add(Dropout(0.5))\n",
    "\n",
    "model.add(Conv2D(32, (3, 3), activation='linear',padding='same'))\n",
    "model.add(ReLU())\n",
    "model.add(MaxPooling2D(pool_size=(2, 2),padding='same'))\n",
    "model.add(Dropout(0.25))\n",
    "\n",
    "model.add(Flatten())\n",
    "\n",
    "model.add(Dense(64, activation='relu'))\n",
    "model.add(LeakyReLU(alpha=0.1))    \n",
    "model.add(Dense(10, activation='softmax'))\n",
    "model.summary()"
   ]
  },
  {
   "cell_type": "markdown",
   "metadata": {},
   "source": [
    "#### 1.8 (1) Compile Model with cross entropy loss,  the Adam optimizer with a learning rate of 0.001 and an accuracy metric\n"
   ]
  },
  {
   "cell_type": "code",
   "execution_count": 16,
   "metadata": {},
   "outputs": [],
   "source": [
    "# Your Code Here\n",
    "model.compile(loss=tf.keras.losses.categorical_crossentropy,\n",
    "              optimizer=tf.keras.optimizers.Adam(learning_rate=0.001),\n",
    "              metrics=['accuracy'])"
   ]
  },
  {
   "cell_type": "markdown",
   "metadata": {},
   "source": [
    "####  1.9 (3) Train the model with a mini-batch size of 128 for 10 epochs. Include the validation set.\n"
   ]
  },
  {
   "cell_type": "code",
   "execution_count": 17,
   "metadata": {},
   "outputs": [
    {
     "name": "stdout",
     "output_type": "stream",
     "text": [
      "Epoch 1/10\n",
      "375/375 [==============================] - 9s 23ms/step - loss: 0.4398 - accuracy: 0.8634 - val_loss: 0.1360 - val_accuracy: 0.9605\n",
      "Epoch 2/10\n",
      "375/375 [==============================] - 9s 23ms/step - loss: 0.1572 - accuracy: 0.9507 - val_loss: 0.0909 - val_accuracy: 0.9721\n",
      "Epoch 3/10\n",
      "375/375 [==============================] - 8s 22ms/step - loss: 0.1195 - accuracy: 0.9619 - val_loss: 0.0709 - val_accuracy: 0.9808\n",
      "Epoch 4/10\n",
      "375/375 [==============================] - 8s 23ms/step - loss: 0.0951 - accuracy: 0.9694 - val_loss: 0.0677 - val_accuracy: 0.9790\n",
      "Epoch 5/10\n",
      "375/375 [==============================] - 8s 22ms/step - loss: 0.0824 - accuracy: 0.9739 - val_loss: 0.0531 - val_accuracy: 0.9846\n",
      "Epoch 6/10\n",
      "375/375 [==============================] - 8s 22ms/step - loss: 0.0731 - accuracy: 0.9769 - val_loss: 0.0499 - val_accuracy: 0.9846\n",
      "Epoch 7/10\n",
      "375/375 [==============================] - 8s 22ms/step - loss: 0.0680 - accuracy: 0.9779 - val_loss: 0.0471 - val_accuracy: 0.9856\n",
      "Epoch 8/10\n",
      "375/375 [==============================] - 8s 22ms/step - loss: 0.0620 - accuracy: 0.9801 - val_loss: 0.0402 - val_accuracy: 0.9883\n",
      "Epoch 9/10\n",
      "375/375 [==============================] - 8s 23ms/step - loss: 0.0572 - accuracy: 0.9816 - val_loss: 0.0396 - val_accuracy: 0.9879\n",
      "Epoch 10/10\n",
      "375/375 [==============================] - 8s 23ms/step - loss: 0.0530 - accuracy: 0.9829 - val_loss: 0.0382 - val_accuracy: 0.9887\n"
     ]
    }
   ],
   "source": [
    "# Your Code Here\n",
    "batch_size = 128\n",
    "epochs = 10\n",
    "model_train = model.fit(train_X, train_label, batch_size=batch_size,epochs=epochs,verbose=1,\n",
    "                        validation_data=(valid_X, valid_label))"
   ]
  },
  {
   "cell_type": "markdown",
   "metadata": {},
   "source": [
    "#### 1.10 (2) Plot the training and validation loss"
   ]
  },
  {
   "cell_type": "code",
   "execution_count": 18,
   "metadata": {},
   "outputs": [
    {
     "data": {
      "image/png": "[encoded data removed]",
      "text/plain": [
       "<Figure size 432x288 with 1 Axes>"
      ]
     },
     "metadata": {
      "needs_background": "light"
     },
     "output_type": "display_data"
    }
   ],
   "source": [
    "# Your Code Here\n",
    "accuracy = model_train.history['accuracy']\n",
    "val_accuracy = model_train.history['val_accuracy']\n",
    "loss = model_train.history['loss']\n",
    "val_loss = model_train.history['val_loss']\n",
    "epochs = range(len(accuracy))\n",
    "\n",
    "plt.plot(epochs, loss, 'bo', label='Training loss')\n",
    "plt.plot(epochs, val_loss, 'b', label='Validation loss')\n",
    "plt.xlabel(\"Epoch\")\n",
    "plt.title('Training and validation loss')\n",
    "plt.legend();"
   ]
  },
  {
   "cell_type": "markdown",
   "metadata": {},
   "source": [
    "#### 1.11 (2) Evaluate the model on test set. Output the test loss and test accuracy"
   ]
  },
  {
   "cell_type": "code",
   "execution_count": 19,
   "metadata": {},
   "outputs": [
    {
     "name": "stdout",
     "output_type": "stream",
     "text": [
      "Test loss: 0.028371615335345268\n",
      "Test accuracy: 0.9909999966621399\n"
     ]
    }
   ],
   "source": [
    "# Your Code Here\n",
    "test_eval = model.evaluate(X_test, y_test_one_hot, verbose=0)\n",
    "print('Test loss:', test_eval[0])\n",
    "print('Test accuracy:', test_eval[1])"
   ]
  },
  {
   "cell_type": "markdown",
   "metadata": {},
   "source": [
    "#### 1.12 (2) Predict the test data. Display a confusion matrix for the predicted and true label. Print the accuracy"
   ]
  },
  {
   "cell_type": "code",
   "execution_count": 20,
   "metadata": {},
   "outputs": [
    {
     "name": "stdout",
     "output_type": "stream",
     "text": [
      "[4.6400244e-09 6.4343645e-08 2.6609375e-06 3.5487086e-05 9.6009858e-09\n",
      " 1.1314625e-08 2.0452234e-14 9.9991131e-01 5.9108825e-08 5.0393322e-05]\n",
      "[0.0000e+00 0.0000e+00 0.0000e+00 4.0000e-05 0.0000e+00 0.0000e+00\n",
      " 0.0000e+00 9.9991e-01 0.0000e+00 5.0000e-05]\n",
      "(10000, 10)\n",
      "Predicted = 7, label = 7\n",
      "[[ 979    2    3    0    1    2   13    3    6   10]\n",
      " [   0 1130    1    0    0    0    1    1    0    1]\n",
      " [   0    2 1023    1    0    0    0    2    1    0]\n",
      " [   1    0    2 1006    0    3    0    1    1    0]\n",
      " [   0    0    0    0  969    0    1    0    0    3]\n",
      " [   0    0    0    1    0  883    2    0    1    0]\n",
      " [   0    1    0    0    1    2  940    0    0    0]\n",
      " [   0    0    2    0    0    0    0 1018    2    3]\n",
      " [   0    0    1    1    0    0    1    1  958    0]\n",
      " [   0    0    0    1   11    2    0    2    5  992]]\n",
      "Accuracy: 0.9898\n"
     ]
    }
   ],
   "source": [
    "# Your Code Here\n",
    "predicted_classes = model.predict(X_test)\n",
    "\n",
    "print(predicted_classes[0,:])\n",
    "print(np.round(predicted_classes[0,:],5))\n",
    "print(predicted_classes.shape)\n",
    "\n",
    "\n",
    "predicted_classes = np.argmax(np.round(predicted_classes),axis=1)\n",
    "print(f'Predicted = {predicted_classes[0]}, label = {y_test[0]}')\n",
    "predicted_classes.shape, y_test.shape\n",
    "\n",
    "cm = confusion_matrix(predicted_classes,y_test)\n",
    "print(cm)\n",
    "\n",
    "print(f'Accuracy: {np.trace(cm)/np.sum(cm)}')"
   ]
  },
  {
   "cell_type": "code",
   "execution_count": null,
   "metadata": {},
   "outputs": [],
   "source": []
  }
 ],
 "metadata": {
  "kernelspec": {
   "display_name": "Python 3",
   "language": "python",
   "name": "python3"
  },
  "language_info": {
   "codemirror_mode": {
    "name": "ipython",
    "version": 3
   },
   "file_extension": ".py",
   "mimetype": "text/x-python",
   "name": "python",
   "nbconvert_exporter": "python",
   "pygments_lexer": "ipython3",
   "version": "3.8.6"
  },
  "varInspector": {
   "cols": {
    "lenName": 16,
    "lenType": 16,
    "lenVar": 40
   },
   "kernels_config": {
    "python": {
     "delete_cmd_postfix": "",
     "delete_cmd_prefix": "del ",
     "library": "var_list.py",
     "varRefreshCmd": "print(var_dic_list())"
    },
    "r": {
     "delete_cmd_postfix": ") ",
     "delete_cmd_prefix": "rm(",
     "library": "var_list.r",
     "varRefreshCmd": "cat(var_dic_list()) "
    }
   },
   "position": {
    "height": "624px",
    "left": "936px",
    "right": "20px",
    "top": "107px",
    "width": "380px"
   },
   "types_to_exclude": [
    "module",
    "function",
    "builtin_function_or_method",
    "instance",
    "_Feature"
   ],
   "window_display": false
  }
 },
 "nbformat": 4,
 "nbformat_minor": 2
}
