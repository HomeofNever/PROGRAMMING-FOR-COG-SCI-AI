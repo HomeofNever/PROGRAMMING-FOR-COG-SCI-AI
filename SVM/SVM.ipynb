{
 "cells": [
  {
   "cell_type": "code",
   "execution_count": 5,
   "metadata": {},
   "outputs": [],
   "source": [
    "import warnings\n",
    "warnings.simplefilter(action='ignore', category=FutureWarning)\n",
    "warnings.simplefilter(action='ignore', category=UserWarning)\n",
    "\n",
    "import numpy as np\n",
    "import pandas as pd\n",
    "from scipy import stats\n",
    "import seaborn as sns\n",
    "import matplotlib.pyplot as plt\n",
    "%matplotlib inline\n",
    "\n",
    "import numpy.linalg as la"
   ]
  },
  {
   "cell_type": "code",
   "execution_count": 6,
   "metadata": {},
   "outputs": [],
   "source": [
    "from sklearn.model_selection import train_test_split\n",
    "from sklearn.preprocessing import LabelEncoder\n",
    "from sklearn.preprocessing import StandardScaler\n",
    "from sklearn.metrics import confusion_matrix\n",
    "\n",
    "from sklearn.svm import SVC\n",
    "from sklearn.datasets import make_circles"
   ]
  },
  {
   "cell_type": "markdown",
   "metadata": {},
   "source": [
    "## Support Vector Machines\n",
    "\n",
    "* 1st formulated in 1960's by Valdimir Vapnik\n",
    "![](VladimirVapnik.jpg)\n",
    "* Implemented in 1990's and became widely used.\n",
    "    - Outperformed Neural Nets on hand writing recognition\n",
    "* Supported by statistical learning theory\n",
    "    - It has the highest VC Dimension (Vapnik, Chervonenkis)\n",
    "* Classification and regression\n",
    "* 3 Cases\n",
    "    - Linearly separable\n",
    "    - Slightly non-separable\n",
    "    - Non-linear (completely non-separable)"
   ]
  },
  {
   "cell_type": "markdown",
   "metadata": {},
   "source": [
    "### Main idea - Linearly Separable Case\n",
    " \n",
    "* Find the widest street (hyperplane) through (separating) the data\n",
    "* In 2-d hyperplane is a line.\n",
    "* Many possible lines separating the data\n",
    " "
   ]
  },
  {
   "cell_type": "code",
   "execution_count": 7,
   "metadata": {},
   "outputs": [
    {
     "data": {
      "image/png": "[encoded data removed]",
      "text/plain": [
       "<Figure size 432x288 with 1 Axes>"
      ]
     },
     "metadata": {
      "needs_background": "light"
     },
     "output_type": "display_data"
    }
   ],
   "source": [
    "iris = sns.load_dataset('iris')\n",
    "sns.scatterplot(data = iris.iloc[0:100,:],x='petal_width',y='petal_length',hue= 'species');"
   ]
  },
  {
   "cell_type": "markdown",
   "metadata": {},
   "source": [
    "\n",
    "\n",
    "* What is the best line?\n",
    "\n",
    "* The one that maximizes the margin between examples of both classes\n",
    "![](PossibleHyperplanes.png)\n"
   ]
  },
  {
   "cell_type": "markdown",
   "metadata": {},
   "source": [
    "### Intuition\n",
    " \n",
    "* The support vectors are the examples with features that are the most similar to the edge cases of the other class.  \n",
    "* If you can separate these then the other other (less extreme) examples surely can be classified  \n",
    "* The support vectors are the data points that lie on the lines that are the \"gutters\" of the maximum width \"road\" through the data.\n"
   ]
  },
  {
   "cell_type": "markdown",
   "metadata": {},
   "source": [
    "### Hyperplanes\n",
    "\n",
    "* A n-1 dimensional plane defined in a n-dimensional space by a linear equation\n",
    "* If n = 2, then a hyperplane is a line. If n=3, then it is a plane.\n",
    "\n",
    "#### Equation of hyperplane\n",
    "\n",
    "* The equation for a line can be represented as a dot product\n",
    "\n",
    "$$y -mx -b = 0 \\text{ Equation for a line}$$\n",
    "\n",
    "$$\\vec{w}\\cdot \\vec{x} = 0\\text{ Dot Product}$$\n",
    "\n",
    "Let $\\vec{w} = (-b,-m,1), \\vec{x} = (1,x,y)$\n",
    "\n",
    "$$\\vec{w}\\cdot \\vec{x} = y -mx -b$$\n",
    "\n",
    "#### Compute distance from hyperplane to a point\n",
    "\n",
    "* Let b = 0, hyperplane goes through the origin\n",
    "* $\\vec{w}$ is perpendicular to the hyperplane"
   ]
  },
  {
   "cell_type": "code",
   "execution_count": 8,
   "metadata": {},
   "outputs": [
    {
     "name": "stdout",
     "output_type": "stream",
     "text": [
      "Norm w = 2.23606797749979\n",
      "Unit vector = [0.89442719 0.4472136 ]\n"
     ]
    }
   ],
   "source": [
    "w = np.array([2,1])\n",
    "A = np.array([3,4])\n",
    "print(f'Norm w = {la.norm(w)}')\n",
    "u = w/la.norm(w)\n",
    "print(f'Unit vector = {u}') # Direction of w"
   ]
  },
  {
   "cell_type": "markdown",
   "metadata": {},
   "source": [
    "* Compute distance from point A to hyperplane\n",
    "\n",
    "\n",
    "![](hyperplane.png)\n",
    "$$x_2 = -2x_1$$\n",
    "\n",
    "* Project $\\vec{A}$ onto $\\vec{w}$\n",
    "![](hyperplane2.png)\n",
    "\n",
    "* P is the projection. Calculate $||\\vec{p}||$"
   ]
  },
  {
   "cell_type": "code",
   "execution_count": 9,
   "metadata": {},
   "outputs": [
    {
     "name": "stdout",
     "output_type": "stream",
     "text": [
      "p is the projection of A unto u [4. 2.]\n",
      "Length of p =  4.47213595499958\n"
     ]
    }
   ],
   "source": [
    "p = (u.dot(A))*u # p is the projection of A unto u\n",
    "print(f'p is the projection of A unto u {p}')\n",
    "p_norm = la.norm(p)\n",
    "print(f'Length of p =  {p_norm}')"
   ]
  },
  {
   "cell_type": "markdown",
   "metadata": {},
   "source": [
    "#### Margin of hyperplane\n",
    "\n",
    "margin = 2$||\\vec{p}||$"
   ]
  },
  {
   "cell_type": "code",
   "execution_count": 10,
   "metadata": {},
   "outputs": [
    {
     "data": {
      "text/plain": [
       "8.94427190999916"
      ]
     },
     "execution_count": 10,
     "metadata": {},
     "output_type": "execute_result"
    }
   ],
   "source": [
    "margin = 2*p_norm;margin"
   ]
  },
  {
   "cell_type": "markdown",
   "metadata": {},
   "source": [
    "#### Find width of maximum separating hyperplane\n",
    "\n",
    "* Find $\\vec{w}$ and b of maximum separating hyperplane\n",
    "\n",
    "![](hyperplane3.png)\n",
    "\n",
    "Let $\\vec{w} = (-m,1), \\vec{x} = (x_1,x_2)$, then equation for hyperplane H is: \n",
    "\n",
    "$$H: \\vec{w}\\cdot \\vec{x} + b = 0$$"
   ]
  },
  {
   "cell_type": "markdown",
   "metadata": {},
   "source": [
    "Let $H_1$ be a hyperplane with an intercept 1 greater than H.  \n",
    "Let $H_0$ be a hyperplane with an intercept 1 less than H.  \n",
    "H will be equidistant for $H_1$ and $H_0$.\n",
    "\n",
    "$$H_1: \\vec{w}\\cdot \\vec{x} + b = 1 $$\n",
    "$$H_0: \\vec{w}\\cdot \\vec{x} + b = -1$$"
   ]
  },
  {
   "cell_type": "markdown",
   "metadata": {},
   "source": [
    "#### Impose the following constraints:\n",
    "\n",
    "Assume the classes are $y_i$ = $\\{-1,1\\}$, for each data point x then\n",
    "$$\\vec{w}\\cdot \\vec{x_i} + b \\ge 1 \\text{ for }x_i\\text{ having class 1 or} \\\\\n",
    "  \\vec{w}\\cdot \\vec{x_i} + b \\le 1 \\text{ for }x_i\\text{ having class -1} $$\n",
    "  \n",
    "These two constraints can be combined into 1 constraint:\n",
    "\n",
    "$$y(\\vec{w}\\cdot \\vec{x} + b) \\ge 1 \\text{ for all data points}$$\n",
    "\n",
    "There a many hyperplanes that satisfy this constraint. \n",
    "\n"
   ]
  },
  {
   "cell_type": "markdown",
   "metadata": {},
   "source": [
    "#### Find $\\vec{w}$ and b that maximizes the distance between the hyperplanes\n",
    "\n",
    "Let $x_0$ be a point in the hyperplane $H_0$  \n",
    "\n",
    "Let m be the margin.  \n",
    "\n",
    "Let $\\vec{u} = \\frac{\\vec{w}}{||\\vec{w}}$, the unit vector perpendicular to the hyperplane\n",
    "\n",
    "![](hyperplane4.png)\n",
    "\n",
    "$$ \\vec{k} = m\\vec{u} = m \\frac{\\vec{w}}{||\\vec{w}||} = \\vec{z_0} - \\vec{x_0}$$\n",
    "\n",
    "$\\vec{z_0} = \\vec{k} + \\vec{x_0}$.  \n",
    "\n",
    "$z_0$ is the point in $H_1$ closest to $x_0$ so:\n",
    "\n",
    "$$\\vec{w} \\cdot \\vec{z}_0 + b = 1 \\\\\n",
    "  \\vec{w} \\cdot (\\vec{x}_0 + \\vec{k}) + b = 1 \\\\\n",
    "  \\vec{w} \\cdot (\\vec{x}_0 + m \\frac{\\vec{w}}{||\\vec{w}||}) + b = 1 \\\\\n",
    "  \\vec{w} \\cdot \\vec{x}_0 + m \\frac{||\\vec{w}||^2}{||\\vec{w}||} + b = 1 \\\\\n",
    "  \\vec{w} \\cdot \\vec{x}_0 + b = 1 - m||\\vec{w}||$$\n",
    "  \n",
    "Substitute -1 for $\\vec{w} \\cdot \\vec{x}_0 + b$ since $\\vec{x}_0$ is in $H_0$\n",
    "\n",
    "$$ m = \\frac{2}{||\\vec{w}||}$$\n",
    "\n",
    "This is an optimization problem. We want to maximize m"
   ]
  },
  {
   "cell_type": "markdown",
   "metadata": {},
   "source": [
    "#### Unconstrained Optimization\n",
    "\n",
    "<div style=\"font-size: 115%;\">\n",
    "$$ \\underset{w}{\\mathrm{argmax}} \\frac{2}{ ||\\vec{w}||}  =>  \\underset{w}{\\mathrm{argmax}}  \\frac{1}{||\\vec{w}||} =>  \\underset{w}{\\mathrm{argmin}}  ||\\vec{w}|| => \\underset{w}{\\mathrm{argmin}}  \\frac{1}{2} ||\\vec{w}||^2$$\n",
    "</div>"
   ]
  },
  {
   "cell_type": "markdown",
   "metadata": {},
   "source": [
    "#### Constrained Optimization\n",
    "\n",
    "* Combine the two constraints below into a single equation by using a dummy variable y :  \n",
    "\n",
    "$\\vec{x}_i\\vec{w} + b \\ge{+1} \\text{ for } y_i = +1$  \n",
    "$\\vec{x}_i\\vec{w} + b \\le{-1} \\text{ for } y_i = -1$  \n",
    "\n",
    "\n",
    "<div style=\"font-size: 115%;\">\n",
    "$$y_i(\\vec{x}_i\\vec{w} + b ) - 1 = 0\\text{  for }x_i $$\n",
    "</div>\n",
    "\n",
    "* Combine with unconstrained optimization to find the hyperplane that minimizes:  \n",
    "\n",
    "<div style=\"font-size: 115%;\">\n",
    "$$\\frac{1}{2}||\\vec{w}||^2 \\text{ subject to }y_i(\\vec{x}_i\\vec{w} + b ) - 1 = 0  \\text{  }$$\n",
    "</div>\n",
    "* Solve constrained optimization problem using Lagrange Multipliers"
   ]
  },
  {
   "cell_type": "markdown",
   "metadata": {},
   "source": [
    "#### Largange Multipliers\n",
    "\n",
    "* Lagrange Multipliers turn constrained optimization problem into unconstrained optimization problem\n",
    "\n",
    "* f(x,y) - function to optimize, g(x,y) = c constraint function\n",
    "\n",
    "<div style=\"font-size: 115%;\">\n",
    " $$\\mathscr{L}(x,y,\\alpha) = f(x,y) - \\alpha(g(x,y) - c)$$\n",
    "</div>\n",
    "\n",
    "* $\\alpha$ is the Lagrange Multiplier\n",
    "    - Often denoted as $\\lambda$\n",
    "\n",
    "* Geometric Interpretation\n",
    "https://www.youtube.com/watch?v=yuqB-d5MjZA\n",
    "\n",
    "* $\\mathscr{L}$ is called the Lagrangian \n",
    "\n",
    "https://www.youtube.com/watch?v=hQ4UNu1P2kw&t=287s&ab_channel=KhanAcademy\n",
    "\n",
    "#### Find maximum width of margin using Lagrange Multipliers\n",
    "\n",
    "* i ranges over all the training examples  \n",
    "* Unconstrained optimization problem, set the gradient of the Lagrangian = 0  \n",
    "\n",
    "<div style=\"font-size: 115%;\"> \n",
    "$$\\mathscr{L} = \\frac{1}{2}||\\vec{w}||^2 - \\sum_i\\alpha_i[y_i(\\vec{x}_i\\vec{w} + b) - 1]$$\n",
    "\n",
    "$$\\bigtriangledown_w\\mathscr{L} = \\vec{0}$$\n",
    "    \n",
    "* Solve  \n",
    "    \n",
    "$$\\frac{\\partial{\\mathscr{L}}}{\\partial{w}} = \\vec{w} - \\sum_i\\alpha_iy_ix_i = 0 \\text{ => } \\\\\n",
    " \\vec{w} = \\sum_i\\alpha_iy_ix_i$$\n",
    "</div>\n",
    "* $\\vec{w}$ is a linear sum of examples\n",
    "<div style=\"font-size: 115%;\"> \n",
    "$$\\frac{\\partial{\\mathscr{L}}}{\\partial{b}} = - \\sum_i\\alpha_iy_i = 0 \\text{ => } \\\\ \n",
    "\\sum_i\\alpha_iy_i = 0$$\n",
    "</div>\n",
    "* Sum of the $\\alpha_is$ times $y_is$ equal to 0\n",
    "\n",
    "* Substitute $\\vec{w}$ into $\\mathscr{L}$:\n",
    "\n",
    " <div style=\"font-size: 115%;\"> \n",
    "$$\\mathscr{L} = \\frac{1}{2}(\\sum_i\\alpha_iy_ix_i)\\cdot(\\sum_j\\alpha_jy_jx_j) - (\\sum_i\\alpha_iy_ix_i)\\cdot(\\sum_j\\alpha_jy_jx_j) - \\sum_i\\alpha_iy_ib + \\sum_i\\alpha_i$$\n",
    "\n",
    "$$ = \\sum_i\\alpha_i - \\frac{1}{2}\\sum_{i}\\sum_j\\alpha_i\\alpha_jy_iy_j(\\vec{x}_i\\cdot{\\vec{x}_j})$$\n",
    "</div>\n",
    "* This is a quadratic, so call a Quadratic Programming function to return the maximum margin   \n",
    "\n",
    "#### Substitute $\\vec{w}$ into Decision Rule for unknown example $\\vec{u}$\n",
    "\n",
    "<div style=\"font-size: 115%;\">\n",
    "$$ \\vec{u}\\text{  is a positive example if }\\vec{w} \\cdot{\\vec{u}} + b \\ge 0 \\\\\n",
    "\\text{if } \\sum_i\\alpha_iy_i(x_i \\cdot{\\vec{u}}) + b \\ge 0 \\text{ then positive example}$$\n",
    " </div>\n",
    "  \n",
    "#### Notice both the optimization and the decision rule only depend on the dot product between examples\n",
    " \n",
    "* Remember the Dot product is a similarity measure."
   ]
  },
  {
   "cell_type": "markdown",
   "metadata": {},
   "source": [
    "### Slightly Non-Separable Case\n",
    "\n",
    "* Soft Margins\n",
    " \n",
    "\n",
    "![](SlightlyNonSep.png)\n",
    "\n",
    "* Allow for some errors:\n",
    "\n",
    "$\\vec{x}_i\\vec{w} + b \\ge{+1} - \\epsilon_i \\text{ for } y_i = +1$\n",
    "\n",
    "$\\vec{x}_i\\vec{w} + b \\le{-1} + \\epsilon_i \\text{ for } y_i = -1$ \n",
    "\n",
    "$\\epsilon_i > 0 \\text{  } \\forall{i}$\n",
    "\n",
    "![](SoftMargin.png)\n",
    "\n",
    "* Minimize:\n",
    "\n",
    "$$\\frac{1}{2}||\\vec{w}||^2 + C \\sum_i \\epsilon_i \\text{ subject to }y_i(\\vec{x}_i\\vec{w} + b ) \\ge 1 - \\epsilon_i  \\text{  }\\forall{i}$$\n",
    "\n",
    "* C controls how much weight the optimizer is to put on allowing mis-classifications.\n",
    "    - Large C implies none or very few mis-classifications allowed as support vectors.\n",
    "* It turns out the it is the same Lagranian except with the additional constraint that the multipliers must be less than or equal C.\n",
    "* $\\epsilon$ is called the slack variable"
   ]
  },
  {
   "cell_type": "markdown",
   "metadata": {},
   "source": [
    "#### Sklearn SVM Classification (linear)\n",
    "\n",
    "http://scikit-learn.org/stable/modules/generated/sklearn.svm.SVC.html\n",
    "\n",
    "* SVM is not scale invariant: Scale the data\n",
    "* SVM uses  random number generation\n",
    "* Keywords:\n",
    "    * Linear Kernel: <x,x'>\n",
    "    * C: Penalty parameter of error term, defaults to 1\n",
    "        - small C: allow misclassifications\n",
    "        - large C: penalize misclassifications"
   ]
  },
  {
   "cell_type": "code",
   "execution_count": 11,
   "metadata": {},
   "outputs": [
    {
     "data": {
      "text/html": [
       "<div>\n",
       "<style scoped>\n",
       "    .dataframe tbody tr th:only-of-type {\n",
       "        vertical-align: middle;\n",
       "    }\n",
       "\n",
       "    .dataframe tbody tr th {\n",
       "        vertical-align: top;\n",
       "    }\n",
       "\n",
       "    .dataframe thead th {\n",
       "        text-align: right;\n",
       "    }\n",
       "</style>\n",
       "<table border=\"1\" class=\"dataframe\">\n",
       "  <thead>\n",
       "    <tr style=\"text-align: right;\">\n",
       "      <th></th>\n",
       "      <th>Gender</th>\n",
       "      <th>Age</th>\n",
       "      <th>Salary</th>\n",
       "      <th>Purchased</th>\n",
       "    </tr>\n",
       "  </thead>\n",
       "  <tbody>\n",
       "    <tr>\n",
       "      <th>395</th>\n",
       "      <td>Female</td>\n",
       "      <td>46</td>\n",
       "      <td>41000</td>\n",
       "      <td>1</td>\n",
       "    </tr>\n",
       "    <tr>\n",
       "      <th>396</th>\n",
       "      <td>Male</td>\n",
       "      <td>51</td>\n",
       "      <td>23000</td>\n",
       "      <td>1</td>\n",
       "    </tr>\n",
       "    <tr>\n",
       "      <th>397</th>\n",
       "      <td>Female</td>\n",
       "      <td>50</td>\n",
       "      <td>20000</td>\n",
       "      <td>1</td>\n",
       "    </tr>\n",
       "    <tr>\n",
       "      <th>398</th>\n",
       "      <td>Male</td>\n",
       "      <td>36</td>\n",
       "      <td>33000</td>\n",
       "      <td>0</td>\n",
       "    </tr>\n",
       "    <tr>\n",
       "      <th>399</th>\n",
       "      <td>Female</td>\n",
       "      <td>49</td>\n",
       "      <td>36000</td>\n",
       "      <td>1</td>\n",
       "    </tr>\n",
       "  </tbody>\n",
       "</table>\n",
       "</div>"
      ],
      "text/plain": [
       "     Gender  Age  Salary  Purchased\n",
       "395  Female   46   41000          1\n",
       "396    Male   51   23000          1\n",
       "397  Female   50   20000          1\n",
       "398    Male   36   33000          0\n",
       "399  Female   49   36000          1"
      ]
     },
     "execution_count": 11,
     "metadata": {},
     "output_type": "execute_result"
    }
   ],
   "source": [
    "df = pd.read_csv('PurchaseData.csv')\n",
    "df.tail()"
   ]
  },
  {
   "cell_type": "code",
   "execution_count": 12,
   "metadata": {},
   "outputs": [
    {
     "data": {
      "image/png": "[encoded data removed]",
      "text/plain": [
       "<Figure size 432x288 with 1 Axes>"
      ]
     },
     "metadata": {
      "needs_background": "light"
     },
     "output_type": "display_data"
    }
   ],
   "source": [
    "sns.scatterplot(x='Age',y='Salary',hue = 'Purchased',data = df);"
   ]
  },
  {
   "cell_type": "code",
   "execution_count": 13,
   "metadata": {},
   "outputs": [
    {
     "data": {
      "text/plain": [
       "((300, 2), (100, 2), (300,), (100,))"
      ]
     },
     "execution_count": 13,
     "metadata": {},
     "output_type": "execute_result"
    }
   ],
   "source": [
    "X = df.iloc[:, [1, 2]].values # Age and Salary\n",
    "y = df.iloc[:, 3].values # Purchased\n",
    "\n",
    "# Split the data into the training and test\n",
    "\n",
    "X_train,X_test,y_train,y_test = train_test_split(X, y, \n",
    "                                                 test_size = 0.25,\n",
    "                                                 random_state = 1234,\n",
    "                                                 stratify= y)\n",
    "\n",
    "# Scale Age and Salary features\n",
    "sc = StandardScaler()\n",
    "X_train = sc.fit_transform(X_train)\n",
    "X_test = sc.transform(X_test)\n",
    "\n",
    "X_train.shape,X_test.shape,y_train.shape,y_test.shape"
   ]
  },
  {
   "cell_type": "code",
   "execution_count": 14,
   "metadata": {},
   "outputs": [],
   "source": [
    "# Fit SVM model to the training data\n",
    "\n",
    "model = SVC(C = 1.0, kernel = 'linear', random_state = 0)\n",
    "model.fit(X_train, y_train)\n",
    "\n",
    "# Predict the test data\n",
    "yhat = model.predict(X_test)"
   ]
  },
  {
   "cell_type": "code",
   "execution_count": 15,
   "metadata": {},
   "outputs": [],
   "source": [
    "def accuracy(cm):\n",
    "    return np.trace(cm)/np.sum(cm)\n",
    "\n",
    "def precision(cm):\n",
    "    return cm[1,1]/(cm[1,1]+cm[0,1])\n",
    "\n",
    "def recall(cm):\n",
    "    return cm[1,1]/(cm[1,1] + cm[1,0])"
   ]
  },
  {
   "cell_type": "code",
   "execution_count": 16,
   "metadata": {},
   "outputs": [
    {
     "name": "stdout",
     "output_type": "stream",
     "text": [
      "Confusion Matrix:\n",
      "[[61  3]\n",
      " [17 19]]\n",
      "Accuracy: 0.8\n",
      "Precision: 0.8636363636363636\n",
      "Recall: 0.5277777777777778\n"
     ]
    }
   ],
   "source": [
    "# Make the Confusion Matrix and compute accuracy\n",
    "cm = confusion_matrix(y_test, yhat)\n",
    "print(\"Confusion Matrix:\")\n",
    "print(cm)\n",
    "print(f'Accuracy: {accuracy(cm)}\\nPrecision: {precision(cm)}\\nRecall: {recall(cm)}')"
   ]
  },
  {
   "cell_type": "code",
   "execution_count": 17,
   "metadata": {},
   "outputs": [
    {
     "name": "stdout",
     "output_type": "stream",
     "text": [
      "Model Score:  0.8\n",
      "Number of Support Vectors:  [58 60]\n",
      "Index of Support Vectors:  [  1   2   3   8  11  25  31  32  37  41  43  49  56  64  65  79  82  84\n",
      "  87  94 111 117 123 129 130 140 152 154 155 160 161 170 173 175 179 183\n",
      " 199 203 210 213 223 225 233 239 243 244 246 251 257 264 266 272 278 279\n",
      " 280 287 291 293   0  12  17  19  23  28  35  38  39  42  60  69  74  77\n",
      "  78  81  89  91  97  98  99 107 108 110 121 122 134 135 141 144 146 153\n",
      " 156 163 174 177 178 191 193 196 206 211 214 216 217 218 222 224 226 231\n",
      " 253 259 260 270 277 283 286 288 292 297]\n"
     ]
    },
    {
     "data": {
      "text/plain": [
       "(118, 2)"
      ]
     },
     "execution_count": 17,
     "metadata": {},
     "output_type": "execute_result"
    }
   ],
   "source": [
    "print(\"Model Score: \",model.score(X_test,y_test))\n",
    "print(\"Number of Support Vectors: \",model.n_support_)\n",
    "print(\"Index of Support Vectors: \",model.support_)\n",
    "model.support_vectors_.shape"
   ]
  },
  {
   "cell_type": "markdown",
   "metadata": {},
   "source": [
    "#### Decision Boundary\n",
    "\n",
    "* Plot decision boundary between the classes\n",
    "* Only for two classes"
   ]
  },
  {
   "cell_type": "code",
   "execution_count": 18,
   "metadata": {},
   "outputs": [],
   "source": [
    "from matplotlib.colors import ListedColormap\n",
    "def classification_plot(X_data,y_data,model,ax):\n",
    "    # Make grid: min to max of 1st column, min to max of 2nd column in small increments\n",
    "    X1,X2 = np.meshgrid(np.arange(X_data[:, 0].min() - 1, X_data[:, 0].max() + 1, step = 0.01),\n",
    "                     np.arange(X_data[:, 1].min() - 1, X_data[:, 1].max() + 1, step = 0.01))\n",
    "    # Flatten X1 and X2, create an array and transpose to a 2-column array (one for each feature)\n",
    "    v = np.array([X1.ravel(), X2.ravel()]).T\n",
    "    #  Using fitted model, predict the points in v and reshape to a 2-dimensional array\n",
    "    ax.contourf(X1, X2, model.predict(v).reshape(X1.shape),alpha = 0.75,cmap = ListedColormap(('magenta','cyan')))\n",
    "    ax.set_xlim(X1.min(), X1.max())\n",
    "    ax.set_ylim(X2.min(), X2.max())\n",
    "    for i, j in enumerate(np.unique(y_data)): # For each class\n",
    "        ax.scatter(X_data[y_data == j, 0], X_data[y_data == j, 1],\n",
    "                c = np.array(ListedColormap(('white', 'black'))(i)).reshape(1,-1), label = j)\n"
   ]
  },
  {
   "cell_type": "code",
   "execution_count": 19,
   "metadata": {},
   "outputs": [
    {
     "data": {
      "image/png": "[encoded data removed]",
      "text/plain": [
       "<Figure size 720x432 with 2 Axes>"
      ]
     },
     "metadata": {
      "needs_background": "light"
     },
     "output_type": "display_data"
    }
   ],
   "source": [
    "# Plot Results\n",
    "fig,(ax1,ax2)=plt.subplots(1,2,figsize = (10,6))\n",
    "\n",
    "# Visualising the Training set results\n",
    "classification_plot(X_train,y_train,model, ax1)\n",
    "ax1.set_title('Training Data')\n",
    "ax1.set_xlabel('Age')\n",
    "ax1.set_ylabel('Salary')\n",
    "ax1.legend()\n",
    "\n",
    "# Visualising the Test set results\n",
    "classification_plot(X_test,y_test, model, ax2)\n",
    "ax2.set_title('Test Data')\n",
    "ax2.set_xlabel('Age')\n",
    "ax2.set_ylabel('Salary')\n",
    "ax2.legend();"
   ]
  },
  {
   "cell_type": "markdown",
   "metadata": {},
   "source": [
    "#### Multiple Classes (3 or more)\n",
    "\n",
    "* decision_function_shape keyword: recommended 'ovr' (the default)\n",
    "\n"
   ]
  },
  {
   "cell_type": "markdown",
   "metadata": {},
   "source": [
    "### Non-linear SVM\n",
    "\n",
    "* How to separate non-linear data with a hyperplane\n",
    "* The data below cannot be separated with a hyperplane"
   ]
  },
  {
   "cell_type": "code",
   "execution_count": 20,
   "metadata": {},
   "outputs": [
    {
     "name": "stdout",
     "output_type": "stream",
     "text": [
      "(100, 2) (100,)\n"
     ]
    },
    {
     "data": {
      "image/png": "[encoded data removed]",
      "text/plain": [
       "<Figure size 432x288 with 1 Axes>"
      ]
     },
     "metadata": {
      "needs_background": "light"
     },
     "output_type": "display_data"
    }
   ],
   "source": [
    "cmap = ListedColormap([\"red\", \"blue\"])\n",
    "x_,y_ = make_circles()\n",
    "print(x_.shape,y_.shape)\n",
    "plt.scatter(x_[:,0], x_[:,1], c=y_, cmap=cmap, marker='s')\n",
    "plt.grid()"
   ]
  },
  {
   "cell_type": "markdown",
   "metadata": {},
   "source": [
    "* The decision rule is not a linear function of the data?\n",
    "\n",
    "* Polynomial, logrithmic, etc decision boundaries\n",
    "\n",
    "* The fact that the solution of the optimization problem only depended on pairwise dot products of the data is the key"
   ]
  },
  {
   "cell_type": "markdown",
   "metadata": {},
   "source": [
    "#### The Kernel Methods\n",
    "\n",
    "* Map the data to a higher dimension\n",
    " \n",
    "![](data_2d_to_3d.png)\n",
    "\n",
    "* SVM with polynomial visualization\n",
    "\n",
    "https://www.youtube.com/watch?v=3liCbRZPrZA\n",
    "\n",
    "\n",
    "* Map data to a higher dimension to separate $\\phi: R^2 -> R^3$ \n",
    " \n",
    "$\\phi((x_1,x_2)) -> (z_1,z_2,z_3) $\n",
    "\n",
    "* Now apply SVM algorithm in the higher dimension and then project the decision boundary back onto original dimension\n",
    "    - Compute $\\phi(x_1)\\cdot\\phi(x_2)$\n",
    "\n",
    "* But computing the transformation could be computationally impractical\n",
    "\n",
    "#### Kernel Trick\n",
    " \n",
    "* To solve the optimization problem in the higher dimension only the dot product of $\\phi(x_1)\\phi(x_2)$ is calculated.\n",
    "* But this is just a number!! \n",
    "* Are there any functions in the lower dimension that map $(x_i,x_j) -> \\phi(x_i)\\cdot\\phi(x_j)$\n",
    "* Yes, there are!! Kernel functions (see Mercer's Theorem)"
   ]
  },
  {
   "cell_type": "markdown",
   "metadata": {},
   "source": [
    "#### Kernel Functions\n",
    "\n",
    "* <> is the inner (i.e. dot) product\n",
    "* $\\gamma$ is the gamma keyword in sklearn.svm.SVC\n",
    "* r is the coef0 keyword in sklearn.svm.SVC\n",
    "\n",
    "* Polynomial: \n",
    "$$K(\\vec{x},\\vec{z}) = ((\\gamma(<\\vec{x},\\vec{z}>) + r)^d$$\n",
    "\n",
    "* Gaussian (Radial Basis Functions): \n",
    "$$K(\\vec{x},\\vec{z}) = exp(-\\gamma||\\vec{x} - \\vec{z}||^2) \\text{ where }\\gamma > 0$$\n",
    "\n",
    "* Hypertangent: \n",
    "$$K(\\vec{x},\\vec{z}) = tanh(\\gamma( <\\vec{x},\\vec{z}>) + r)$$\n",
    "\n"
   ]
  },
  {
   "cell_type": "markdown",
   "metadata": {},
   "source": [
    "#### Kernel Method for Polynomial "
   ]
  },
  {
   "cell_type": "markdown",
   "metadata": {},
   "source": [
    "<div style=\"font-size: 115%;\"> \n",
    " \n",
    "$\\vec{x} = (x_1,x_2)$  \n",
    "\n",
    "$\\vec{z} = (z_1,z_2)$  \n",
    "</div>\n",
    "\n",
    "* Let $\\gamma = 1$, d = 2 and r = 0 \n",
    "\n",
    "<div style=\"font-size: 115%;\"> \n",
    "$K(\\vec{x},\\vec{z}) = <\\vec{x},\\vec{z}>^2$  \n",
    "</div>\n",
    "\n",
    "* <> is the inner (i.e. dot) product  \n",
    "\n",
    "<div style=\"font-size: 115%;\"> \n",
    "$$K(\\vec{x},\\vec{z}) = <\\vec{x},\\vec{z}>^2$$  \n",
    "$$ = (x_1z_1 + x_2z_2)^2$$  \n",
    "$$ = (x_1^2z1^2 + 2x_1z_1x_2z_2 + x_2^2z_2^2)$$  \n",
    "$$ = <(x_1^2,\\sqrt{2}x_1x_2,x_2^2), (z_1^2,\\sqrt{2}z_1z_2,z_2^2)>$$  \n",
    "$$ = <\\Phi(\\vec{x}),\\Phi(\\vec{z})>$$  \n",
    "</div>\n",
    "\n",
    "* Implicit $\\Phi$: $\\Phi(\\vec{x}) = (x_1^2,\\sqrt{2}x_1x_2,x_2^2) $\n",
    "\n",
    "<div style=\"font-size: 105%;\"> \n",
    "$(x_1^2,\\sqrt{2}x_1x_2,x_2^2) \\cdot{(z_1^2,\\sqrt{2}z_1z_2,z_2^2)} = (x_1^2z_1^2 + 2x_1z_1x_2z_2 + x_2^2z_2^2) $\n",
    "\n",
    "\n",
    "</div>\n",
    "\n",
    "* $\\phi: R^2 -> R^3$ is never done. Amazing!"
   ]
  },
  {
   "cell_type": "markdown",
   "metadata": {},
   "source": [
    "#### Even more amazing: the transformation space can be infinite dimensional\n",
    "\n",
    "* Let K be the Radial Basis Function Kernel with $\\gamma = 1$ and x,z are scalars\n",
    "\n",
    "<div style=\"font-size: 115%;\"> \n",
    "$$K(x,z) = exp(-(x - z)^2$$ \n",
    "$$ = exp(-x)^2*exp(-z^2)\\sum_{k=0}^{k=\\infty}\\frac{2^kx^kz^k}{k!}$$\n",
    "</div>\n",
    "\n",
    "* $\\sum_{k=0}^{k=\\infty}\\frac{2^kx^kz^k}{k!}$ is the Taylor Series expansion of exp(2xz)  \n",
    "* Summing to infinity puts the transformation in infinite dimensional space  \n",
    "    - but this is OK since we never actually do the transformation"
   ]
  },
  {
   "cell_type": "markdown",
   "metadata": {},
   "source": [
    "#### sklearn SVM Classification (non-linear)\n",
    "\n",
    "* SVM is not scale invariant: Scale the data\n",
    "* SVM uses  random number generation\n",
    "* Keywords:\n",
    "    * Radial Basis Function (rbf): Kernel:\n",
    "    * C: Penalty parameter of error term, defaults to 1\n",
    "    * Gamma: kernel coefficient\n",
    "        - Small gamma: less complexity, \n",
    "        - Large gamma: more complexity\n"
   ]
  },
  {
   "cell_type": "markdown",
   "metadata": {},
   "source": [
    "![](https://www.youtube.com/watch?v=3liCbRZPrZA)"
   ]
  },
  {
   "cell_type": "code",
   "execution_count": 21,
   "metadata": {},
   "outputs": [
    {
     "data": {
      "text/plain": [
       "((300, 2), (100, 2), (300,), (100,))"
      ]
     },
     "execution_count": 21,
     "metadata": {},
     "output_type": "execute_result"
    }
   ],
   "source": [
    "# Preporcessing\n",
    "\n",
    "X = df.iloc[:, [1, 2]].values\n",
    "y = df.iloc[:, 3].values\n",
    "\n",
    "# Split the data into the training and test\n",
    "X_train, X_test, y_train, y_test = train_test_split(X, y, test_size = 0.25,\n",
    "                                                    random_state = 1234,stratify= y)\n",
    "\n",
    "# Scale Age and Salary features\n",
    "sc = StandardScaler()\n",
    "X_train = sc.fit_transform(X_train)\n",
    "X_test = sc.transform(X_test)\n",
    "\n",
    "X_train.shape,X_test.shape,y_train.shape,y_test.shape"
   ]
  },
  {
   "cell_type": "code",
   "execution_count": 22,
   "metadata": {},
   "outputs": [
    {
     "data": {
      "text/plain": [
       "SVC(C=100, gamma='auto', random_state=1234)"
      ]
     },
     "execution_count": 22,
     "metadata": {},
     "output_type": "execute_result"
    }
   ],
   "source": [
    "# Fit SVM model to the training data\n",
    "model = SVC(C = 100, kernel = 'rbf', gamma = 'auto', random_state = 1234)\n",
    "model.fit(X_train, y_train)"
   ]
  },
  {
   "cell_type": "code",
   "execution_count": 23,
   "metadata": {},
   "outputs": [],
   "source": [
    "# Predict the test data\n",
    "yhat = model.predict(X_test)"
   ]
  },
  {
   "cell_type": "code",
   "execution_count": 24,
   "metadata": {},
   "outputs": [
    {
     "name": "stdout",
     "output_type": "stream",
     "text": [
      "Confusion Matrix:\n",
      "[[59  5]\n",
      " [ 8 28]]\n",
      "Accuracy: 0.87\n",
      "Precision: 0.8484848484848485\n",
      "Recall: 0.7777777777777778\n"
     ]
    }
   ],
   "source": [
    "# Make the Confusion Matrix and compute accuracy\n",
    "cm = confusion_matrix(y_test, yhat)\n",
    "print(\"Confusion Matrix:\")\n",
    "print(cm)\n",
    "print(f'Accuracy: {accuracy(cm)}\\nPrecision: {precision(cm)}\\nRecall: {recall(cm)}')"
   ]
  },
  {
   "cell_type": "code",
   "execution_count": 25,
   "metadata": {},
   "outputs": [
    {
     "name": "stdout",
     "output_type": "stream",
     "text": [
      "0.87\n",
      "[33 37]\n",
      "[  1   2   3  25  31  37  49  56  64  65  79  84  87 117 118 123 154 155\n",
      " 170 175 179 183 204 225 239 244 256 264 266 280 291 298 299  12  13  20\n",
      "  23  53  68  69  74  77  91  95  97  98 110 122 135 146 153 163 169 177\n",
      " 178 191 192 193 211 222 224 236 237 248 250 259 268 270 284 292]\n"
     ]
    },
    {
     "data": {
      "text/plain": [
       "(70, 2)"
      ]
     },
     "execution_count": 25,
     "metadata": {},
     "output_type": "execute_result"
    }
   ],
   "source": [
    "print(model.score(X_test,y_test))\n",
    "print(model.n_support_)\n",
    "print(model.support_)\n",
    "model.support_vectors_.shape"
   ]
  },
  {
   "cell_type": "markdown",
   "metadata": {},
   "source": [
    "#### Decision Boundary"
   ]
  },
  {
   "cell_type": "code",
   "execution_count": 26,
   "metadata": {},
   "outputs": [
    {
     "data": {
      "image/png": "[encoded data removed]",
      "text/plain": [
       "<Figure size 720x432 with 2 Axes>"
      ]
     },
     "metadata": {
      "needs_background": "light"
     },
     "output_type": "display_data"
    }
   ],
   "source": [
    "# Plot Results\n",
    "fig,(ax1,ax2)=plt.subplots(1,2,figsize = (10,6))\n",
    "\n",
    "# Visualising the Training set results\n",
    "classification_plot(X_train,y_train,model, ax1)\n",
    "ax1.set_title('Training Data')\n",
    "ax1.set_xlabel('Age')\n",
    "ax1.set_ylabel('Salary')\n",
    "ax1.legend()\n",
    "\n",
    "# Visualising the Test set results\n",
    "classification_plot(X_test,y_test, model, ax2)\n",
    "ax2.set_title('Test Data')\n",
    "ax2.set_xlabel('Age')\n",
    "ax2.set_ylabel('Salary')\n",
    "ax2.legend();\n"
   ]
  },
  {
   "cell_type": "markdown",
   "metadata": {
    "collapsed": true
   },
   "source": [
    "### Pros and Cons\n",
    "\n",
    "#### Pros\n",
    "* Works well with high dimensional data\n",
    "* Good for small data sets\n",
    "\n",
    "#### Cons\n",
    "* Requires picking the right kernel and parameters which can be computationally expensive"
   ]
  },
  {
   "cell_type": "markdown",
   "metadata": {},
   "source": [
    "### SVM Regression\n",
    "\n",
    "http://scikit-learn.org/stable/modules/generated/sklearn.svm.SVR.html\n",
    "\n",
    "* Must scale the independent and dependent variables"
   ]
  },
  {
   "cell_type": "code",
   "execution_count": 27,
   "metadata": {},
   "outputs": [
    {
     "data": {
      "text/html": [
       "<div>\n",
       "<style scoped>\n",
       "    .dataframe tbody tr th:only-of-type {\n",
       "        vertical-align: middle;\n",
       "    }\n",
       "\n",
       "    .dataframe tbody tr th {\n",
       "        vertical-align: top;\n",
       "    }\n",
       "\n",
       "    .dataframe thead th {\n",
       "        text-align: right;\n",
       "    }\n",
       "</style>\n",
       "<table border=\"1\" class=\"dataframe\">\n",
       "  <thead>\n",
       "    <tr style=\"text-align: right;\">\n",
       "      <th></th>\n",
       "      <th>Level</th>\n",
       "      <th>Salary</th>\n",
       "    </tr>\n",
       "  </thead>\n",
       "  <tbody>\n",
       "    <tr>\n",
       "      <th>0</th>\n",
       "      <td>1</td>\n",
       "      <td>45000</td>\n",
       "    </tr>\n",
       "    <tr>\n",
       "      <th>1</th>\n",
       "      <td>2</td>\n",
       "      <td>50000</td>\n",
       "    </tr>\n",
       "    <tr>\n",
       "      <th>2</th>\n",
       "      <td>3</td>\n",
       "      <td>60000</td>\n",
       "    </tr>\n",
       "    <tr>\n",
       "      <th>3</th>\n",
       "      <td>4</td>\n",
       "      <td>80000</td>\n",
       "    </tr>\n",
       "    <tr>\n",
       "      <th>4</th>\n",
       "      <td>5</td>\n",
       "      <td>110000</td>\n",
       "    </tr>\n",
       "  </tbody>\n",
       "</table>\n",
       "</div>"
      ],
      "text/plain": [
       "   Level  Salary\n",
       "0      1   45000\n",
       "1      2   50000\n",
       "2      3   60000\n",
       "3      4   80000\n",
       "4      5  110000"
      ]
     },
     "execution_count": 27,
     "metadata": {},
     "output_type": "execute_result"
    }
   ],
   "source": [
    "salary = pd.read_csv('Salaries.csv')\n",
    "salary.head()"
   ]
  },
  {
   "cell_type": "code",
   "execution_count": 28,
   "metadata": {},
   "outputs": [
    {
     "data": {
      "text/plain": [
       "((10, 1), (10,))"
      ]
     },
     "execution_count": 28,
     "metadata": {},
     "output_type": "execute_result"
    }
   ],
   "source": [
    "X = salary.loc[:,\"Level\"].values\n",
    "y = salary.loc[:,\"Salary\"].values\n",
    "X = X.reshape(-1,1)\n",
    "X.shape,y.shape"
   ]
  },
  {
   "cell_type": "code",
   "execution_count": 29,
   "metadata": {},
   "outputs": [
    {
     "data": {
      "text/plain": [
       "(10, 1)"
      ]
     },
     "execution_count": 29,
     "metadata": {},
     "output_type": "execute_result"
    }
   ],
   "source": [
    "sc_X = StandardScaler()\n",
    "sc_y = StandardScaler()\n",
    "X = sc_X.fit_transform(X)\n",
    "y = sc_y.fit_transform(y.reshape(10,1))\n",
    "y.shape"
   ]
  },
  {
   "cell_type": "code",
   "execution_count": 30,
   "metadata": {},
   "outputs": [
    {
     "data": {
      "text/plain": [
       "SVR()"
      ]
     },
     "execution_count": 30,
     "metadata": {},
     "output_type": "execute_result"
    }
   ],
   "source": [
    "# Fit model\n",
    "from sklearn.svm import SVR\n",
    "model = SVR(kernel = 'rbf')\n",
    "model.fit(X, y[:,0])"
   ]
  },
  {
   "cell_type": "code",
   "execution_count": 31,
   "metadata": {},
   "outputs": [
    {
     "data": {
      "text/plain": [
       "array([170370.0204065])"
      ]
     },
     "execution_count": 31,
     "metadata": {},
     "output_type": "execute_result"
    }
   ],
   "source": [
    "# Predict a new result\n",
    "new_X = 6.5\n",
    "y_pred = model.predict(sc_X.transform(np.array([[new_X]])))\n",
    "y_pred = sc_y.inverse_transform(y_pred)\n",
    "y_pred"
   ]
  },
  {
   "cell_type": "code",
   "execution_count": 32,
   "metadata": {},
   "outputs": [
    {
     "data": {
      "text/plain": [
       "Text(0, 0.5, 'Salary')"
      ]
     },
     "execution_count": 32,
     "metadata": {},
     "output_type": "execute_result"
    },
    {
     "data": {
      "image/png": "[encoded data removed]",
      "text/plain": [
       "<Figure size 432x288 with 1 Axes>"
      ]
     },
     "metadata": {
      "needs_background": "light"
     },
     "output_type": "display_data"
    }
   ],
   "source": [
    "# Visualise the SVR results \n",
    "X_ = sc_X.inverse_transform(X)\n",
    "y_ = sc_y.inverse_transform(y)\n",
    "plt.scatter(X_, y_, color = 'red')\n",
    "#plt.plot(X_grid, m.predict(X_grid), color = 'blue')\n",
    "plt.scatter(new_X, y_pred, color = 'blue')\n",
    "\n",
    "plt.title('Predict Salary(SVR)')\n",
    "plt.xlabel('Position level')\n",
    "plt.ylabel('Salary')"
   ]
  },
  {
   "cell_type": "markdown",
   "metadata": {},
   "source": [
    "### References\n",
    "\n",
    "Alexander Kowalczyk: https://www.svm-tutorial.com/2014/11/svm-understanding-math-part-2/  \n",
    "                     https://www.svm-tutorial.com/2015/06/svm-understanding-math-part-3/\n",
    "                     \n",
    "\n",
    "Patrick Winston: https://www.youtube.com/watch?v=_PwhiWxHK8o&t=2309s\n",
    "\n",
    "Alexander Ihler: https://www.youtube.com/watch?v=IOetFPgsMUc"
   ]
  },
  {
   "cell_type": "code",
   "execution_count": null,
   "metadata": {},
   "outputs": [],
   "source": []
  }
 ],
 "metadata": {
  "kernelspec": {
   "display_name": "Python 3",
   "language": "python",
   "name": "python3"
  },
  "language_info": {
   "codemirror_mode": {
    "name": "ipython",
    "version": 3
   },
   "file_extension": ".py",
   "mimetype": "text/x-python",
   "name": "python",
   "nbconvert_exporter": "python",
   "pygments_lexer": "ipython3",
   "version": "3.8.5"
  },
  "varInspector": {
   "cols": {
    "lenName": 16,
    "lenType": 16,
    "lenVar": 40
   },
   "kernels_config": {
    "python": {
     "delete_cmd_postfix": "",
     "delete_cmd_prefix": "del ",
     "library": "var_list.py",
     "varRefreshCmd": "print(var_dic_list())"
    },
    "r": {
     "delete_cmd_postfix": ") ",
     "delete_cmd_prefix": "rm(",
     "library": "var_list.r",
     "varRefreshCmd": "cat(var_dic_list()) "
    }
   },
   "position": {
    "height": "376px",
    "left": "1185px",
    "right": "20px",
    "top": "120px",
    "width": "330px"
   },
   "types_to_exclude": [
    "module",
    "function",
    "builtin_function_or_method",
    "instance",
    "_Feature"
   ],
   "window_display": false
  }
 },
 "nbformat": 4,
 "nbformat_minor": 2
}
