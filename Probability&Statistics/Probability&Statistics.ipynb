{
 "cells": [
  {
   "cell_type": "code",
   "execution_count": 2,
   "metadata": {},
   "outputs": [],
   "source": [
    "import warnings\n",
    "warnings.simplefilter(action='ignore', category=FutureWarning)\n",
    "warnings.simplefilter(action='ignore', category=UserWarning)\n",
    "\n",
    "import numpy as np\n",
    "import scipy.stats as stats\n",
    "import pandas as pd\n",
    "import matplotlib.pyplot as plt\n",
    "import seaborn as sns\n",
    "%matplotlib inline"
   ]
  },
  {
   "cell_type": "markdown",
   "metadata": {},
   "source": [
    "## Probability\n",
    " \n",
    "\n",
    "#### Calculus of Counting\n",
    "\n",
    "* The number of ways to achieve a successful outcome compared to the total number of possible outcomes\n",
    "\n",
    "#### Quantify uncertainty  \n",
    "\n",
    "* Extension of logic to deal with uncertainty\n",
    "\n",
    "* Uncertainty comes about through may factors, for example:\n",
    "    - Noisy measurements\n",
    "    - Lack of information\n",
    "    - Sampling\n",
    "    - Finite data sets\n",
    "    - Ambiguity\n",
    "\n",
    "#### Probability and Statistics Inverse Relationship\n",
    "\n",
    "* Probability: completely specified model -> predict data from running a random experiment\n",
    "    - Given a fair coin, flip it 10 times and predict the number of heads\n",
    "* Statistics: use data collected from running an experiment -> draw inferences about unknowns in model\n",
    "    - Given 10 flips = [T,H,T,T,T,H,T,T,H,T], what is the bias of the coin\n",
    " "
   ]
  },
  {
   "cell_type": "markdown",
   "metadata": {},
   "source": [
    "   \n",
    "### Terminology\n",
    " \n",
    "* Experiment or trial: a process with an observable outcome\n",
    "* Random Experiment: An experiment whose outcome can not be predicted before the experiment is run (interpret this very broadly).\n",
    "    - Roll of a die  \n",
    "    - Flip of a coin  \n",
    "    - Picking a random person and measuring the person's weight  \n",
    "    - Recoding the reaction time of subjects to experimental stimuli  \n",
    "    \n",
    "* Random Variable: the distribution of the outcomes of a random experiment (process)\n",
    "    - A function from outcomes to a real number  \n",
    "    - Discrete: the sum of rolls of 10 dice  \n",
    "    - Continuous: the temperature tomorrow in Troy  \n",
    "    \n",
    "* Sample Space - the set of all possible outcomes of a random experiment\n",
    "     - Flip a coin twice: S = (HH,HT,TH,TT)\n",
    "* Event: a subset of the sample space to which a probability is assigned\n",
    "    - Roll a 6-sided die:\n",
    "        - rolling a 1 is an event (p=1/6)\n",
    "        - rolling a 2,4 or 6 is an event (p=1/2)\n",
    "* Probability of an event: measure of certainty of that event\n",
    "* Statistic: a measure of some attribute of a sample\n",
    "    - A function of the sample values\n",
    "    - The average GPA of the students in this room (i.e. a sample of the RPI population)\n",
    "        \n",
    "        "
   ]
  },
  {
   "cell_type": "markdown",
   "metadata": {},
   "source": [
    "### Naive definition of probability\n",
    "\n",
    "#### If all outcomes are equally likely, then then probability of event A occurring:\n",
    "$$P(A) = \\frac{\\text{# number of favorable outcomes to A}}{\\text{# of possible outcomes}}$$"
   ]
  },
  {
   "cell_type": "markdown",
   "metadata": {},
   "source": [
    "### Mathematical Definition:  Kolmorgorov Axioms\n",
    "\n",
    "* Axiomatic(Formal Theory)\n",
    "    + 1930's A.N. Kolmorgorov\n",
    "\n",
    "* Given an event A in a sample space $S = (\\cup^N_{i=1}{A_i})$\n",
    " \n",
    "    + $P(A_i)$ is called the Probability of event $A_i$\n",
    "\n",
    "#### Three Axioms\n",
    " \n",
    "1. $0 \\le{P(A_i)} \\le1$\n",
    "    - The probability of an event is a value between 0 and 1\n",
    "2. P(S) = 1\n",
    "    - The probability of all the events sums to one\n",
    "3. $Given: A\\cap{B} = 0\\text{ then }P(A\\cup{B}) = P(A) + P(B)$\n",
    "    - The probability of the union of two disjoint events is the sum of their probabilities\n",
    "   \n",
    "\n",
    " \n",
    "### Properties\n",
    "\n",
    "Denote the complement of an event A: $\\bar{A} = \\Omega - A$\n",
    "\n",
    "$A \\cap{\\bar{A}} = \\emptyset$\n",
    "\n",
    "$1 = P(\\Omega) = P(A) + P(\\bar{A})\\text{ that is}P(\\bar{A}) = 1 - P(A)$\n",
    "\n",
    "$P(\\emptyset) = 0$\n",
    "\n",
    "$\\text{if }A\\subset{B}\\text{ then }P(A)\\leq{P(B)}$"
   ]
  },
  {
   "cell_type": "markdown",
   "metadata": {},
   "source": [
    "### Joint and Marginal Probability\n",
    "\n",
    "* Joint Probability: The probability of both events A and B occurring: $P(AB)$  \n",
    "    - Notation: $P(A\\cap{B})$ or $P(AB)$ or $P(A,B)$\n",
    "* Marginal Probability: The probability of just A or just B occurring: P(A),P(B)\n",
    "\n",
    "### Conditional Probability\n",
    "\n",
    "The probability of an event occurring given another event has occurred P(A|B)  \n",
    " \n",
    "P(A|B) is the conditional probability of A given B (assuming $P(B) \\gt 0$)\n",
    "<div style=\"font-size: 115%;\">\n",
    "$$P(A|B) = \\frac{P(A\\cap{B})}{P(B)}$$\n",
    "</div>\n",
    "\n",
    "\n",
    "#### Note:  \n",
    "* The Denominator resizes the sample space\n",
    "* **P(AB) = P(A|B)P(B)**"
   ]
  },
  {
   "cell_type": "markdown",
   "metadata": {},
   "source": [
    "### Independence\n",
    "\n",
    "* Knowing one gives you no information about the other\n",
    "\n",
    "* Events A and B are independent if\n",
    "\n",
    "<div style=\"font-size: 115%;\">  \n",
    "$$P(A|B) = P(A)$$\n",
    "</div>\n",
    "\n",
    "or\n",
    "\n",
    "<div style=\"font-size: 115%;\">  \n",
    "$$P(AB) = P(A)P(B) = P(B)P(A)$$\n",
    "</div>\n",
    "\n",
    "#### Conditional Independence\n",
    "\n",
    "* Events A and B are conditionally independent given event C if\n",
    "\n",
    "<div style=\"font-size: 115%;\"> \n",
    "$$P(AB|C) = P(A|C)P(B|C)$$\n",
    "</div>\n",
    "\n",
    "or\n",
    "\n",
    "<div style=\"font-size: 115%;\"> \n",
    "$$P(A|BC) = P(A|C)$$\n",
    "</div>\n",
    "\n",
    "\n",
    "* Does not imply independence and independence does not imply conditional independence"
   ]
  },
  {
   "cell_type": "markdown",
   "metadata": {},
   "source": [
    "#### Example of Joint, Marginal and Conditional Probability\n",
    "\n",
    "Given:  \n",
    "\n",
    "P(a,c) = .1  \n",
    "P(a) = .6  \n",
    "P(b,c) = .05  \n",
    "P(b,d) = .35  \n",
    "\n",
    "Calculate the conditional probability, a given c.\n",
    "Calculate the marginal probability of a.\n",
    "Are a and c independent? why?"
   ]
  },
  {
   "cell_type": "markdown",
   "metadata": {},
   "source": [
    "| <i></i>|C|D| <i></i> |\n",
    "|-----|-----|---- |---- |\n",
    "|A|.1 | - | .6 |\n",
    "|B |.05 | .35 | - | \n",
    "|<i></i>|-|-|1.0|"
   ]
  },
  {
   "cell_type": "markdown",
   "metadata": {},
   "source": [
    "| <i></i>|C|D| <i></i> |\n",
    "|-----|-----|---- |---- |\n",
    "|A|.1 | .5| .6 |\n",
    "|B |.05 | .35 | .4 | \n",
    "|<i></i>|.15|.85|1.0|"
   ]
  },
  {
   "cell_type": "markdown",
   "metadata": {},
   "source": [
    "𝑃(𝐴|𝐶)=𝑃(𝐴,𝐶)/𝑃(𝐶)  = .1/.15 = .666  \n",
    "P(A) = P(A,C) + P(A,D) = .1 + .5 = .6  \n",
    "No, Independent if P(A|C) = P(A), .666 ≠ .6 or Independent if P(A,C) = P(A)P(C), .6 ≠ .6*.15"
   ]
  },
  {
   "cell_type": "markdown",
   "metadata": {},
   "source": [
    "### Sum Rule\n",
    "\n",
    "<div style=\"font-size: 115%;\"> \n",
    "$$P(A\\cup{B}) = P(A) + P(B) - P(A\\cap{B}))$$\n",
    " </div>\n",
    " \n",
    "![](additivity.png)\n",
    "$$\\text{Figure 1. Law of Additivity}$$"
   ]
  },
  {
   "cell_type": "markdown",
   "metadata": {},
   "source": [
    "### Product Rule\n",
    "\n",
    "<div style=\"font-size: 115%;\"> \n",
    "$$P(A\\cap{B}) = P(A|B)P(B) = P(B|A)P(A) = P(B\\cap{A})$$\n",
    "</div>\n",
    "\n",
    "$P(B|A) = \\frac{P(A\\cap{B})}{P(A)}$ Denominator renormalizes the sample space\n",
    " \n",
    "More generally:\n",
    "\n",
    "<div style=\"font-size: 115%;\">\n",
    "$$P(A,B,C) = P(A|B,C)\\cdot{P(B|C)}\\cdot{P(C)}$$\n",
    "</div>"
   ]
  },
  {
   "cell_type": "markdown",
   "metadata": {},
   "source": [
    "### Law of Total Probability\n",
    "\n",
    "<div style=\"font-size: 115%;\"> \n",
    "$$P(A) = \\sum_{i}P(A\\cap{B_i}) \\text{ (Marginalization)}$$\n",
    "\n",
    "$$P(A) = \\sum_{i}P(A|B_i)P(B_i)$$\n",
    "</div>\n",
    "\n",
    "![](TotProb.jpeg)\n",
    "$$\\text{Figure 2. Law of Total Probability}$$\n",
    "\n",
    "\n",
    "#### Example:\n",
    "\n",
    "   An urn has 3 red balls and 2 black balls with equal probability of being picked. If a red ball is picked it is replaced but a black ball is not replaced. What is the probability that the second ball picked is black?\n",
    "\n",
    "$H_1\\equiv{\\text{1st ball picked is red, leaving 3 red + 2 black}}$\n",
    "\n",
    "$H_2\\equiv{\\text{1st ball picked is black, leaving 3 red  + 1 black}}$\n",
    "\n",
    "$A\\equiv{\\text{2nd ball picked is black}}$\n",
    "\n",
    "$P(A) = P(A|H_1)P(H_1) + P(A|H_2)P(H_2)$\n",
    "\n",
    "$P(A) = \\frac{2}{5}\\cdot{\\frac{3}{5}} + \\frac{1}{4}\\cdot{\\frac{2}{5}} = 0.34$"
   ]
  },
  {
   "cell_type": "markdown",
   "metadata": {},
   "source": [
    " \n",
    "### Bayes Theorem/Rule\n",
    "\n",
    "<div style=\"font-size: 115%;\"> \n",
    "$$P(H|D) = \\frac{P(D|H)P(H)}{P(D)}$$\n",
    "</div>\n",
    "\n",
    "P(H|D) = Posterior Probability  \n",
    "P(D|H) = Likelihood  \n",
    "P(H) = Prior Probability  \n",
    "P(D) = Evidence or Marginal Likelihood\n"
   ]
  },
  {
   "cell_type": "markdown",
   "metadata": {},
   "source": [
    "\n",
    "<div style=\"font-size: 110%;\"> \n",
    "$$P(H|D) = \\frac{P(H,D)}{P(D)} \\text{  (Definition of Conditional Probability) } \\\\\n",
    "= \\frac{P(D|H)P(H)}{P(D)}\\text{   (Product Rule) } \\\\\n",
    "= \\frac{P(D|H)P(H)}{\\sum{P(D|H)P(H))}}\\text{   (Law of Total Probability)}  $$\n",
    "</div>"
   ]
  },
  {
   "cell_type": "markdown",
   "metadata": {},
   "source": [
    "pos: Test is positive  \n",
    "neg: Test is negative  \n",
    "COV: Has Covid19  \n",
    "COVFree: Covid19 free  \n",
    "\n",
    "<div style=\"font-size: 115%;\">\n",
    "$$P(COV|pos) = \\frac{P(pos|COV)P(COV)}{P(pos|COV)P(COV) + P(pos|COVFree)P(COVFree)}$$\n",
    "</div>\n",
    "\n",
    "\n",
    "#### IF:\n",
    "Base rate for COV: 1 person in every 1000 people  \n",
    "Probability of True Positive P(pos|COV): 97%  \n",
    "Probability of True Negative P(neg|COVFree): 99%  \n",
    "    \n",
    "<div style=\"font-size: 115%;\">\n",
    "$$P(COV|pos) = \\frac{.97*0.001}{.97*0.001 + (1 - .99)*0.999}$$\n",
    "</div>"
   ]
  },
  {
   "cell_type": "code",
   "execution_count": 3,
   "metadata": {},
   "outputs": [
    {
     "data": {
      "text/plain": [
       "0.08850364963503642"
      ]
     },
     "execution_count": 3,
     "metadata": {},
     "output_type": "execute_result"
    }
   ],
   "source": [
    ".97*0.001/(.97*0.001 + (1 - .99)*0.999)"
   ]
  },
  {
   "cell_type": "markdown",
   "metadata": {},
   "source": [
    "## Distributions\n",
    "\n",
    "### Terminology\n",
    "  \n",
    "#### Random Variable (X)\n",
    "\n",
    "* (Mathematical definition)A function which maps outcomes of random processes (experiment) to a number.\n",
    "* Two types: Discrete and Continuous\n",
    "\n",
    "#### i.i.d. Independent identically distributed\n",
    "\n",
    "* $X_1,X_2,...,X_n$ are i.i.d. \n",
    "\n",
    "* Pairwise independent and all come from the same distribution\n",
    "    "
   ]
  },
  {
   "cell_type": "markdown",
   "metadata": {},
   "source": [
    "#### Probability Mass Function (PMF)\n",
    "\n",
    "* A function that calculates the probability that a **discrete** random variable equals a specific value\n",
    "    - Must sum to 1.\n",
    "\n",
    "$$P(X=x) = f_X(x)$$\n",
    "\n",
    " "
   ]
  },
  {
   "cell_type": "markdown",
   "metadata": {},
   "source": [
    "#### Probability Density Function (PDF) \n",
    "\n",
    "* A function that calculates the relative likelihood of a **continuous** random variable to equal a certain value. $f_X(x)$\n",
    "    + Must be positive\n",
    "    + Density - ratio of probability mass to width of an interval\n",
    "    + The area under the curve is the probability, it must integrate to 1\n",
    "    \n",
    "\n",
    "\n",
    "$$ f(x) = 3x^2 \\text{ for }x\\in{(0,1)}$$\n",
    "\n",
    "\n",
    "$$ f(x) = x^3/4 \\text{ for }x\\in{(0,c)}\\text{ What is c?}$$\n",
    "\n",
    "#### * Likelihood function (L)\n",
    "\n",
    "* A function with the same functional form as PMF or PDF but is a function of the parameter for fixed data point. \n",
    "\n",
    "* PDFs and PMFs are functions of the data with fixed parameters\n",
    "\n",
    "    \n",
    "#### Cumulative Distribution Function (CDF) \n",
    "\n",
    "* A function that calculates the probability that a random variable X  will take on a value less than or equal to x. $$P(X \\leqq{x}) = F_X(x)$$\n",
    "\n",
    "* For continuous probability distributions it is the integral of the pdf.\n",
    "$$  P(2\\leqq{X}\\leqq{4}) = \\int^4_2f(x)dx$$\n",
    "\n",
    "#### Percent Point Function (PPF)\n",
    "\n",
    "* A function that calculates the value of a random variable given the percentile (also called quantile) of the value\n",
    "\n",
    "* Inverse of CDF\n",
    "    - Input is a probability and the output is a value of the Random Variable \n",
    "    \n",
    "#### Random Variable generation function (RVS)\n",
    "\n",
    "* A function that samples from the distribution of the random variable"
   ]
  },
  {
   "cell_type": "markdown",
   "metadata": {},
   "source": [
    "### Expected Value\n",
    " \n",
    "* Mean or average value\n",
    "* A weighted average of the possible outcomes of a random variable\n",
    "* Discreet\n",
    "<div style=\"font-size: 115%;\"> \n",
    "$$E(X) = \\sum_x{x\\cdot{p(x)}}$$\n",
    "</div>\n",
    "\n",
    "* Continuous\n",
    "\n",
    "<div style=\"font-size: 115%;\"> \n",
    "$$E(X) = \\int_x{x\\cdot{p(x)dx}}$$\n",
    "</div>"
   ]
  },
  {
   "cell_type": "markdown",
   "metadata": {},
   "source": [
    "#### Discrete example of expected value as a weighted average \n",
    "\n",
    "<div style=\"font-size: 115%;\"> \n",
    "$$E(X) = \\sum_S{x\\cdot{p(X = x)}}$$\n",
    "</div>\n",
    "\n",
    "S is the sample space\n",
    "\n",
    "X is a Random Variable with values $\\in$ {1,2,3} and PMF =  P(X=1)=1/8, P(X=2)=3/8, and P(X=3)=1/2\n",
    "\n",
    "$E(X) = 1 \\ast P(X = 1) + 2 \\ast P(X = 2) + 3 \\ast P(X = 3)$"
   ]
  },
  {
   "cell_type": "code",
   "execution_count": 4,
   "metadata": {
    "scrolled": true
   },
   "outputs": [
    {
     "data": {
      "text/plain": [
       "2.375"
      ]
     },
     "execution_count": 4,
     "metadata": {},
     "output_type": "execute_result"
    }
   ],
   "source": [
    "E_X = 1 * 1/8 + 2 * 3/8 + 3 * 1/2;E_X"
   ]
  },
  {
   "cell_type": "code",
   "execution_count": 5,
   "metadata": {},
   "outputs": [
    {
     "data": {
      "text/plain": [
       "2.375"
      ]
     },
     "execution_count": 5,
     "metadata": {},
     "output_type": "execute_result"
    }
   ],
   "source": [
    "X = (1,1,1,2,2,2,2,2,2,2,2,2,3,3,3,3,3,3,3,3,3,3,3,3)\n",
    "np.mean(X)"
   ]
  },
  {
   "cell_type": "code",
   "execution_count": 6,
   "metadata": {},
   "outputs": [
    {
     "data": {
      "image/png": "[encoded data removed]",
      "text/plain": [
       "<Figure size 432x288 with 1 Axes>"
      ]
     },
     "metadata": {
      "needs_background": "light"
     },
     "output_type": "display_data"
    }
   ],
   "source": [
    "sns.distplot(X);\n"
   ]
  },
  {
   "cell_type": "markdown",
   "metadata": {},
   "source": [
    "#### Expectation of a function of a Random Variable\n",
    "\n",
    "Let X be a Random Variable with Probability Density Function p(x)\n",
    "\n",
    "Let Y = g(X) be a Random Variable that is a function of X\n",
    "\n",
    "<div style=\"font-size: 115%;\">\n",
    "$$E(Y) = E(g(x)) = \\int_{-\\infty}^{+\\infty}g(x)p(x)dx$$\n",
    "</div>"
   ]
  },
  {
   "cell_type": "markdown",
   "metadata": {},
   "source": [
    "### Indicator Random Variable\n",
    "\n",
    "* An indicator random variable is a random variable that is an indicator of some event.\n",
    "\n",
    "I(A) = 1 if event A occurs otherwise 0\n",
    "        "
   ]
  },
  {
   "cell_type": "markdown",
   "metadata": {},
   "source": [
    " \n",
    "\n",
    "### Distributions\n",
    " \n",
    "#### Discrete\n",
    "\n",
    "* Binomial\n",
    "    + Bernoulli\n",
    " \n",
    "#### Continuous\n",
    "\n",
    "* Normal\n",
    "* Uniform\n",
    "* Exponential\n"
   ]
  },
  {
   "cell_type": "markdown",
   "metadata": {},
   "source": [
    "### For every distribution Scipy provides four functions\n",
    " \n",
    "* Probability Mass Function (PMF)or Probability Density Function (PDF)\n",
    "* Cumulative Distribution Function (CDF) \n",
    "* Percent Point (PPF) (Inverse of Cumulative)\n",
    "* Random generation (RVS)"
   ]
  },
  {
   "cell_type": "code",
   "execution_count": 7,
   "metadata": {},
   "outputs": [],
   "source": [
    "from scipy.stats import binom,norm,uniform,expon"
   ]
  },
  {
   "cell_type": "markdown",
   "metadata": {},
   "source": [
    "### Numpy provides random generation functions\n",
    "\n",
    "* https://numpy.org/devdocs/reference/random/index.html"
   ]
  },
  {
   "cell_type": "code",
   "execution_count": 8,
   "metadata": {},
   "outputs": [
    {
     "data": {
      "text/plain": [
       "numpy.random._generator.Generator"
      ]
     },
     "execution_count": 8,
     "metadata": {},
     "output_type": "execute_result"
    }
   ],
   "source": [
    "rvs = np.random.default_rng(42)\n",
    "type(rvs)"
   ]
  },
  {
   "cell_type": "markdown",
   "metadata": {},
   "source": [
    "### Normal (Gaussian) Distribution\n",
    " \n",
    "* Most common continuous distribution\n",
    "    - A process that repeatedly **adds** together fluctuations will tend towards a Normal\n",
    "        - Processes that occur in nature are often of this type  \n",
    "    - Central Limit Theorem\n",
    "        - If you take repeated samples from a population with finite variance and calculate their averages, then the averages will be normally distributed\n",
    "        - The underlying distribution can anything as long as it has finite variance\n",
    "        \n",
    "$$X \\sim N(mean=\\mu,sd = \\sigma)$$    \n",
    "    \n",
    "#### Probability Density Function (PDF): \n",
    "\n",
    "<div style=\"font-size: 115%;\">\n",
    "$$f(x ; \\mu, \\sigma) = \\frac{1}{\\sigma\\sqrt{2\\pi}}e^{-\\frac{(x-\\mu)^2}{2\\sigma^2}}$$\n",
    "</div>\n",
    "\n",
    "* x: data\n",
    "* Location parameter (mean): $\\mu$\n",
    "* Scale parameter: different expressions for scale parameter depending on the system\n",
    "    - Standard deviation (scipy,PyMC3): $\\sigma$\n",
    "    - Precision (PyMC3): 1/variance: $\\tau = 1/\\sigma^2$\n",
    "    - Variance: $\\sigma^2$"
   ]
  },
  {
   "cell_type": "code",
   "execution_count": 9,
   "metadata": {},
   "outputs": [
    {
     "data": {
      "image/png": "[encoded data removed]",
      "text/plain": [
       "<Figure size 432x288 with 1 Axes>"
      ]
     },
     "metadata": {
      "needs_background": "light"
     },
     "output_type": "display_data"
    }
   ],
   "source": [
    "x = np.linspace(-3,3,100)\n",
    "rv = norm(loc=0,scale=.25) # loc = mean, scale = standard deviation\n",
    "y = rv.pdf(x)\n",
    "plt.plot(x,y)\n",
    "plt.title(\"Normal(0,0.25)\")\n",
    "plt.xlabel(\"X\")\n",
    "plt.ylabel(\"Density\");"
   ]
  },
  {
   "cell_type": "markdown",
   "metadata": {},
   "source": [
    "#### Cummlative Probability Function (CDF):\n",
    " \n",
    " * Integral of PDF (Area under the pdf curve)"
   ]
  },
  {
   "cell_type": "code",
   "execution_count": 10,
   "metadata": {},
   "outputs": [
    {
     "data": {
      "image/png": "[encoded data removed]",
      "text/plain": [
       "<Figure size 432x288 with 1 Axes>"
      ]
     },
     "metadata": {
      "needs_background": "light"
     },
     "output_type": "display_data"
    }
   ],
   "source": [
    "y = rv.cdf(x)\n",
    "plt.plot(x,y)\n",
    "plt.title(\"Normal(0,.25)\")\n",
    "plt.xlabel(\"X\")\n",
    "plt.ylabel(\"Probability\");\n"
   ]
  },
  {
   "cell_type": "markdown",
   "metadata": {},
   "source": [
    "#### Stanard Normal\n",
    "\n",
    "* $X \\sim N(0,1)$\n"
   ]
  },
  {
   "cell_type": "code",
   "execution_count": 11,
   "metadata": {},
   "outputs": [
    {
     "data": {
      "image/png": "[encoded data removed]",
      "text/plain": [
       "<Figure size 432x288 with 1 Axes>"
      ]
     },
     "metadata": {
      "needs_background": "light"
     },
     "output_type": "display_data"
    }
   ],
   "source": [
    "rv = norm()\n",
    "y = rv.cdf(x)\n",
    "plt.plot(x,y)\n",
    "plt.title(\"Normal(0,1)\")\n",
    "plt.xlabel(\"X\")\n",
    "plt.ylabel(\"Probability\")\n",
    "\n",
    "x = -1\n",
    "prob = rv.cdf(x)\n",
    "plt.plot(x,prob,'bo')\n",
    "plt.vlines(x,0,prob,colors='b')\n",
    "plt.hlines(prob,-3,x,colors='b');"
   ]
  },
  {
   "cell_type": "markdown",
   "metadata": {},
   "source": [
    "#### Percent Point Function (PPF)\n",
    "\n",
    "* Inverse of cdf"
   ]
  },
  {
   "cell_type": "code",
   "execution_count": 12,
   "metadata": {},
   "outputs": [
    {
     "name": "stdout",
     "output_type": "stream",
     "text": [
      "Probability of x = -1.0 for standard normal:  0.15865525393145707\n",
      "ppf(cdf(-1)):  -1.0\n"
     ]
    }
   ],
   "source": [
    "print(\"Probability of x = -1.0 for standard normal: \", prob)\n",
    "x = rv.ppf(prob)\n",
    "print(\"ppf(cdf(-1)): \",x)"
   ]
  },
  {
   "cell_type": "markdown",
   "metadata": {},
   "source": [
    "#### RV Generation"
   ]
  },
  {
   "cell_type": "code",
   "execution_count": 13,
   "metadata": {},
   "outputs": [
    {
     "name": "stdout",
     "output_type": "stream",
     "text": [
      "Mean = 4.993849, Variance = 3.983194\n"
     ]
    }
   ],
   "source": [
    "rv = norm(loc=5,scale = 2)\n",
    "X = rv.rvs(size = 1000) # 1000 samples\n",
    "mean = np.mean(X)\n",
    "var = np.var(X)\n",
    "print (\"Mean = %f, Variance = %f\" % (mean,var))"
   ]
  },
  {
   "cell_type": "code",
   "execution_count": 14,
   "metadata": {},
   "outputs": [
    {
     "data": {
      "image/png": "[encoded data removed]",
      "text/plain": [
       "<Figure size 432x288 with 1 Axes>"
      ]
     },
     "metadata": {
      "needs_background": "light"
     },
     "output_type": "display_data"
    }
   ],
   "source": [
    "sns.distplot(X)\n",
    "plt.title(\"Random Sample from Normal(5,2)\");\n"
   ]
  },
  {
   "cell_type": "markdown",
   "metadata": {},
   "source": [
    "###  Central Limit Theorem\n",
    " \n",
    "*  The distribution of the mean of a large number of independent, identically distributed (i.i.d) samples from any distribution will converge to a Normal distribution as the sample size -> infinity\n",
    "    + e.g. if i repeatedly sample from a geometric distribution, the means of those samples will be normally distributed\n"
   ]
  },
  {
   "cell_type": "code",
   "execution_count": 15,
   "metadata": {},
   "outputs": [
    {
     "data": {
      "image/png": "[encoded data removed]",
      "text/plain": [
       "<Figure size 432x288 with 1 Axes>"
      ]
     },
     "metadata": {
      "needs_background": "light"
     },
     "output_type": "display_data"
    }
   ],
   "source": [
    "rv = stats.geom(p = .5)\n",
    "x = np.arange(rv.ppf(0.01),rv.ppf(0.99))\n",
    "plt.plot(x, rv.pmf(x), 'bo', ms=8, label='geom pmf')\n",
    "plt.vlines(x, 0, rv.pmf(x), colors='b', lw=5, alpha=0.5);\n"
   ]
  },
  {
   "cell_type": "code",
   "execution_count": 16,
   "metadata": {},
   "outputs": [
    {
     "data": {
      "image/png": "[encoded data removed]",
      "text/plain": [
       "<Figure size 432x288 with 4 Axes>"
      ]
     },
     "metadata": {
      "needs_background": "light"
     },
     "output_type": "display_data"
    }
   ],
   "source": [
    "np.random.seed(1234)\n",
    "\n",
    "fig,((ax1,ax2),(ax3,ax4)) =  plt.subplots(nrows = 2,ncols=2)\n",
    "\n",
    "def mapMeanGeom(sample_size,p = .5): \n",
    "    return(np.mean(stats.geom.rvs(p,size=sample_size)))\n",
    "    \n",
    "\n",
    "means2 = [mapMeanGeom(2) for i in range(1000)]\n",
    "means10 = [mapMeanGeom(10) for i in range(1000)]\n",
    "means50 = [mapMeanGeom(50) for i in range(1000)]\n",
    "means100 = [mapMeanGeom(100) for i in range(1000)]\n",
    "\n",
    "\n",
    "sns.distplot(means2,ax=ax1)\n",
    "ax1.set_title(\"Means2\")\n",
    "\n",
    "sns.distplot(means10,ax=ax2)\n",
    "ax2.set_title(\"Means10\")\n",
    "\n",
    "sns.distplot(means50,ax=ax3)\n",
    "ax3.set_title(\"Means50\")\n",
    "\n",
    "sns.distplot(means100,ax=ax4)\n",
    "ax4.set_title(\"Means100\")\n",
    "\n",
    "plt.tight_layout()"
   ]
  },
  {
   "cell_type": "markdown",
   "metadata": {},
   "source": [
    "#### Coverting to Stanard Normal\n",
    "\n",
    "* $X \\sim N(0,1)$\n",
    "\n",
    "* z-scores: number of standard deviations from mean\n",
    "* Convert y from distribution with mean $\\hat{y}$ and standard deviation s: $z = \\frac{y - \\hat{y}}{s}$\n",
    "\n",
    "Measure the heights of 100 people, mean = 170 cm, sd = 8 cm.\n",
    "\n",
    "What is probability that a random selected person will be less than 160 cm in height?\n",
    "\n",
    "$z = \\frac{160 - 170}{8} = -1.25$"
   ]
  },
  {
   "cell_type": "code",
   "execution_count": 17,
   "metadata": {},
   "outputs": [
    {
     "name": "stdout",
     "output_type": "stream",
     "text": [
      "Probability that a random selected person will be less than 160 cm in height:\n"
     ]
    },
    {
     "data": {
      "text/plain": [
       "(0.10564977366685535, 0.10564977366685535)"
      ]
     },
     "execution_count": 17,
     "metadata": {},
     "output_type": "execute_result"
    }
   ],
   "source": [
    "from scipy.stats import norm\n",
    "print(\"Probability that a random selected person will be less than 160 cm in height:\")\n",
    "prob1 = norm.cdf(160,loc = 170, scale = 8)\n",
    "prob2 = norm.cdf(-1.25) # Standard Normal\n",
    "(prob1,prob2)"
   ]
  },
  {
   "cell_type": "markdown",
   "metadata": {},
   "source": [
    "### Binomial Distribution \n",
    "\n",
    "* A discrete distribution\n",
    " \n",
    "https://docs.scipy.org/doc/scipy/reference/stats.html\n",
    "\n",
    "https://docs.pymc.io/api/distributions/discrete.html#pymc3.distributions.discrete.Binomial\n",
    "\n",
    "* If I flip a fair coin twenty times, what is the probability of 7 heads?\n",
    "* Binomial(n,p)\n",
    "* The number of successes in n trials.\n",
    "* Bernoulli is Binom(1,p)\n",
    "\n",
    "#### PMF\n",
    "\n",
    "<div style=\"font-size: 115%;\">\n",
    "$$P(X=k ; n,p) = \\frac{n!}{k!(n - k)!}p^k(1 - p)^{(n - k)}$$\n",
    "</div>\n",
    " \n",
    "* X - random variable\n",
    "* k - # successes(7) \n",
    "* Two parameters:\n",
    "    - n - size parameter (20) (number of trials)\n",
    "    - p - success probability (for a fair coin p = .5)\n",
    "        - also called the rate parameter\n",
    " \n",
    "#### Moments: \n",
    "<div style=\"font-size: 115%;\">\n",
    "$$E(X) = n * p$$  \n",
    "      \n",
    "$$Var(X) = n * p * (1-p) = n * p * q$$\n",
    "</div>\n"
   ]
  },
  {
   "cell_type": "markdown",
   "metadata": {},
   "source": [
    "#### Scipy/stats PMF"
   ]
  },
  {
   "cell_type": "code",
   "execution_count": 18,
   "metadata": {},
   "outputs": [
    {
     "name": "stdout",
     "output_type": "stream",
     "text": [
      "P(X = 7) is 0.0739\n"
     ]
    }
   ],
   "source": [
    "# Generic method pmf\n",
    "k, n, p = 7, 20, .5  # # success, size, probability of success\n",
    "prob = binom.pmf(k, n, p)\n",
    "print(f'P(X = {k}) is {round(prob,4)}')"
   ]
  },
  {
   "cell_type": "code",
   "execution_count": 19,
   "metadata": {},
   "outputs": [
    {
     "data": {
      "image/png": "[encoded data removed]",
      "text/plain": [
       "<Figure size 432x288 with 1 Axes>"
      ]
     },
     "metadata": {
      "needs_background": "light"
     },
     "output_type": "display_data"
    }
   ],
   "source": [
    "# Number of successes as a vector (numpy arrray)\n",
    "\n",
    "x = np.arange(0,21,step=1,dtype='int')\n",
    "y = binom.pmf(x, n, p)\n",
    "plt.plot(x,y,'bo')\n",
    "plt.vlines(x, 0, binom.pmf(x, n, p), colors='b', lw=5, alpha=0.5)\n",
    "plt.ylabel(\"Probability\");\n"
   ]
  },
  {
   "cell_type": "markdown",
   "metadata": {},
   "source": [
    "#### Scipy/stats frozen random variable"
   ]
  },
  {
   "cell_type": "code",
   "execution_count": 20,
   "metadata": {},
   "outputs": [
    {
     "data": {
      "text/plain": [
       "0.07392883300781268"
      ]
     },
     "execution_count": 20,
     "metadata": {},
     "output_type": "execute_result"
    }
   ],
   "source": [
    "# Freeze the random variable\n",
    "rv = binom(n,p) \n",
    "rv.pmf(k)"
   ]
  },
  {
   "cell_type": "markdown",
   "metadata": {},
   "source": [
    "#### CDF and PPF "
   ]
  },
  {
   "cell_type": "code",
   "execution_count": 21,
   "metadata": {},
   "outputs": [
    {
     "name": "stdout",
     "output_type": "stream",
     "text": [
      "Probability = 0.1316, k = 7.0\n"
     ]
    }
   ],
   "source": [
    "# PPF is inverse of CDF\n",
    "prob = binom.cdf(k,n,p)\n",
    "q = binom.ppf(prob,n,p)\n",
    "print(f'Probability = {np.round(prob,4)}, k = {q}')"
   ]
  },
  {
   "cell_type": "code",
   "execution_count": 22,
   "metadata": {},
   "outputs": [
    {
     "data": {
      "image/png": "[encoded data removed]",
      "text/plain": [
       "<Figure size 432x288 with 1 Axes>"
      ]
     },
     "metadata": {
      "needs_background": "light"
     },
     "output_type": "display_data"
    }
   ],
   "source": [
    "probs = binom.cdf(x,n,p)\n",
    "plt.plot(x,probs,'-')\n",
    "plt.plot(q,prob,'bo')\n",
    "plt.vlines(k,0,prob,colors='b')\n",
    "plt.hlines(prob,0,k,colors='b');\n"
   ]
  },
  {
   "cell_type": "markdown",
   "metadata": {},
   "source": [
    "#### Random Variable Generation"
   ]
  },
  {
   "cell_type": "code",
   "execution_count": 23,
   "metadata": {},
   "outputs": [
    {
     "data": {
      "image/png": "[encoded data removed]",
      "text/plain": [
       "<Figure size 432x288 with 1 Axes>"
      ]
     },
     "metadata": {
      "needs_background": "light"
     },
     "output_type": "display_data"
    }
   ],
   "source": [
    "rv = binom.rvs(n,p,size = 1000)\n",
    "plt.hist(rv,50);\n"
   ]
  },
  {
   "cell_type": "code",
   "execution_count": 24,
   "metadata": {},
   "outputs": [
    {
     "data": {
      "text/plain": [
       "array([12, 10, 12, 11,  7])"
      ]
     },
     "execution_count": 24,
     "metadata": {},
     "output_type": "execute_result"
    }
   ],
   "source": [
    "# numpy method for generating RV\n",
    "rvs.binomial(n,p,size = 5)"
   ]
  },
  {
   "cell_type": "markdown",
   "metadata": {},
   "source": [
    "### Coin flipping simulation"
   ]
  },
  {
   "cell_type": "code",
   "execution_count": 25,
   "metadata": {},
   "outputs": [
    {
     "data": {
      "text/plain": [
       "0.0618"
      ]
     },
     "execution_count": 25,
     "metadata": {},
     "output_type": "execute_result"
    }
   ],
   "source": [
    "np.random.seed(1235)\n",
    "\n",
    "def flip (p = 0.5):\n",
    "    return np.random.choice(100) <= 100*p\n",
    "\n",
    "def nFlips (n, p = 0.5):\n",
    "    return sum(np.array([flip(p) for i in range(n)]))\n",
    "\n",
    "def simPmfBinom (k,n,p=0.5,N_Iters = 10000):\n",
    "    total = np.array([nFlips(n,p) for i in range(N_Iters)])\n",
    "    return( sum(total == k)/N_Iters)\n",
    "\n",
    "simPmfBinom(7,20)\n"
   ]
  },
  {
   "cell_type": "markdown",
   "metadata": {},
   "source": [
    "### Bernouilli Distribution\n",
    " \n",
    "* Bernoulli Trial - a random experiment with exactly two possible outcomes, {success, failure}\n",
    "* Distribution of a RV that take a value of 1 with probability p and a value of zero with probability (1-p)\n",
    "\n",
    "#### PMF \n",
    "\n",
    "<div style=\"font-size: 115%;\">\n",
    "$$ P(X=k;p) = p^k\\cdot{(1 - p)^{(1-k)}\\text{ for k}\\in{\\{0,1\\}}}$$\n",
    "</div>\n",
    "\n",
    "#### Momments (mean and variance)\n",
    "\n",
    "<div style=\"font-size: 115%;\">\n",
    "$$E(X) = p$$  \n",
    "$$Var(X) = p(1-p)$$  \n",
    "</div>"
   ]
  },
  {
   "cell_type": "markdown",
   "metadata": {},
   "source": [
    " ### Binomial as sum of Bernoullis \n",
    "\n",
    "* If $X_1,X_2,...,X_n$ are independent, identically distributed (i.i.d.) Bernoulli random variables with\n",
    "success probability p, then there sum is a Binomial random variable Y, such that\n",
    "\n",
    " \n",
    "$Y = \\sum^n_{k=1}X_k\\sim{Binom(n,p)}$\n",
    "    \n"
   ]
  },
  {
   "cell_type": "markdown",
   "metadata": {},
   "source": [
    "### Exponential Distribution\n",
    "\n",
    "*  The probability distribution of the time between events in a Poisson process\n",
    "* Memoryless\n",
    "<div style=\"font-size: 110%;\">\n",
    "$$P(T > (s+t) | T > s) =P(T>t)$$\n",
    "</div>\n",
    "\n",
    "    - No matter how long you've waited for an event to happen, the distribution of the time you still have to wait until the next event is the exact same. \n",
    "    - The future is independent of the past  \n",
    "* A member of the exponential family\n",
    "    - The Normal, Poisson, Bernoulli and Binomial (with fixed # of trials) are also members of the exponential family\n",
    "    \n",
    "#### PDF\n",
    "\n",
    "<div style=\"font-size: 115%;\">\n",
    "$$ f(x;\\lambda)  = \\lambda e^{-\\lambda x} \\text{ for }x\\ge 0$$\n",
    "</div>\n",
    "\n",
    "* $\\lambda$ is the rate of event occurrance"
   ]
  },
  {
   "cell_type": "code",
   "execution_count": null,
   "metadata": {},
   "outputs": [],
   "source": [
    "x = np.linspace(expon.ppf(0.01),expon.ppf(0.99), 100)\n",
    "plt.plot(x,expon.pdf(x),label = 'lambda=1')\n",
    "lam = 2\n",
    "plt.plot(x,expon.pdf(x,loc= 0, scale=1/lam),label = 'lambda=1.5')\n",
    "plt.legend();"
   ]
  },
  {
   "cell_type": "markdown",
   "metadata": {},
   "source": [
    "#### Moments\n",
    "\n",
    "* Mean: $1/\\lambda$\n",
    "* Variance: $1/\\lambda^2$"
   ]
  },
  {
   "cell_type": "code",
   "execution_count": null,
   "metadata": {},
   "outputs": [],
   "source": [
    "rv = expon(loc=0,scale=1/lam)\n",
    "rv.mean(),rv.var()"
   ]
  },
  {
   "cell_type": "code",
   "execution_count": null,
   "metadata": {},
   "outputs": [],
   "source": [
    "d = expon.rvs(loc=0,scale=1/lam,size = 1000)\n",
    "np.mean(d)"
   ]
  },
  {
   "cell_type": "markdown",
   "metadata": {},
   "source": [
    "### Uniform distribution\n",
    " \n",
    "* Equal probability in an interval [a,b]\n",
    "    - a = loc, b = loc + scale\n",
    "    - Defaults to [0,1]\n",
    "    \n",
    "#### PDF\n",
    "\n",
    "<div style=\"font-size: 115%;\">\n",
    "$$f(x;a,b) = \\frac{1}{b-a}\\text{ for x}\\in [a,b],\\text{ 0 otherwise}$$\n",
    "</div>\n",
    "\n",
    "#### Moments\n",
    " \n",
    "$$ Mean = \\frac{1}{2}\\cdot(a+b)$$  \n",
    "$$Variance = \\frac{1}{12}\\cdot{(b-a)^2}$$"
   ]
  },
  {
   "cell_type": "code",
   "execution_count": null,
   "metadata": {},
   "outputs": [],
   "source": [
    "fig,(ax1,ax2) = plt.subplots(1,2,figsize = (10,4))\n",
    "size = 1000\n",
    "ax1.plot(stats.uniform.rvs(size=size),stats.uniform.rvs(size=size),'o')\n",
    "ax1.set_title(\"Scipy 2-D Uniform(0,1)\");\n",
    "\n",
    "ax2.plot(rvs.random(size = size),rvs.random(size = size),'o')\n",
    "ax2.set_title(\"Numpy 2-D Uniform(0,1)\");"
   ]
  },
  {
   "cell_type": "markdown",
   "metadata": {},
   "source": [
    "#### Simulate coin flipping"
   ]
  },
  {
   "cell_type": "code",
   "execution_count": null,
   "metadata": {},
   "outputs": [],
   "source": [
    "np.random.seed(1234)\n",
    "\n",
    "def flip(p=0.5):\n",
    "    return (1 if stats.uniform.rvs(loc=0,scale=1,size=1) < p else 0)\n",
    "flips = np.array([flip(.8) for i in range(1000)])\n",
    "print(f'Flipping a .8 biased coin 1000 times: {sum(flips)/1000}')"
   ]
  },
  {
   "cell_type": "markdown",
   "metadata": {},
   "source": [
    "### Connections between distributions\n",
    "\n",
    "![](distribution_chart.gif)\n",
    "![](distributions_rel.png)\n",
    "\n"
   ]
  },
  {
   "cell_type": "markdown",
   "metadata": {},
   "source": [
    "### Exercise\n",
    "\n",
    "#### 1) Marginal, Joint and Conditional Probability\n",
    "\n",
    "P(A,C) = .2  \n",
    "P(B,D) = .1   \n",
    "P(B) = .4  \n",
    "P(D) = .2  \n",
    "P(E) = .5\n",
    "\n",
    "\n",
    "P_AC = .2\n",
    "P_BD = .1\n",
    "P_B =.4\n",
    "P_D = .2\n",
    "P_E = .5\n",
    "\n",
    "|<i></i> |C      |D      |E      |<i></i>|\n",
    "|-------:|------:|:------|------:|------:|\n",
    "|A       |.2     |<i></i>|<i></i>|<i></i>|\n",
    "|B       |<i></i>| .1    |<i></i>| .4    |\n",
    "|<i></i> |<i></i>| .2    | .5    | 1.0\n",
    "\n",
    "What is:  \n",
    "P(A)  \n",
    "P(C)  \n",
    "P(A,D)   \n",
    "P(A,E)  \n",
    "P(B,C)  \n",
    "P(B,E)  \n"
   ]
  },
  {
   "cell_type": "code",
   "execution_count": null,
   "metadata": {},
   "outputs": [],
   "source": [
    "P_A = # Your Code Here\n",
    "P_C = # Your Code Here\n",
    "P_AD = # Your Code Here\n",
    "P_AE = # Your Code Here\n",
    "P_BC = # Your Code Here\n",
    "P_BE = # Your Code Here\n",
    "\n",
    "print('P(A) = ', P_A)\n",
    "print('P(C) = ', P_C)\n",
    "print('P(A,D) = ', P_AD)\n",
    "print('P(A,E) = ', P_AE)\n",
    "print('P(B,C) = ', P_BC)\n",
    "print('P(B,E) = ', P_BE)\n",
    "\n"
   ]
  },
  {
   "cell_type": "markdown",
   "metadata": {},
   "source": [
    "#### 2. Independence:  Show B and E are independent."
   ]
  },
  {
   "cell_type": "code",
   "execution_count": null,
   "metadata": {},
   "outputs": [],
   "source": [
    "# Your Code Here"
   ]
  },
  {
   "cell_type": "markdown",
   "metadata": {},
   "source": [
    "#### 3. Likelihood function\n",
    "\n",
    "Using the PDF for a Normal distribution, plot the Likelihood for the mean (i.e. the loc parameter), fixing the standard deviation at 2.0 at the value 2.0. What is the Maximum Likelihood?"
   ]
  },
  {
   "cell_type": "code",
   "execution_count": null,
   "metadata": {},
   "outputs": [],
   "source": [
    "# Your Code Here"
   ]
  },
  {
   "cell_type": "markdown",
   "metadata": {},
   "source": [
    "#### 4. What is the expected value of a random variable Y = X**2 with the RV and  PMF given below. "
   ]
  },
  {
   "cell_type": "code",
   "execution_count": null,
   "metadata": {},
   "outputs": [],
   "source": [
    "pmf = (1/6,0,1/3,1/6,0,1/3)\n",
    "X = np.array([1,2,3,4,5,6])\n",
    "\n",
    "# Your Code Here"
   ]
  },
  {
   "cell_type": "markdown",
   "metadata": {},
   "source": [
    "### References\n",
    "\n",
    "#### Probability Cheatsheet\n",
    "\n",
    "https://static1.squarespace.com/static/54bf3241e4b0f0d81bf7ff36/t/55e9494fe4b011aed10e48e5/1441352015658/probability_cheatsheet.pdf\n",
    "\n",
    "#### Probability Primer\n",
    "\n",
    "http://www.rctn.org/bruno/npb163/probability.pdf\n",
    "\n",
    "#### On-line lectures from course in Probability by Joe Blitzstein\n",
    "\n",
    "https://www.youtube.com/playlist?list=PL2SOU6wwxB0uwwH80KTQ6ht66KWxbzTIo"
   ]
  },
  {
   "cell_type": "markdown",
   "metadata": {},
   "source": [
    "## Statistics\n",
    " \n",
    "* Central Question: Given a set of data, discover the random process (model) that generated the data\n",
    "    - Parametric: Make assumptions about structure of random process (model)\n",
    "    - Non-parametric: No assumptions about structure \n",
    "* Measuring and controlling uncertainty due to inherent noise in the data\n",
    "* Run an experiment to collect data-> construct a model of the data -> draw inferences about unknowns in model from the data\n",
    "    - Given (H H T T T H H H T H) what is probability that it is a fair coin?\n"
   ]
  },
  {
   "cell_type": "markdown",
   "metadata": {},
   "source": [
    "### Sampling\n",
    "\n",
    "Problem of Interest: the height of all students at RPI\n",
    "\n",
    "* Population: The set of all units of interest.\n",
    "    - Heights all RPI students\n",
    "* Sample: A random selection from the population\n",
    "    - Randomly select students and measure their height\n",
    "* Parameter: a function of the values of the population\n",
    "    - Average height of all RPI students\n",
    "* Statistic: a function of the values of the sample\n",
    "    - Average height of all students in the sample\n",
    "     "
   ]
  },
  {
   "cell_type": "markdown",
   "metadata": {},
   "source": [
    "### Descriptive Statistics\n",
    "\n",
    "* Descriptive statistics are meaningful summaries describing characteristics of the population or sample data. \n",
    "\n",
    "* They are used to describe the basic features of the data.\n",
    "    - Summarize features of the data\n",
    "    - Can't say much about just the raw data. \n",
    "    - We need to reduce it to be able to talk about it effectively.\n",
    "* First step in model building is to describe and visualize the data\n",
    "    - Building a model, requires making some assumptions\n",
    "    - Data exploration that summarizes the data provides a basis for these assumptions"
   ]
  },
  {
   "cell_type": "markdown",
   "metadata": {},
   "source": [
    "### Inferential statistics. \n",
    " \n",
    "* Inferential statistics make inferences about the population of interest from sample data. \n",
    "* A large part of Machine/Statistical Learning: learning from data\n"
   ]
  },
  {
   "cell_type": "markdown",
   "metadata": {},
   "source": [
    "\n",
    "## Kinds of Descriptive Statistics\n",
    "\n",
    "* Measures of Central Tendency\n",
    "* Measures of Dispersion\n",
    "* Correlations\n",
    "* Visualization\n",
    "\n",
    "Python functions: \n",
    " \n",
    "numpy: https://docs.scipy.org/doc/numpy/reference/routines.statistics.html\n",
    " \n",
    "scipy.stats: https://docs.scipy.org/doc/scipy/reference/stats.html#statistical-functions\n",
    " "
   ]
  },
  {
   "cell_type": "markdown",
   "metadata": {},
   "source": [
    "### Generate some data"
   ]
  },
  {
   "cell_type": "code",
   "execution_count": null,
   "metadata": {},
   "outputs": [],
   "source": [
    "x = np.linspace(-10,10,20)\n",
    "y = 2*x + 7 + stats.norm.rvs(loc = 0, scale=2.0, size = 20)\n",
    "\n",
    "df = pd.DataFrame({'x':x,'y':y})\n",
    "df.head()"
   ]
  },
  {
   "cell_type": "code",
   "execution_count": null,
   "metadata": {},
   "outputs": [],
   "source": [
    "plt.plot(x,y,'o');"
   ]
  },
  {
   "cell_type": "markdown",
   "metadata": {
    "collapsed": true
   },
   "source": [
    "## Measures of central tendency\n",
    " \n",
    "### Mean (arithmetic)\n",
    "\n",
    "<div style=\"font-size: 125%;\">\n",
    "$$\\bar{x} = \\frac{\\sum^N_{i=1}{x_i}}{N}$$\n",
    "</div>\n",
    "\n",
    "* $\\bar{x}$ - symbol often used for sample mean\n",
    "* $\\mu$ - symbol often used for population mean population mean\n",
    "* Average of the data\n",
    "* \"center of gravity\"\n",
    "* 1st Moment\n",
    "* The mean is sensitive to extreme values\n",
    "    - If have extreme values can use a trimmed mean\n",
    "    - Scipy.stats has a trimmed mean function, but must specify limits\n",
    " \n"
   ]
  },
  {
   "cell_type": "code",
   "execution_count": null,
   "metadata": {},
   "outputs": [],
   "source": [
    "\n",
    "def myMean(v):\n",
    "    return(sum(v)/len(v))\n",
    "myMean(y)"
   ]
  },
  {
   "cell_type": "code",
   "execution_count": null,
   "metadata": {},
   "outputs": [],
   "source": [
    "np.mean(y)"
   ]
  },
  {
   "cell_type": "code",
   "execution_count": null,
   "metadata": {},
   "outputs": [],
   "source": [
    "df['z'] = df.y[1:].append(pd.Series([100]))\n",
    "df.head()"
   ]
  },
  {
   "cell_type": "code",
   "execution_count": null,
   "metadata": {},
   "outputs": [],
   "source": [
    "np.mean(df.z), stats.tmean(df.z,limits=(y.min(),y.max()))"
   ]
  },
  {
   "cell_type": "code",
   "execution_count": null,
   "metadata": {},
   "outputs": [],
   "source": [
    "print(np.mean(x))\n",
    "np.mean(x) == 0.0"
   ]
  },
  {
   "cell_type": "code",
   "execution_count": null,
   "metadata": {},
   "outputs": [],
   "source": [
    "np.isclose(np.mean(x), 0.0)"
   ]
  },
  {
   "cell_type": "code",
   "execution_count": null,
   "metadata": {},
   "outputs": [],
   "source": [
    "M = np.array([[1,2,3],\n",
    "              [4,5,6]])\n",
    "print(M)\n",
    "np.mean(M)"
   ]
  },
  {
   "cell_type": "code",
   "execution_count": null,
   "metadata": {},
   "outputs": [],
   "source": [
    "print(np.mean(M[0])) # Mean row = 0\n",
    "print(np.mean(M[:,0]))# Mean column = 0\n",
    "print(np.mean(M,axis=0)) # Calculate mean for each column\n",
    "print(np.mean(M,axis=1)) # Calculate mean for each row\n"
   ]
  },
  {
   "cell_type": "markdown",
   "metadata": {
    "collapsed": true
   },
   "source": [
    "### Median\n",
    " \n",
    "* The middle value of a set of observations\n",
    "* The 50th percentile (quantile)\n",
    "* More robust to outliers than the mean\n",
    "* When length is odd, the middle data point is returned\n",
    "* When length is even, the average of the two middle points is returned\n",
    "* 2nd central moment\n"
   ]
  },
  {
   "cell_type": "code",
   "execution_count": null,
   "metadata": {},
   "outputs": [],
   "source": [
    "np.median(df.z)"
   ]
  },
  {
   "cell_type": "code",
   "execution_count": null,
   "metadata": {},
   "outputs": [],
   "source": [
    "print(M)\n",
    "np.median(M)"
   ]
  },
  {
   "cell_type": "code",
   "execution_count": null,
   "metadata": {},
   "outputs": [],
   "source": [
    "v = np.arange(25)\n",
    "(np.median(v), np.median(np.append(v,101)))"
   ]
  },
  {
   "cell_type": "markdown",
   "metadata": {},
   "source": [
    "###  Mode\n",
    " \n",
    "* The most frequent value in set of observations\n",
    "\n"
   ]
  },
  {
   "cell_type": "code",
   "execution_count": null,
   "metadata": {},
   "outputs": [],
   "source": [
    "from scipy.stats import mode\n",
    "print(mode(df.y))\n",
    "mode(df.y)[0]"
   ]
  },
  {
   "cell_type": "code",
   "execution_count": null,
   "metadata": {},
   "outputs": [],
   "source": [
    "M = np.array([[1, 3, 4, 2, 2, 7],\n",
    "              [5, 2, 2, 1, 4, 1],\n",
    "              [3, 3, 2, 2, 1, 1]])\n",
    "print(mode(M)) # Defaults to axis = 0\n",
    "print(mode(M,axis=1))\n",
    "print(mode(M,axis=None))"
   ]
  },
  {
   "cell_type": "markdown",
   "metadata": {},
   "source": [
    "## Measures of Variability\n",
    "\n",
    "* How spread out is the data?\n",
    "\n",
    "### Range\n",
    " \n",
    "* Biggest value - smallest value\n",
    "* Not good if have extreme values\n"
   ]
  },
  {
   "cell_type": "code",
   "execution_count": null,
   "metadata": {},
   "outputs": [],
   "source": [
    "[np.amin(y),np.amax(y)]\n"
   ]
  },
  {
   "cell_type": "markdown",
   "metadata": {},
   "source": [
    "###  Interquartile Range (IRQ)\n",
    " \n",
    "* Quantiles (as called percentiles)\n",
    "    - Divide the data values by frequency, for example\n",
    "        - Median is 50th quantile: 0.5 the values are less than the median\n",
    "        - 10th quantile: 0.1 of the values are less than this value\n",
    "* Interquartile range is difference between the 25th and 75 quantile\n"
   ]
  },
  {
   "cell_type": "code",
   "execution_count": null,
   "metadata": {},
   "outputs": [],
   "source": [
    "d = np.array([3,7,9,10,16,20,25,57,30])\n",
    "[np.percentile(d,25),np.percentile(d,75)]\n"
   ]
  },
  {
   "cell_type": "code",
   "execution_count": null,
   "metadata": {},
   "outputs": [],
   "source": [
    "from scipy.stats import iqr\n",
    "iqr(d)"
   ]
  },
  {
   "cell_type": "markdown",
   "metadata": {},
   "source": [
    "### Mean (Average) Absolute Deviation\n",
    " \n",
    "* The average distance between each data value and the mean ($\\bar{x}$). \n",
    "\n",
    "<div style=\"font-size: 115%;\">    \n",
    "$$AbsoluteDeviation = |x-\\bar{x}|$$\n",
    "       \n",
    "$$MAD = \\frac{\\sum^N_{i=1}{|x_i - \\bar{x}|}}{N}$$\n",
    "\n",
    "</div>"
   ]
  },
  {
   "cell_type": "markdown",
   "metadata": {},
   "source": [
    "### Variance\n",
    " \n",
    "* Squared deviations rather than absolute deviations\n",
    "\n",
    "<div style=\"font-size: 115%;\">\n",
    "$$\\text{Sample: }s^2= \\frac{\\sum^N_{i=1}{(x_i - \\bar{x})^2}}{N-1}\\text{  }\n",
    "\\text{ Population: }\\sigma^2 = \\frac{\\sum^N_{i=1}{(x_i - \\mu)^2}}{N}$$\n",
    "</div>\n",
    "\n",
    "#### Sample variance ($s^2$) versus Population ($\\sigma^2$)\n",
    "\n",
    "* Terminology: $\\sigma^2$ is a parameter, $s^2$ is a statistic\n",
    "* The sample variance is an estimate of the population variance\n",
    "    - Want to know the population variance but just have sample data so we need to estimate the population parameter\n",
    "* Bessel's Correction: divide by N-1 for the sample variance\n",
    "    - $s^2$ is an estimate for $\\sigma^2$ and $\\bar{x}$ is an estimate for $\\mu$\n",
    "    - $x_i$s are closer to $\\bar{x}$ (the sample mean) than to $\\mu$ the population mean so the variance is smaller\n",
    "        - it is biased to the sample that we have\n",
    "    - To compensate for this smaller variance, divide by N-1\n",
    "    \n",
    "    https://math.stackexchange.com/questions/61251/intuitive-explanation-of-bessels-correction\n",
    "    \n",
    "    https://math.stackexchange.com/questions/15098/sample-standard-deviation-vs-population-standard-deviation\n",
    "    \n",
    "* Sample variance is generally what we want \n",
    "    - in numpy and scipy.stats need to specify degrees of freedom for denominator (ddof = 1)\n",
    "    \n"
   ]
  },
  {
   "cell_type": "code",
   "execution_count": null,
   "metadata": {},
   "outputs": [],
   "source": [
    "d = [3,7,9,10,16,20,25,57,30]\n",
    "np.var(d)"
   ]
  },
  {
   "cell_type": "code",
   "execution_count": null,
   "metadata": {},
   "outputs": [],
   "source": [
    "def myVar(X):\n",
    "    return(sum((X-np.mean(X))**2)/(len(X)- 1))\n",
    "myVar(d)"
   ]
  },
  {
   "cell_type": "code",
   "execution_count": null,
   "metadata": {},
   "outputs": [],
   "source": [
    "np.var(d,ddof=1)"
   ]
  },
  {
   "cell_type": "markdown",
   "metadata": {},
   "source": [
    "### Standard Deviation\n",
    " \n",
    "* Square root of the variance\n",
    "* Sample (s) versus population($\\sigma$)\n",
    "* In same units as the data\n",
    "\n",
    "<div style=\"font-size: 115%;\">\n",
    "$$s=\\sqrt{\\frac{\\sum^N_{i=1}{(x_i - \\bar{x})^2}}{N-1}}\\text{  }\\sigma=\\sqrt{\\frac{\\sum^N_{i=1}{(x_i - \\bar{x})^2}}{N}}$$\n",
    "</div>"
   ]
  },
  {
   "cell_type": "code",
   "execution_count": null,
   "metadata": {},
   "outputs": [],
   "source": [
    "np.std(d,ddof = 1)"
   ]
  },
  {
   "cell_type": "markdown",
   "metadata": {},
   "source": [
    "###  Summary of Measures of Variability\n",
    " \n",
    "* Range: vunerable to outliers\n",
    "* Interquartile Range: \"middle half of the data\", robust, use with median\n",
    "* Mean Absolute Deviation: how far \"on average\" observations are from the mean, interpretable but some issues\n",
    "* Variance: Not interpretable because of squaring but nice mathematical properties\n",
    "* Standard Deviation: square root of variance in same unit as data, used with mean"
   ]
  },
  {
   "cell_type": "markdown",
   "metadata": {},
   "source": [
    "## Skew and Kurtosis\n",
    "\n",
    "### Skewness is a measure of asymmetry\n",
    "\n",
    "![](skewness.png)\n",
    "$$skewness = \\frac{\\sum^N_{i=1}{(x_i - \\bar{x})^3}}{N*\\hat{\\sigma}^3}$$"
   ]
  },
  {
   "cell_type": "code",
   "execution_count": null,
   "metadata": {},
   "outputs": [],
   "source": [
    "stats.skew(df.y)"
   ]
  },
  {
   "cell_type": "markdown",
   "metadata": {},
   "source": [
    "### Kurtosis measure of peakedness\n",
    "\n",
    "![](kurtosis.png)\n",
    "$$kurtosis = \\frac{\\sum^N_{i=1}{(x_i - \\bar{x})^4}}{N*\\hat{\\sigma}^4}-3$$"
   ]
  },
  {
   "cell_type": "code",
   "execution_count": null,
   "metadata": {},
   "outputs": [],
   "source": [
    "stats.kurtosis(df.z)"
   ]
  },
  {
   "cell_type": "code",
   "execution_count": null,
   "metadata": {},
   "outputs": [],
   "source": [
    "df.describe()"
   ]
  },
  {
   "cell_type": "markdown",
   "metadata": {},
   "source": [
    "### Covariance and Correlation\n",
    "  \n",
    "*  Measures the strength and direction of a linear relationship between two variables. \n",
    "    - Do they both increase? both decrease?\n",
    "\n",
    "<div style=\"font-size: 125%;\">\n",
    "$$Cov(X,Y) = \\frac{1}{N}\\sum^N_{i=1}(X_i-\\bar{X})(Y_i-\\bar{Y})$$ \n",
    "</div>\n",
    "\n",
    "* Cov = 0 no relationship, if  > 0 then positive relationship, if < 0 then negative relationship\n",
    "* Units are in terms of X and Y (i.e. apples times oranges)\n",
    "* Pearson correlation coefficient (standardize the covariance)  \n",
    "    - varies between -1 and + 1\n",
    "<div style=\"font-size: 125%;\">\n",
    "$$ r = \\frac{Cov(X,Y)}{\\sigma_X \\sigma_Y}$$\n",
    "</div>\n",
    "\n",
    "![](Correlation.png)"
   ]
  },
  {
   "cell_type": "code",
   "execution_count": null,
   "metadata": {},
   "outputs": [],
   "source": [
    "# Covariance\n",
    "print(\"Covariance Matrix\\n\", np.cov(df.x,df.y))"
   ]
  },
  {
   "cell_type": "code",
   "execution_count": null,
   "metadata": {},
   "outputs": [],
   "source": [
    "(np.var(df.x),np.var(df.y))"
   ]
  },
  {
   "cell_type": "code",
   "execution_count": null,
   "metadata": {},
   "outputs": [],
   "source": [
    "df.corr() # pairwise correlation of columns"
   ]
  },
  {
   "cell_type": "code",
   "execution_count": null,
   "metadata": {},
   "outputs": [],
   "source": [
    "r,p = stats.pearsonr(df.x,df.y) # r and p-value\n",
    "\n",
    "print(f\"Pearsons r = {r}, p-value = {p}\")"
   ]
  },
  {
   "cell_type": "code",
   "execution_count": null,
   "metadata": {},
   "outputs": [],
   "source": [
    "print(np.corrcoef(df.x,df.y))"
   ]
  },
  {
   "cell_type": "code",
   "execution_count": null,
   "metadata": {},
   "outputs": [],
   "source": []
  }
 ],
 "metadata": {
  "kernelspec": {
   "display_name": "Python 3",
   "language": "python",
   "name": "python3"
  },
  "language_info": {
   "codemirror_mode": {
    "name": "ipython",
    "version": 3
   },
   "file_extension": ".py",
   "mimetype": "text/x-python",
   "name": "python",
   "nbconvert_exporter": "python",
   "pygments_lexer": "ipython3",
   "version": "3.8.5"
  },
  "varInspector": {
   "cols": {
    "lenName": 16,
    "lenType": 16,
    "lenVar": 40
   },
   "kernels_config": {
    "python": {
     "delete_cmd_postfix": "",
     "delete_cmd_prefix": "del ",
     "library": "var_list.py",
     "varRefreshCmd": "print(var_dic_list())"
    },
    "r": {
     "delete_cmd_postfix": ") ",
     "delete_cmd_prefix": "rm(",
     "library": "var_list.r",
     "varRefreshCmd": "cat(var_dic_list()) "
    }
   },
   "types_to_exclude": [
    "module",
    "function",
    "builtin_function_or_method",
    "instance",
    "_Feature"
   ],
   "window_display": false
  }
 },
 "nbformat": 4,
 "nbformat_minor": 2
}
