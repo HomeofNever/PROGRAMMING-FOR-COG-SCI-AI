{
 "cells": [
  {
   "cell_type": "code",
   "execution_count": 2,
   "metadata": {},
   "outputs": [],
   "source": [
    "import warnings\n",
    "warnings.simplefilter(action='ignore', category=FutureWarning)\n",
    "warnings.simplefilter(action='ignore', category=UserWarning)\n",
    "\n",
    "import numpy as np\n",
    "import pandas as pd\n",
    "from scipy import stats\n",
    "import seaborn as sns\n",
    "import matplotlib.pyplot as plt\n",
    "%matplotlib inline"
   ]
  },
  {
   "cell_type": "code",
   "execution_count": 3,
   "metadata": {},
   "outputs": [],
   "source": [
    "from sklearn.model_selection import train_test_split\n",
    "from sklearn.metrics import confusion_matrix\n",
    "from sklearn.model_selection import cross_val_score\n",
    "from sklearn.model_selection import GridSearchCV\n",
    "from sklearn.linear_model import LinearRegression\n",
    "\n",
    "from sklearn import tree \n",
    "from sklearn.tree import DecisionTreeRegressor"
   ]
  },
  {
   "cell_type": "markdown",
   "metadata": {},
   "source": [
    "#### Imports for Bagging and Random Forest"
   ]
  },
  {
   "cell_type": "code",
   "execution_count": 4,
   "metadata": {},
   "outputs": [],
   "source": [
    "from sklearn.utils import resample\n",
    "\n",
    "from sklearn.ensemble import RandomForestRegressor, RandomForestClassifier"
   ]
  },
  {
   "cell_type": "markdown",
   "metadata": {},
   "source": [
    "## Ensemble Methods\n",
    "\n",
    "* Combine models to improve predication/classification performance of a learning method \n",
    "    - Overcome overfitting and stability problem of decision trees\n",
    "* Generate many models that learn independently and then combine into a single prediction/classification\n",
    "* They are general purpose methods that can be applied to any type of learning model\n",
    "* They have been very successful when applied to trees\n",
    "* Methods\n",
    "    * Averaging\n",
    "        - Bagging/Random Forests\n",
    "    * Boosting (sequential build)\n",
    "        - ADABoost, Gradient Boosting"
   ]
  },
  {
   "cell_type": "markdown",
   "metadata": {},
   "source": [
    "##  Bagging (Bootstrap Aggregation)\n",
    " \n",
    "* General-purpose procedure for reducing the variance of a statistical learning method\n",
    "    - Used with decision trees to improve prediction accuracy\n",
    "        - Grow full trees which will have low bias and high variance\n",
    "        - Average the results to reduce the variance\n",
    "    - Averaging independent training sets reduces the variance\n",
    "       \n",
    "    \n",
    "$$ \\text{Let }Z_1,Z_2,...,Z_n\\text{ be a set of n independent observations each with variance }\\sigma^2$$\n",
    "$$Var(\\bar{Z}) = \\frac{\\sigma^2}{n}$$\n",
    " "
   ]
  },
  {
   "cell_type": "code",
   "execution_count": 5,
   "metadata": {},
   "outputs": [
    {
     "name": "stdout",
     "output_type": "stream",
     "text": [
      "Variance of 10 observations with variance = 100, 100/10 = 9.849991509472208\n",
      "Variance of 100 observations with variance = 100, 100/100 = 1.0748006644954218\n"
     ]
    }
   ],
   "source": [
    "np.random.seed(42)\n",
    "\n",
    "variance = 100\n",
    "\n",
    "def calc_var(n,v):\n",
    "    # generate datasets\n",
    "    Z = [stats.norm.rvs(0,np.sqrt(v),size = n) for i in range(1000)]\n",
    "    # calculate variance of averaged datasets\n",
    "    v_ = np.var([np.mean(z) for z in Z])\n",
    "    print(f'Variance of {n} observations with variance = {v}, {v}/{n} = {v_}')\n",
    "\n",
    "calc_var(10,variance)\n",
    "calc_var(100,variance)\n"
   ]
  },
  {
   "cell_type": "markdown",
   "metadata": {},
   "source": [
    "### Variance in Decision Trees"
   ]
  },
  {
   "cell_type": "markdown",
   "metadata": {},
   "source": [
    "#### Generate some data"
   ]
  },
  {
   "cell_type": "code",
   "execution_count": 6,
   "metadata": {},
   "outputs": [
    {
     "data": {
      "image/png": "[encoded data removed]",
      "text/plain": [
       "<Figure size 432x288 with 1 Axes>"
      ]
     },
     "metadata": {
      "needs_background": "light"
     },
     "output_type": "display_data"
    }
   ],
   "source": [
    "np.random.seed(42)\n",
    "x = np.array([i*np.pi/180 for i in range(60,300,4)]) # radians 60-300 degrees\n",
    "# Generate some nonlinear data, y = sin(x) + noise\n",
    "y = np.sin(x) + np.random.normal(0,0.15,len(x)) # Add some noise to sin function\n",
    "plt.plot(x,y,'o')\n",
    "plt.xlabel('x(radians)')\n",
    "plt.ylabel('y')\n",
    "plt.title('y = sin(x) + N(0,0.15)');"
   ]
  },
  {
   "cell_type": "markdown",
   "metadata": {},
   "source": [
    "#### Create 3rd degree polynomial to model y"
   ]
  },
  {
   "cell_type": "code",
   "execution_count": 7,
   "metadata": {},
   "outputs": [
    {
     "name": "stdout",
     "output_type": "stream",
     "text": [
      "(60, 3)\n"
     ]
    },
    {
     "data": {
      "text/plain": [
       "array([1.04719755, 1.09662271, 1.14838062])"
      ]
     },
     "execution_count": 7,
     "metadata": {},
     "output_type": "execute_result"
    }
   ],
   "source": [
    "# 3rd-degree polynomial, x + x**2 + x**3\n",
    "X = np.array([x**(n+1) for n in range(3)]).T \n",
    "# Rows of Nth degree polynomial for 60 data points on the x-axis\n",
    "print(X.shape)\n",
    "X[0,:]"
   ]
  },
  {
   "cell_type": "markdown",
   "metadata": {},
   "source": [
    "#### Variance in trees versus linear regression"
   ]
  },
  {
   "cell_type": "code",
   "execution_count": 8,
   "metadata": {},
   "outputs": [],
   "source": [
    "dt = DecisionTreeRegressor(random_state = 1234)\n",
    "lr = LinearRegression()"
   ]
  },
  {
   "cell_type": "markdown",
   "metadata": {},
   "source": [
    "#### Show that trees are more variable than Linear Regression (i.e. more sensitive to small changes in the data)\n",
    "\n",
    "* Predict x = 3.5 for N different datasets (i.e. different y generated for each iteration)\n"
   ]
  },
  {
   "cell_type": "code",
   "execution_count": 9,
   "metadata": {},
   "outputs": [],
   "source": [
    "x_pred = np.array([3.5,3.5**2,3.5**3]).reshape(1,3)\n",
    "N = 10\n",
    "yhats = []\n",
    "yhats_lr = []\n",
    "mses = []\n",
    "mses_lr = []\n",
    "y_ = y\n",
    "for i in range(N):\n",
    "    dt.fit(X, y_)\n",
    "    lr.fit(X,y_)\n",
    "    yhats.append(dt.predict(x_pred))\n",
    "    yhats_lr.append(lr.predict(x_pred))\n",
    "    mses.append(np.mean(y_ - yhats)**2)\n",
    "    mses_lr.append(np.mean(y_ - yhats_lr)**2)\n",
    "    y_ = np.sin(x) + np.random.normal(0,0.15,len(y)) # new sample data\n",
    "    "
   ]
  },
  {
   "cell_type": "code",
   "execution_count": 10,
   "metadata": {},
   "outputs": [
    {
     "data": {
      "image/png": "[encoded data removed]",
      "text/plain": [
       "<Figure size 432x288 with 1 Axes>"
      ]
     },
     "metadata": {
      "needs_background": "light"
     },
     "output_type": "display_data"
    }
   ],
   "source": [
    "plt.plot(range(len(mses)),mses)\n",
    "plt.plot(range(len(mses_lr)),mses_lr)\n",
    "plt.legend(('trees','linear regression'))\n",
    "plt.title('Variability of  Trees versus Linear Regression')\n",
    "plt.xlabel('Iteration')\n",
    "plt.ylabel('MSE');"
   ]
  },
  {
   "cell_type": "code",
   "execution_count": 11,
   "metadata": {},
   "outputs": [
    {
     "data": {
      "image/png": "[encoded data removed]",
      "text/plain": [
       "<Figure size 432x288 with 1 Axes>"
      ]
     },
     "metadata": {
      "needs_background": "light"
     },
     "output_type": "display_data"
    }
   ],
   "source": [
    "\n",
    "plt.plot([3.5]*len(yhats),yhats,'ro')\n",
    "plt.plot([3.5]*len(yhats_lr),yhats_lr,'bo')\n",
    "plt.ylim((-.5,0))\n",
    "plt.title('Variability of Predicted Point')\n",
    "plt.legend(('trees','linear regression'))\n",
    "plt.ylabel('Prediction');"
   ]
  },
  {
   "cell_type": "markdown",
   "metadata": {},
   "source": [
    "## The Bootstrap\n",
    "\n",
    "* Bradley Efron, 1979\n",
    "\n",
    "* Widely applicable method to quantify uncertainty associated with a given estimator or learning method\n",
    "    - Used when measure of variability is difficult to obtain\n",
    "    - It does not improve the point estimate of a parameter\n",
    "\n",
    "* Often we are not able to keep getting different samples of the population.\n",
    "    - Can use the Bootstrap to \"simulate the different samples\" \n",
    "    \n",
    "* A bootstrap sample is a random sample taken **with replacement** from the original sample, of the same size as the original sample\n",
    "    - sklearn provides a function for this (called resample)\n",
    "    - http://scikit-learn.org/stable/modules/generated/sklearn.utils.resample.html\n",
    "\n",
    "![](Bootstrap.png)\n",
    "$$\\text{Figure 1. Bootstrap Generation, Sample with Replacement}$$"
   ]
  },
  {
   "cell_type": "code",
   "execution_count": 12,
   "metadata": {},
   "outputs": [],
   "source": [
    "\n",
    "np.random.seed(1234)\n",
    "\n",
    "N = 10000\n",
    "sample_size = 100\n",
    "\n",
    "# Sampling distribution of the mean\n",
    "\n",
    "# N samples of size 100\n",
    "dist1 = [np.mean(stats.norm.rvs(size = sample_size)) for i in range(N)] \n",
    "\n",
    "\n",
    "# 1 sample of size 100, resampled N timesfrom sklearn.utils import resample\n",
    "Z = stats.norm.rvs(size = sample_size)\n",
    "dist2 = [np.mean(resample(Z)) for i in range(N)] \n"
   ]
  },
  {
   "cell_type": "code",
   "execution_count": 13,
   "metadata": {},
   "outputs": [
    {
     "data": {
      "image/png": "[encoded data removed]",
      "text/plain": [
       "<Figure size 720x288 with 2 Axes>"
      ]
     },
     "metadata": {
      "needs_background": "light"
     },
     "output_type": "display_data"
    }
   ],
   "source": [
    "fig,(ax1,ax2) = plt.subplots(1,2,figsize=(10,4))\n",
    "sns.distplot(dist1,ax=ax1)\n",
    "ax1.set_title(f'{N} samples of size {sample_size} ')\n",
    "sns.distplot(dist2,ax=ax2)\n",
    "ax2.set_title(f'1 sample of size {sample_size} resampled {N} times');"
   ]
  },
  {
   "cell_type": "markdown",
   "metadata": {},
   "source": [
    "### Bagging method  \n",
    " \n",
    "* Since don't generally have access to independent training sets, use bootstrap on single training set\n",
    "* Generate B different bootstrapped training data sets\n",
    "* Train our method on the bth bootstrapped training to get a prediction (i.e. fit a tree to each bootstrap sample)\n",
    " \n",
    "#### For regression trees\n",
    " \n",
    "* Average the predictions\n",
    "\n",
    "<div style=\"font-size: 110%;\">\n",
    "$$\\hat{f}_{bag}(x) = \\frac{1}{B}\\sum_{b=1}^B\\hat{f}^{*b}(x)$$\n",
    "</div>\n",
    "* where $\\hat{f}^{*b}(x)$ is the prediction at point x\n",
    "\n",
    "#### For classification trees\n",
    "\n",
    "* For each test observation record the class predicted by each if the B trees\n",
    "* Take a majority vote\n",
    "\n",
    "#### Out-of-bag (OOB) Error estimation\n",
    "  \n",
    "* Natural way to estimate test error without a validation set or cross-validation\n",
    "* Each bagged tree makes use of around two-thirds of the observations.\n",
    "* Out-of-bag observations: the remaining one-third\n",
    "* Predict the response for the ith observation using each of the trees in which that observation was OOB. \n",
    "* Average the approximately B/3 predictions for the ith observation\n",
    "    - essentially the Leave-One-Out cross-validation error for bagging\n",
    " \n",
    "#### Variable Importance\n",
    " \n",
    "* Aggregation improves prediction accuracy but makes interpretability harder\n",
    "* But can obtain an overall summary of the importance of each predictor\n",
    "* For regression: Average the total amount that the MSE or MAE is decreased due to splits over a given predictor\n",
    "    - A large value indicates an important predictor. \n",
    "* For classification: Use Gini or Entropy instead of MSE or MAE\n",
    " \n",
    "### Bagging will be a special case of Random Forests\n",
    " \n",
    "* Uses same function as Random Forest using all the predictors\n",
    "    "
   ]
  },
  {
   "cell_type": "markdown",
   "metadata": {},
   "source": [
    "### Bagging in sklearn\n",
    "\n",
    "\n",
    "http://scikit-learn.org/stable/modules/generated/sklearn.ensemble.RandomForestRegressor.html\n",
    "\n",
    "#### Parameters\n",
    "\n",
    "* n_estimators: number of trees in the forest\n",
    "* max_features: number of features to consider at each split. For bagging all the features are considered\n",
    "* criterion: 'mse' or 'mae'\n",
    "* max_depth: control size by limiting tree depth\n",
    "* min_samples_split: minimum # of samples required to split an internal node\n",
    "* min_samples_leaf: control size by setting minimum number of samples at leaf nodes\n",
    "* random_state: The features are always randomly permuted at each split. To obtain a deterministic behavior during fitting, set random_state.\n",
    "* ccp_alpha:Minimum cost-complexity pruning parameter"
   ]
  },
  {
   "cell_type": "markdown",
   "metadata": {},
   "source": [
    "#### Compare Variance of bagged trees to regular decision trees"
   ]
  },
  {
   "cell_type": "code",
   "execution_count": 14,
   "metadata": {},
   "outputs": [],
   "source": [
    "np.random.seed(42)\n",
    "\n",
    "dt = DecisionTreeRegressor(random_state = 1234)\n",
    "bt = RandomForestRegressor(n_estimators = 10, random_state = 1234)\n"
   ]
  },
  {
   "cell_type": "code",
   "execution_count": 15,
   "metadata": {},
   "outputs": [
    {
     "data": {
      "text/plain": [
       "{'bootstrap': True,\n",
       " 'ccp_alpha': 0.0,\n",
       " 'criterion': 'mse',\n",
       " 'max_depth': None,\n",
       " 'max_features': 'auto',\n",
       " 'max_leaf_nodes': None,\n",
       " 'max_samples': None,\n",
       " 'min_impurity_decrease': 0.0,\n",
       " 'min_impurity_split': None,\n",
       " 'min_samples_leaf': 1,\n",
       " 'min_samples_split': 2,\n",
       " 'min_weight_fraction_leaf': 0.0,\n",
       " 'n_estimators': 10,\n",
       " 'n_jobs': None,\n",
       " 'oob_score': False,\n",
       " 'random_state': 1234,\n",
       " 'verbose': 0,\n",
       " 'warm_start': False}"
      ]
     },
     "execution_count": 15,
     "metadata": {},
     "output_type": "execute_result"
    }
   ],
   "source": [
    "bt.get_params()"
   ]
  },
  {
   "cell_type": "code",
   "execution_count": 16,
   "metadata": {},
   "outputs": [],
   "source": [
    "N = 10\n",
    "yhats = []\n",
    "yhats_bt = []\n",
    "mses = []\n",
    "mses_bt = []\n",
    "y_ = y\n",
    "for i in range(1,N):\n",
    "    dt.fit(X, y_)\n",
    "    bt.fit(X,y_)\n",
    "    yhats.append(dt.predict(x_pred))\n",
    "    yhats_bt.append(bt.predict(x_pred))\n",
    "    mses.append(np.mean(y_ - yhats)**2)\n",
    "    mses_bt.append(np.mean(y_ - yhats_bt)**2)\n",
    "    y_ = np.sin(x) + np.random.normal(0,0.15,len(y)) # new sample data\n",
    "    "
   ]
  },
  {
   "cell_type": "code",
   "execution_count": 17,
   "metadata": {},
   "outputs": [
    {
     "data": {
      "text/plain": [
       "3"
      ]
     },
     "execution_count": 17,
     "metadata": {},
     "output_type": "execute_result"
    }
   ],
   "source": [
    "bt.n_features_"
   ]
  },
  {
   "cell_type": "code",
   "execution_count": 18,
   "metadata": {},
   "outputs": [
    {
     "data": {
      "image/png": "[encoded data removed]",
      "text/plain": [
       "<Figure size 432x288 with 1 Axes>"
      ]
     },
     "metadata": {
      "needs_background": "light"
     },
     "output_type": "display_data"
    }
   ],
   "source": [
    "plt.plot(range(len(mses)),mses)\n",
    "plt.plot(range(len(mses_bt)),mses_bt)\n",
    "plt.legend(('Decision Tree','Bagged Tree'))\n",
    "plt.xlabel('Iteration')\n",
    "plt.ylabel('mse');"
   ]
  },
  {
   "cell_type": "code",
   "execution_count": 19,
   "metadata": {},
   "outputs": [
    {
     "data": {
      "image/png": "[encoded data removed]",
      "text/plain": [
       "<Figure size 432x288 with 1 Axes>"
      ]
     },
     "metadata": {
      "needs_background": "light"
     },
     "output_type": "display_data"
    }
   ],
   "source": [
    "plt.plot([3.5]*len(yhats),yhats,'ro')\n",
    "plt.plot([3.5]*len(yhats_bt),yhats_bt,'bo')\n",
    "plt.ylim((-.5,0))\n",
    "plt.legend(('Decision Tree','Bagged Tree'))\n",
    "plt.title(\"Estimates for y at fixed x = 3.5\")\n",
    "plt.xlabel(\"X\")\n",
    "plt.ylabel(\"yhat\");"
   ]
  },
  {
   "cell_type": "markdown",
   "metadata": {},
   "source": [
    "#### Bagged tree regression  on Boston data"
   ]
  },
  {
   "cell_type": "code",
   "execution_count": 20,
   "metadata": {},
   "outputs": [
    {
     "data": {
      "text/html": [
       "<div>\n",
       "<style scoped>\n",
       "    .dataframe tbody tr th:only-of-type {\n",
       "        vertical-align: middle;\n",
       "    }\n",
       "\n",
       "    .dataframe tbody tr th {\n",
       "        vertical-align: top;\n",
       "    }\n",
       "\n",
       "    .dataframe thead th {\n",
       "        text-align: right;\n",
       "    }\n",
       "</style>\n",
       "<table border=\"1\" class=\"dataframe\">\n",
       "  <thead>\n",
       "    <tr style=\"text-align: right;\">\n",
       "      <th></th>\n",
       "      <th>crim</th>\n",
       "      <th>zn</th>\n",
       "      <th>indus</th>\n",
       "      <th>chas</th>\n",
       "      <th>nox</th>\n",
       "      <th>rm</th>\n",
       "      <th>age</th>\n",
       "      <th>dis</th>\n",
       "      <th>rad</th>\n",
       "      <th>tax</th>\n",
       "      <th>ptratio</th>\n",
       "      <th>black</th>\n",
       "      <th>lstat</th>\n",
       "      <th>medv</th>\n",
       "    </tr>\n",
       "  </thead>\n",
       "  <tbody>\n",
       "    <tr>\n",
       "      <th>501</th>\n",
       "      <td>0.06263</td>\n",
       "      <td>0.0</td>\n",
       "      <td>11.93</td>\n",
       "      <td>0</td>\n",
       "      <td>0.573</td>\n",
       "      <td>6.593</td>\n",
       "      <td>69.1</td>\n",
       "      <td>2.4786</td>\n",
       "      <td>1</td>\n",
       "      <td>273</td>\n",
       "      <td>21.0</td>\n",
       "      <td>391.99</td>\n",
       "      <td>9.67</td>\n",
       "      <td>22.4</td>\n",
       "    </tr>\n",
       "    <tr>\n",
       "      <th>502</th>\n",
       "      <td>0.04527</td>\n",
       "      <td>0.0</td>\n",
       "      <td>11.93</td>\n",
       "      <td>0</td>\n",
       "      <td>0.573</td>\n",
       "      <td>6.120</td>\n",
       "      <td>76.7</td>\n",
       "      <td>2.2875</td>\n",
       "      <td>1</td>\n",
       "      <td>273</td>\n",
       "      <td>21.0</td>\n",
       "      <td>396.90</td>\n",
       "      <td>9.08</td>\n",
       "      <td>20.6</td>\n",
       "    </tr>\n",
       "    <tr>\n",
       "      <th>503</th>\n",
       "      <td>0.06076</td>\n",
       "      <td>0.0</td>\n",
       "      <td>11.93</td>\n",
       "      <td>0</td>\n",
       "      <td>0.573</td>\n",
       "      <td>6.976</td>\n",
       "      <td>91.0</td>\n",
       "      <td>2.1675</td>\n",
       "      <td>1</td>\n",
       "      <td>273</td>\n",
       "      <td>21.0</td>\n",
       "      <td>396.90</td>\n",
       "      <td>5.64</td>\n",
       "      <td>23.9</td>\n",
       "    </tr>\n",
       "    <tr>\n",
       "      <th>504</th>\n",
       "      <td>0.10959</td>\n",
       "      <td>0.0</td>\n",
       "      <td>11.93</td>\n",
       "      <td>0</td>\n",
       "      <td>0.573</td>\n",
       "      <td>6.794</td>\n",
       "      <td>89.3</td>\n",
       "      <td>2.3889</td>\n",
       "      <td>1</td>\n",
       "      <td>273</td>\n",
       "      <td>21.0</td>\n",
       "      <td>393.45</td>\n",
       "      <td>6.48</td>\n",
       "      <td>22.0</td>\n",
       "    </tr>\n",
       "    <tr>\n",
       "      <th>505</th>\n",
       "      <td>0.04741</td>\n",
       "      <td>0.0</td>\n",
       "      <td>11.93</td>\n",
       "      <td>0</td>\n",
       "      <td>0.573</td>\n",
       "      <td>6.030</td>\n",
       "      <td>80.8</td>\n",
       "      <td>2.5050</td>\n",
       "      <td>1</td>\n",
       "      <td>273</td>\n",
       "      <td>21.0</td>\n",
       "      <td>396.90</td>\n",
       "      <td>7.88</td>\n",
       "      <td>11.9</td>\n",
       "    </tr>\n",
       "  </tbody>\n",
       "</table>\n",
       "</div>"
      ],
      "text/plain": [
       "        crim   zn  indus  chas    nox     rm   age     dis  rad  tax  ptratio  \\\n",
       "501  0.06263  0.0  11.93     0  0.573  6.593  69.1  2.4786    1  273     21.0   \n",
       "502  0.04527  0.0  11.93     0  0.573  6.120  76.7  2.2875    1  273     21.0   \n",
       "503  0.06076  0.0  11.93     0  0.573  6.976  91.0  2.1675    1  273     21.0   \n",
       "504  0.10959  0.0  11.93     0  0.573  6.794  89.3  2.3889    1  273     21.0   \n",
       "505  0.04741  0.0  11.93     0  0.573  6.030  80.8  2.5050    1  273     21.0   \n",
       "\n",
       "      black  lstat  medv  \n",
       "501  391.99   9.67  22.4  \n",
       "502  396.90   9.08  20.6  \n",
       "503  396.90   5.64  23.9  \n",
       "504  393.45   6.48  22.0  \n",
       "505  396.90   7.88  11.9  "
      ]
     },
     "execution_count": 20,
     "metadata": {},
     "output_type": "execute_result"
    }
   ],
   "source": [
    "Boston = pd.read_csv(\"Boston.csv\")\n",
    "Boston.tail()"
   ]
  },
  {
   "cell_type": "code",
   "execution_count": null,
   "metadata": {},
   "outputs": [],
   "source": []
  },
  {
   "cell_type": "code",
   "execution_count": 21,
   "metadata": {},
   "outputs": [
    {
     "data": {
      "text/plain": [
       "((379, 13), (127, 13), (379,), (127,))"
      ]
     },
     "execution_count": 21,
     "metadata": {},
     "output_type": "execute_result"
    }
   ],
   "source": [
    "X = Boston.iloc[:, 0:13].values\n",
    "y = Boston.loc[:, 'medv'].values \n",
    "\n",
    "# Validation Set\n",
    "X_train, X_test, y_train, y_test = train_test_split(X, y, test_size = 0.25, \n",
    "                                                    random_state = 0)\n",
    "X_train.shape, X_test.shape, y_train.shape, y_test.shape"
   ]
  },
  {
   "cell_type": "code",
   "execution_count": 22,
   "metadata": {},
   "outputs": [
    {
     "name": "stdout",
     "output_type": "stream",
     "text": [
      "Test error is:  16.44091315748032\n",
      "R^2 is 0.7987624077312065\n"
     ]
    }
   ],
   "source": [
    "# Fit random Forest to Training data\n",
    "model = RandomForestRegressor(n_estimators = 100, max_features = 13,random_state = 1234)\n",
    "model.fit(X_train, y_train)\n",
    "\n",
    "# Predict the Test data\n",
    "y_pred = model.predict(X_test)\n",
    "mse = np.mean((y_pred - y_test)**2)\n",
    "print(\"Test error is: \",mse)\n",
    "print(f'R^2 is {model.score(X_test,y_test)}')"
   ]
  },
  {
   "cell_type": "code",
   "execution_count": 23,
   "metadata": {},
   "outputs": [
    {
     "name": "stdout",
     "output_type": "stream",
     "text": [
      "Feature Importances\n",
      "rm \t 0.451415\n",
      "lstat \t 0.385433\n",
      "dis \t 0.038107\n",
      "crim \t 0.037079\n",
      "ptratio \t 0.024009\n",
      "tax \t 0.017041\n",
      "nox \t 0.014829\n",
      "age \t 0.011095\n",
      "black \t 0.008508\n",
      "indus \t 0.007977\n",
      "rad \t 0.00313\n",
      "zn \t 0.000986\n",
      "chas \t 0.000391\n"
     ]
    }
   ],
   "source": [
    "feats = Boston.columns.tolist()[:-1] # All the features\n",
    "vals = model.feature_importances_\n",
    "pairs = [(vals[i],feats[i]) for i in range(len(vals))]\n",
    "pairs.sort(reverse=True)\n",
    "print('Feature Importances')\n",
    "for val,feat in pairs:\n",
    " print(feat,'\\t',round(val,6))\n"
   ]
  },
  {
   "cell_type": "code",
   "execution_count": null,
   "metadata": {},
   "outputs": [],
   "source": [
    "scores = cross_val_score(estimator = RandomForestRegressor(n_estimators = 100, max_features = 13), \n",
    "                         X = X_train, y = y_train, cv = 10)\n",
    "plt.plot(range(1,11),scores,\"o-\")\n",
    "plt.title('Cross Validation Scores')\n",
    "print(\"Mean accuracy: \",scores.mean())"
   ]
  },
  {
   "cell_type": "markdown",
   "metadata": {},
   "source": [
    "### Bagged Tree Classification\n",
    "\n",
    "https://scikit-learn.org/stable/modules/generated/sklearn.ensemble.RandomForestClassifier.html\n",
    "\n",
    "#### Parameters\n",
    "\n",
    "* n_estimators: number of trees in the forest\n",
    "* max_features: number of features to consider at each split. For bagging all the features are considered\n",
    "* criterion: 'gini' or 'entropy'\n",
    "* max_depth: control size by limiting tree depth\n",
    "* min_samples_split: minimum # of samples required to split an internal node\n",
    "* min_samples_leaf: control size by setting minimum number of samples at leaf nodes\n",
    "* random_state: The features are always randomly permuted at each split. To obtain a deterministic behavior during fitting, set random_state.\n",
    "* ccp_alpha:Minimum cost-complexity pruning parameter\n"
   ]
  },
  {
   "cell_type": "code",
   "execution_count": null,
   "metadata": {},
   "outputs": [],
   "source": [
    "# Random Forest Classification\n",
    "\n",
    "Wine = pd.read_csv(\"Wine.csv\")\n",
    "feats = Wine.columns[0:-1]\n",
    "print(len(feats))\n",
    "Wine.head()"
   ]
  },
  {
   "cell_type": "code",
   "execution_count": null,
   "metadata": {},
   "outputs": [],
   "source": [
    "X = Wine.iloc[:, 0:13].values\n",
    "y = Wine.iloc[:, 13].values\n",
    "X_train, X_test, y_train, y_test = train_test_split(X, y, stratify=y, \n",
    "                                                    test_size = 0.25, \n",
    "                                                    random_state = 1234)"
   ]
  },
  {
   "cell_type": "code",
   "execution_count": null,
   "metadata": {},
   "outputs": [],
   "source": [
    "model = RandomForestClassifier(n_estimators = 10, criterion = 'gini', max_features=13, random_state = 1234)\n",
    "model.fit(X_train, y_train)"
   ]
  },
  {
   "cell_type": "code",
   "execution_count": null,
   "metadata": {},
   "outputs": [],
   "source": [
    "# Predict the test data\n",
    "y_pred = model.predict(X_test)\n",
    "\n",
    "# Make the Confusion Matrix and calculate accuracy\n",
    "cm = confusion_matrix(y_test, y_pred)\n",
    "print(cm)\n",
    "accuracy = np.trace(cm)/np.sum(cm)\n",
    "print(\"Accuracy is: \", np.round(accuracy,3))\n",
    "\n"
   ]
  },
  {
   "cell_type": "code",
   "execution_count": null,
   "metadata": {},
   "outputs": [],
   "source": [
    "feats = Wine.columns.tolist()[:-1] # All the features\n",
    "vals = model.feature_importances_\n",
    "pairs = [(vals[i], feats[i]) for i in range(len(feats))]\n",
    "# Sort from high to low\n",
    "pairs.sort(reverse=True)\n",
    "for val,feat in pairs:\n",
    "    print(feat,'\\t',round(val,3))"
   ]
  },
  {
   "cell_type": "markdown",
   "metadata": {},
   "source": [
    "## Random Forests\n",
    "\n",
    "* Leo Breiman (2001)\n",
    "    - He was instrumental in bridging the gap between Statistics and Computer Science in Machine Learning\n",
    "* Improvement over bagged trees by way of a small tweak that decorrelates the trees. \n",
    " \n",
    "    - This reduces the variance when we average the trees.\n",
    " \n",
    "* Each time a split in a tree is considered, a random selection of m predictors is chosen as split candidates from the full set of p predictors. \n",
    " \n",
    "    - For Classification, choose $m \\approx{\\sqrt{p}}$\n",
    " \n",
    "    - For Regression p / 3\n",
    " "
   ]
  },
  {
   "cell_type": "markdown",
   "metadata": {},
   "source": [
    "### Random Forest Regression in sklearn\n",
    "\n",
    "http://scikit-learn.org/stable/modules/generated/sklearn.ensemble.RandomForestRegressor.html"
   ]
  },
  {
   "cell_type": "code",
   "execution_count": null,
   "metadata": {},
   "outputs": [],
   "source": [
    "X = Boston.iloc[:, 0:13].values\n",
    "y = Boston.iloc[:, 13].values\n",
    "\n",
    "# Validation Set\n",
    "X_train, X_test, y_train, y_test = train_test_split(X, y, test_size = 0.25, random_state = 42)\n",
    "X_train.shape, X_test.shape, y_train.shape, y_test.shape"
   ]
  },
  {
   "cell_type": "code",
   "execution_count": null,
   "metadata": {},
   "outputs": [],
   "source": [
    "# Fit random Forest to Training data\n",
    "# For regression use p/3 predictors\n",
    "num_feats = int(X_train.shape[1]/3)\n",
    "model = RandomForestRegressor(n_estimators = 100, max_features = num_feats, random_state = 1234)\n",
    "model.fit(X_train, y_train)"
   ]
  },
  {
   "cell_type": "code",
   "execution_count": null,
   "metadata": {},
   "outputs": [],
   "source": [
    "# Predict the Test data\n",
    "y_pred = model.predict(X_test)\n",
    "mse = np.mean((y_pred - y_test)**2)\n",
    "print(\"Test error is: \",mse)\n",
    "print(f'R^2 is {model.score(X_test,y_test)}')"
   ]
  },
  {
   "cell_type": "code",
   "execution_count": null,
   "metadata": {},
   "outputs": [],
   "source": [
    "feats = Boston.columns.tolist()[:-1] # All the features\n",
    "vals = model.feature_importances_\n",
    "pairs = [(vals[i], feats[i]) for i in range(len(feats))]\n",
    "# Sort from high to low\n",
    "pairs.sort(reverse=True)\n",
    "for val,feat in pairs:\n",
    "    print(feat,'\\t',round(val,3))"
   ]
  },
  {
   "cell_type": "markdown",
   "metadata": {},
   "source": [
    "### Random Forest Classification in sklearn\n",
    "\n",
    "http://scikit-learn.org/stable/modules/generated/sklearn.ensemble.RandomForestClassifier.html"
   ]
  },
  {
   "cell_type": "code",
   "execution_count": null,
   "metadata": {},
   "outputs": [],
   "source": [
    "X = Wine.iloc[:, 0:13].values\n",
    "y = Wine.iloc[:, 13].values\n",
    "X_train, X_test, y_train, y_test = train_test_split(X, y, stratify=y, \n",
    "                                                    test_size = 0.25, \n",
    "                                                    random_state = 1234)\n",
    "X_train.shape, X_test.shape, y_train.shape, y_test.shape"
   ]
  },
  {
   "cell_type": "code",
   "execution_count": null,
   "metadata": {},
   "outputs": [],
   "source": [
    "num_feats = int(np.sqrt(X_train.shape[1]))\n",
    "model = RandomForestClassifier(n_estimators = 10, criterion = 'gini', \n",
    "                               max_features = num_feats, random_state = 1234)\n",
    "model.fit(X_train, y_train)"
   ]
  },
  {
   "cell_type": "code",
   "execution_count": null,
   "metadata": {},
   "outputs": [],
   "source": [
    "# Predict the test data\n",
    "y_pred = model.predict(X_test)\n",
    "\n",
    "# Make the Confusion Matrix and calculate accuracy\n",
    "cm = confusion_matrix(y_test, y_pred)\n",
    "print(cm)\n",
    "accuracy = np.trace(cm)/np.sum(cm)\n",
    "print(\"Accuracy is: \", np.round(accuracy,3))\n",
    "\n"
   ]
  },
  {
   "cell_type": "code",
   "execution_count": null,
   "metadata": {},
   "outputs": [],
   "source": [
    "feats = Wine.columns.tolist()[:-1] # All the features\n",
    "vals = model.feature_importances_\n",
    "pairs = [(vals[i], feats[i]) for i in range(len(feats))]\n",
    "# Sort from high to low\n",
    "pairs.sort(reverse=True)\n",
    "print('Feature Importances')\n",
    "for val,feat in pairs:\n",
    "    print(feat,'\\t',round(val,3))"
   ]
  },
  {
   "cell_type": "markdown",
   "metadata": {},
   "source": [
    "### Grid Search"
   ]
  },
  {
   "cell_type": "code",
   "execution_count": null,
   "metadata": {},
   "outputs": [],
   "source": [
    "# Grid Search Python\n",
    "# Applying Grid Search to find the best model and the best parameters\n",
    "\n",
    "parameters = [{'n_estimators': [10, 100,500], 'max_features': [3,4,5,6],'criterion':['gini','entropy']}]\n",
    "grid_search = GridSearchCV(estimator = RandomForestClassifier(),\n",
    "                           param_grid = parameters,\n",
    "                           scoring = 'accuracy',\n",
    "                           iid = 'False',\n",
    "                           cv = 10,\n",
    "                           n_jobs = -1)\n",
    "grid_search = grid_search.fit(X_train, y_train)\n",
    "best_accuracy = grid_search.best_score_\n",
    "best_parameters = grid_search.best_params_\n",
    "print(\"Best accuracy: \", best_accuracy)\n",
    "print(\"Best parameters: \", best_parameters )"
   ]
  },
  {
   "cell_type": "markdown",
   "metadata": {},
   "source": [
    "### Exercises"
   ]
  },
  {
   "cell_type": "markdown",
   "metadata": {},
   "source": [
    "#### 1)  Bootstrap\n",
    "\n",
    "Given the code below create two distributions:  \n",
    "Distribution 1: Sampling Distribution of the Mean  \n",
    "Distribution 2: Bootstrap means.\n",
    "\n",
    "Display the distributions "
   ]
  },
  {
   "cell_type": "code",
   "execution_count": null,
   "metadata": {},
   "outputs": [],
   "source": [
    "np.random.seed(1234)\n",
    "N = 10000 #Number of samples in distribution\n",
    "sample_size = 100\n",
    "\n",
    "Population = np.random.randint(1,100,size=1000)\n",
    "\n",
    "def sample_pop(sample_size):\n",
    "    return np.random.choice(Population,sample_size)"
   ]
  },
  {
   "cell_type": "code",
   "execution_count": null,
   "metadata": {},
   "outputs": [],
   "source": [
    "# Your Code Here\n"
   ]
  },
  {
   "cell_type": "markdown",
   "metadata": {},
   "source": [
    "#### 2) RandomForest  regression \n",
    "\n",
    "Using the data above from the Hitters dataset.  \n",
    "Do a grid search for the best parameters of a RandomForestRegressor  estimator.  \n",
    "Create a  RandomForestRegressor model with the best parameters  \n",
    "Output the test data R-squared and MSE."
   ]
  },
  {
   "cell_type": "markdown",
   "metadata": {},
   "source": [
    "### Hitters dataset"
   ]
  },
  {
   "cell_type": "code",
   "execution_count": null,
   "metadata": {},
   "outputs": [],
   "source": [
    "feats = ['AtBat', 'Hits', 'HmRun', 'Runs', 'RBI', 'Walks', 'Years', 'CAtBat',\n",
    "         'CHits', 'CHmRun', 'CRuns', 'CRBI', 'CWalks', 'PutOuts', 'Assists', 'Errors']\n",
    "Hitters = pd.read_csv('Hitters.csv')\n",
    "Hitters = Hitters.dropna()\n",
    "Hitters.head()\n"
   ]
  },
  {
   "cell_type": "code",
   "execution_count": null,
   "metadata": {},
   "outputs": [],
   "source": [
    "X = Hitters.loc[:, feats].values\n",
    "y = Hitters.loc[:, 'Salary'].values\n",
    "\n",
    "# Make Validation Set\n",
    "X_train, X_test, y_train, y_test = train_test_split(X, y, test_size = 0.25, random_state = 1234)\n",
    "X_train.shape, X_test.shape, y_train.shape, y_test.shape"
   ]
  },
  {
   "cell_type": "code",
   "execution_count": null,
   "metadata": {},
   "outputs": [],
   "source": [
    "# Your Code Here"
   ]
  },
  {
   "cell_type": "markdown",
   "metadata": {},
   "source": [
    "#### Figures\n",
    "\n",
    "Figures 1 in this presentation are taken from \"An Introduction to Statistical Learning, with applications in R\" (Springer, 2013) with permission from the authors: G. James, D. Witten, T. Hastie and R. Tibshirani "
   ]
  }
 ],
 "metadata": {
  "kernelspec": {
   "display_name": "Python 3",
   "language": "python",
   "name": "python3"
  },
  "language_info": {
   "codemirror_mode": {
    "name": "ipython",
    "version": 3
   },
   "file_extension": ".py",
   "mimetype": "text/x-python",
   "name": "python",
   "nbconvert_exporter": "python",
   "pygments_lexer": "ipython3",
   "version": "3.8.6"
  },
  "varInspector": {
   "cols": {
    "lenName": 16,
    "lenType": 16,
    "lenVar": 40
   },
   "kernels_config": {
    "python": {
     "delete_cmd_postfix": "",
     "delete_cmd_prefix": "del ",
     "library": "var_list.py",
     "varRefreshCmd": "print(var_dic_list())"
    },
    "r": {
     "delete_cmd_postfix": ") ",
     "delete_cmd_prefix": "rm(",
     "library": "var_list.r",
     "varRefreshCmd": "cat(var_dic_list()) "
    }
   },
   "position": {
    "height": "250px",
    "left": "1023px",
    "right": "20px",
    "top": "120px",
    "width": "323px"
   },
   "types_to_exclude": [
    "module",
    "function",
    "builtin_function_or_method",
    "instance",
    "_Feature"
   ],
   "window_display": false
  }
 },
 "nbformat": 4,
 "nbformat_minor": 2
}
